{
 "cells": [
  {
   "cell_type": "code",
   "execution_count": null,
   "metadata": {
    "colab": {
     "base_uri": "https://localhost:8080/"
    },
    "id": "kaPI0F4IOOsB",
    "outputId": "2a3b8169-d70a-458b-9f59-05963b03fc2e"
   },
   "outputs": [],
   "source": [
    "pip install qiskit"
   ]
  },
  {
   "cell_type": "code",
   "execution_count": null,
   "metadata": {
    "colab": {
     "base_uri": "https://localhost:8080/"
    },
    "id": "1CVDzemIOSWE",
    "outputId": "8ff40b4e-e9c3-4b24-8b24-5b2f17f29c8c"
   },
   "outputs": [],
   "source": [
    "pip install qiskit-aer"
   ]
  },
  {
   "cell_type": "code",
   "execution_count": null,
   "metadata": {
    "colab": {
     "base_uri": "https://localhost:8080/"
    },
    "id": "JUPSBQDNOSfX",
    "outputId": "c0471727-b699-4a23-b611-7db98ad6c9b9"
   },
   "outputs": [],
   "source": [
    "pip install tweedledum"
   ]
  },
  {
   "cell_type": "code",
   "execution_count": 1,
   "metadata": {
    "colab": {
     "base_uri": "https://localhost:8080/",
     "height": 175
    },
    "id": "LlyvA76qpLfI",
    "outputId": "f21a3c27-ece5-4305-8b73-fff3273eb4f9"
   },
   "outputs": [
    {
     "data": {
      "text/plain": [
       "'[a10&a5 ^ a10&a7 ^ a11&a6 ^ a6&a9]&[a1&a6 ^ a2&a5]&[a10&a3 ^ a10&a4 ^ a10&a7 ^ a10&a8 ^ a11&a2 ^ a11&a6 ^ a12&a2 ^ a12&a6 ^ a2&a7 ^ a2&a8 ^ a3&a6 ^ a4&a6]&[~a11 ^ a6 ^ a8 ^ a10&a7 ^ a11&a6 ^ a11&a8 ^ a12&a7]&[~a1 ^ a2 ^ a3 ^ a4 ^ a5 ^ a1&a6 ^ a1&a7 ^ a1&a8 ^ a2&a5 ^ a3&a5 ^ a4&a5]&[~a1 ^ a10 ^ a11 ^ a3 ^ a4 ^ a5 ^ a6 ^ a8 ^ a1&a10 ^ a1&a11 ^ a1&a6 ^ a1&a7 ^ a10&a3 ^ a10&a4 ^ a10&a5 ^ a10&a7 ^ a10&a8 ^ a11&a2 ^ a11&a4 ^ a11&a5 ^ a11&a6 ^ a11&a8 ^ a12&a2 ^ a12&a3 ^ a12&a6 ^ a12&a7 ^ a2&a5 ^ a2&a7 ^ a2&a8 ^ a2&a9 ^ a3&a5 ^ a3&a6 ^ a3&a8 ^ a3&a9 ^ a4&a6 ^ a4&a7 ^ a6&a9 ^ a7&a9]&[~a10 ^ a12 ^ a6 ^ a7 ^ a9 ^ a10&a5 ^ a10&a7 ^ a10&a8 ^ a11&a5 ^ a11&a6 ^ a11&a8 ^ a12&a6 ^ a12&a7 ^ a6&a9 ^ a7&a9]&[~a1 ^ a3 ^ a6 ^ a8 ^ a1&a6 ^ a1&a8 ^ a2&a5 ^ a2&a7 ^ a3&a6 ^ a3&a8 ^ a4&a5 ^ a4&a7]&[~a1 ^ a12 ^ a3 ^ a7 ^ a8 ^ a9 ^ a1&a11 ^ a1&a12 ^ a1&a7 ^ a1&a8 ^ a11&a4 ^ a11&a5 ^ a11&a8 ^ a12&a3 ^ a12&a5 ^ a12&a7 ^ a3&a5 ^ a3&a8 ^ a3&a9 ^ a4&a5 ^ a4&a7 ^ a4&a9 ^ a7&a9 ^ a8&a9]&[~a10 ^ a5 ^ a6 ^ a7 ^ a9 ^ a10&a7 ^ a11&a5 ^ a11&a6 ^ a7&a9]&[~a1 ^ a2 ^ a4 ^ a5 ^ a7 ^ a8 ^ a1&a6 ^ a1&a7 ^ a2&a5 ^ a2&a7 ^ a2&a8 ^ a3&a5 ^ a3&a6 ^ a3&a8 ^ a4&a6 ^ a4&a7]&[~a1 ^ a10 ^ a4 ^ a6 ^ a8 ^ a9 ^ a1&a10 ^ a1&a12 ^ a1&a6 ^ a1&a8 ^ a10&a4 ^ a10&a5 ^ a10&a8 ^ a12&a2 ^ a12&a5 ^ a12&a6 ^ a2&a5 ^ a2&a8 ^ a2&a9 ^ a4&a5 ^ a4&a6 ^ a4&a9 ^ a6&a9 ^ a8&a9]'"
      ]
     },
     "execution_count": 1,
     "metadata": {},
     "output_type": "execute_result"
    }
   ],
   "source": [
    "from sympy import symbols, Matrix, pprint, collect, factor\n",
    "from sympy import *\n",
    "import itertools\n",
    "\n",
    "a = []\n",
    "name = \"a\"\n",
    "for i in range(0,13):\n",
    "    v = symbols(name+str(i))\n",
    "    a.append(v)\n",
    "\n",
    "A1 = Matrix([[1, 0, 0, 0],[0, 1, 0 ,0],[0, 0, 1 , 0],[0,0,0,1] ])\n",
    "A2 = Matrix([[0, 0, 0, 1],[1, 0, 0 ,0],[0, 1, 0 , 1],[0,0,1,0] ])\n",
    "A3 = Matrix([[0, 0, a[1], a[5]],[0, 0, a[2] ,a[6]],[1, 0, a[3] , a[7]],[0,1,a[4],a[8]] ])\n",
    "A4 = Matrix([[0, 1, a[5], a[9]],[0, 0, a[6] ,a[10]],[0, 1, a[7] , a[11]],[1,0,a[8],a[12]] ])\n",
    "aC41=[]\n",
    "A=[]\n",
    "for i in range(0,16):\n",
    "    aC41.append('{0:04b}'.format(i))\n",
    "    M=int(aC41[i][0])*A1+int(aC41[i][1])*A2+int(aC41[i][2])*A3 +int(aC41[i][3])*A4\n",
    "    A.append(M.det())\n",
    "def Equations(First):\n",
    "    BB31= First\n",
    "    Pl1 =[]\n",
    "    for i in range(len(BB31)):\n",
    "        Pl1.append(dict(BB31[i].as_coefficients_dict()))\n",
    "    ##Symplify computations of coefficients module 2\n",
    "    EQ1 =[]\n",
    "    for l in range(len(Pl1)):\n",
    "        for s in Pl1[l]:\n",
    "            if (Pl1[l][s] % 2) == 0:\n",
    "                Pl1[l][s] = 0\n",
    "            else:\n",
    "                Pl1[l][s] = 1\n",
    "        EQ1.append(sum([key * val for key, val in Pl1[l].items()]))\n",
    "    ##Selecting the equations we need\n",
    "    EQ3=[]\n",
    "    for l in range(len(EQ1)):\n",
    "        if (EQ1[l] != 0) and (EQ1[l]!=1):\n",
    "            EQ3.append(EQ1[l])\n",
    "    return(EQ3)\n",
    "def Polynomial1(w):\n",
    "    h_test1=[]\n",
    "    w_test1=[]\n",
    "    w_final_test1=[]\n",
    "    for n in range(len(w)):\n",
    "        if  (w[n] == 1) or (w[n] == 0):\n",
    "            w_test1.append(w[n])\n",
    "        else:\n",
    "            h_test1.append(w[n].make_args(w[n]))\n",
    "    g_test1 =[]\n",
    "    for m in range(len(h_test1)):\n",
    "        g_test1.append(list(h_test1[m]))\n",
    "        for l in range(len(h_test1[m])):\n",
    "            if(h_test1[m][l]==1):\n",
    "                g_test1[m][1]=~(g_test1[m][1])\n",
    "                del g_test1[m][l]\n",
    "    w_final_test1 = '&'.join([str(item) for item in g_test1])\n",
    "    w_final_test1 = w_final_test1.replace(\"*\",\"&\")\n",
    "    w_final_test1 = w_final_test1.replace(\",\",\" ^\")\n",
    "    return(w_final_test1)\n",
    "Polynomial1(Equations(A))"
   ]
  },
  {
   "cell_type": "code",
   "execution_count": null,
   "metadata": {
    "colab": {
     "base_uri": "https://localhost:8080/"
    },
    "id": "S2ziYs25pLpc",
    "outputId": "03680c39-fec8-4beb-9d6d-7afb304206f3"
   },
   "outputs": [],
   "source": [
    "sc4x4 = Polynomial1(Equations(A))\n",
    "print(sc4x4.count(\"&\"))\n",
    "print(sc4x4.count(\"^\"))\n",
    "print(sc4x4.count(\"~\"))"
   ]
  },
  {
   "cell_type": "code",
   "execution_count": null,
   "metadata": {
    "id": "fzqEyLMYpLtA"
   },
   "outputs": [],
   "source": []
  },
  {
   "cell_type": "code",
   "execution_count": 2,
   "metadata": {
    "colab": {
     "base_uri": "https://localhost:8080/",
     "height": 1000
    },
    "id": "2xQw-KX2NvWx",
    "outputId": "ab0420a2-eb8a-4ae0-f97c-07f05c0abe07"
   },
   "outputs": [
    {
     "data": {
      "text/html": [
       "<pre style=\"word-wrap: normal;white-space: pre;background: #fff0;line-height: 1.1;font-family: &quot;Courier New&quot;,Courier,monospace\">      \n",
       " q_0: \n",
       "      \n",
       " q_1: \n",
       "      \n",
       " q_2: \n",
       "      \n",
       " q_3: \n",
       "      \n",
       " q_4: \n",
       "      \n",
       " q_5: \n",
       "      \n",
       " q_6: \n",
       "      \n",
       " q_7: \n",
       "      \n",
       " q_8: \n",
       "      \n",
       " q_9: \n",
       "      \n",
       "q_10: \n",
       "      \n",
       "q_11: \n",
       "      \n",
       "q_12: \n",
       "      </pre>"
      ],
      "text/plain": [
       "      \n",
       " q_0: \n",
       "      \n",
       " q_1: \n",
       "      \n",
       " q_2: \n",
       "      \n",
       " q_3: \n",
       "      \n",
       " q_4: \n",
       "      \n",
       " q_5: \n",
       "      \n",
       " q_6: \n",
       "      \n",
       " q_7: \n",
       "      \n",
       " q_8: \n",
       "      \n",
       " q_9: \n",
       "      \n",
       "q_10: \n",
       "      \n",
       "q_11: \n",
       "      \n",
       "q_12: \n",
       "      "
      ]
     },
     "execution_count": 2,
     "metadata": {},
     "output_type": "execute_result"
    }
   ],
   "source": [
    "from qiskit.circuit import classical_function,  Int1\n",
    "@classical_function\n",
    "def grover_oracle(a1: Int1, a2: Int1, a3: Int1, a4: Int1, a5: Int1, a6: Int1, a7: Int1, a8: Int1, a9:Int1, a10: Int1, a11: Int1, a12:Int1) -> Int1:\n",
    "    return ((a10&a5 ^ a10&a7 ^ a11&a6 ^ a6&a9)&(a1&a6 ^ a2&a5)&(a10&a3 ^ a10&a4 ^ a10&a7 ^ a10&a8 ^ a11&a2 ^ a11&a6 ^ a12&a2 ^ a12&a6 ^ a2&a7 ^ a2&a8 ^ a3&a6 ^ a4&a6)&((not a11) ^ a6 ^ a8 ^ a10&a7 ^ a11&a6 ^ a11&a8 ^ a12&a7)&((not a1) ^ a2 ^ a3 ^ a4 ^ a5 ^ a1&a6 ^ a1&a7 ^ a1&a8 ^ a2&a5 ^ a3&a5 ^ a4&a5)&((not a1) ^ a10 ^ a11 ^ a3 ^ a4 ^ a5 ^ a6 ^ a8 ^ a1&a10 ^ a1&a11 ^ a1&a6 ^ a1&a7 ^ a10&a3 ^ a10&a4 ^ a10&a5 ^ a10&a7 ^ a10&a8 ^ a11&a2 ^ a11&a4 ^ a11&a5 ^ a11&a6 ^ a11&a8 ^ a12&a2 ^ a12&a3 ^ a12&a6 ^ a12&a7 ^ a2&a5 ^ a2&a7 ^ a2&a8 ^ a2&a9 ^ a3&a5 ^ a3&a6 ^ a3&a8 ^ a3&a9 ^ a4&a6 ^ a4&a7 ^ a6&a9 ^ a7&a9)&( (not a10) ^ a12 ^ a6 ^ a7 ^ a9 ^ a10&a5 ^ a10&a7 ^ a10&a8 ^ a11&a5 ^ a11&a6 ^ a11&a8 ^ a12&a6 ^ a12&a7 ^ a6&a9 ^ a7&a9)&((not a1) ^ a3 ^ a6 ^ a8 ^ a1&a6 ^ a1&a8 ^ a2&a5 ^ a2&a7 ^ a3&a6 ^ a3&a8 ^ a4&a5 ^ a4&a7)&((not a1) ^ a12 ^ a3 ^ a7 ^ a8 ^ a9 ^ a1&a11 ^ a1&a12 ^ a1&a7 ^ a1&a8 ^ a11&a4 ^ a11&a5 ^ a11&a8 ^ a12&a3 ^ a12&a5 ^ a12&a7 ^ a3&a5 ^ a3&a8 ^ a3&a9 ^ a4&a5 ^ a4&a7 ^ a4&a9 ^ a7&a9 ^ a8&a9)&((not a10) ^ a5 ^ a6 ^ a7 ^ a9 ^ a10&a7 ^ a11&a5 ^ a11&a6 ^ a7&a9)&((not a1) ^ a2 ^ a4 ^ a5 ^ a7 ^ a8 ^ a1&a6 ^ a1&a7 ^ a2&a5 ^ a2&a7 ^ a2&a8 ^ a3&a5 ^ a3&a6 ^ a3&a8 ^ a4&a6 ^ a4&a7)&((not a1) ^ a10 ^ a4 ^ a6 ^ a8 ^ a9 ^ a1&a10 ^ a1&a12 ^ a1&a6 ^ a1&a8 ^ a10&a4 ^ a10&a5 ^ a10&a8 ^ a12&a2 ^ a12&a5 ^ a12&a6 ^ a2&a5 ^ a2&a8 ^ a2&a9 ^ a4&a5 ^ a4&a6 ^ a4&a9 ^ a6&a9 ^ a8&a9))\n",
    "quantum_circuitc4 = grover_oracle.synth()\n",
    "quantum_circuitc4.draw()"
   ]
  },
  {
   "cell_type": "code",
   "execution_count": 3,
   "metadata": {
    "id": "Yy8pxiAWDOgi"
   },
   "outputs": [],
   "source": [
    "from qiskit import Aer\n",
    "from qiskit import QuantumCircuit, QuantumRegister, ClassicalRegister, transpile, assemble\n",
    "import random\n",
    "from qiskit.circuit.library.standard_gates.x import XGate, MCXGate"
   ]
  },
  {
   "cell_type": "code",
   "execution_count": 4,
   "metadata": {
    "id": "Sz4PrIpGDOnK"
   },
   "outputs": [],
   "source": [
    "def diffuser(nqubits):\n",
    "    qc = QuantumCircuit(nqubits)\n",
    "    # Apply transformation |s> -> |00..0> (H-gates)\n",
    "    for qubit in range(nqubits):\n",
    "        qc.h(qubit)\n",
    "    # Apply transformation |00..0> -> |11..1> (X-gates)\n",
    "    for qubit in range(nqubits):\n",
    "        qc.x(qubit)\n",
    "    # Do multi-controlled-Z gate\n",
    "    qc.h(nqubits-1)\n",
    "    qc.mct(list(range(nqubits-1)), nqubits-1)  # multi-controlled-toffoli\n",
    "    qc.h(nqubits-1)\n",
    "    # Apply transformation |11..1> -> |00..0>\n",
    "    for qubit in range(nqubits):\n",
    "        qc.x(qubit)\n",
    "    # Apply transformation |00..0> -> |s>\n",
    "    for qubit in range(nqubits):\n",
    "        qc.h(qubit)\n",
    "    # We will return the diffuser as a gate\n",
    "    U_s = qc.to_gate()\n",
    "    U_s.name = \"U_s\"\n",
    "    return U_s"
   ]
  },
  {
   "cell_type": "code",
   "execution_count": 5,
   "metadata": {
    "id": "-4n00MKPDOq6"
   },
   "outputs": [],
   "source": [
    "def quantum_procedure(creg,qreg):\n",
    "    qc14 = QuantumCircuit(qreg,creg)\n",
    "    # Initialize qubits in state |s>\n",
    "    qc14.x(12)\n",
    "    qc14.h(range(13))\n",
    "    qc14.barrier()\n",
    "    test_list = []\n",
    "    for j in range(63):\n",
    "        test_list.append(j)\n",
    "    # using random.choice() to\n",
    "    # get a random number\n",
    "    random_num = random.choice(test_list)\n",
    "    for j in range(random_num):\n",
    "        qc14.compose(quantum_circuitc4, inplace = True)\n",
    "        qc14.append(diffuser(12), range(12))\n",
    "        qc14.barrier()\n",
    "    qc14.barrier()\n",
    "    qc14.h(12)\n",
    "    qc14.measure(range(12), range(12))\n",
    "    aer_sim = Aer.get_backend('aer_simulator')\n",
    "    transpiled_qc14 = transpile(qc14, aer_sim)\n",
    "    qobj4 = assemble(transpiled_qc14)\n",
    "    results4 = aer_sim.run(qobj4,shots = 1).result()\n",
    "    counts4 = results4.get_counts()\n",
    "    dictionary_to_value(counts4)\n",
    "    return(dictionary_to_value(counts4),random_num)"
   ]
  },
  {
   "cell_type": "code",
   "execution_count": 6,
   "metadata": {
    "id": "X0GxNFXGDx-z"
   },
   "outputs": [],
   "source": [
    "def dictionary_to_value(x):\n",
    "    for i in x.keys():\n",
    "        return(i)"
   ]
  },
  {
   "cell_type": "code",
   "execution_count": null,
   "metadata": {},
   "outputs": [],
   "source": [
    "A1 = Matrix([[1, 0, 0, 0],[0, 1, 0 ,0],[0, 0, 1 , 0],[0,0,0,1] ])\n",
    "A2 = Matrix([[0, 0, 0, 1],[1, 0, 0 ,0],[0, 1, 0 , 1],[0,0,1,0] ])\n",
    "A3 = Matrix([[0, 0, a[1], a[5]],[0, 0, a[2] ,a[6]],[1, 0, a[3] , a[7]],[0,1,a[4],a[8]] ])\n",
    "A4 = Matrix([[0, 1, a[5], a[9]],[0, 0, a[6] ,a[10]],[0, 1, a[7] , a[11]],[1,0,a[8],a[12]] ])\n",
    "pprint(A1)\n",
    "print('\\n')\n",
    "pprint(A2)\n",
    "print('\\n')\n",
    "pprint(A3)\n",
    "print('\\n')\n",
    "pprint(A4)"
   ]
  },
  {
   "cell_type": "code",
   "execution_count": 7,
   "metadata": {
    "id": "8na0xZuUDyEa"
   },
   "outputs": [],
   "source": [
    "def is_a_solution(x):\n",
    "    a = []\n",
    "    for item in x:\n",
    "        a.append(item)\n",
    "    A1 = Matrix([[1, 0, 0, 0],[0, 1, 0 ,0],[0, 0, 1 , 0],[0,0,0,1] ])\n",
    "    A2 = Matrix([[0, 0, 0, 1],[1, 0, 0 ,0],[0, 1, 0 , 1],[0,0,1,0] ])\n",
    "    A3 = Matrix([[0, 0, a[11], a[7]],[0, 0, a[10] ,a[6]],[1, 0, a[9] , a[5]],[0,1,a[8],a[4]] ])\n",
    "    A4 = Matrix([[0, 1, a[7], a[3]],[0, 0, a[6] ,a[2]],[0, 1, a[5] , a[1]],[1,0,a[4],a[0]] ])\n",
    "    #pprint(A1)    print('\\n')    pprint(A2)    print('\\n')    pprint(A3)    print('\\n')    pprint(A4)\n",
    "    aC41=[]\n",
    "    A=[]\n",
    "    for i in range(0,16):\n",
    "        aC41.append('{0:04b}'.format(i))\n",
    "        M=int(aC41[i][0])*A1+int(aC41[i][1])*A2+int(aC41[i][2])*A3 +int(aC41[i][3])*A4\n",
    "        A.append(M.det())\n",
    "    #print(A)\n",
    "    A.pop(0)\n",
    "    if (all(v != 0 for v in A) == True):\n",
    "        return(x)\n",
    "    else:\n",
    "        return(0)    "
   ]
  },
  {
   "cell_type": "code",
   "execution_count": 8,
   "metadata": {},
   "outputs": [],
   "source": [
    "def finding_solutions(R):\n",
    "    find_solution1 = []\n",
    "    qreg16 = QuantumRegister(13)\n",
    "    creg16 = ClassicalRegister(12)\n",
    "    for j in range(R):\n",
    "        a = quantum_procedure(creg16,qreg16)\n",
    "        find_solution1.append(a)\n",
    "        if is_a_solution(a[0]) !=0:\n",
    "            break\n",
    "    return(find_solution1)"
   ]
  },
  {
   "cell_type": "code",
   "execution_count": 9,
   "metadata": {},
   "outputs": [
    {
     "data": {
      "text/plain": [
       "[('001000100110', 61),\n",
       " ('110111000100', 56),\n",
       " ('101011110101', 1),\n",
       " ('011111010110', 45),\n",
       " ('101111100100', 4),\n",
       " ('011010010101', 34),\n",
       " ('110110111001', 55),\n",
       " ('111011100001', 17),\n",
       " ('001111111000', 25),\n",
       " ('111110010101', 50),\n",
       " ('001010010111', 24),\n",
       " ('101111111100', 58),\n",
       " ('111111110110', 55),\n",
       " ('101100010001', 40),\n",
       " ('010111010101', 26),\n",
       " ('000010101010', 7),\n",
       " ('110000011100', 10),\n",
       " ('001110000000', 35),\n",
       " ('010110110000', 6),\n",
       " ('110110111010', 21),\n",
       " ('100010001011', 51),\n",
       " ('101101100001', 36),\n",
       " ('100000011111', 32),\n",
       " ('101011111101', 56),\n",
       " ('010001101100', 51),\n",
       " ('110010001010', 43),\n",
       " ('000000101111', 62),\n",
       " ('111011101001', 60),\n",
       " ('110110101010', 18),\n",
       " ('000100010111', 25),\n",
       " ('111011010110', 53),\n",
       " ('111001000110', 18),\n",
       " ('010110111011', 7),\n",
       " ('000110111100', 50),\n",
       " ('110110010010', 0),\n",
       " ('010110110001', 62),\n",
       " ('111101010010', 27),\n",
       " ('001101111100', 34),\n",
       " ('100000011000', 16),\n",
       " ('110001010101', 53),\n",
       " ('010011010000', 13),\n",
       " ('000101001001', 57),\n",
       " ('011001100110', 61),\n",
       " ('010001010111', 33),\n",
       " ('100111001010', 6),\n",
       " ('001000000110', 16),\n",
       " ('000110110001', 17),\n",
       " ('101111001001', 11),\n",
       " ('110101010100', 25),\n",
       " ('101100010010', 33),\n",
       " ('101110111111', 58),\n",
       " ('111000011110', 47),\n",
       " ('001011010000', 45),\n",
       " ('100001100110', 17),\n",
       " ('011011001100', 30),\n",
       " ('000110101100', 42),\n",
       " ('101011000111', 61),\n",
       " ('010110101110', 25),\n",
       " ('001101011011', 36),\n",
       " ('001010010011', 22),\n",
       " ('100010110001', 44),\n",
       " ('101110110011', 8),\n",
       " ('100000010010', 23),\n",
       " ('111110111001', 57),\n",
       " ('110111001000', 53),\n",
       " ('001101100000', 1),\n",
       " ('011101010010', 5),\n",
       " ('110110011011', 41)]"
      ]
     },
     "execution_count": 9,
     "metadata": {},
     "output_type": "execute_result"
    }
   ],
   "source": [
    "finding_solutions(68)"
   ]
  },
  {
   "cell_type": "code",
   "execution_count": 10,
   "metadata": {},
   "outputs": [
    {
     "data": {
      "text/plain": [
       "[('101000000011', 14),\n",
       " ('011001011001', 19),\n",
       " ('000111101011', 28),\n",
       " ('010100111000', 28),\n",
       " ('110111110111', 43),\n",
       " ('111100011101', 3),\n",
       " ('001001110011', 21),\n",
       " ('100000000101', 26),\n",
       " ('011100101110', 53),\n",
       " ('000101000011', 12),\n",
       " ('011101010001', 25),\n",
       " ('000110100010', 55),\n",
       " ('100000100100', 11),\n",
       " ('000001000001', 54),\n",
       " ('100111110111', 42),\n",
       " ('101111000101', 0),\n",
       " ('011110001010', 0),\n",
       " ('000010101001', 7),\n",
       " ('101011111110', 38),\n",
       " ('001111110011', 40),\n",
       " ('011110100101', 50),\n",
       " ('111000111110', 46),\n",
       " ('100101100000', 28),\n",
       " ('000011101000', 41),\n",
       " ('010111100000', 30),\n",
       " ('101000110010', 18),\n",
       " ('010000111101', 49),\n",
       " ('101111010000', 34),\n",
       " ('011100001101', 39),\n",
       " ('110100000011', 5),\n",
       " ('010001111001', 54),\n",
       " ('011111011010', 43),\n",
       " ('011101100010', 42),\n",
       " ('000011000111', 24),\n",
       " ('001111101010', 29),\n",
       " ('101010011111', 62),\n",
       " ('100000000010', 10),\n",
       " ('111011001101', 14),\n",
       " ('101110000100', 57),\n",
       " ('011111111101', 18),\n",
       " ('110000011111', 6),\n",
       " ('011110000110', 31),\n",
       " ('100011000111', 24),\n",
       " ('101000100001', 30),\n",
       " ('011001011000', 32),\n",
       " ('101000100100', 51),\n",
       " ('111010101011', 47),\n",
       " ('110010000101', 38),\n",
       " ('111101100111', 50),\n",
       " ('001101100011', 34),\n",
       " ('010101100000', 45),\n",
       " ('011100100111', 9),\n",
       " ('000100111111', 30),\n",
       " ('101010011111', 15),\n",
       " ('010001111101', 19),\n",
       " ('000110110110', 30),\n",
       " ('001000010101', 27),\n",
       " ('000000110100', 56),\n",
       " ('011100101011', 55),\n",
       " ('100101001100', 49),\n",
       " ('011111111010', 18),\n",
       " ('100100110101', 17),\n",
       " ('110000000100', 27),\n",
       " ('010010111100', 39),\n",
       " ('010110011010', 52),\n",
       " ('101001010110', 10),\n",
       " ('111101101010', 10),\n",
       " ('100101111001', 62)]"
      ]
     },
     "execution_count": 10,
     "metadata": {},
     "output_type": "execute_result"
    }
   ],
   "source": [
    "finding_solutions(68)"
   ]
  },
  {
   "cell_type": "code",
   "execution_count": null,
   "metadata": {},
   "outputs": [],
   "source": [
    "is_a_solution('101010011110')"
   ]
  },
  {
   "cell_type": "code",
   "execution_count": null,
   "metadata": {},
   "outputs": [],
   "source": [
    "finding_solutions(68)"
   ]
  },
  {
   "cell_type": "code",
   "execution_count": null,
   "metadata": {},
   "outputs": [],
   "source": [
    "is_a_solution('110001100011')"
   ]
  },
  {
   "cell_type": "code",
   "execution_count": null,
   "metadata": {},
   "outputs": [],
   "source": []
  },
  {
   "cell_type": "code",
   "execution_count": null,
   "metadata": {
    "colab": {
     "base_uri": "https://localhost:8080/"
    },
    "id": "nTsMHpHhDyMD",
    "outputId": "26c2beba-a4de-4083-9b6d-8975e4ee6e2a"
   },
   "outputs": [],
   "source": [
    "is_a_solution(quantum_procedure(creg11,qreg11)[0], quantum_procedure(creg11,qreg11)[1])"
   ]
  },
  {
   "cell_type": "code",
   "execution_count": null,
   "metadata": {
    "colab": {
     "base_uri": "https://localhost:8080/"
    },
    "id": "eVldUdu-DyOb",
    "outputId": "43efc4b2-eff0-43f1-ffb9-97d7509db76a"
   },
   "outputs": [],
   "source": [
    "possible_solutions = []\n",
    "for i in range(88):\n",
    "  possible_solutions.append(i)\n",
    "  possible_solutions.append(is_a_solution(quantum_procedure(creg11,qreg11)[0],quantum_procedure(creg11,qreg11)[1]))"
   ]
  },
  {
   "cell_type": "code",
   "execution_count": null,
   "metadata": {
    "colab": {
     "base_uri": "https://localhost:8080/"
    },
    "id": "4Ll26XdqOaRY",
    "outputId": "bfdbbf75-f72e-4d7c-89c3-160d98b2600f"
   },
   "outputs": [],
   "source": [
    "possible_solutions"
   ]
  },
  {
   "cell_type": "code",
   "execution_count": null,
   "metadata": {
    "colab": {
     "base_uri": "https://localhost:8080/"
    },
    "id": "70ThPeSPIays",
    "outputId": "2876e931-4498-41fb-c36c-bafb9e4adedc"
   },
   "outputs": [],
   "source": [
    "all(v[0] == False for v in possible_solutions)"
   ]
  },
  {
   "cell_type": "code",
   "execution_count": null,
   "metadata": {
    "colab": {
     "base_uri": "https://localhost:8080/"
    },
    "id": "gV_1B958NDW5",
    "outputId": "86c96b1e-6409-4870-9aae-c5d39665d856"
   },
   "outputs": [],
   "source": [
    "print(type(possible_solutions[0]))"
   ]
  },
  {
   "cell_type": "code",
   "execution_count": null,
   "metadata": {
    "id": "kOt38EoJOEor"
   },
   "outputs": [],
   "source": []
  }
 ],
 "metadata": {
  "colab": {
   "provenance": []
  },
  "kernelspec": {
   "display_name": "Python 3 (ipykernel)",
   "language": "python",
   "name": "python3"
  },
  "language_info": {
   "codemirror_mode": {
    "name": "ipython",
    "version": 3
   },
   "file_extension": ".py",
   "mimetype": "text/x-python",
   "name": "python",
   "nbconvert_exporter": "python",
   "pygments_lexer": "ipython3",
   "version": "3.9.7"
  }
 },
 "nbformat": 4,
 "nbformat_minor": 1
}
