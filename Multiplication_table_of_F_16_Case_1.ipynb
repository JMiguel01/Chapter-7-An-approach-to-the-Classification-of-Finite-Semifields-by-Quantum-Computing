{
 "cells": [
  {
   "cell_type": "code",
   "execution_count": null,
   "metadata": {
    "colab": {
     "base_uri": "https://localhost:8080/"
    },
    "id": "Cv6N3gzYiiAg",
    "outputId": "83739599-9d19-4066-fd07-d496a19ac579"
   },
   "outputs": [],
   "source": [
    "pip install qiskit"
   ]
  },
  {
   "cell_type": "code",
   "execution_count": null,
   "metadata": {
    "colab": {
     "base_uri": "https://localhost:8080/"
    },
    "id": "l2dl5EkIikXd",
    "outputId": "23f77f9d-986e-4d1c-c255-940ba17431f2"
   },
   "outputs": [],
   "source": [
    "pip install tweedledum"
   ]
  },
  {
   "cell_type": "code",
   "execution_count": null,
   "metadata": {
    "colab": {
     "base_uri": "https://localhost:8080/"
    },
    "id": "qo-wUWRykGad",
    "outputId": "c4519ed0-07df-42c8-d56f-325efd38b367"
   },
   "outputs": [],
   "source": [
    "pip install qiskit-aer"
   ]
  },
  {
   "cell_type": "code",
   "execution_count": 1,
   "metadata": {
    "colab": {
     "base_uri": "https://localhost:8080/",
     "height": 174
    },
    "id": "m7BRcGjyk305",
    "outputId": "236246ca-5cd0-47ec-ca23-f0d2442188a2"
   },
   "outputs": [
    {
     "data": {
      "text/plain": [
       "'[a10&a7 ^ a11&a5 ^ a11&a6 ^ a7&a9]&[a1&a6 ^ a2&a5]&[a1&a10 ^ a1&a11 ^ a1&a12 ^ a1&a6 ^ a1&a7 ^ a1&a8 ^ a10&a3 ^ a10&a4 ^ a10&a5 ^ a10&a7 ^ a10&a8 ^ a11&a2 ^ a11&a5 ^ a11&a6 ^ a12&a2 ^ a12&a5 ^ a12&a6 ^ a2&a5 ^ a2&a7 ^ a2&a8 ^ a2&a9 ^ a3&a5 ^ a3&a6 ^ a3&a9 ^ a4&a5 ^ a4&a6 ^ a4&a9 ^ a6&a9 ^ a7&a9 ^ a8&a9]&[~a11 ^ a5 ^ a6 ^ a8 ^ a9 ^ a10&a5 ^ a10&a7 ^ a11&a5 ^ a11&a6 ^ a11&a8 ^ a12&a5 ^ a12&a7 ^ a6&a9 ^ a7&a9 ^ a8&a9]&[~a1 ^ a2 ^ a3 ^ a4 ^ a5 ^ a1&a6 ^ a1&a7 ^ a1&a8 ^ a2&a5 ^ a3&a5 ^ a4&a5]&[~a10 ^ a11 ^ a3 ^ a4 ^ a6 ^ a8 ^ a10&a3 ^ a10&a4 ^ a10&a7 ^ a10&a8 ^ a11&a2 ^ a11&a4 ^ a11&a6 ^ a11&a8 ^ a12&a2 ^ a12&a3 ^ a12&a6 ^ a12&a7 ^ a2&a7 ^ a2&a8 ^ a3&a6 ^ a3&a8 ^ a4&a6 ^ a4&a7]&[a10 ^ a10&a7 ^ a11&a6]&[~a1 ^ a3 ^ a6 ^ a8 ^ a1&a6 ^ a1&a8 ^ a2&a5 ^ a2&a7 ^ a3&a6 ^ a3&a8 ^ a4&a5 ^ a4&a7]&[a2 ^ a6 ^ a1&a10 ^ a1&a6 ^ a10&a4 ^ a10&a5 ^ a10&a8 ^ a12&a2 ^ a12&a6 ^ a2&a5 ^ a2&a8 ^ a2&a9 ^ a4&a6 ^ a6&a9]&[a11 ^ a12 ^ a9 ^ a10&a5 ^ a10&a7 ^ a10&a8 ^ a11&a6 ^ a11&a8 ^ a12&a5 ^ a12&a6 ^ a12&a7 ^ a6&a9 ^ a8&a9]&[a1 ^ a3 ^ a4 ^ a5 ^ a7 ^ a8 ^ a1&a6 ^ a1&a7 ^ a2&a5 ^ a2&a7 ^ a2&a8 ^ a3&a5 ^ a3&a6 ^ a3&a8 ^ a4&a6 ^ a4&a7]&[~a1 ^ a11 ^ a12 ^ a4 ^ a5 ^ a7 ^ a1&a11 ^ a1&a12 ^ a1&a7 ^ a1&a8 ^ a11&a4 ^ a11&a5 ^ a11&a8 ^ a12&a3 ^ a12&a5 ^ a12&a7 ^ a3&a5 ^ a3&a8 ^ a3&a9 ^ a4&a5 ^ a4&a7 ^ a4&a9 ^ a7&a9 ^ a8&a9]'"
      ]
     },
     "execution_count": 1,
     "metadata": {},
     "output_type": "execute_result"
    }
   ],
   "source": [
    "from sympy import symbols, Matrix, pprint, collect, factor\n",
    "from sympy import *\n",
    "import itertools\n",
    "\n",
    "a = []\n",
    "name = \"a\"\n",
    "for i in range(0,13):\n",
    "    v = symbols(name+str(i))\n",
    "    a.append(v)\n",
    "\n",
    "A1 = Matrix([[1, 0, 0, 0],[0, 1, 0 ,0],[0, 0, 1 , 0],[0,0,0,1] ])\n",
    "A2 = Matrix([[0, 0, 0, 1],[1, 0, 0 ,1],[0, 1, 0 , 0],[0,0,1,0] ])\n",
    "A3 = Matrix([[0, 0, a[1], a[5]],[0, 0, a[2] ,a[6]],[1, 0, a[3] , a[7]],[0,1,a[4],a[8]] ])\n",
    "A4 = Matrix([[0, 1, a[5], a[9]],[0, 1, a[6] ,a[10]],[0, 0, a[7] , a[11]],[1,0,a[8],a[12]] ])\n",
    "aC41=[]\n",
    "A=[]\n",
    "for i in range(0,16):\n",
    "    aC41.append('{0:04b}'.format(i))\n",
    "    M=int(aC41[i][0])*A1+int(aC41[i][1])*A2+int(aC41[i][2])*A3 +int(aC41[i][3])*A4\n",
    "    A.append(M.det())\n",
    "def Equations(First):\n",
    "    BB31= First\n",
    "    Pl1 =[]\n",
    "    for i in range(len(BB31)):\n",
    "        Pl1.append(dict(BB31[i].as_coefficients_dict()))\n",
    "    ##Symplify computations of coefficients module 2\n",
    "    EQ1 =[]\n",
    "    for l in range(len(Pl1)):\n",
    "        for s in Pl1[l]:\n",
    "            if (Pl1[l][s] % 2) == 0:\n",
    "                Pl1[l][s] = 0\n",
    "            else:\n",
    "                Pl1[l][s] = 1\n",
    "        EQ1.append(sum([key * val for key, val in Pl1[l].items()]))\n",
    "    ##Selecting the equations we need\n",
    "    EQ3=[]\n",
    "    for l in range(len(EQ1)):\n",
    "        if (EQ1[l] != 0) and (EQ1[l]!=1):\n",
    "            EQ3.append(EQ1[l])\n",
    "    return(EQ3)\n",
    "def Polynomial1(w):\n",
    "    h_test1=[]\n",
    "    w_test1=[]\n",
    "    w_final_test1=[]\n",
    "    for n in range(len(w)):\n",
    "        if  (w[n] == 1) or (w[n] == 0):\n",
    "            w_test1.append(w[n])\n",
    "        else:\n",
    "            h_test1.append(w[n].make_args(w[n]))\n",
    "    g_test1 =[]\n",
    "    for m in range(len(h_test1)):\n",
    "        g_test1.append(list(h_test1[m]))\n",
    "        for l in range(len(h_test1[m])):\n",
    "            if(h_test1[m][l]==1):\n",
    "                g_test1[m][1]=~(g_test1[m][1])\n",
    "                del g_test1[m][l]\n",
    "    w_final_test1 = '&'.join([str(item) for item in g_test1])\n",
    "    w_final_test1 = w_final_test1.replace(\"*\",\"&\")\n",
    "    w_final_test1 = w_final_test1.replace(\",\",\" ^\")\n",
    "    return(w_final_test1)\n",
    "Polynomial1(Equations(A))"
   ]
  },
  {
   "cell_type": "code",
   "execution_count": 2,
   "metadata": {
    "colab": {
     "base_uri": "https://localhost:8080/",
     "height": 522
    },
    "id": "ZLayqIGMi7yp",
    "outputId": "6b3a0758-8d45-4ef1-f772-9303c8a5aa77"
   },
   "outputs": [
    {
     "data": {
      "text/html": [
       "<pre style=\"word-wrap: normal;white-space: pre;background: #fff0;line-height: 1.1;font-family: &quot;Courier New&quot;,Courier,monospace\">           \n",
       " q_0: ──■──\n",
       "        │  \n",
       " q_1: ──■──\n",
       "        │  \n",
       " q_2: ──o──\n",
       "        │  \n",
       " q_3: ──o──\n",
       "        │  \n",
       " q_4: ──o──\n",
       "        │  \n",
       " q_5: ──■──\n",
       "        │  \n",
       " q_6: ──■──\n",
       "        │  \n",
       " q_7: ──o──\n",
       "        │  \n",
       " q_8: ──o──\n",
       "        │  \n",
       " q_9: ──o──\n",
       "        │  \n",
       "q_10: ──■──\n",
       "        │  \n",
       "q_11: ──■──\n",
       "      ┌─┴─┐\n",
       "q_12: ┤ X ├\n",
       "      └───┘</pre>"
      ],
      "text/plain": [
       "           \n",
       " q_0: ──■──\n",
       "        │  \n",
       " q_1: ──■──\n",
       "        │  \n",
       " q_2: ──o──\n",
       "        │  \n",
       " q_3: ──o──\n",
       "        │  \n",
       " q_4: ──o──\n",
       "        │  \n",
       " q_5: ──■──\n",
       "        │  \n",
       " q_6: ──■──\n",
       "        │  \n",
       " q_7: ──o──\n",
       "        │  \n",
       " q_8: ──o──\n",
       "        │  \n",
       " q_9: ──o──\n",
       "        │  \n",
       "q_10: ──■──\n",
       "        │  \n",
       "q_11: ──■──\n",
       "      ┌─┴─┐\n",
       "q_12: ┤ X ├\n",
       "      └───┘"
      ]
     },
     "execution_count": 2,
     "metadata": {},
     "output_type": "execute_result"
    }
   ],
   "source": [
    "from qiskit.circuit import classical_function,  Int1\n",
    "@classical_function\n",
    "def grover_oracle(a1: Int1, a2: Int1, a3: Int1, a4: Int1, a5: Int1, a6: Int1, a7: Int1, a8: Int1, a9:Int1, a10: Int1, a11: Int1, a12:Int1) -> Int1:\n",
    "    return ((a10&a7 ^ a11&a5 ^ a11&a6 ^ a7&a9)&(a1&a6 ^ a2&a5)&(a1&a10 ^ a1&a11 ^ a1&a12 ^ a1&a6 ^ a1&a7 ^ a1&a8 ^ a10&a3 ^ a10&a4 ^ a10&a5 ^ a10&a7 ^ a10&a8 ^ a11&a2 ^ a11&a5 ^ a11&a6 ^ a12&a2 ^ a12&a5 ^ a12&a6 ^ a2&a5 ^ a2&a7 ^ a2&a8 ^ a2&a9 ^ a3&a5 ^ a3&a6 ^ a3&a9 ^ a4&a5 ^ a4&a6 ^ a4&a9 ^ a6&a9 ^ a7&a9 ^ a8&a9)&(not(a11) ^ a5 ^ a6 ^ a8 ^ a9 ^ a10&a5 ^ a10&a7 ^ a11&a5 ^ a11&a6 ^ a11&a8 ^ a12&a5 ^ a12&a7 ^ a6&a9 ^ a7&a9 ^ a8&a9)&(not(a1) ^ a2 ^ a3 ^ a4 ^ a5 ^ a1&a6 ^ a1&a7 ^ a1&a8 ^ a2&a5 ^ a3&a5 ^ a4&a5)&(not(a10) ^ a11 ^ a3 ^ a4 ^ a6 ^ a8 ^ a10&a3 ^ a10&a4 ^ a10&a7 ^ a10&a8 ^ a11&a2 ^ a11&a4 ^ a11&a6 ^ a11&a8 ^ a12&a2 ^ a12&a3 ^ a12&a6 ^ a12&a7 ^ a2&a7 ^ a2&a8 ^ a3&a6 ^ a3&a8 ^ a4&a6 ^ a4&a7)&(a10 ^ a10&a7 ^ a11&a6)&(not(a1) ^ a3 ^ a6 ^ a8 ^ a1&a6 ^ a1&a8 ^ a2&a5 ^ a2&a7 ^ a3&a6 ^ a3&a8 ^ a4&a5 ^ a4&a7)&(a2 ^ a6 ^ a1&a10 ^ a1&a6 ^ a10&a4 ^ a10&a5 ^ a10&a8 ^ a12&a2 ^ a12&a6 ^ a2&a5 ^ a2&a8 ^ a2&a9 ^ a4&a6 ^ a6&a9)&(a11 ^ a12 ^ a9 ^ a10&a5 ^ a10&a7 ^ a10&a8 ^ a11&a6 ^ a11&a8 ^ a12&a5 ^ a12&a6 ^ a12&a7 ^ a6&a9 ^ a8&a9)&(a1 ^ a3 ^ a4 ^ a5 ^ a7 ^ a8 ^ a1&a6 ^ a1&a7 ^ a2&a5 ^ a2&a7 ^ a2&a8 ^ a3&a5 ^ a3&a6 ^ a3&a8 ^ a4&a6 ^ a4&a7)&(not(a1)^ a11 ^ a12 ^ a4 ^ a5 ^ a7 ^ a1&a11 ^ a1&a12 ^ a1&a7 ^ a1&a8 ^ a11&a4 ^ a11&a5 ^ a11&a8 ^ a12&a3 ^ a12&a5 ^ a12&a7 ^ a3&a5 ^ a3&a8 ^ a3&a9 ^ a4&a5 ^ a4&a7 ^ a4&a9 ^ a7&a9 ^ a8&a9))\n",
    "quantum_circuitc1 = grover_oracle.synth()\n",
    "quantum_circuitc1.draw()"
   ]
  },
  {
   "cell_type": "code",
   "execution_count": 3,
   "metadata": {
    "id": "u2Lr3SPMdbQH"
   },
   "outputs": [],
   "source": [
    "from qiskit import Aer\n",
    "from qiskit import QuantumCircuit, QuantumRegister, ClassicalRegister, transpile, assemble\n",
    "import random\n",
    "from qiskit.circuit.library.standard_gates.x import XGate, MCXGate"
   ]
  },
  {
   "cell_type": "code",
   "execution_count": 4,
   "metadata": {
    "id": "VUuvIxXsc7HB"
   },
   "outputs": [],
   "source": [
    "def diffuser(nqubits):\n",
    "    qc = QuantumCircuit(nqubits)\n",
    "    # Apply transformation |s> -> |00..0> (H-gates)\n",
    "    for qubit in range(nqubits):\n",
    "        qc.h(qubit)\n",
    "    # Apply transformation |00..0> -> |11..1> (X-gates)\n",
    "    for qubit in range(nqubits):\n",
    "        qc.x(qubit)\n",
    "    # Do multi-controlled-Z gate\n",
    "    qc.h(nqubits-1)\n",
    "    qc.mct(list(range(nqubits-1)), nqubits-1)  # multi-controlled-toffoli\n",
    "    qc.h(nqubits-1)\n",
    "    # Apply transformation |11..1> -> |00..0>\n",
    "    for qubit in range(nqubits):\n",
    "        qc.x(qubit)\n",
    "    # Apply transformation |00..0> -> |s>\n",
    "    for qubit in range(nqubits):\n",
    "        qc.h(qubit)\n",
    "    # We will return the diffuser as a gate\n",
    "    U_s = qc.to_gate()\n",
    "    U_s.name = \"U_s\"\n",
    "    return U_s"
   ]
  },
  {
   "cell_type": "code",
   "execution_count": 5,
   "metadata": {
    "id": "zE3DZjhgQwTL"
   },
   "outputs": [],
   "source": [
    "def quantum_procedure(creg,qreg):\n",
    "    qc14 = QuantumCircuit(qreg,creg)\n",
    "    # Initialize qubits in state |s>\n",
    "    qc14.x(12)\n",
    "    qc14.h(range(13))\n",
    "    qc14.barrier()\n",
    "    test_list = []\n",
    "    for j in range(63):\n",
    "        test_list.append(j)\n",
    "  # using random.choice() to\n",
    "  # get a random number\n",
    "    random_num = random.choice(test_list)\n",
    "    for j in range(random_num):\n",
    "        qc14.compose(quantum_circuitc1, inplace = True)\n",
    "        qc14.append(diffuser(12), range(12))\n",
    "    qc14.barrier()\n",
    "    qc14.h(12)\n",
    "    qc14.measure(range(12), range(12))\n",
    "    #print(qc14.draw(fold=-1))\n",
    "    aer_sim = Aer.get_backend('aer_simulator')\n",
    "    transpiled_qc14 = transpile(qc14, aer_sim)\n",
    "    qobj4 = assemble(transpiled_qc14)\n",
    "    results4 = aer_sim.run(qobj4,shots = 1).result()\n",
    "    counts4 = results4.get_counts()\n",
    "    dictionary_to_value(counts4)\n",
    "    return(dictionary_to_value(counts4),random_num)"
   ]
  },
  {
   "cell_type": "code",
   "execution_count": 6,
   "metadata": {
    "id": "bZtQWRqMT5Fh"
   },
   "outputs": [],
   "source": [
    "def dictionary_to_value(x):\n",
    "    for i in x.keys():\n",
    "        return(i)"
   ]
  },
  {
   "cell_type": "code",
   "execution_count": 7,
   "metadata": {
    "id": "3ZsKiUgr5D5Z"
   },
   "outputs": [],
   "source": [
    "def is_solution1(x):\n",
    "    a = []\n",
    "    for item in x:\n",
    "        a.append(item)\n",
    "    A1 = Matrix([[1, 0, 0, 0],[0, 1, 0 ,0],[0, 0, 1 , 0],[0,0,0,1] ])\n",
    "    A2 = Matrix([[0, 0, 0, 1],[1, 0, 0 ,1],[0, 1, 0 , 0],[0,0,1,0] ])\n",
    "    A3 = Matrix([[0, 0, a[11], a[7]],[0, 0, a[10] ,a[6]],[1, 0, a[9] , a[5]],[0,1,a[8],a[4]] ])\n",
    "    A4 = Matrix([[0, 1, a[7], a[3]],[0, 1, a[6] ,a[2]],[0, 0, a[5] , a[1]],[1,0,a[4],a[0]] ])\n",
    "    aC41=[]\n",
    "    A=[]\n",
    "    for i in range(0,16):\n",
    "        aC41.append('{0:04b}'.format(i))\n",
    "        M=int(aC41[i][0])*A1+int(aC41[i][1])*A2+int(aC41[i][2])*A3 +int(aC41[i][3])*A4\n",
    "        A.append(M.det())\n",
    "    A.pop(0)\n",
    "    if (all(v != 0 for v in A) == True):\n",
    "        return(x)\n",
    "    else:\n",
    "        return(0)"
   ]
  },
  {
   "cell_type": "code",
   "execution_count": 8,
   "metadata": {
    "colab": {
     "base_uri": "https://localhost:8080/"
    },
    "id": "dRho3v0VTOFg",
    "outputId": "6e265923-4deb-49bd-8945-e8bc537f43c2"
   },
   "outputs": [],
   "source": [
    "def finding_solutions(R):\n",
    "    find_solution = []\n",
    "    qreg11 = QuantumRegister(13)\n",
    "    creg11 = ClassicalRegister(12)\n",
    "    for j in range(R):\n",
    "        a = quantum_procedure(creg11,qreg11)\n",
    "        find_solution.append(a)\n",
    "        if is_solution1(a[0]) !=0:\n",
    "            break\n",
    "    return(find_solution)"
   ]
  },
  {
   "cell_type": "code",
   "execution_count": 9,
   "metadata": {},
   "outputs": [
    {
     "data": {
      "text/plain": [
       "[('100000110101', 4), ('110001100011', 27)]"
      ]
     },
     "execution_count": 9,
     "metadata": {},
     "output_type": "execute_result"
    }
   ],
   "source": [
    " finding_solutions(44)"
   ]
  },
  {
   "cell_type": "code",
   "execution_count": 10,
   "metadata": {
    "id": "BNtH_zM5VHhy"
   },
   "outputs": [],
   "source": [
    "def oracle_one_solution(x):\n",
    "    qreg = QuantumRegister(13)\n",
    "    creg = ClassicalRegister(12)\n",
    "    qc = QuantumCircuit(qreg,creg)\n",
    "    control = MCXGate(12, None, x)\n",
    "    qc.append(control, [0, 1, 2, 3, 4 ,5 ,6, 7, 8, 9, 10, 11, 12])\n",
    "    #print(qc.draw())\n",
    "    return(qc)"
   ]
  },
  {
   "cell_type": "code",
   "execution_count": 11,
   "metadata": {
    "id": "1m5KWRKpUdSo"
   },
   "outputs": [],
   "source": [
    "def quantum_procedure1(creg,qreg):\n",
    "    qc14 = QuantumCircuit(qreg,creg)\n",
    "    # Initialize qubits in state |s>\n",
    "    qc14.x(12)\n",
    "    qc14.h(range(13))\n",
    "    qc14.barrier()\n",
    "    test_list = []\n",
    "    for j in range(63):\n",
    "        test_list.append(j)\n",
    "  # using random.choice() to\n",
    "  # get a random number\n",
    "    random_num = random.choice(test_list)\n",
    "    for j in range(random_num):\n",
    "        qc14.compose(quantum_circuitc1, inplace = True)\n",
    "        qc14.compose(oracle_one_solution('110001100011'), inplace = True)\n",
    "        qc14.append(diffuser(12), range(12))\n",
    "    qc14.barrier()\n",
    "    qc14.h(12)\n",
    "    qc14.measure(range(12), range(12))\n",
    "    #print(qc14.draw(fold=-1))\n",
    "    aer_sim = Aer.get_backend('aer_simulator')\n",
    "    transpiled_qc14 = transpile(qc14, aer_sim)\n",
    "    qobj4 = assemble(transpiled_qc14)\n",
    "    results4 = aer_sim.run(qobj4,shots = 1).result()\n",
    "    counts4 = results4.get_counts()\n",
    "    dictionary_to_value(counts4)\n",
    "    return(dictionary_to_value(counts4),random_num)"
   ]
  },
  {
   "cell_type": "code",
   "execution_count": 12,
   "metadata": {},
   "outputs": [],
   "source": [
    "def finding_solutions2(R):\n",
    "    find_solution = []\n",
    "    qreg11 = QuantumRegister(13)\n",
    "    creg11 = ClassicalRegister(12)\n",
    "    for j in range(R):\n",
    "        a = quantum_procedure1(creg11,qreg11)\n",
    "        find_solution.append(a)\n",
    "        if is_solution1(a[0]) !=0:\n",
    "            break\n",
    "    return(find_solution)"
   ]
  },
  {
   "cell_type": "code",
   "execution_count": 13,
   "metadata": {},
   "outputs": [
    {
     "name": "stdout",
     "output_type": "stream",
     "text": [
      "[('111000101110', 36), ('010110111011', 27), ('000100100001', 13), ('100111100001', 8), ('110001110000', 36), ('010110110011', 31), ('110001001000', 48), ('000010001001', 50), ('110100000110', 57), ('110111101101', 3), ('001010100100', 26), ('001000000111', 9), ('010100110100', 49), ('000011111100', 25), ('100000100001', 24), ('001010011110', 49), ('110001001000', 14), ('001000011000', 33), ('110100000000', 25), ('011011000111', 3), ('010011100111', 62), ('100101000001', 28), ('100101101001', 42), ('011111011101', 30), ('111110011100', 60), ('100001111111', 58), ('110011001010', 11), ('001110011001', 50), ('000011011001', 36), ('101010110010', 61), ('010011100011', 48), ('101001110000', 12), ('111010110011', 40), ('010110000011', 10), ('110110010100', 41), ('100010110101', 53), ('111110101101', 4), ('111000111010', 2), ('110110011101', 50), ('011001100110', 54), ('000001111101', 20), ('011100010110', 39)]\n"
     ]
    }
   ],
   "source": [
    "print(finding_solutions2(42))"
   ]
  },
  {
   "cell_type": "code",
   "execution_count": 14,
   "metadata": {},
   "outputs": [
    {
     "name": "stdout",
     "output_type": "stream",
     "text": [
      "[('110000010000', 36), ('100000000100', 14), ('110100111111', 13), ('011110110101', 61), ('110011100100', 10), ('100110111101', 25), ('001011111011', 40), ('100011101011', 54), ('010101011011', 15), ('101001111110', 25), ('100101010010', 20), ('010011000100', 35), ('010010100011', 14), ('100011000100', 12), ('100010011101', 55), ('101000001110', 3), ('001000111000', 18), ('010100100111', 19), ('101101001111', 44), ('101101111111', 62), ('010011011101', 51), ('000011010001', 11), ('101000100110', 18), ('110000110110', 7), ('011010010011', 36), ('001110110111', 26), ('100111100000', 62), ('011000000111', 17), ('100111000100', 7), ('000111111000', 2), ('101101100100', 58), ('000110010000', 27), ('101100001101', 59), ('011111110000', 37), ('100011100011', 55), ('100111111011', 28), ('111000111010', 3), ('000010101010', 58), ('011101001000', 5), ('010110101011', 24), ('010110011001', 14), ('100110101000', 13), ('100110000011', 32), ('110100000011', 1)]\n"
     ]
    }
   ],
   "source": [
    "print(finding_solutions2(44))"
   ]
  },
  {
   "cell_type": "code",
   "execution_count": null,
   "metadata": {},
   "outputs": [],
   "source": []
  }
 ],
 "metadata": {
  "colab": {
   "provenance": []
  },
  "kernelspec": {
   "display_name": "Python 3 (ipykernel)",
   "language": "python",
   "name": "python3"
  },
  "language_info": {
   "codemirror_mode": {
    "name": "ipython",
    "version": 3
   },
   "file_extension": ".py",
   "mimetype": "text/x-python",
   "name": "python",
   "nbconvert_exporter": "python",
   "pygments_lexer": "ipython3",
   "version": "3.9.7"
  }
 },
 "nbformat": 4,
 "nbformat_minor": 1
}
