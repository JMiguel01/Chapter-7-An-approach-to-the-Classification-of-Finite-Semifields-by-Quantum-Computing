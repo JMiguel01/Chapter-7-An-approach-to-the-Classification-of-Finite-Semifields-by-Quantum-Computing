{
 "cells": [
  {
   "cell_type": "code",
   "execution_count": null,
   "metadata": {
    "colab": {
     "base_uri": "https://localhost:8080/"
    },
    "id": "Cv6N3gzYiiAg",
    "outputId": "83739599-9d19-4066-fd07-d496a19ac579"
   },
   "outputs": [],
   "source": [
    "pip install qiskit"
   ]
  },
  {
   "cell_type": "code",
   "execution_count": null,
   "metadata": {
    "colab": {
     "base_uri": "https://localhost:8080/"
    },
    "id": "l2dl5EkIikXd",
    "outputId": "23f77f9d-986e-4d1c-c255-940ba17431f2"
   },
   "outputs": [],
   "source": [
    "pip install tweedledum"
   ]
  },
  {
   "cell_type": "code",
   "execution_count": null,
   "metadata": {
    "colab": {
     "base_uri": "https://localhost:8080/"
    },
    "id": "qo-wUWRykGad",
    "outputId": "c4519ed0-07df-42c8-d56f-325efd38b367"
   },
   "outputs": [],
   "source": [
    "pip install qiskit-aer"
   ]
  },
  {
   "cell_type": "code",
   "execution_count": 1,
   "metadata": {
    "colab": {
     "base_uri": "https://localhost:8080/",
     "height": 174
    },
    "id": "m7BRcGjyk305",
    "outputId": "236246ca-5cd0-47ec-ca23-f0d2442188a2"
   },
   "outputs": [
    {
     "data": {
      "text/plain": [
       "'[a10&a7 ^ a11&a5 ^ a11&a6 ^ a7&a9]&[a1&a6 ^ a2&a5]&[a1&a10 ^ a1&a11 ^ a1&a12 ^ a1&a6 ^ a1&a7 ^ a1&a8 ^ a10&a3 ^ a10&a4 ^ a10&a5 ^ a10&a7 ^ a10&a8 ^ a11&a2 ^ a11&a5 ^ a11&a6 ^ a12&a2 ^ a12&a5 ^ a12&a6 ^ a2&a5 ^ a2&a7 ^ a2&a8 ^ a2&a9 ^ a3&a5 ^ a3&a6 ^ a3&a9 ^ a4&a5 ^ a4&a6 ^ a4&a9 ^ a6&a9 ^ a7&a9 ^ a8&a9]&[~a11 ^ a5 ^ a6 ^ a8 ^ a9 ^ a10&a5 ^ a10&a7 ^ a11&a5 ^ a11&a6 ^ a11&a8 ^ a12&a5 ^ a12&a7 ^ a6&a9 ^ a7&a9 ^ a8&a9]&[~a1 ^ a2 ^ a3 ^ a4 ^ a5 ^ a1&a6 ^ a1&a7 ^ a1&a8 ^ a2&a5 ^ a3&a5 ^ a4&a5]&[~a10 ^ a11 ^ a3 ^ a4 ^ a6 ^ a8 ^ a10&a3 ^ a10&a4 ^ a10&a7 ^ a10&a8 ^ a11&a2 ^ a11&a4 ^ a11&a6 ^ a11&a8 ^ a12&a2 ^ a12&a3 ^ a12&a6 ^ a12&a7 ^ a2&a7 ^ a2&a8 ^ a3&a6 ^ a3&a8 ^ a4&a6 ^ a4&a7]&[a10 ^ a10&a7 ^ a11&a6]&[~a1 ^ a3 ^ a6 ^ a8 ^ a1&a6 ^ a1&a8 ^ a2&a5 ^ a2&a7 ^ a3&a6 ^ a3&a8 ^ a4&a5 ^ a4&a7]&[a2 ^ a6 ^ a1&a10 ^ a1&a6 ^ a10&a4 ^ a10&a5 ^ a10&a8 ^ a12&a2 ^ a12&a6 ^ a2&a5 ^ a2&a8 ^ a2&a9 ^ a4&a6 ^ a6&a9]&[a11 ^ a12 ^ a9 ^ a10&a5 ^ a10&a7 ^ a10&a8 ^ a11&a6 ^ a11&a8 ^ a12&a5 ^ a12&a6 ^ a12&a7 ^ a6&a9 ^ a8&a9]&[a1 ^ a3 ^ a4 ^ a5 ^ a7 ^ a8 ^ a1&a6 ^ a1&a7 ^ a2&a5 ^ a2&a7 ^ a2&a8 ^ a3&a5 ^ a3&a6 ^ a3&a8 ^ a4&a6 ^ a4&a7]&[~a1 ^ a11 ^ a12 ^ a4 ^ a5 ^ a7 ^ a1&a11 ^ a1&a12 ^ a1&a7 ^ a1&a8 ^ a11&a4 ^ a11&a5 ^ a11&a8 ^ a12&a3 ^ a12&a5 ^ a12&a7 ^ a3&a5 ^ a3&a8 ^ a3&a9 ^ a4&a5 ^ a4&a7 ^ a4&a9 ^ a7&a9 ^ a8&a9]'"
      ]
     },
     "execution_count": 1,
     "metadata": {},
     "output_type": "execute_result"
    }
   ],
   "source": [
    "from sympy import symbols, Matrix, pprint, collect, factor\n",
    "from sympy import *\n",
    "import itertools\n",
    "\n",
    "a = []\n",
    "name = \"a\"\n",
    "for i in range(0,13):\n",
    "    v = symbols(name+str(i))\n",
    "    a.append(v)\n",
    "\n",
    "A1 = Matrix([[1, 0, 0, 0],[0, 1, 0 ,0],[0, 0, 1 , 0],[0,0,0,1] ])\n",
    "A2 = Matrix([[0, 0, 0, 1],[1, 0, 0 ,1],[0, 1, 0 , 0],[0,0,1,0] ])\n",
    "A3 = Matrix([[0, 0, a[1], a[5]],[0, 0, a[2] ,a[6]],[1, 0, a[3] , a[7]],[0,1,a[4],a[8]] ])\n",
    "A4 = Matrix([[0, 1, a[5], a[9]],[0, 1, a[6] ,a[10]],[0, 0, a[7] , a[11]],[1,0,a[8],a[12]] ])\n",
    "aC41=[]\n",
    "A=[]\n",
    "for i in range(0,16):\n",
    "    aC41.append('{0:04b}'.format(i))\n",
    "    M=int(aC41[i][0])*A1+int(aC41[i][1])*A2+int(aC41[i][2])*A3 +int(aC41[i][3])*A4\n",
    "    A.append(M.det())\n",
    "def Equations(First):\n",
    "    BB31= First\n",
    "    Pl1 =[]\n",
    "    for i in range(len(BB31)):\n",
    "        Pl1.append(dict(BB31[i].as_coefficients_dict()))\n",
    "    ##Symplify computations of coefficients module 2\n",
    "    EQ1 =[]\n",
    "    for l in range(len(Pl1)):\n",
    "        for s in Pl1[l]:\n",
    "            if (Pl1[l][s] % 2) == 0:\n",
    "                Pl1[l][s] = 0\n",
    "            else:\n",
    "                Pl1[l][s] = 1\n",
    "        EQ1.append(sum([key * val for key, val in Pl1[l].items()]))\n",
    "    ##Selecting the equations we need\n",
    "    EQ3=[]\n",
    "    for l in range(len(EQ1)):\n",
    "        if (EQ1[l] != 0) and (EQ1[l]!=1):\n",
    "            EQ3.append(EQ1[l])\n",
    "    return(EQ3)\n",
    "def Polynomial1(w):\n",
    "    h_test1=[]\n",
    "    w_test1=[]\n",
    "    w_final_test1=[]\n",
    "    for n in range(len(w)):\n",
    "        if  (w[n] == 1) or (w[n] == 0):\n",
    "            w_test1.append(w[n])\n",
    "        else:\n",
    "            h_test1.append(w[n].make_args(w[n]))\n",
    "    g_test1 =[]\n",
    "    for m in range(len(h_test1)):\n",
    "        g_test1.append(list(h_test1[m]))\n",
    "        for l in range(len(h_test1[m])):\n",
    "            if(h_test1[m][l]==1):\n",
    "                g_test1[m][1]=~(g_test1[m][1])\n",
    "                del g_test1[m][l]\n",
    "    w_final_test1 = '&'.join([str(item) for item in g_test1])\n",
    "    w_final_test1 = w_final_test1.replace(\"*\",\"&\")\n",
    "    w_final_test1 = w_final_test1.replace(\",\",\" ^\")\n",
    "    return(w_final_test1)\n",
    "Polynomial1(Equations(A))"
   ]
  },
  {
   "cell_type": "code",
   "execution_count": 2,
   "metadata": {
    "colab": {
     "base_uri": "https://localhost:8080/",
     "height": 522
    },
    "id": "ZLayqIGMi7yp",
    "outputId": "6b3a0758-8d45-4ef1-f772-9303c8a5aa77"
   },
   "outputs": [
    {
     "data": {
      "text/html": [
       "<pre style=\"word-wrap: normal;white-space: pre;background: #fff0;line-height: 1.1;font-family: &quot;Courier New&quot;,Courier,monospace\">           \n",
       " q_0: ──■──\n",
       "        │  \n",
       " q_1: ──■──\n",
       "        │  \n",
       " q_2: ──o──\n",
       "        │  \n",
       " q_3: ──o──\n",
       "        │  \n",
       " q_4: ──o──\n",
       "        │  \n",
       " q_5: ──■──\n",
       "        │  \n",
       " q_6: ──■──\n",
       "        │  \n",
       " q_7: ──o──\n",
       "        │  \n",
       " q_8: ──o──\n",
       "        │  \n",
       " q_9: ──o──\n",
       "        │  \n",
       "q_10: ──■──\n",
       "        │  \n",
       "q_11: ──■──\n",
       "      ┌─┴─┐\n",
       "q_12: ┤ X ├\n",
       "      └───┘</pre>"
      ],
      "text/plain": [
       "           \n",
       " q_0: ──■──\n",
       "        │  \n",
       " q_1: ──■──\n",
       "        │  \n",
       " q_2: ──o──\n",
       "        │  \n",
       " q_3: ──o──\n",
       "        │  \n",
       " q_4: ──o──\n",
       "        │  \n",
       " q_5: ──■──\n",
       "        │  \n",
       " q_6: ──■──\n",
       "        │  \n",
       " q_7: ──o──\n",
       "        │  \n",
       " q_8: ──o──\n",
       "        │  \n",
       " q_9: ──o──\n",
       "        │  \n",
       "q_10: ──■──\n",
       "        │  \n",
       "q_11: ──■──\n",
       "      ┌─┴─┐\n",
       "q_12: ┤ X ├\n",
       "      └───┘"
      ]
     },
     "execution_count": 2,
     "metadata": {},
     "output_type": "execute_result"
    }
   ],
   "source": [
    "from qiskit.circuit import classical_function,  Int1\n",
    "@classical_function\n",
    "def grover_oracle(a1: Int1, a2: Int1, a3: Int1, a4: Int1, a5: Int1, a6: Int1, a7: Int1, a8: Int1, a9:Int1, a10: Int1, a11: Int1, a12:Int1) -> Int1:\n",
    "    return ((a10&a7 ^ a11&a5 ^ a11&a6 ^ a7&a9)&(a1&a6 ^ a2&a5)&(a1&a10 ^ a1&a11 ^ a1&a12 ^ a1&a6 ^ a1&a7 ^ a1&a8 ^ a10&a3 ^ a10&a4 ^ a10&a5 ^ a10&a7 ^ a10&a8 ^ a11&a2 ^ a11&a5 ^ a11&a6 ^ a12&a2 ^ a12&a5 ^ a12&a6 ^ a2&a5 ^ a2&a7 ^ a2&a8 ^ a2&a9 ^ a3&a5 ^ a3&a6 ^ a3&a9 ^ a4&a5 ^ a4&a6 ^ a4&a9 ^ a6&a9 ^ a7&a9 ^ a8&a9)&(not(a11) ^ a5 ^ a6 ^ a8 ^ a9 ^ a10&a5 ^ a10&a7 ^ a11&a5 ^ a11&a6 ^ a11&a8 ^ a12&a5 ^ a12&a7 ^ a6&a9 ^ a7&a9 ^ a8&a9)&(not(a1) ^ a2 ^ a3 ^ a4 ^ a5 ^ a1&a6 ^ a1&a7 ^ a1&a8 ^ a2&a5 ^ a3&a5 ^ a4&a5)&(not(a10) ^ a11 ^ a3 ^ a4 ^ a6 ^ a8 ^ a10&a3 ^ a10&a4 ^ a10&a7 ^ a10&a8 ^ a11&a2 ^ a11&a4 ^ a11&a6 ^ a11&a8 ^ a12&a2 ^ a12&a3 ^ a12&a6 ^ a12&a7 ^ a2&a7 ^ a2&a8 ^ a3&a6 ^ a3&a8 ^ a4&a6 ^ a4&a7)&(a10 ^ a10&a7 ^ a11&a6)&(not(a1) ^ a3 ^ a6 ^ a8 ^ a1&a6 ^ a1&a8 ^ a2&a5 ^ a2&a7 ^ a3&a6 ^ a3&a8 ^ a4&a5 ^ a4&a7)&(a2 ^ a6 ^ a1&a10 ^ a1&a6 ^ a10&a4 ^ a10&a5 ^ a10&a8 ^ a12&a2 ^ a12&a6 ^ a2&a5 ^ a2&a8 ^ a2&a9 ^ a4&a6 ^ a6&a9)&(a11 ^ a12 ^ a9 ^ a10&a5 ^ a10&a7 ^ a10&a8 ^ a11&a6 ^ a11&a8 ^ a12&a5 ^ a12&a6 ^ a12&a7 ^ a6&a9 ^ a8&a9)&(a1 ^ a3 ^ a4 ^ a5 ^ a7 ^ a8 ^ a1&a6 ^ a1&a7 ^ a2&a5 ^ a2&a7 ^ a2&a8 ^ a3&a5 ^ a3&a6 ^ a3&a8 ^ a4&a6 ^ a4&a7)&(not(a1)^ a11 ^ a12 ^ a4 ^ a5 ^ a7 ^ a1&a11 ^ a1&a12 ^ a1&a7 ^ a1&a8 ^ a11&a4 ^ a11&a5 ^ a11&a8 ^ a12&a3 ^ a12&a5 ^ a12&a7 ^ a3&a5 ^ a3&a8 ^ a3&a9 ^ a4&a5 ^ a4&a7 ^ a4&a9 ^ a7&a9 ^ a8&a9))\n",
    "quantum_circuitc1 = grover_oracle.synth()\n",
    "quantum_circuitc1.draw()"
   ]
  },
  {
   "cell_type": "code",
   "execution_count": 3,
   "metadata": {
    "id": "u2Lr3SPMdbQH"
   },
   "outputs": [],
   "source": [
    "from qiskit import Aer\n",
    "from qiskit import QuantumCircuit, QuantumRegister, ClassicalRegister, transpile, assemble\n",
    "import random\n",
    "from qiskit.circuit.library.standard_gates.x import XGate, MCXGate"
   ]
  },
  {
   "cell_type": "code",
   "execution_count": 4,
   "metadata": {
    "id": "VUuvIxXsc7HB"
   },
   "outputs": [],
   "source": [
    "def diffuser(nqubits):\n",
    "    qc = QuantumCircuit(nqubits)\n",
    "    # Apply transformation |s> -> |00..0> (H-gates)\n",
    "    for qubit in range(nqubits):\n",
    "        qc.h(qubit)\n",
    "    # Apply transformation |00..0> -> |11..1> (X-gates)\n",
    "    for qubit in range(nqubits):\n",
    "        qc.x(qubit)\n",
    "    # Do multi-controlled-Z gate\n",
    "    qc.h(nqubits-1)\n",
    "    qc.mct(list(range(nqubits-1)), nqubits-1)  # multi-controlled-toffoli\n",
    "    qc.h(nqubits-1)\n",
    "    # Apply transformation |11..1> -> |00..0>\n",
    "    for qubit in range(nqubits):\n",
    "        qc.x(qubit)\n",
    "    # Apply transformation |00..0> -> |s>\n",
    "    for qubit in range(nqubits):\n",
    "        qc.h(qubit)\n",
    "    # We will return the diffuser as a gate\n",
    "    U_s = qc.to_gate()\n",
    "    U_s.name = \"U_s\"\n",
    "    return U_s"
   ]
  },
  {
   "cell_type": "code",
   "execution_count": 5,
   "metadata": {
    "id": "zE3DZjhgQwTL"
   },
   "outputs": [],
   "source": [
    "def quantum_procedure(creg,qreg):\n",
    "    qc14 = QuantumCircuit(qreg,creg)\n",
    "    # Initialize qubits in state |s>\n",
    "    qc14.x(12)\n",
    "    qc14.h(range(13))\n",
    "    qc14.barrier()\n",
    "    test_list = []\n",
    "    for j in range(63):\n",
    "        test_list.append(j)\n",
    "  # using random.choice() to\n",
    "  # get a random number\n",
    "    random_num = random.choice(test_list)\n",
    "    for j in range(random_num):\n",
    "        qc14.compose(quantum_circuitc1, inplace = True)\n",
    "        qc14.append(diffuser(12), range(12))\n",
    "    qc14.barrier()\n",
    "    qc14.h(12)\n",
    "    qc14.measure(range(12), range(12))\n",
    "    #print(qc14.draw(fold=-1))\n",
    "    aer_sim = Aer.get_backend('aer_simulator')\n",
    "    transpiled_qc14 = transpile(qc14, aer_sim)\n",
    "    qobj4 = assemble(transpiled_qc14)\n",
    "    results4 = aer_sim.run(qobj4,shots = 1).result()\n",
    "    counts4 = results4.get_counts()\n",
    "    dictionary_to_value(counts4)\n",
    "    return(dictionary_to_value(counts4),random_num)"
   ]
  },
  {
   "cell_type": "code",
   "execution_count": 6,
   "metadata": {
    "id": "bZtQWRqMT5Fh"
   },
   "outputs": [],
   "source": [
    "def dictionary_to_value(x):\n",
    "    for i in x.keys():\n",
    "        return(i)"
   ]
  },
  {
   "cell_type": "code",
   "execution_count": 7,
   "metadata": {
    "colab": {
     "base_uri": "https://localhost:8080/"
    },
    "id": "dRho3v0VTOFg",
    "outputId": "6e265923-4deb-49bd-8945-e8bc537f43c2"
   },
   "outputs": [
    {
     "data": {
      "text/plain": [
       "('110001100011', 44)"
      ]
     },
     "execution_count": 7,
     "metadata": {},
     "output_type": "execute_result"
    }
   ],
   "source": [
    "qreg11 = QuantumRegister(13)\n",
    "creg11 = ClassicalRegister(12)\n",
    "quantum_procedure(creg11,qreg11)"
   ]
  },
  {
   "cell_type": "code",
   "execution_count": 8,
   "metadata": {
    "id": "BNtH_zM5VHhy"
   },
   "outputs": [],
   "source": [
    "def oracle_one_solution(x):\n",
    "    qreg = QuantumRegister(13)\n",
    "    creg = ClassicalRegister(12)\n",
    "    qc = QuantumCircuit(qreg11,creg11)\n",
    "    control = MCXGate(12, None, x)\n",
    "    qc.append(control, [0, 1, 2, 3, 4 ,5 ,6, 7, 8, 9, 10, 11, 12])\n",
    "    #print(qc.draw())\n",
    "    return(qc)"
   ]
  },
  {
   "cell_type": "code",
   "execution_count": 9,
   "metadata": {
    "id": "1m5KWRKpUdSo"
   },
   "outputs": [],
   "source": [
    "def quantum_procedure1(creg,qreg):\n",
    "    qc14 = QuantumCircuit(qreg,creg)\n",
    "    # Initialize qubits in state |s>\n",
    "    qc14.x(12)\n",
    "    qc14.h(range(13))\n",
    "    qc14.barrier()\n",
    "    test_list = []\n",
    "    for j in range(63):\n",
    "        test_list.append(j)\n",
    "  # using random.choice() to\n",
    "  # get a random number\n",
    "    random_num = random.choice(test_list)\n",
    "    for j in range(random_num):\n",
    "        qc14.compose(quantum_circuitc1, inplace = True)\n",
    "        qc14.compose(oracle_one_solution('110001100011'), inplace = True)\n",
    "        qc14.append(diffuser(12), range(12))\n",
    "    qc14.barrier()\n",
    "    qc14.h(12)\n",
    "    qc14.measure(range(12), range(12))\n",
    "    #print(qc14.draw(fold=-1))\n",
    "    aer_sim = Aer.get_backend('aer_simulator')\n",
    "    transpiled_qc14 = transpile(qc14, aer_sim)\n",
    "    qobj4 = assemble(transpiled_qc14)\n",
    "    results4 = aer_sim.run(qobj4,shots = 1).result()\n",
    "    counts4 = results4.get_counts()\n",
    "    dictionary_to_value(counts4)\n",
    "    return(dictionary_to_value(counts4),random_num)"
   ]
  },
  {
   "cell_type": "code",
   "execution_count": 10,
   "metadata": {
    "id": "3ZsKiUgr5D5Z"
   },
   "outputs": [],
   "source": [
    "def is_solution1(x):\n",
    "    a = []\n",
    "    for item in x:\n",
    "        a.append(item)\n",
    "    A1 = Matrix([[1, 0, 0, 0],[0, 1, 0 ,0],[0, 0, 1 , 0],[0,0,0,1] ])\n",
    "    A2 = Matrix([[0, 0, 0, 1],[1, 0, 0 ,1],[0, 1, 0 , 0],[0,0,1,0] ])\n",
    "    A3 = Matrix([[0, 0, a[11], a[7]],[0, 0, a[10] ,a[6]],[1, 0, a[9] , a[5]],[0,1,a[8],a[4]] ])\n",
    "    A4 = Matrix([[0, 1, a[7], a[3]],[0, 1, a[6] ,a[2]],[0, 0, a[5] , a[1]],[1,0,a[4],a[0]] ])\n",
    "    aC41=[]\n",
    "    A=[]\n",
    "    for i in range(0,16):\n",
    "        aC41.append('{0:04b}'.format(i))\n",
    "        M=int(aC41[i][0])*A1+int(aC41[i][1])*A2+int(aC41[i][2])*A3 +int(aC41[i][3])*A4\n",
    "        A.append(M.det())\n",
    "    if (all(v == 0 for v in A) == True):\n",
    "        return(x)\n",
    "    else:\n",
    "        return(0)"
   ]
  },
  {
   "cell_type": "code",
   "execution_count": 13,
   "metadata": {
    "colab": {
     "base_uri": "https://localhost:8080/"
    },
    "id": "zfwXX1MPqgkH",
    "outputId": "12290f00-d9ff-41d7-9a8f-d05061e482d2"
   },
   "outputs": [
    {
     "name": "stdout",
     "output_type": "stream",
     "text": [
      "[('101011000100', 58), ('001000000101', 20), ('111011101010', 35), ('010100011000', 51), ('000110001100', 32), ('010101011001', 30), ('101001000101', 31), ('111101000111', 54), ('001010110010', 49), ('100001001001', 32), ('001000001000', 48), ('000011011110', 49), ('110011000000', 56), ('110010010101', 50), ('111111101101', 49), ('110001001000', 47), ('110111010100', 28), ('000001001100', 40), ('000010100000', 5), ('110001000010', 37), ('101111111000', 24), ('000101100110', 61), ('100011101101', 8), ('100010111000', 32), ('100100101011', 18), ('010000001111', 12), ('011110000101', 16), ('010001000011', 21), ('011100100011', 49), ('101010010000', 35), ('010100111101', 22), ('001110011010', 13), ('000011010010', 22), ('110100010101', 38), ('001001100110', 52), ('101010101011', 26), ('100011110100', 61), ('010101111101', 47), ('011010111110', 52), ('011001000111', 62), ('110000010001', 49), ('111010000110', 8), ('001111001110', 27), ('111000011000', 47), ('000011011101', 7), ('110100000001', 24), ('011110011010', 8), ('111010000100', 62), ('111010010001', 46), ('101001000110', 12), ('010110001001', 23), ('101010100100', 22), ('010111101011', 57), ('001000010101', 62), ('010001000110', 9), ('110100000111', 10), ('011110111111', 19), ('110000100110', 59), ('000001000011', 22), ('001010011111', 5), ('110011001101', 43), ('000001100010', 35), ('100000010110', 56), ('111011000100', 30), ('000110101000', 55), ('110001001000', 2), ('110010011110', 17), ('010000001010', 6), ('011101010110', 48), ('001110000000', 12), ('111001011111', 23), ('001000111011', 17), ('011111011111', 29), ('011000101001', 25), ('000010101101', 33), ('001100010011', 26), ('011001010000', 27), ('001101111000', 17), ('111010111111', 41), ('100000100101', 59), ('101101011101', 59), ('101111010111', 5), ('011100100100', 59), ('111001000001', 0), ('001011000010', 2), ('010001010111', 62), ('100001110100', 17)]\n"
     ]
    }
   ],
   "source": [
    "solutions1 = []\n",
    "for i in range(87):\n",
    "    solutions1.append(quantum_procedure1(creg11,qreg11))\n",
    "print(solutions1)"
   ]
  },
  {
   "cell_type": "code",
   "execution_count": 14,
   "metadata": {
    "colab": {
     "base_uri": "https://localhost:8080/"
    },
    "id": "1vK5lRCY5Nxo",
    "outputId": "54dcafb7-b0b1-4fda-b991-59dd25ca9fe8"
   },
   "outputs": [
    {
     "name": "stdout",
     "output_type": "stream",
     "text": [
      "[0, 0, 0, 0, 0, 0, 0, 0, 0, 0, 0, 0, 0, 0, 0, 0, 0, 0, 0, 0, 0, 0, 0, 0, 0, 0, 0, 0, 0, 0, 0, 0, 0, 0, 0, 0, 0, 0, 0, 0, 0, 0, 0, 0, 0, 0, 0, 0, 0, 0, 0, 0, 0, 0, 0, 0, 0]\n"
     ]
    }
   ],
   "source": [
    "are_solutions1 = []\n",
    "for i in range(57):\n",
    "    are_solutions1.append(is_solution1(solutions1[i][0]))\n",
    "print(are_solutions1)"
   ]
  },
  {
   "cell_type": "code",
   "execution_count": null,
   "metadata": {},
   "outputs": [],
   "source": []
  }
 ],
 "metadata": {
  "colab": {
   "provenance": []
  },
  "kernelspec": {
   "display_name": "Python 3 (ipykernel)",
   "language": "python",
   "name": "python3"
  },
  "language_info": {
   "codemirror_mode": {
    "name": "ipython",
    "version": 3
   },
   "file_extension": ".py",
   "mimetype": "text/x-python",
   "name": "python",
   "nbconvert_exporter": "python",
   "pygments_lexer": "ipython3",
   "version": "3.9.7"
  }
 },
 "nbformat": 4,
 "nbformat_minor": 1
}
