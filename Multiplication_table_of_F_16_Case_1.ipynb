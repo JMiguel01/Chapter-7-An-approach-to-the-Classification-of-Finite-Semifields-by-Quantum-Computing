{
 "cells": [
  {
   "cell_type": "code",
   "execution_count": null,
   "metadata": {
    "colab": {
     "base_uri": "https://localhost:8080/"
    },
    "id": "Cv6N3gzYiiAg",
    "outputId": "83739599-9d19-4066-fd07-d496a19ac579"
   },
   "outputs": [],
   "source": [
    "pip install qiskit"
   ]
  },
  {
   "cell_type": "code",
   "execution_count": null,
   "metadata": {
    "colab": {
     "base_uri": "https://localhost:8080/"
    },
    "id": "l2dl5EkIikXd",
    "outputId": "23f77f9d-986e-4d1c-c255-940ba17431f2"
   },
   "outputs": [],
   "source": [
    "pip install tweedledum"
   ]
  },
  {
   "cell_type": "code",
   "execution_count": null,
   "metadata": {
    "colab": {
     "base_uri": "https://localhost:8080/"
    },
    "id": "qo-wUWRykGad",
    "outputId": "c4519ed0-07df-42c8-d56f-325efd38b367"
   },
   "outputs": [],
   "source": [
    "pip install qiskit-aer"
   ]
  },
  {
   "cell_type": "code",
   "execution_count": 1,
   "metadata": {
    "colab": {
     "base_uri": "https://localhost:8080/",
     "height": 174
    },
    "id": "m7BRcGjyk305",
    "outputId": "236246ca-5cd0-47ec-ca23-f0d2442188a2"
   },
   "outputs": [
    {
     "data": {
      "text/plain": [
       "'[a10&a7 ^ a11&a5 ^ a11&a6 ^ a7&a9]&[a1&a6 ^ a2&a5]&[a1&a10 ^ a1&a11 ^ a1&a12 ^ a1&a6 ^ a1&a7 ^ a1&a8 ^ a10&a3 ^ a10&a4 ^ a10&a5 ^ a10&a7 ^ a10&a8 ^ a11&a2 ^ a11&a5 ^ a11&a6 ^ a12&a2 ^ a12&a5 ^ a12&a6 ^ a2&a5 ^ a2&a7 ^ a2&a8 ^ a2&a9 ^ a3&a5 ^ a3&a6 ^ a3&a9 ^ a4&a5 ^ a4&a6 ^ a4&a9 ^ a6&a9 ^ a7&a9 ^ a8&a9]&[~a11 ^ a5 ^ a6 ^ a8 ^ a9 ^ a10&a5 ^ a10&a7 ^ a11&a5 ^ a11&a6 ^ a11&a8 ^ a12&a5 ^ a12&a7 ^ a6&a9 ^ a7&a9 ^ a8&a9]&[~a1 ^ a2 ^ a3 ^ a4 ^ a5 ^ a1&a6 ^ a1&a7 ^ a1&a8 ^ a2&a5 ^ a3&a5 ^ a4&a5]&[~a10 ^ a11 ^ a3 ^ a4 ^ a6 ^ a8 ^ a10&a3 ^ a10&a4 ^ a10&a7 ^ a10&a8 ^ a11&a2 ^ a11&a4 ^ a11&a6 ^ a11&a8 ^ a12&a2 ^ a12&a3 ^ a12&a6 ^ a12&a7 ^ a2&a7 ^ a2&a8 ^ a3&a6 ^ a3&a8 ^ a4&a6 ^ a4&a7]&[a10 ^ a10&a7 ^ a11&a6]&[~a1 ^ a3 ^ a6 ^ a8 ^ a1&a6 ^ a1&a8 ^ a2&a5 ^ a2&a7 ^ a3&a6 ^ a3&a8 ^ a4&a5 ^ a4&a7]&[a2 ^ a6 ^ a1&a10 ^ a1&a6 ^ a10&a4 ^ a10&a5 ^ a10&a8 ^ a12&a2 ^ a12&a6 ^ a2&a5 ^ a2&a8 ^ a2&a9 ^ a4&a6 ^ a6&a9]&[a11 ^ a12 ^ a9 ^ a10&a5 ^ a10&a7 ^ a10&a8 ^ a11&a6 ^ a11&a8 ^ a12&a5 ^ a12&a6 ^ a12&a7 ^ a6&a9 ^ a8&a9]&[a1 ^ a3 ^ a4 ^ a5 ^ a7 ^ a8 ^ a1&a6 ^ a1&a7 ^ a2&a5 ^ a2&a7 ^ a2&a8 ^ a3&a5 ^ a3&a6 ^ a3&a8 ^ a4&a6 ^ a4&a7]&[~a1 ^ a11 ^ a12 ^ a4 ^ a5 ^ a7 ^ a1&a11 ^ a1&a12 ^ a1&a7 ^ a1&a8 ^ a11&a4 ^ a11&a5 ^ a11&a8 ^ a12&a3 ^ a12&a5 ^ a12&a7 ^ a3&a5 ^ a3&a8 ^ a3&a9 ^ a4&a5 ^ a4&a7 ^ a4&a9 ^ a7&a9 ^ a8&a9]'"
      ]
     },
     "execution_count": 1,
     "metadata": {},
     "output_type": "execute_result"
    }
   ],
   "source": [
    "from sympy import symbols, Matrix, pprint, collect, factor\n",
    "from sympy import *\n",
    "import itertools\n",
    "\n",
    "a = []\n",
    "name = \"a\"\n",
    "for i in range(0,13):\n",
    "    v = symbols(name+str(i))\n",
    "    a.append(v)\n",
    "\n",
    "A1 = Matrix([[1, 0, 0, 0],[0, 1, 0 ,0],[0, 0, 1 , 0],[0,0,0,1] ])\n",
    "A2 = Matrix([[0, 0, 0, 1],[1, 0, 0 ,1],[0, 1, 0 , 0],[0,0,1,0] ])\n",
    "A3 = Matrix([[0, 0, a[1], a[5]],[0, 0, a[2] ,a[6]],[1, 0, a[3] , a[7]],[0,1,a[4],a[8]] ])\n",
    "A4 = Matrix([[0, 1, a[5], a[9]],[0, 1, a[6] ,a[10]],[0, 0, a[7] , a[11]],[1,0,a[8],a[12]] ])\n",
    "aC41=[]\n",
    "A=[]\n",
    "for i in range(0,16):\n",
    "    aC41.append('{0:04b}'.format(i))\n",
    "    M=int(aC41[i][0])*A1+int(aC41[i][1])*A2+int(aC41[i][2])*A3 +int(aC41[i][3])*A4\n",
    "    A.append(M.det())\n",
    "def Equations(First):\n",
    "    BB31= First\n",
    "    Pl1 =[]\n",
    "    for i in range(len(BB31)):\n",
    "        Pl1.append(dict(BB31[i].as_coefficients_dict()))\n",
    "    ##Symplify computations of coefficients module 2\n",
    "    EQ1 =[]\n",
    "    for l in range(len(Pl1)):\n",
    "        for s in Pl1[l]:\n",
    "            if (Pl1[l][s] % 2) == 0:\n",
    "                Pl1[l][s] = 0\n",
    "            else:\n",
    "                Pl1[l][s] = 1\n",
    "        EQ1.append(sum([key * val for key, val in Pl1[l].items()]))\n",
    "    ##Selecting the equations we need\n",
    "    EQ3=[]\n",
    "    for l in range(len(EQ1)):\n",
    "        if (EQ1[l] != 0) and (EQ1[l]!=1):\n",
    "            EQ3.append(EQ1[l])\n",
    "    return(EQ3)\n",
    "def Polynomial1(w):\n",
    "    h_test1=[]\n",
    "    w_test1=[]\n",
    "    w_final_test1=[]\n",
    "    for n in range(len(w)):\n",
    "        if  (w[n] == 1) or (w[n] == 0):\n",
    "            w_test1.append(w[n])\n",
    "        else:\n",
    "            h_test1.append(w[n].make_args(w[n]))\n",
    "    g_test1 =[]\n",
    "    for m in range(len(h_test1)):\n",
    "        g_test1.append(list(h_test1[m]))\n",
    "        for l in range(len(h_test1[m])):\n",
    "            if(h_test1[m][l]==1):\n",
    "                g_test1[m][1]=~(g_test1[m][1])\n",
    "                del g_test1[m][l]\n",
    "    w_final_test1 = '&'.join([str(item) for item in g_test1])\n",
    "    w_final_test1 = w_final_test1.replace(\"*\",\"&\")\n",
    "    w_final_test1 = w_final_test1.replace(\",\",\" ^\")\n",
    "    return(w_final_test1)\n",
    "Polynomial1(Equations(A))"
   ]
  },
  {
   "cell_type": "code",
   "execution_count": 2,
   "metadata": {
    "colab": {
     "base_uri": "https://localhost:8080/",
     "height": 522
    },
    "id": "ZLayqIGMi7yp",
    "outputId": "6b3a0758-8d45-4ef1-f772-9303c8a5aa77"
   },
   "outputs": [
    {
     "data": {
      "text/html": [
       "<pre style=\"word-wrap: normal;white-space: pre;background: #fff0;line-height: 1.1;font-family: &quot;Courier New&quot;,Courier,monospace\">           \n",
       " q_0: ──■──\n",
       "        │  \n",
       " q_1: ──■──\n",
       "        │  \n",
       " q_2: ──o──\n",
       "        │  \n",
       " q_3: ──o──\n",
       "        │  \n",
       " q_4: ──o──\n",
       "        │  \n",
       " q_5: ──■──\n",
       "        │  \n",
       " q_6: ──■──\n",
       "        │  \n",
       " q_7: ──o──\n",
       "        │  \n",
       " q_8: ──o──\n",
       "        │  \n",
       " q_9: ──o──\n",
       "        │  \n",
       "q_10: ──■──\n",
       "        │  \n",
       "q_11: ──■──\n",
       "      ┌─┴─┐\n",
       "q_12: ┤ X ├\n",
       "      └───┘</pre>"
      ],
      "text/plain": [
       "           \n",
       " q_0: ──■──\n",
       "        │  \n",
       " q_1: ──■──\n",
       "        │  \n",
       " q_2: ──o──\n",
       "        │  \n",
       " q_3: ──o──\n",
       "        │  \n",
       " q_4: ──o──\n",
       "        │  \n",
       " q_5: ──■──\n",
       "        │  \n",
       " q_6: ──■──\n",
       "        │  \n",
       " q_7: ──o──\n",
       "        │  \n",
       " q_8: ──o──\n",
       "        │  \n",
       " q_9: ──o──\n",
       "        │  \n",
       "q_10: ──■──\n",
       "        │  \n",
       "q_11: ──■──\n",
       "      ┌─┴─┐\n",
       "q_12: ┤ X ├\n",
       "      └───┘"
      ]
     },
     "execution_count": 2,
     "metadata": {},
     "output_type": "execute_result"
    }
   ],
   "source": [
    "from qiskit.circuit import classical_function,  Int1\n",
    "@classical_function\n",
    "def grover_oracle(a1: Int1, a2: Int1, a3: Int1, a4: Int1, a5: Int1, a6: Int1, a7: Int1, a8: Int1, a9:Int1, a10: Int1, a11: Int1, a12:Int1) -> Int1:\n",
    "    return ((a10&a7 ^ a11&a5 ^ a11&a6 ^ a7&a9)&(a1&a6 ^ a2&a5)&(a1&a10 ^ a1&a11 ^ a1&a12 ^ a1&a6 ^ a1&a7 ^ a1&a8 ^ a10&a3 ^ a10&a4 ^ a10&a5 ^ a10&a7 ^ a10&a8 ^ a11&a2 ^ a11&a5 ^ a11&a6 ^ a12&a2 ^ a12&a5 ^ a12&a6 ^ a2&a5 ^ a2&a7 ^ a2&a8 ^ a2&a9 ^ a3&a5 ^ a3&a6 ^ a3&a9 ^ a4&a5 ^ a4&a6 ^ a4&a9 ^ a6&a9 ^ a7&a9 ^ a8&a9)&(not(a11) ^ a5 ^ a6 ^ a8 ^ a9 ^ a10&a5 ^ a10&a7 ^ a11&a5 ^ a11&a6 ^ a11&a8 ^ a12&a5 ^ a12&a7 ^ a6&a9 ^ a7&a9 ^ a8&a9)&(not(a1) ^ a2 ^ a3 ^ a4 ^ a5 ^ a1&a6 ^ a1&a7 ^ a1&a8 ^ a2&a5 ^ a3&a5 ^ a4&a5)&(not(a10) ^ a11 ^ a3 ^ a4 ^ a6 ^ a8 ^ a10&a3 ^ a10&a4 ^ a10&a7 ^ a10&a8 ^ a11&a2 ^ a11&a4 ^ a11&a6 ^ a11&a8 ^ a12&a2 ^ a12&a3 ^ a12&a6 ^ a12&a7 ^ a2&a7 ^ a2&a8 ^ a3&a6 ^ a3&a8 ^ a4&a6 ^ a4&a7)&(a10 ^ a10&a7 ^ a11&a6)&(not(a1) ^ a3 ^ a6 ^ a8 ^ a1&a6 ^ a1&a8 ^ a2&a5 ^ a2&a7 ^ a3&a6 ^ a3&a8 ^ a4&a5 ^ a4&a7)&(a2 ^ a6 ^ a1&a10 ^ a1&a6 ^ a10&a4 ^ a10&a5 ^ a10&a8 ^ a12&a2 ^ a12&a6 ^ a2&a5 ^ a2&a8 ^ a2&a9 ^ a4&a6 ^ a6&a9)&(a11 ^ a12 ^ a9 ^ a10&a5 ^ a10&a7 ^ a10&a8 ^ a11&a6 ^ a11&a8 ^ a12&a5 ^ a12&a6 ^ a12&a7 ^ a6&a9 ^ a8&a9)&(a1 ^ a3 ^ a4 ^ a5 ^ a7 ^ a8 ^ a1&a6 ^ a1&a7 ^ a2&a5 ^ a2&a7 ^ a2&a8 ^ a3&a5 ^ a3&a6 ^ a3&a8 ^ a4&a6 ^ a4&a7)&(not(a1)^ a11 ^ a12 ^ a4 ^ a5 ^ a7 ^ a1&a11 ^ a1&a12 ^ a1&a7 ^ a1&a8 ^ a11&a4 ^ a11&a5 ^ a11&a8 ^ a12&a3 ^ a12&a5 ^ a12&a7 ^ a3&a5 ^ a3&a8 ^ a3&a9 ^ a4&a5 ^ a4&a7 ^ a4&a9 ^ a7&a9 ^ a8&a9))\n",
    "quantum_circuitc1 = grover_oracle.synth()\n",
    "quantum_circuitc1.draw()"
   ]
  },
  {
   "cell_type": "code",
   "execution_count": 3,
   "metadata": {
    "id": "u2Lr3SPMdbQH"
   },
   "outputs": [],
   "source": [
    "from qiskit import Aer\n",
    "from qiskit import QuantumCircuit, QuantumRegister, ClassicalRegister, transpile, assemble\n",
    "import random\n",
    "from qiskit.circuit.library.standard_gates.x import XGate, MCXGate"
   ]
  },
  {
   "cell_type": "code",
   "execution_count": 4,
   "metadata": {
    "id": "VUuvIxXsc7HB"
   },
   "outputs": [],
   "source": [
    "def diffuser(nqubits):\n",
    "    qc = QuantumCircuit(nqubits)\n",
    "    # Apply transformation |s> -> |00..0> (H-gates)\n",
    "    for qubit in range(nqubits):\n",
    "        qc.h(qubit)\n",
    "    # Apply transformation |00..0> -> |11..1> (X-gates)\n",
    "    for qubit in range(nqubits):\n",
    "        qc.x(qubit)\n",
    "    # Do multi-controlled-Z gate\n",
    "    qc.h(nqubits-1)\n",
    "    qc.mct(list(range(nqubits-1)), nqubits-1)  # multi-controlled-toffoli\n",
    "    qc.h(nqubits-1)\n",
    "    # Apply transformation |11..1> -> |00..0>\n",
    "    for qubit in range(nqubits):\n",
    "        qc.x(qubit)\n",
    "    # Apply transformation |00..0> -> |s>\n",
    "    for qubit in range(nqubits):\n",
    "        qc.h(qubit)\n",
    "    # We will return the diffuser as a gate\n",
    "    U_s = qc.to_gate()\n",
    "    U_s.name = \"U_s\"\n",
    "    return U_s"
   ]
  },
  {
   "cell_type": "code",
   "execution_count": 12,
   "metadata": {
    "id": "zE3DZjhgQwTL"
   },
   "outputs": [],
   "source": [
    "def quantum_procedure(creg,qreg):\n",
    "    qc14 = QuantumCircuit(qreg,creg)\n",
    "    # Initialize qubits in state |s>\n",
    "    qc14.x(12)\n",
    "    qc14.h(range(13))\n",
    "    qc14.barrier()\n",
    "    test_list = []\n",
    "    for j in range(63):\n",
    "        test_list.append(j)\n",
    "  # using random.choice() to\n",
    "  # get a random number\n",
    "    random_num = random.choice(test_list)\n",
    "    for j in range(random_num):\n",
    "        qc14.compose(quantum_circuitc1, inplace = True)\n",
    "        qc14.append(diffuser(12), range(12))\n",
    "    qc14.barrier()\n",
    "    qc14.h(12)\n",
    "    qc14.measure(range(12), range(12))\n",
    "    #print(qc14.draw(fold=-1))\n",
    "    aer_sim = Aer.get_backend('aer_simulator')\n",
    "    transpiled_qc14 = transpile(qc14, aer_sim)\n",
    "    qobj4 = assemble(transpiled_qc14)\n",
    "    results4 = aer_sim.run(qobj4,shots = 1).result()\n",
    "    counts4 = results4.get_counts()\n",
    "    dictionary_to_value(counts4)\n",
    "    return(dictionary_to_value(counts4),random_num)"
   ]
  },
  {
   "cell_type": "code",
   "execution_count": 6,
   "metadata": {
    "id": "bZtQWRqMT5Fh"
   },
   "outputs": [],
   "source": [
    "def dictionary_to_value(x):\n",
    "    for i in x.keys():\n",
    "        return(i)"
   ]
  },
  {
   "cell_type": "code",
   "execution_count": 7,
   "metadata": {
    "id": "3ZsKiUgr5D5Z"
   },
   "outputs": [],
   "source": [
    "def is_solution1(x):\n",
    "    a = []\n",
    "    for item in x:\n",
    "        a.append(item)\n",
    "    A1 = Matrix([[1, 0, 0, 0],[0, 1, 0 ,0],[0, 0, 1 , 0],[0,0,0,1] ])\n",
    "    A2 = Matrix([[0, 0, 0, 1],[1, 0, 0 ,1],[0, 1, 0 , 0],[0,0,1,0] ])\n",
    "    A3 = Matrix([[0, 0, a[11], a[7]],[0, 0, a[10] ,a[6]],[1, 0, a[9] , a[5]],[0,1,a[8],a[4]] ])\n",
    "    A4 = Matrix([[0, 1, a[7], a[3]],[0, 1, a[6] ,a[2]],[0, 0, a[5] , a[1]],[1,0,a[4],a[0]] ])\n",
    "    aC41=[]\n",
    "    A=[]\n",
    "    for i in range(0,16):\n",
    "        aC41.append('{0:04b}'.format(i))\n",
    "        M=int(aC41[i][0])*A1+int(aC41[i][1])*A2+int(aC41[i][2])*A3 +int(aC41[i][3])*A4\n",
    "        A.append(M.det())\n",
    "    A.pop(0)\n",
    "    if (all(v != 0 for v in A) == True):\n",
    "        return(x)\n",
    "    else:\n",
    "        return(0)"
   ]
  },
  {
   "cell_type": "code",
   "execution_count": 8,
   "metadata": {
    "colab": {
     "base_uri": "https://localhost:8080/"
    },
    "id": "dRho3v0VTOFg",
    "outputId": "6e265923-4deb-49bd-8945-e8bc537f43c2"
   },
   "outputs": [],
   "source": [
    "def finding_solutions(R):\n",
    "    find_solution = []\n",
    "    qreg11 = QuantumRegister(13)\n",
    "    creg11 = ClassicalRegister(12)\n",
    "    for j in range(R):\n",
    "        a = quantum_procedure(creg11,qreg11)\n",
    "        find_solution.append(a)\n",
    "        if is_solution1(a[0]) !=0:\n",
    "            break\n",
    "    return(find_solution)"
   ]
  },
  {
   "cell_type": "code",
   "execution_count": 9,
   "metadata": {},
   "outputs": [
    {
     "data": {
      "text/plain": [
       "[('110001100011', 50)]"
      ]
     },
     "execution_count": 9,
     "metadata": {},
     "output_type": "execute_result"
    }
   ],
   "source": [
    " finding_solutions(68)"
   ]
  },
  {
   "cell_type": "code",
   "execution_count": 15,
   "metadata": {
    "id": "1m5KWRKpUdSo"
   },
   "outputs": [],
   "source": [
    "def quantum_procedure1(creg,qreg):\n",
    "    qc14 = QuantumCircuit(qreg,creg)\n",
    "    # Initialize qubits in state |s>\n",
    "    qc14.x(12)\n",
    "    qc14.h(range(13))\n",
    "    qc14.barrier()\n",
    "    test_list = []\n",
    "    for j in range(63):\n",
    "        test_list.append(j)\n",
    "  # using random.choice() to\n",
    "  # get a random number\n",
    "    random_num = random.choice(test_list)\n",
    "    for j in range(random_num):\n",
    "        qc14.compose(quantum_circuitc1, inplace = True)\n",
    "        qc14.barrier()\n",
    "        \n",
    "        control1 = MCXGate(12, None, '110001100011')\n",
    "        qc14.append(control1, [0, 1, 2, 3, 4 ,5 ,6, 7, 8, 9, 10, 11, 12])\n",
    "        \n",
    "        qc14.append(diffuser(12), range(12))\n",
    "    qc14.barrier()\n",
    "    qc14.h(12)\n",
    "    qc14.measure(range(12), range(12))\n",
    "    #print(qc14.draw())\n",
    "    aer_sim = Aer.get_backend('aer_simulator')\n",
    "    transpiled_qc14 = transpile(qc14, aer_sim)\n",
    "    qobj4 = assemble(transpiled_qc14)\n",
    "    results4 = aer_sim.run(qobj4,shots = 1).result()\n",
    "    counts4 = results4.get_counts()\n",
    "    dictionary_to_value(counts4)\n",
    "    return(dictionary_to_value(counts4),random_num)\n",
    "\n",
    "def finding_solutions2(R):\n",
    "    find_solution = []\n",
    "    qreg11 = QuantumRegister(13)\n",
    "    creg11 = ClassicalRegister(12)\n",
    "    for j in range(R):\n",
    "        a = quantum_procedure1(creg11,qreg11)\n",
    "        find_solution.append(a)\n",
    "        if is_solution1(a[0]) !=0:\n",
    "            break\n",
    "    return(find_solution)"
   ]
  },
  {
   "cell_type": "code",
   "execution_count": 16,
   "metadata": {},
   "outputs": [
    {
     "data": {
      "text/plain": [
       "[('010111011010', 19),\n",
       " ('001001010110', 2),\n",
       " ('000010010010', 28),\n",
       " ('010001001000', 41),\n",
       " ('000101011011', 10),\n",
       " ('100011110101', 23),\n",
       " ('000001011101', 26),\n",
       " ('010001111010', 59),\n",
       " ('111100110101', 60),\n",
       " ('000001011011', 48),\n",
       " ('010000010111', 18),\n",
       " ('100010011010', 4),\n",
       " ('001001001100', 21),\n",
       " ('001111011100', 8),\n",
       " ('101000110111', 27),\n",
       " ('110111110000', 44),\n",
       " ('000011011011', 58),\n",
       " ('100000001101', 21),\n",
       " ('100001001111', 17),\n",
       " ('010101110000', 39),\n",
       " ('001000010110', 52),\n",
       " ('010100001000', 8),\n",
       " ('011010111010', 34),\n",
       " ('001100111100', 49),\n",
       " ('101010101011', 1),\n",
       " ('011101111111', 10),\n",
       " ('111100101110', 52),\n",
       " ('001110100100', 53),\n",
       " ('010010110011', 53),\n",
       " ('001001100110', 46),\n",
       " ('101011110111', 42),\n",
       " ('100110111010', 14),\n",
       " ('010101111001', 23),\n",
       " ('111000001111', 48),\n",
       " ('011000111000', 12),\n",
       " ('000111010010', 35),\n",
       " ('011101000110', 54),\n",
       " ('110011111001', 58),\n",
       " ('100000011101', 38),\n",
       " ('101100001101', 42),\n",
       " ('110111110000', 31),\n",
       " ('001111001101', 60),\n",
       " ('001011010110', 46),\n",
       " ('110000111111', 56),\n",
       " ('011000011001', 21),\n",
       " ('101011001110', 42),\n",
       " ('011101111001', 62),\n",
       " ('101000001111', 27),\n",
       " ('011110000111', 18),\n",
       " ('011001000100', 29),\n",
       " ('100011000100', 23),\n",
       " ('100011001111', 38),\n",
       " ('100011111001', 54),\n",
       " ('111010111111', 55),\n",
       " ('010101001110', 10),\n",
       " ('010011011110', 2),\n",
       " ('111100110000', 37),\n",
       " ('000000011100', 29),\n",
       " ('110111001101', 5),\n",
       " ('100000011010', 39),\n",
       " ('100010110001', 11),\n",
       " ('100010100001', 36),\n",
       " ('111010011001', 9),\n",
       " ('001111101101', 41),\n",
       " ('111011001110', 58),\n",
       " ('111000010101', 48),\n",
       " ('000100100010', 49)]"
      ]
     },
     "execution_count": 16,
     "metadata": {},
     "output_type": "execute_result"
    }
   ],
   "source": [
    "finding_solutions2(67)"
   ]
  },
  {
   "cell_type": "code",
   "execution_count": 18,
   "metadata": {},
   "outputs": [
    {
     "data": {
      "text/plain": [
       "[('101101110001', 19),\n",
       " ('010110110111', 23),\n",
       " ('100010010100', 50),\n",
       " ('000010100101', 20),\n",
       " ('100011100100', 59),\n",
       " ('010101001100', 7),\n",
       " ('000000101110', 21),\n",
       " ('011010110011', 52),\n",
       " ('101001000011', 22),\n",
       " ('001000110100', 6),\n",
       " ('100010110110', 12),\n",
       " ('000010001110', 0),\n",
       " ('000111011100', 40),\n",
       " ('100111100010', 60),\n",
       " ('110101011001', 20),\n",
       " ('101001111111', 56),\n",
       " ('110011110011', 49),\n",
       " ('101101001100', 13),\n",
       " ('001110010101', 16),\n",
       " ('101110001100', 33),\n",
       " ('010000111010', 7),\n",
       " ('000001001001', 18),\n",
       " ('011000010010', 56),\n",
       " ('011000000011', 55),\n",
       " ('100111000111', 32),\n",
       " ('111001011101', 30),\n",
       " ('000001001010', 14),\n",
       " ('110100000110', 51),\n",
       " ('011100111110', 41),\n",
       " ('011001011111', 42),\n",
       " ('100011110010', 1),\n",
       " ('001010111011', 14),\n",
       " ('100010100111', 54),\n",
       " ('011101000111', 22),\n",
       " ('101000010001', 61),\n",
       " ('110110110010', 12),\n",
       " ('100000011001', 40),\n",
       " ('010110101010', 21),\n",
       " ('101011001001', 59),\n",
       " ('110011010001', 34),\n",
       " ('000001001000', 51),\n",
       " ('001100100101', 44),\n",
       " ('001010001010', 6),\n",
       " ('111001101111', 22),\n",
       " ('011111010100', 61),\n",
       " ('000101101000', 34),\n",
       " ('110010111101', 49),\n",
       " ('000000010011', 50),\n",
       " ('100000110110', 27),\n",
       " ('111101001101', 24),\n",
       " ('100111111101', 21),\n",
       " ('001001011001', 50),\n",
       " ('001011111000', 32),\n",
       " ('101011111001', 6),\n",
       " ('010001000010', 5),\n",
       " ('101001001010', 20),\n",
       " ('110010000010', 49),\n",
       " ('110010000010', 50),\n",
       " ('010011111000', 34),\n",
       " ('001100001100', 52),\n",
       " ('011101011010', 47),\n",
       " ('100111011101', 31),\n",
       " ('010110100100', 45),\n",
       " ('101110001100', 12),\n",
       " ('011110000100', 42),\n",
       " ('110010110001', 21),\n",
       " ('011000110101', 10),\n",
       " ('001111011001', 61)]"
      ]
     },
     "execution_count": 18,
     "metadata": {},
     "output_type": "execute_result"
    }
   ],
   "source": [
    "finding_solutions2(68)"
   ]
  }
 ],
 "metadata": {
  "colab": {
   "provenance": []
  },
  "kernelspec": {
   "display_name": "Python 3 (ipykernel)",
   "language": "python",
   "name": "python3"
  },
  "language_info": {
   "codemirror_mode": {
    "name": "ipython",
    "version": 3
   },
   "file_extension": ".py",
   "mimetype": "text/x-python",
   "name": "python",
   "nbconvert_exporter": "python",
   "pygments_lexer": "ipython3",
   "version": "3.9.7"
  }
 },
 "nbformat": 4,
 "nbformat_minor": 1
}
