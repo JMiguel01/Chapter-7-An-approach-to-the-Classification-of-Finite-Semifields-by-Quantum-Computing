{
  "nbformat": 4,
  "nbformat_minor": 0,
  "metadata": {
    "colab": {
      "provenance": []
    },
    "kernelspec": {
      "name": "python3",
      "display_name": "Python 3"
    },
    "language_info": {
      "name": "python"
    }
  },
  "cells": [
    {
      "cell_type": "code",
      "execution_count": null,
      "metadata": {
        "colab": {
          "base_uri": "https://localhost:8080/"
        },
        "id": "Cv6N3gzYiiAg",
        "outputId": "fefbb628-97bb-4e0c-ee69-ca42d2ec2869"
      },
      "outputs": [
        {
          "output_type": "stream",
          "name": "stdout",
          "text": [
            "Collecting qiskit\n",
            "  Downloading qiskit-0.45.1-py3-none-any.whl (9.6 kB)\n",
            "Collecting qiskit-terra==0.45.1 (from qiskit)\n",
            "  Downloading qiskit_terra-0.45.1-cp38-abi3-manylinux_2_17_x86_64.manylinux2014_x86_64.whl (6.3 MB)\n",
            "\u001b[2K     \u001b[90m━━━━━━━━━━━━━━━━━━━━━━━━━━━━━━━━━━━━━━━━\u001b[0m \u001b[32m6.3/6.3 MB\u001b[0m \u001b[31m9.5 MB/s\u001b[0m eta \u001b[36m0:00:00\u001b[0m\n",
            "\u001b[?25hCollecting rustworkx>=0.13.0 (from qiskit-terra==0.45.1->qiskit)\n",
            "  Downloading rustworkx-0.13.2-cp310-cp310-manylinux_2_17_x86_64.manylinux2014_x86_64.whl (2.0 MB)\n",
            "\u001b[2K     \u001b[90m━━━━━━━━━━━━━━━━━━━━━━━━━━━━━━━━━━━━━━━━\u001b[0m \u001b[32m2.0/2.0 MB\u001b[0m \u001b[31m9.9 MB/s\u001b[0m eta \u001b[36m0:00:00\u001b[0m\n",
            "\u001b[?25hRequirement already satisfied: numpy<2,>=1.17 in /usr/local/lib/python3.10/dist-packages (from qiskit-terra==0.45.1->qiskit) (1.23.5)\n",
            "Collecting ply>=3.10 (from qiskit-terra==0.45.1->qiskit)\n",
            "  Downloading ply-3.11-py2.py3-none-any.whl (49 kB)\n",
            "\u001b[2K     \u001b[90m━━━━━━━━━━━━━━━━━━━━━━━━━━━━━━━━━━━━━━━━\u001b[0m \u001b[32m49.6/49.6 kB\u001b[0m \u001b[31m5.6 MB/s\u001b[0m eta \u001b[36m0:00:00\u001b[0m\n",
            "\u001b[?25hRequirement already satisfied: psutil>=5 in /usr/local/lib/python3.10/dist-packages (from qiskit-terra==0.45.1->qiskit) (5.9.5)\n",
            "Requirement already satisfied: scipy>=1.5 in /usr/local/lib/python3.10/dist-packages (from qiskit-terra==0.45.1->qiskit) (1.11.4)\n",
            "Requirement already satisfied: sympy>=1.3 in /usr/local/lib/python3.10/dist-packages (from qiskit-terra==0.45.1->qiskit) (1.12)\n",
            "Collecting dill>=0.3 (from qiskit-terra==0.45.1->qiskit)\n",
            "  Downloading dill-0.3.7-py3-none-any.whl (115 kB)\n",
            "\u001b[2K     \u001b[90m━━━━━━━━━━━━━━━━━━━━━━━━━━━━━━━━━━━━━━━━\u001b[0m \u001b[32m115.3/115.3 kB\u001b[0m \u001b[31m5.7 MB/s\u001b[0m eta \u001b[36m0:00:00\u001b[0m\n",
            "\u001b[?25hRequirement already satisfied: python-dateutil>=2.8.0 in /usr/local/lib/python3.10/dist-packages (from qiskit-terra==0.45.1->qiskit) (2.8.2)\n",
            "Collecting stevedore>=3.0.0 (from qiskit-terra==0.45.1->qiskit)\n",
            "  Downloading stevedore-5.1.0-py3-none-any.whl (49 kB)\n",
            "\u001b[2K     \u001b[90m━━━━━━━━━━━━━━━━━━━━━━━━━━━━━━━━━━━━━━━━\u001b[0m \u001b[32m49.6/49.6 kB\u001b[0m \u001b[31m4.5 MB/s\u001b[0m eta \u001b[36m0:00:00\u001b[0m\n",
            "\u001b[?25hCollecting symengine!=0.10.0,>=0.9 (from qiskit-terra==0.45.1->qiskit)\n",
            "  Downloading symengine-0.11.0-cp310-cp310-manylinux_2_12_x86_64.manylinux2010_x86_64.whl (39.4 MB)\n",
            "\u001b[2K     \u001b[90m━━━━━━━━━━━━━━━━━━━━━━━━━━━━━━━━━━━━━━━━\u001b[0m \u001b[32m39.4/39.4 MB\u001b[0m \u001b[31m1.5 MB/s\u001b[0m eta \u001b[36m0:00:00\u001b[0m\n",
            "\u001b[?25hRequirement already satisfied: typing-extensions in /usr/local/lib/python3.10/dist-packages (from qiskit-terra==0.45.1->qiskit) (4.5.0)\n",
            "Requirement already satisfied: six>=1.5 in /usr/local/lib/python3.10/dist-packages (from python-dateutil>=2.8.0->qiskit-terra==0.45.1->qiskit) (1.16.0)\n",
            "Collecting pbr!=2.1.0,>=2.0.0 (from stevedore>=3.0.0->qiskit-terra==0.45.1->qiskit)\n",
            "  Downloading pbr-6.0.0-py2.py3-none-any.whl (107 kB)\n",
            "\u001b[2K     \u001b[90m━━━━━━━━━━━━━━━━━━━━━━━━━━━━━━━━━━━━━━━━\u001b[0m \u001b[32m107.5/107.5 kB\u001b[0m \u001b[31m1.8 MB/s\u001b[0m eta \u001b[36m0:00:00\u001b[0m\n",
            "\u001b[?25hRequirement already satisfied: mpmath>=0.19 in /usr/local/lib/python3.10/dist-packages (from sympy>=1.3->qiskit-terra==0.45.1->qiskit) (1.3.0)\n",
            "Installing collected packages: ply, symengine, rustworkx, pbr, dill, stevedore, qiskit-terra, qiskit\n",
            "Successfully installed dill-0.3.7 pbr-6.0.0 ply-3.11 qiskit-0.45.1 qiskit-terra-0.45.1 rustworkx-0.13.2 stevedore-5.1.0 symengine-0.11.0\n"
          ]
        }
      ],
      "source": [
        "pip install qiskit"
      ]
    },
    {
      "cell_type": "code",
      "source": [
        "pip install tweedledum"
      ],
      "metadata": {
        "colab": {
          "base_uri": "https://localhost:8080/"
        },
        "id": "l2dl5EkIikXd",
        "outputId": "6a1d79f6-39b1-4009-c721-2dd93f6c691f"
      },
      "execution_count": null,
      "outputs": [
        {
          "output_type": "stream",
          "name": "stdout",
          "text": [
            "Collecting tweedledum\n",
            "  Downloading tweedledum-1.1.1-cp310-cp310-manylinux_2_12_x86_64.manylinux2010_x86_64.whl (929 kB)\n",
            "\u001b[2K     \u001b[90m━━━━━━━━━━━━━━━━━━━━━━━━━━━━━━━━━━━━━━━━\u001b[0m \u001b[32m929.7/929.7 kB\u001b[0m \u001b[31m4.1 MB/s\u001b[0m eta \u001b[36m0:00:00\u001b[0m\n",
            "\u001b[?25hInstalling collected packages: tweedledum\n",
            "Successfully installed tweedledum-1.1.1\n"
          ]
        }
      ]
    },
    {
      "cell_type": "code",
      "source": [
        "pip install qiskit-aer"
      ],
      "metadata": {
        "colab": {
          "base_uri": "https://localhost:8080/"
        },
        "id": "qo-wUWRykGad",
        "outputId": "564ac729-a8c3-47a0-a117-f8edb4a55519"
      },
      "execution_count": null,
      "outputs": [
        {
          "output_type": "stream",
          "name": "stdout",
          "text": [
            "Collecting qiskit-aer\n",
            "  Downloading qiskit_aer-0.13.1-cp310-cp310-manylinux_2_17_x86_64.manylinux2014_x86_64.whl (12.3 MB)\n",
            "\u001b[2K     \u001b[90m━━━━━━━━━━━━━━━━━━━━━━━━━━━━━━━━━━━━━━━━\u001b[0m \u001b[32m12.3/12.3 MB\u001b[0m \u001b[31m44.3 MB/s\u001b[0m eta \u001b[36m0:00:00\u001b[0m\n",
            "\u001b[?25hRequirement already satisfied: qiskit>=0.44.0 in /usr/local/lib/python3.10/dist-packages (from qiskit-aer) (0.45.1)\n",
            "Requirement already satisfied: numpy>=1.16.3 in /usr/local/lib/python3.10/dist-packages (from qiskit-aer) (1.23.5)\n",
            "Requirement already satisfied: scipy>=1.0 in /usr/local/lib/python3.10/dist-packages (from qiskit-aer) (1.11.4)\n",
            "Requirement already satisfied: psutil>=5 in /usr/local/lib/python3.10/dist-packages (from qiskit-aer) (5.9.5)\n",
            "Requirement already satisfied: qiskit-terra==0.45.1 in /usr/local/lib/python3.10/dist-packages (from qiskit>=0.44.0->qiskit-aer) (0.45.1)\n",
            "Requirement already satisfied: rustworkx>=0.13.0 in /usr/local/lib/python3.10/dist-packages (from qiskit-terra==0.45.1->qiskit>=0.44.0->qiskit-aer) (0.13.2)\n",
            "Requirement already satisfied: ply>=3.10 in /usr/local/lib/python3.10/dist-packages (from qiskit-terra==0.45.1->qiskit>=0.44.0->qiskit-aer) (3.11)\n",
            "Requirement already satisfied: sympy>=1.3 in /usr/local/lib/python3.10/dist-packages (from qiskit-terra==0.45.1->qiskit>=0.44.0->qiskit-aer) (1.12)\n",
            "Requirement already satisfied: dill>=0.3 in /usr/local/lib/python3.10/dist-packages (from qiskit-terra==0.45.1->qiskit>=0.44.0->qiskit-aer) (0.3.7)\n",
            "Requirement already satisfied: python-dateutil>=2.8.0 in /usr/local/lib/python3.10/dist-packages (from qiskit-terra==0.45.1->qiskit>=0.44.0->qiskit-aer) (2.8.2)\n",
            "Requirement already satisfied: stevedore>=3.0.0 in /usr/local/lib/python3.10/dist-packages (from qiskit-terra==0.45.1->qiskit>=0.44.0->qiskit-aer) (5.1.0)\n",
            "Requirement already satisfied: symengine!=0.10.0,>=0.9 in /usr/local/lib/python3.10/dist-packages (from qiskit-terra==0.45.1->qiskit>=0.44.0->qiskit-aer) (0.11.0)\n",
            "Requirement already satisfied: typing-extensions in /usr/local/lib/python3.10/dist-packages (from qiskit-terra==0.45.1->qiskit>=0.44.0->qiskit-aer) (4.5.0)\n",
            "Requirement already satisfied: six>=1.5 in /usr/local/lib/python3.10/dist-packages (from python-dateutil>=2.8.0->qiskit-terra==0.45.1->qiskit>=0.44.0->qiskit-aer) (1.16.0)\n",
            "Requirement already satisfied: pbr!=2.1.0,>=2.0.0 in /usr/local/lib/python3.10/dist-packages (from stevedore>=3.0.0->qiskit-terra==0.45.1->qiskit>=0.44.0->qiskit-aer) (6.0.0)\n",
            "Requirement already satisfied: mpmath>=0.19 in /usr/local/lib/python3.10/dist-packages (from sympy>=1.3->qiskit-terra==0.45.1->qiskit>=0.44.0->qiskit-aer) (1.3.0)\n",
            "Installing collected packages: qiskit-aer\n",
            "Successfully installed qiskit-aer-0.13.1\n"
          ]
        }
      ]
    },
    {
      "cell_type": "code",
      "source": [
        "from sympy import symbols, Matrix, pprint, collect, factor\n",
        "from sympy import *\n",
        "import itertools\n",
        "\n",
        "a = []\n",
        "name = \"a\"\n",
        "for i in range(0,13):\n",
        "    v = symbols(name+str(i))\n",
        "    a.append(v)\n",
        "\n",
        "A1 = Matrix([[1, 0, 0, 0],[0, 1, 0 ,0],[0, 0, 1 , 0],[0,0,0,1] ])\n",
        "A2 = Matrix([[0, 0, 0, 1],[1, 0, 0 ,0],[0, 1, 0 , 0],[0,0,1,1] ])\n",
        "A3 = Matrix([[0, 0, a[1], a[5]],[0, 0, a[2] ,a[6]],[1, 0, a[3] , a[7]],[0,1,a[4],a[8]]])\n",
        "A4 = Matrix([[0, 1, a[5], a[9]],[0, 0, a[6] ,a[10]],[0, 0, a[7] , a[11]],[1,1,a[8],a[12]] ])\n",
        "aC41=[]\n",
        "A=[]\n",
        "for i in range(0,16):\n",
        "    aC41.append('{0:04b}'.format(i))\n",
        "    M=int(aC41[i][0])*A1+int(aC41[i][1])*A2+int(aC41[i][2])*A3 +int(aC41[i][3])*A4\n",
        "    A.append(M.det())\n",
        "def Equations(First):\n",
        "    BB31= First\n",
        "    Pl1 =[]\n",
        "    for i in range(len(BB31)):\n",
        "        Pl1.append(dict(BB31[i].as_coefficients_dict()))\n",
        "    ##Symplify computations of coefficients module 2\n",
        "    EQ1 =[]\n",
        "    for l in range(len(Pl1)):\n",
        "        for s in Pl1[l]:\n",
        "            if (Pl1[l][s] % 2) == 0:\n",
        "                Pl1[l][s] = 0\n",
        "            else:\n",
        "                Pl1[l][s] = 1\n",
        "        EQ1.append(sum([key * val for key, val in Pl1[l].items()]))\n",
        "    ##Selecting the equations we need\n",
        "    EQ3=[]\n",
        "    for l in range(len(EQ1)):\n",
        "        if (EQ1[l] != 0) and (EQ1[l]!=1):\n",
        "            EQ3.append(EQ1[l])\n",
        "    return(EQ3)\n",
        "def Polynomial1(w):\n",
        "    h_test1=[]\n",
        "    w_test1=[]\n",
        "    w_final_test1=[]\n",
        "    for n in range(len(w)):\n",
        "        if  (w[n] == 1) or (w[n] == 0):\n",
        "            w_test1.append(w[n])\n",
        "        else:\n",
        "            h_test1.append(w[n].make_args(w[n]))\n",
        "    g_test1 =[]\n",
        "    for m in range(len(h_test1)):\n",
        "        g_test1.append(list(h_test1[m]))\n",
        "        for l in range(len(h_test1[m])):\n",
        "            if(h_test1[m][l]==1):\n",
        "                g_test1[m][1]=~(g_test1[m][1])\n",
        "                del g_test1[m][l]\n",
        "    w_final_test1 = '&'.join([str(item) for item in g_test1])\n",
        "    w_final_test1 = w_final_test1.replace(\"*\",\"&\")\n",
        "    w_final_test1 = w_final_test1.replace(\",\",\" ^\")\n",
        "    return(w_final_test1)\n",
        "Polynomial1(Equations(A))"
      ],
      "metadata": {
        "colab": {
          "base_uri": "https://localhost:8080/",
          "height": 157
        },
        "id": "m7BRcGjyk305",
        "outputId": "d3016fc6-557e-41c2-c664-715f8b37d7c6"
      },
      "execution_count": null,
      "outputs": [
        {
          "output_type": "execute_result",
          "data": {
            "text/plain": [
              "'[a10&a7 ^ a11&a6]&[a1&a6 ^ a2&a5]&[a10&a3 ^ a10&a4 ^ a10&a7 ^ a10&a8 ^ a11&a2 ^ a11&a6 ^ a12&a2 ^ a12&a6 ^ a2&a7 ^ a2&a8 ^ a3&a6 ^ a4&a6]&[~a11 ^ a5 ^ a6 ^ a8 ^ a9 ^ a10&a5 ^ a10&a7 ^ a11&a5 ^ a11&a6 ^ a11&a8 ^ a12&a5 ^ a12&a7 ^ a6&a9 ^ a7&a9 ^ a8&a9]&[~a1 ^ a2 ^ a3 ^ a4 ^ a5 ^ a1&a6 ^ a1&a7 ^ a1&a8 ^ a2&a5 ^ a3&a5 ^ a4&a5]&[~a1 ^ a10 ^ a11 ^ a3 ^ a4 ^ a6 ^ a8 ^ a9 ^ a1&a10 ^ a1&a12 ^ a1&a6 ^ a1&a8 ^ a10&a3 ^ a10&a4 ^ a10&a5 ^ a10&a7 ^ a10&a8 ^ a11&a2 ^ a11&a4 ^ a11&a6 ^ a11&a8 ^ a12&a2 ^ a12&a3 ^ a12&a5 ^ a12&a6 ^ a12&a7 ^ a2&a5 ^ a2&a7 ^ a2&a8 ^ a2&a9 ^ a3&a6 ^ a3&a8 ^ a4&a5 ^ a4&a6 ^ a4&a7 ^ a4&a9 ^ a6&a9 ^ a8&a9]&[~a12 ^ a7 ^ a9 ^ a11&a5 ^ a11&a8 ^ a12&a7 ^ a7&a9]&[~a1 ^ a3 ^ a6 ^ a8 ^ a1&a6 ^ a1&a8 ^ a2&a5 ^ a2&a7 ^ a3&a6 ^ a3&a8 ^ a4&a5 ^ a4&a7]&[~a1 ^ a10 ^ a12 ^ a2 ^ a3 ^ a7 ^ a8 ^ a9 ^ a1&a11 ^ a1&a12 ^ a1&a7 ^ a1&a8 ^ a10&a3 ^ a10&a4 ^ a10&a7 ^ a10&a8 ^ a11&a2 ^ a11&a4 ^ a11&a5 ^ a11&a6 ^ a11&a8 ^ a12&a2 ^ a12&a3 ^ a12&a5 ^ a12&a6 ^ a12&a7 ^ a2&a7 ^ a2&a8 ^ a3&a5 ^ a3&a6 ^ a3&a8 ^ a3&a9 ^ a4&a5 ^ a4&a6 ^ a4&a7 ^ a4&a9 ^ a7&a9 ^ a8&a9]&[~a10 ^ a6 ^ a8 ^ a9 ^ a10&a5 ^ a10&a8 ^ a12&a5 ^ a12&a6 ^ a6&a9 ^ a8&a9]&[~a2 ^ a3 ^ a5 ^ a7 ^ a8 ^ a1&a6 ^ a1&a7 ^ a2&a5 ^ a2&a7 ^ a2&a8 ^ a3&a5 ^ a3&a6 ^ a3&a8 ^ a4&a6 ^ a4&a7]&[~a10 ^ a2 ^ a3 ^ a5 ^ a7 ^ a9 ^ a1&a10 ^ a1&a11 ^ a1&a6 ^ a1&a7 ^ a10&a3 ^ a10&a5 ^ a10&a7 ^ a11&a2 ^ a11&a5 ^ a11&a6 ^ a2&a5 ^ a2&a7 ^ a2&a9 ^ a3&a5 ^ a3&a6 ^ a3&a9 ^ a6&a9 ^ a7&a9]'"
            ],
            "application/vnd.google.colaboratory.intrinsic+json": {
              "type": "string"
            }
          },
          "metadata": {},
          "execution_count": 4
        }
      ]
    },
    {
      "cell_type": "code",
      "source": [
        "from qiskit.circuit import classical_function,  Int1\n",
        "@classical_function\n",
        "def grover_oracle(a1: Int1, a2: Int1, a3: Int1, a4: Int1, a5: Int1, a6: Int1, a7: Int1, a8: Int1, a9:Int1, a10: Int1, a11: Int1, a12:Int1) -> Int1:\n",
        "    return ((a10&a7 ^ a11&a6)&(a1&a6 ^ a2&a5)&(a10&a3 ^ a10&a4 ^ a10&a7 ^ a10&a8 ^ a11&a2 ^ a11&a6 ^ a12&a2 ^ a12&a6 ^ a2&a7 ^ a2&a8 ^ a3&a6 ^ a4&a6)&(not(a11) ^ a5 ^ a6 ^ a8 ^ a9 ^ a10&a5 ^ a10&a7 ^ a11&a5 ^ a11&a6 ^ a11&a8 ^ a12&a5 ^ a12&a7 ^ a6&a9 ^ a7&a9 ^ a8&a9)&(not(a1) ^ a2 ^ a3 ^ a4 ^ a5 ^ a1&a6 ^ a1&a7 ^ a1&a8 ^ a2&a5 ^ a3&a5 ^ a4&a5)&(not(a1) ^ a10 ^ a11 ^ a3 ^ a4 ^ a6 ^ a8 ^ a9 ^ a1&a10 ^ a1&a12 ^ a1&a6 ^ a1&a8 ^ a10&a3 ^ a10&a4 ^ a10&a5 ^ a10&a7 ^ a10&a8 ^ a11&a2 ^ a11&a4 ^ a11&a6 ^ a11&a8 ^ a12&a2 ^ a12&a3 ^ a12&a5 ^ a12&a6 ^ a12&a7 ^ a2&a5 ^ a2&a7 ^ a2&a8 ^ a2&a9 ^ a3&a6 ^ a3&a8 ^ a4&a5 ^ a4&a6 ^ a4&a7 ^ a4&a9 ^ a6&a9 ^ a8&a9)&(not(a12) ^ a7 ^ a9 ^ a11&a5 ^ a11&a8 ^ a12&a7 ^ a7&a9)&(not(a1) ^ a3 ^ a6 ^ a8 ^ a1&a6 ^ a1&a8 ^ a2&a5 ^ a2&a7 ^ a3&a6 ^ a3&a8 ^ a4&a5 ^ a4&a7)&(not(a1 ^ a10 ^ a12 ^ a2 ^ a3 ^ a7 ^ a8 ^ a9 ^ a1&a11 ^ a1&a12 ^ a1&a7 ^ a1&a8 ^ a10&a3 ^ a10&a4 ^ a10&a7 ^ a10&a8 ^ a11&a2 ^ a11&a4 ^ a11&a5 ^ a11&a6 ^ a11&a8 ^ a12&a2 ^ a12&a3 ^ a12&a5 ^ a12&a6 ^ a12&a7 ^ a2&a7 ^ a2&a8 ^ a3&a5 ^ a3&a6 ^ a3&a8 ^ a3&a9 ^ a4&a5 ^ a4&a6 ^ a4&a7 ^ a4&a9 ^ a7&a9 ^ a8&a9)&(not(a10) ^ a6 ^ a8 ^ a9 ^ a10&a5 ^ a10&a8 ^ a12&a5 ^ a12&a6 ^ a6&a9 ^ a8&a9)&(not(a2) ^ a3 ^ a5 ^ a7 ^ a8 ^ a1&a6 ^ a1&a7 ^ a2&a5 ^ a2&a7 ^ a2&a8 ^ a3&a5 ^ a3&a6 ^ a3&a8 ^ a4&a6 ^ a4&a7)&(not(a10) ^ a2 ^ a3 ^ a5 ^ a7 ^ a9 ^ a1&a10 ^ a1&a11 ^ a1&a6 ^ a1&a7 ^ a10&a3 ^ a10&a5 ^ a10&a7 ^ a11&a2 ^ a11&a5 ^ a11&a6 ^ a2&a5 ^ a2&a7 ^ a2&a9 ^ a3&a5 ^ a3&a6 ^ a3&a9 ^ a6&a9 ^ a7&a9)))\n",
        "quantum_circuitc2 = grover_oracle.synth()\n",
        "quantum_circuitc2.draw()"
      ],
      "metadata": {
        "colab": {
          "base_uri": "https://localhost:8080/",
          "height": 522
        },
        "id": "ZLayqIGMi7yp",
        "outputId": "66ef7c6b-92f0-447c-f2b4-ead1c37ef1ca"
      },
      "execution_count": null,
      "outputs": [
        {
          "output_type": "stream",
          "name": "stderr",
          "text": [
            "<ipython-input-26-eae67a1eab24>:1: DeprecationWarning: Accessing 'classical_function' from 'qiskit.circuit' is deprecated since Qiskit Terra 0.22 and will be removed in 0.23.  Import from 'qiskit.circuit.classicalfunction' instead. This will require installing 'tweedledum' as an optional dependency from Terra 0.23.\n",
            "  from qiskit.circuit import classical_function,  Int1\n",
            "<ipython-input-26-eae67a1eab24>:1: DeprecationWarning: Accessing 'Int1' from 'qiskit.circuit' is deprecated since Qiskit Terra 0.22 and will be removed in 0.23.  Import from 'qiskit.circuit.classicalfunction.types' instead. This will require installing 'tweedledum' as an optional dependency from Terra 0.23.\n",
            "  from qiskit.circuit import classical_function,  Int1\n"
          ]
        },
        {
          "output_type": "execute_result",
          "data": {
            "text/plain": [
              "           \n",
              " q_0: ──■──\n",
              "        │  \n",
              " q_1: ──o──\n",
              "        │  \n",
              " q_2: ──o──\n",
              "        │  \n",
              " q_3: ──■──\n",
              "        │  \n",
              " q_4: ──■──\n",
              "        │  \n",
              " q_5: ──■──\n",
              "        │  \n",
              " q_6: ──o──\n",
              "        │  \n",
              " q_7: ──■──\n",
              "        │  \n",
              " q_8: ──■──\n",
              "        │  \n",
              " q_9: ──■──\n",
              "        │  \n",
              "q_10: ──■──\n",
              "        │  \n",
              "q_11: ──■──\n",
              "      ┌─┴─┐\n",
              "q_12: ┤ X ├\n",
              "      └───┘"
            ],
            "text/html": [
              "<pre style=\"word-wrap: normal;white-space: pre;background: #fff0;line-height: 1.1;font-family: &quot;Courier New&quot;,Courier,monospace\">           \n",
              " q_0: ──■──\n",
              "        │  \n",
              " q_1: ──o──\n",
              "        │  \n",
              " q_2: ──o──\n",
              "        │  \n",
              " q_3: ──■──\n",
              "        │  \n",
              " q_4: ──■──\n",
              "        │  \n",
              " q_5: ──■──\n",
              "        │  \n",
              " q_6: ──o──\n",
              "        │  \n",
              " q_7: ──■──\n",
              "        │  \n",
              " q_8: ──■──\n",
              "        │  \n",
              " q_9: ──■──\n",
              "        │  \n",
              "q_10: ──■──\n",
              "        │  \n",
              "q_11: ──■──\n",
              "      ┌─┴─┐\n",
              "q_12: ┤ X ├\n",
              "      └───┘</pre>"
            ]
          },
          "metadata": {},
          "execution_count": 26
        }
      ]
    },
    {
      "cell_type": "code",
      "source": [
        "from qiskit import Aer\n",
        "from qiskit import QuantumCircuit, QuantumRegister, ClassicalRegister, transpile, assemble\n",
        "import random\n",
        "from qiskit.circuit.library.standard_gates.x import XGate, MCXGate"
      ],
      "metadata": {
        "id": "u2Lr3SPMdbQH"
      },
      "execution_count": null,
      "outputs": []
    },
    {
      "cell_type": "code",
      "source": [
        "def diffuser(nqubits):\n",
        "    qc = QuantumCircuit(nqubits)\n",
        "    # Apply transformation |s> -> |00..0> (H-gates)\n",
        "    for qubit in range(nqubits):\n",
        "        qc.h(qubit)\n",
        "    # Apply transformation |00..0> -> |11..1> (X-gates)\n",
        "    for qubit in range(nqubits):\n",
        "        qc.x(qubit)\n",
        "    # Do multi-controlled-Z gate\n",
        "    qc.h(nqubits-1)\n",
        "    qc.mct(list(range(nqubits-1)), nqubits-1)  # multi-controlled-toffoli\n",
        "    qc.h(nqubits-1)\n",
        "    # Apply transformation |11..1> -> |00..0>\n",
        "    for qubit in range(nqubits):\n",
        "        qc.x(qubit)\n",
        "    # Apply transformation |00..0> -> |s>\n",
        "    for qubit in range(nqubits):\n",
        "        qc.h(qubit)\n",
        "    # We will return the diffuser as a gate\n",
        "    U_s = qc.to_gate()\n",
        "    U_s.name = \"U_s\"\n",
        "    return U_s"
      ],
      "metadata": {
        "id": "VUuvIxXsc7HB"
      },
      "execution_count": null,
      "outputs": []
    },
    {
      "cell_type": "code",
      "source": [
        "def quantum_procedure(creg,qreg):\n",
        "  qc14 = QuantumCircuit(qreg,creg)\n",
        "  # Initialize qubits in state |s>\n",
        "  qc14.x(12)\n",
        "  qc14.h(range(13))\n",
        "  qc14.barrier()\n",
        "  test_list = []\n",
        "  for j in range(63):\n",
        "      test_list.append(j)\n",
        "  # using random.choice() to\n",
        "  # get a random number\n",
        "  random_num = random.choice(test_list)\n",
        "\n",
        "  for j in range(random_num):\n",
        "      qc14.compose(quantum_circuitc2, inplace = True)\n",
        "      qc14.append(diffuser(12), range(12))\n",
        "  qc14.barrier()\n",
        "  qc14.h(12)\n",
        "  qc14.measure(range(12), range(12))\n",
        "  #print(qc14.draw(fold=-1))\n",
        "  aer_sim = Aer.get_backend('aer_simulator')\n",
        "  transpiled_qc14 = transpile(qc14, aer_sim)\n",
        "  qobj4 = assemble(transpiled_qc14)\n",
        "  results4 = aer_sim.run(qobj4,shots = 1).result()\n",
        "  counts4 = results4.get_counts()\n",
        "  dictionary_to_value(counts4)\n",
        "  return(dictionary_to_value(counts4),random_num)"
      ],
      "metadata": {
        "id": "zE3DZjhgQwTL"
      },
      "execution_count": null,
      "outputs": []
    },
    {
      "cell_type": "code",
      "source": [
        "def oracle_one_solution(x):\n",
        "  qreg = QuantumRegister(13)\n",
        "  creg = ClassicalRegister(12)\n",
        "  qc = QuantumCircuit(qreg11,creg11)\n",
        "  control = MCXGate(12, None, x)\n",
        "  qc.append(control, [0, 1, 2, 3, 4 ,5 ,6, 7, 8, 9, 10, 11, 12])\n",
        "  #print(qc.draw())\n",
        "  return(qc)"
      ],
      "metadata": {
        "id": "BNtH_zM5VHhy"
      },
      "execution_count": null,
      "outputs": []
    },
    {
      "cell_type": "code",
      "source": [
        "def dictionary_to_value(x):\n",
        "  for i in x.keys():\n",
        "    return(i)"
      ],
      "metadata": {
        "id": "bZtQWRqMT5Fh"
      },
      "execution_count": null,
      "outputs": []
    },
    {
      "cell_type": "code",
      "source": [
        "qreg11 = QuantumRegister(13)\n",
        "creg11 = ClassicalRegister(12)\n",
        "quantum_procedure(creg11,qreg11)"
      ],
      "metadata": {
        "colab": {
          "base_uri": "https://localhost:8080/"
        },
        "id": "dRho3v0VTOFg",
        "outputId": "6c69fcf2-8b21-4b20-94fc-22fac4cddee3"
      },
      "execution_count": null,
      "outputs": [
        {
          "output_type": "stream",
          "name": "stderr",
          "text": [
            "<ipython-input-28-0630d986ce59>:11: DeprecationWarning: The method ``qiskit.circuit.quantumcircuit.QuantumCircuit.mct()`` is deprecated as of qiskit 0.45.0. It will be removed no earlier than 3 months after the release date. Use QuantumCircuit.mcx as direct replacement.\n",
            "  qc.mct(list(range(nqubits-1)), nqubits-1)  # multi-controlled-toffoli\n",
            "<ipython-input-9-c958c518a6b7>:24: DeprecationWarning: Using a qobj for run() is deprecated as of qiskit-aer 0.9.0 and will be removed no sooner than 3 months from that release date. Transpiled circuits should now be passed directly using `backend.run(circuits, **run_options).\n",
            "  results4 = aer_sim.run(qobj4,shots = 1).result()\n"
          ]
        },
        {
          "output_type": "execute_result",
          "data": {
            "text/plain": [
              "('111110111001', 45)"
            ]
          },
          "metadata": {},
          "execution_count": 30
        }
      ]
    },
    {
      "cell_type": "code",
      "source": [
        "def is_solution1(x):\n",
        "    a = []\n",
        "    for item in x:\n",
        "        a.append(item)\n",
        "    A1 = Matrix([[1, 0, 0, 0],[0, 1, 0 ,0],[0, 0, 1 , 0],[0,0,0,1] ])\n",
        "    A2 = Matrix([[0, 0, 0, 1],[1, 0, 0 ,0],[0, 1, 0 , 0],[0,0,1,1] ])\n",
        "    A3 = Matrix([[0, 0, a[11], a[7]],[0, 0, a[10] ,a[6]],[1, 0, a[9] , a[5]],[0,1,a[8],a[4]] ])\n",
        "    A4 = Matrix([[0, 1, a[7], a[3]],[0, 0, a[6] ,a[2]],[0, 0, a[5] , a[1]],[1,1,a[4],a[0]] ])\n",
        "    aC41=[]\n",
        "    A=[]\n",
        "    for i in range(0,16):\n",
        "        aC41.append('{0:04b}'.format(i))\n",
        "        M=int(aC41[i][0])*A1+int(aC41[i][1])*A2+int(aC41[i][2])*A3 +int(aC41[i][3])*A4\n",
        "        A.append(M.det())\n",
        "    if (all(v == 0 for v in A) == True):\n",
        "        return(x)\n",
        "    else:\n",
        "        return(0)"
      ],
      "metadata": {
        "id": "bwcaHDLx1cdm"
      },
      "execution_count": 1,
      "outputs": []
    },
    {
      "cell_type": "code",
      "source": [
        "is_solution1('101111001110')"
      ],
      "metadata": {
        "colab": {
          "base_uri": "https://localhost:8080/"
        },
        "id": "3IZ6OTsivVOM",
        "outputId": "9e5609a1-d26d-4594-a1c8-fd036fee507b"
      },
      "execution_count": null,
      "outputs": [
        {
          "output_type": "stream",
          "name": "stdout",
          "text": [
            "0\n"
          ]
        }
      ]
    },
    {
      "cell_type": "code",
      "source": [
        "#Is not a Solution"
      ],
      "metadata": {
        "id": "-UxG-LPcxsol"
      },
      "execution_count": null,
      "outputs": []
    },
    {
      "cell_type": "code",
      "source": [
        "quantum_procedure(creg11,qreg11)"
      ],
      "metadata": {
        "colab": {
          "base_uri": "https://localhost:8080/"
        },
        "id": "AbSo79u3xum7",
        "outputId": "d5a33bd3-4315-4fef-d17a-2f0a86f870fd"
      },
      "execution_count": null,
      "outputs": [
        {
          "output_type": "stream",
          "name": "stderr",
          "text": [
            "<ipython-input-8-0630d986ce59>:11: DeprecationWarning: The method ``qiskit.circuit.quantumcircuit.QuantumCircuit.mct()`` is deprecated as of qiskit 0.45.0. It will be removed no earlier than 3 months after the release date. Use QuantumCircuit.mcx as direct replacement.\n",
            "  qc.mct(list(range(nqubits-1)), nqubits-1)  # multi-controlled-toffoli\n",
            "<ipython-input-10-c958c518a6b7>:24: DeprecationWarning: Using a qobj for run() is deprecated as of qiskit-aer 0.9.0 and will be removed no sooner than 3 months from that release date. Transpiled circuits should now be passed directly using `backend.run(circuits, **run_options).\n",
            "  results4 = aer_sim.run(qobj4,shots = 1).result()\n"
          ]
        },
        {
          "output_type": "execute_result",
          "data": {
            "text/plain": [
              "('111110111001', 51)"
            ]
          },
          "metadata": {},
          "execution_count": 34
        }
      ]
    },
    {
      "cell_type": "code",
      "source": [
        "is_solution1('111110111001')"
      ],
      "metadata": {
        "colab": {
          "base_uri": "https://localhost:8080/"
        },
        "id": "WoB8Z7agvkDL",
        "outputId": "bb80bae8-7280-4c12-b924-1193b2ea8cf3"
      },
      "execution_count": null,
      "outputs": [
        {
          "output_type": "stream",
          "name": "stdout",
          "text": [
            "111110111001\n"
          ]
        }
      ]
    },
    {
      "cell_type": "code",
      "source": [
        "# Is a Solution"
      ],
      "metadata": {
        "id": "yhUIcs5Nx5vC"
      },
      "execution_count": null,
      "outputs": []
    },
    {
      "cell_type": "code",
      "source": [
        "def quantum_procedure1(creg,qreg):\n",
        "  qc14 = QuantumCircuit(qreg,creg)\n",
        "  # Initialize qubits in state |s>\n",
        "  qc14.x(12)\n",
        "  qc14.h(range(13))\n",
        "  qc14.barrier()\n",
        "  test_list = []\n",
        "  for j in range(63):\n",
        "      test_list.append(j)\n",
        "  # using random.choice() to\n",
        "  # get a random number\n",
        "  random_num = random.choice(test_list)\n",
        "\n",
        "  for j in range(random_num):\n",
        "      qc14.compose(quantum_circuitc2, inplace = True)\n",
        "      qc14.compose(oracle_one_solution('111110111001'), inplace = True)\n",
        "      qc14.append(diffuser(12), range(12))\n",
        "  qc14.barrier()\n",
        "  qc14.h(12)\n",
        "  qc14.measure(range(12), range(12))\n",
        "  #print(qc14.draw(fold=-1))\n",
        "  aer_sim = Aer.get_backend('aer_simulator')\n",
        "  transpiled_qc14 = transpile(qc14, aer_sim)\n",
        "  qobj4 = assemble(transpiled_qc14)\n",
        "  results4 = aer_sim.run(qobj4,shots = 1).result()\n",
        "  counts4 = results4.get_counts()\n",
        "  dictionary_to_value(counts4)\n",
        "  return(dictionary_to_value(counts4),random_num)"
      ],
      "metadata": {
        "id": "0nQBIa66wquD"
      },
      "execution_count": null,
      "outputs": []
    },
    {
      "cell_type": "code",
      "source": [
        "solutions1 = []\n",
        "for i in range(57):\n",
        "  solutions1.append(quantum_procedure1(creg11,qreg11))\n",
        "print(solutions1)"
      ],
      "metadata": {
        "colab": {
          "base_uri": "https://localhost:8080/"
        },
        "id": "b2cP2jdpwz6z",
        "outputId": "a7e1205f-4c08-4929-f315-b9f3124e5c26"
      },
      "execution_count": null,
      "outputs": [
        {
          "output_type": "stream",
          "name": "stderr",
          "text": [
            "<ipython-input-28-0630d986ce59>:11: DeprecationWarning: The method ``qiskit.circuit.quantumcircuit.QuantumCircuit.mct()`` is deprecated as of qiskit 0.45.0. It will be removed no earlier than 3 months after the release date. Use QuantumCircuit.mcx as direct replacement.\n",
            "  qc.mct(list(range(nqubits-1)), nqubits-1)  # multi-controlled-toffoli\n",
            "<ipython-input-36-7b7f3f08fafd>:25: DeprecationWarning: Using a qobj for run() is deprecated as of qiskit-aer 0.9.0 and will be removed no sooner than 3 months from that release date. Transpiled circuits should now be passed directly using `backend.run(circuits, **run_options).\n",
            "  results4 = aer_sim.run(qobj4,shots = 1).result()\n"
          ]
        },
        {
          "output_type": "stream",
          "name": "stdout",
          "text": [
            "[('101110001010', 33), ('010011111001', 46), ('100101111110', 9), ('111111101011', 9), ('001110110001', 3), ('110100010110', 51), ('001100111111', 10), ('001000111111', 52), ('100001000101', 1), ('101110011100', 1), ('001001000110', 6), ('010010101010', 35), ('101110010001', 12), ('001100101110', 13), ('111101001010', 25), ('101110010001', 15), ('100000011000', 61), ('000001101011', 59), ('101001110110', 16), ('000001110001', 48), ('010101101000', 13), ('000101010101', 18), ('110111100011', 21), ('011111110010', 49), ('110100111101', 22), ('111101100111', 41), ('101110000100', 37), ('100110100011', 39), ('000110110010', 15), ('001111011100', 18), ('101010101010', 35), ('001011110101', 20), ('011100111100', 3), ('000011101001', 1), ('000001101010', 26), ('001010110101', 46), ('101001101011', 49), ('110111110111', 11), ('000000011000', 41), ('010011011100', 26), ('000110000010', 40), ('001011100100', 55), ('110111110110', 35), ('001100111010', 39), ('000110111100', 29), ('110010111110', 0), ('000111000001', 23), ('010110110110', 57), ('010001100011', 32), ('010110111001', 11), ('001011010010', 32), ('100111011110', 3), ('100100011101', 12), ('101101001011', 30), ('101110010001', 47), ('000001101010', 31), ('110111000111', 22)]\n"
          ]
        }
      ]
    },
    {
      "cell_type": "code",
      "source": [
        "no_solutions1 = []\n",
        "for i in range(57):\n",
        "  no_solutions1.append(is_solution1(solutions1[i][0]))\n",
        "print(no_solutions1)\n"
      ],
      "metadata": {
        "colab": {
          "base_uri": "https://localhost:8080/"
        },
        "id": "3WHX-5IHxW-p",
        "outputId": "28d2b47d-c93b-4b91-c828-f29cdec08e0d"
      },
      "execution_count": null,
      "outputs": [
        {
          "output_type": "stream",
          "name": "stdout",
          "text": [
            "0\n",
            "0\n",
            "0\n",
            "0\n",
            "0\n",
            "0\n",
            "0\n",
            "0\n",
            "0\n",
            "0\n",
            "0\n",
            "0\n",
            "0\n",
            "0\n",
            "0\n",
            "0\n",
            "0\n",
            "0\n",
            "0\n",
            "0\n",
            "0\n",
            "0\n",
            "0\n",
            "0\n",
            "0\n",
            "0\n",
            "0\n",
            "0\n",
            "0\n",
            "0\n",
            "0\n",
            "0\n",
            "0\n",
            "0\n",
            "0\n",
            "0\n",
            "0\n",
            "0\n",
            "0\n",
            "0\n",
            "0\n",
            "0\n",
            "0\n",
            "0\n",
            "0\n",
            "0\n",
            "0\n",
            "0\n",
            "0\n",
            "0\n",
            "0\n",
            "0\n",
            "0\n",
            "0\n",
            "0\n",
            "0\n",
            "0\n",
            "[None, None, None, None, None, None, None, None, None, None, None, None, None, None, None, None, None, None, None, None, None, None, None, None, None, None, None, None, None, None, None, None, None, None, None, None, None, None, None, None, None, None, None, None, None, None, None, None, None, None, None, None, None, None, None, None, None]\n"
          ]
        }
      ]
    }
  ]
}