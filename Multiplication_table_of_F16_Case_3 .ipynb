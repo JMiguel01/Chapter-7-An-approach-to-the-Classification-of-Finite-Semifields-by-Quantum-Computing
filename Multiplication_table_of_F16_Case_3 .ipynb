{
 "cells": [
  {
   "cell_type": "code",
   "execution_count": null,
   "metadata": {
    "colab": {
     "base_uri": "https://localhost:8080/"
    },
    "id": "Cv6N3gzYiiAg",
    "outputId": "c5c766d8-1e2a-42ea-b759-1bca1febbaf1"
   },
   "outputs": [],
   "source": [
    "pip install qiskit"
   ]
  },
  {
   "cell_type": "code",
   "execution_count": null,
   "metadata": {
    "colab": {
     "base_uri": "https://localhost:8080/"
    },
    "id": "l2dl5EkIikXd",
    "outputId": "a32022de-9d2b-4fcd-8c0d-9a4600644511"
   },
   "outputs": [],
   "source": [
    "pip install tweedledum"
   ]
  },
  {
   "cell_type": "code",
   "execution_count": null,
   "metadata": {
    "colab": {
     "base_uri": "https://localhost:8080/"
    },
    "id": "qo-wUWRykGad",
    "outputId": "80a87c3a-18dc-4c19-a9b5-21040542fad2"
   },
   "outputs": [],
   "source": [
    "pip install qiskit-aer"
   ]
  },
  {
   "cell_type": "code",
   "execution_count": 1,
   "metadata": {
    "colab": {
     "base_uri": "https://localhost:8080/",
     "height": 140
    },
    "id": "m7BRcGjyk305",
    "outputId": "4cb1c84e-1753-40d3-dcc0-907eca2f63c6"
   },
   "outputs": [
    {
     "data": {
      "text/plain": [
       "'[a10&a5 ^ a6&a9]&[a1&a6 ^ a2&a5]&[a1&a10 ^ a1&a6 ^ a10&a5 ^ a2&a5 ^ a2&a9 ^ a6&a9]&[~a11 ^ a5 ^ a6 ^ a7 ^ a8 ^ a9 ^ a10&a5 ^ a10&a7 ^ a11&a6 ^ a11&a8 ^ a12&a5 ^ a12&a7 ^ a6&a9 ^ a8&a9]&[~a2 ^ a3 ^ a4 ^ a5 ^ a6 ^ a7 ^ a1&a6 ^ a1&a7 ^ a1&a8 ^ a2&a5 ^ a2&a8 ^ a3&a5 ^ a3&a8 ^ a4&a5 ^ a4&a6 ^ a4&a7]&[~a1 ^ a10 ^ a11 ^ a3 ^ a4 ^ a5 ^ a6 ^ a8 ^ a1&a10 ^ a1&a11 ^ a1&a6 ^ a1&a7 ^ a10&a3 ^ a10&a4 ^ a10&a5 ^ a10&a7 ^ a10&a8 ^ a11&a2 ^ a11&a4 ^ a11&a5 ^ a11&a6 ^ a11&a8 ^ a12&a2 ^ a12&a3 ^ a12&a6 ^ a12&a7 ^ a2&a5 ^ a2&a7 ^ a2&a8 ^ a2&a9 ^ a3&a5 ^ a3&a6 ^ a3&a8 ^ a3&a9 ^ a4&a6 ^ a4&a7 ^ a6&a9 ^ a7&a9]&[~a10 ^ a12 ^ a6 ^ a7 ^ a9 ^ a10&a5 ^ a10&a7 ^ a10&a8 ^ a11&a5 ^ a11&a6 ^ a11&a8 ^ a12&a6 ^ a12&a7 ^ a6&a9 ^ a7&a9]&[~a1 ^ a3 ^ a6 ^ a8 ^ a1&a6 ^ a1&a8 ^ a2&a5 ^ a2&a7 ^ a3&a6 ^ a3&a8 ^ a4&a5 ^ a4&a7]&[~a1 ^ a12 ^ a2 ^ a3 ^ a6 ^ a7 ^ a8 ^ a9 ^ a1&a10 ^ a1&a11 ^ a1&a12 ^ a1&a6 ^ a1&a7 ^ a1&a8 ^ a10&a4 ^ a10&a5 ^ a10&a8 ^ a11&a4 ^ a11&a5 ^ a11&a8 ^ a12&a2 ^ a12&a3 ^ a12&a5 ^ a12&a6 ^ a12&a7 ^ a2&a5 ^ a2&a8 ^ a2&a9 ^ a3&a5 ^ a3&a8 ^ a3&a9 ^ a4&a5 ^ a4&a6 ^ a4&a7 ^ a4&a9 ^ a6&a9 ^ a7&a9 ^ a8&a9]&[~a10 ^ a11 ^ a12 ^ a5 ^ a8 ^ a10&a5 ^ a10&a8 ^ a11&a5 ^ a11&a8 ^ a12&a5 ^ a12&a6 ^ a12&a7 ^ a6&a9 ^ a7&a9 ^ a8&a9]&[~a1 ^ a2 ^ a4 ^ a5 ^ a7 ^ a8 ^ a1&a6 ^ a1&a7 ^ a2&a5 ^ a2&a7 ^ a2&a8 ^ a3&a5 ^ a3&a6 ^ a3&a8 ^ a4&a6 ^ a4&a7]&[~a10 ^ a11 ^ a12 ^ a2 ^ a4 ^ a5 ^ a7 ^ a9 ^ a1&a10 ^ a1&a12 ^ a1&a6 ^ a1&a8 ^ a10&a3 ^ a10&a5 ^ a10&a7 ^ a11&a2 ^ a11&a4 ^ a11&a6 ^ a11&a8 ^ a12&a3 ^ a12&a5 ^ a12&a7 ^ a2&a5 ^ a2&a7 ^ a2&a9 ^ a3&a6 ^ a3&a8 ^ a4&a5 ^ a4&a7 ^ a4&a9 ^ a6&a9 ^ a8&a9]'"
      ]
     },
     "execution_count": 1,
     "metadata": {},
     "output_type": "execute_result"
    }
   ],
   "source": [
    "from sympy import symbols, Matrix, pprint, collect, factor\n",
    "from sympy import *\n",
    "import itertools\n",
    "\n",
    "a = []\n",
    "name = \"a\"\n",
    "for i in range(0,13):\n",
    "    v = symbols(name+str(i))\n",
    "    a.append(v)\n",
    "\n",
    "A1 = Matrix([[1, 0, 0, 0],[0, 1, 0 ,0],[0, 0, 1 , 0],[0,0,0,1] ])\n",
    "A2 = Matrix([[0, 1, 0, 0],[1, 1, 0 ,0],[0, 0, 0 , 1],[0,0,1,1] ])\n",
    "A3 = Matrix([[0, 0, a[1], a[5]],[0,0, a[2] ,a[6]],[1, 0, a[3] , a[7]],[0,1,a[4],a[8]] ])\n",
    "A4 = Matrix([[0, 0, a[5], a[9]],[0, 0, a[6] ,a[10]],[0, 1, a[7], a[11]],[1,1,a[8],a[12]] ])\n",
    "aC41=[]\n",
    "A=[]\n",
    "for i in range(0,16):\n",
    "    aC41.append('{0:04b}'.format(i))\n",
    "    M=int(aC41[i][0])*A1+int(aC41[i][1])*A2+int(aC41[i][2])*A3 +int(aC41[i][3])*A4\n",
    "    A.append(M.det())\n",
    "def Equations(First):\n",
    "    BB31= First\n",
    "    Pl1 =[]\n",
    "    for i in range(len(BB31)):\n",
    "        Pl1.append(dict(BB31[i].as_coefficients_dict()))\n",
    "    ##Symplify computations of coefficients module 2\n",
    "    EQ1 =[]\n",
    "    for l in range(len(Pl1)):\n",
    "        for s in Pl1[l]:\n",
    "            if (Pl1[l][s] % 2) == 0:\n",
    "                Pl1[l][s] = 0\n",
    "            else:\n",
    "                Pl1[l][s] = 1\n",
    "        EQ1.append(sum([key * val for key, val in Pl1[l].items()]))\n",
    "    ##Selecting the equations we need\n",
    "    EQ3=[]\n",
    "    for l in range(len(EQ1)):\n",
    "        if (EQ1[l] != 0) and (EQ1[l]!=1):\n",
    "            EQ3.append(EQ1[l])\n",
    "    return(EQ3)\n",
    "def Polynomial1(w):\n",
    "    h_test1=[]\n",
    "    w_test1=[]\n",
    "    w_final_test1=[]\n",
    "    for n in range(len(w)):\n",
    "        if  (w[n] == 1) or (w[n] == 0):\n",
    "            w_test1.append(w[n])\n",
    "        else:\n",
    "            h_test1.append(w[n].make_args(w[n]))\n",
    "    g_test1 =[]\n",
    "    for m in range(len(h_test1)):\n",
    "        g_test1.append(list(h_test1[m]))\n",
    "        for l in range(len(h_test1[m])):\n",
    "            if(h_test1[m][l]==1):\n",
    "                g_test1[m][1]=~(g_test1[m][1])\n",
    "                del g_test1[m][l]\n",
    "    w_final_test1 = '&'.join([str(item) for item in g_test1])\n",
    "    w_final_test1 = w_final_test1.replace(\"*\",\"&\")\n",
    "    w_final_test1 = w_final_test1.replace(\",\",\" ^\")\n",
    "    return(w_final_test1)\n",
    "Polynomial1(Equations(A))"
   ]
  },
  {
   "cell_type": "code",
   "execution_count": 2,
   "metadata": {
    "colab": {
     "base_uri": "https://localhost:8080/",
     "height": 938
    },
    "id": "ZLayqIGMi7yp",
    "outputId": "28f1c6d1-639d-4012-e2b7-163206362966"
   },
   "outputs": [
    {
     "data": {
      "text/html": [
       "<pre style=\"word-wrap: normal;white-space: pre;background: #fff0;line-height: 1.1;font-family: &quot;Courier New&quot;,Courier,monospace\">                                                                            »\n",
       " q_0: ──■────o────o────■────o────o────■────o────■────■────■────■────■────■──»\n",
       "        │    │    │    │    │    │    │    │    │    │    │    │    │    │  »\n",
       " q_1: ──■────■────■────o────■────■────■────■────o────o────o────■────o────■──»\n",
       "        │    │    │    │    │    │    │    │    │    │    │    │    │    │  »\n",
       " q_2: ──■────o────o────■────■────■────o────■────o────o────o────o────■────o──»\n",
       "        │    │    │    │    │    │    │    │    │    │    │    │    │    │  »\n",
       " q_3: ──■────┼────■────■────o────o────■────o────o────■────■────■────■────■──»\n",
       "        │    │    │    │    │    │    │    │    │    │    │    │    │    │  »\n",
       " q_4: ──■────■────■────■────■────■────■────■────o────o────■────o────o────o──»\n",
       "        │    │    │    │    │    │    │    │    │    │    │    │    │    │  »\n",
       " q_5: ──o────■────o────■────o────■────o────■────■────■────■────■────■────■──»\n",
       "        │    │    │    │    │    │    │    │    │    │    │    │    │    │  »\n",
       " q_6: ──■────■────o────o────■────o────■────o────■────■────o────■────■────■──»\n",
       "        │    │    │    │    │    │    │    │    │    │    │    │    │    │  »\n",
       " q_7: ──o────■────■────o────o────■────o────■────o────■────o────┼────o────■──»\n",
       "        │    │    │    │    │    │    │    │    │    │    │    │    │    │  »\n",
       " q_8: ──o────■────■────o────■────■────o────■────■────■────o────■────■────■──»\n",
       "        │    │    │    │    │    │    │    │    │    │    │    │    │    │  »\n",
       " q_9: ──■────o────■────■────■────o────■────o────■────■────■────o────■────o──»\n",
       "        │    │    │    │    │    │    │    │    │    │    │    │    │    │  »\n",
       "q_10: ──o────■────■────o────■────┼────o────■────■────■────■────■────┼────■──»\n",
       "        │    │    │    │    │    │    │    │    │    │    │    │    │    │  »\n",
       "q_11: ──■────o────■────■────■────o────┼────┼────■────o────■────o────■────┼──»\n",
       "      ┌─┴─┐┌─┴─┐┌─┴─┐┌─┴─┐┌─┴─┐┌─┴─┐┌─┴─┐┌─┴─┐┌─┴─┐┌─┴─┐┌─┴─┐┌─┴─┐┌─┴─┐┌─┴─┐»\n",
       "q_12: ┤ X ├┤ X ├┤ X ├┤ X ├┤ X ├┤ X ├┤ X ├┤ X ├┤ X ├┤ X ├┤ X ├┤ X ├┤ X ├┤ X ├»\n",
       "      └───┘└───┘└───┘└───┘└───┘└───┘└───┘└───┘└───┘└───┘└───┘└───┘└───┘└───┘»\n",
       "«           \n",
       "« q_0: ──■──\n",
       "«        │  \n",
       "« q_1: ──■──\n",
       "«        │  \n",
       "« q_2: ──■──\n",
       "«        │  \n",
       "« q_3: ──o──\n",
       "«        │  \n",
       "« q_4: ──■──\n",
       "«        │  \n",
       "« q_5: ──o──\n",
       "«        │  \n",
       "« q_6: ──o──\n",
       "«        │  \n",
       "« q_7: ──■──\n",
       "«        │  \n",
       "« q_8: ──o──\n",
       "«        │  \n",
       "« q_9: ──■──\n",
       "«        │  \n",
       "«q_10: ──■──\n",
       "«        │  \n",
       "«q_11: ──■──\n",
       "«      ┌─┴─┐\n",
       "«q_12: ┤ X ├\n",
       "«      └───┘</pre>"
      ],
      "text/plain": [
       "                                                                            »\n",
       " q_0: ──■────o────o────■────o────o────■────o────■────■────■────■────■────■──»\n",
       "        │    │    │    │    │    │    │    │    │    │    │    │    │    │  »\n",
       " q_1: ──■────■────■────o────■────■────■────■────o────o────o────■────o────■──»\n",
       "        │    │    │    │    │    │    │    │    │    │    │    │    │    │  »\n",
       " q_2: ──■────o────o────■────■────■────o────■────o────o────o────o────■────o──»\n",
       "        │    │    │    │    │    │    │    │    │    │    │    │    │    │  »\n",
       " q_3: ──■────┼────■────■────o────o────■────o────o────■────■────■────■────■──»\n",
       "        │    │    │    │    │    │    │    │    │    │    │    │    │    │  »\n",
       " q_4: ──■────■────■────■────■────■────■────■────o────o────■────o────o────o──»\n",
       "        │    │    │    │    │    │    │    │    │    │    │    │    │    │  »\n",
       " q_5: ──o────■────o────■────o────■────o────■────■────■────■────■────■────■──»\n",
       "        │    │    │    │    │    │    │    │    │    │    │    │    │    │  »\n",
       " q_6: ──■────■────o────o────■────o────■────o────■────■────o────■────■────■──»\n",
       "        │    │    │    │    │    │    │    │    │    │    │    │    │    │  »\n",
       " q_7: ──o────■────■────o────o────■────o────■────o────■────o────┼────o────■──»\n",
       "        │    │    │    │    │    │    │    │    │    │    │    │    │    │  »\n",
       " q_8: ──o────■────■────o────■────■────o────■────■────■────o────■────■────■──»\n",
       "        │    │    │    │    │    │    │    │    │    │    │    │    │    │  »\n",
       " q_9: ──■────o────■────■────■────o────■────o────■────■────■────o────■────o──»\n",
       "        │    │    │    │    │    │    │    │    │    │    │    │    │    │  »\n",
       "q_10: ──o────■────■────o────■────┼────o────■────■────■────■────■────┼────■──»\n",
       "        │    │    │    │    │    │    │    │    │    │    │    │    │    │  »\n",
       "q_11: ──■────o────■────■────■────o────┼────┼────■────o────■────o────■────┼──»\n",
       "      ┌─┴─┐┌─┴─┐┌─┴─┐┌─┴─┐┌─┴─┐┌─┴─┐┌─┴─┐┌─┴─┐┌─┴─┐┌─┴─┐┌─┴─┐┌─┴─┐┌─┴─┐┌─┴─┐»\n",
       "q_12: ┤ X ├┤ X ├┤ X ├┤ X ├┤ X ├┤ X ├┤ X ├┤ X ├┤ X ├┤ X ├┤ X ├┤ X ├┤ X ├┤ X ├»\n",
       "      └───┘└───┘└───┘└───┘└───┘└───┘└───┘└───┘└───┘└───┘└───┘└───┘└───┘└───┘»\n",
       "«           \n",
       "« q_0: ──■──\n",
       "«        │  \n",
       "« q_1: ──■──\n",
       "«        │  \n",
       "« q_2: ──■──\n",
       "«        │  \n",
       "« q_3: ──o──\n",
       "«        │  \n",
       "« q_4: ──■──\n",
       "«        │  \n",
       "« q_5: ──o──\n",
       "«        │  \n",
       "« q_6: ──o──\n",
       "«        │  \n",
       "« q_7: ──■──\n",
       "«        │  \n",
       "« q_8: ──o──\n",
       "«        │  \n",
       "« q_9: ──■──\n",
       "«        │  \n",
       "«q_10: ──■──\n",
       "«        │  \n",
       "«q_11: ──■──\n",
       "«      ┌─┴─┐\n",
       "«q_12: ┤ X ├\n",
       "«      └───┘"
      ]
     },
     "execution_count": 2,
     "metadata": {},
     "output_type": "execute_result"
    }
   ],
   "source": [
    "from qiskit.circuit import classical_function,  Int1\n",
    "@classical_function\n",
    "def grover_oracle(a1: Int1, a2: Int1, a3: Int1, a4: Int1, a5: Int1, a6: Int1, a7: Int1, a8: Int1, a9:Int1, a10: Int1, a11: Int1, a12:Int1) -> Int1:\n",
    "    return ((a10&a5 ^ a6&a9)&(a1&a6 ^ a2&a5)&(a1&a10 ^ a1&a6 ^ a10&a5 ^ a2&a5 ^ a2&a9 ^ a6&a9)&(not(a11) ^ a5 ^ a6 ^ a7 ^ a8 ^ a9 ^ a10&a5 ^ a10&a7 ^ a11&a6 ^ a11&a8 ^ a12&a5 ^ a12&a7 ^ a6&a9 ^ a8&a9)&(not(a2) ^ a3 ^ a4 ^ a5 ^ a6 ^ a7 ^ a1&a6 ^ a1&a7 ^ a1&a8 ^ a2&a5 ^ a2&a8 ^ a3&a5 ^ a3&a8 ^ a4&a5 ^ a4&a6 ^ a4&a7)&(not(a1) ^ a10 ^ a11 ^ a3 ^ a4 ^ a5 ^ a6 ^ a8 ^ a1&a10 ^ a1&a11 ^ a1&a6 ^ a1&a7 ^ a10&a3 ^ a10&a4 ^ a10&a5 ^ a10&a7 ^ a10&a8 ^ a11&a2 ^ a11&a4 ^ a11&a5 ^ a11&a6 ^ a11&a8 ^ a12&a2 ^ a12&a3 ^ a12&a6 ^ a12&a7 ^ a2&a5 ^ a2&a7 ^ a2&a8 ^ a2&a9 ^ a3&a5 ^ a3&a6 ^ a3&a8 ^ a3&a9 ^ a4&a6 ^ a4&a7 ^ a6&a9 ^ a7&a9)&(not(a10 ^ a12 ^ a6 ^ a7 ^ a9 ^ a10&a5 ^ a10&a7 ^ a10&a8 ^ a11&a5 ^ a11&a6 ^ a11&a8 ^ a12&a6 ^ a12&a7 ^ a6&a9 ^ a7&a9)&(not(a1) ^ a3 ^ a6 ^ a8 ^ a1&a6 ^ a1&a8 ^ a2&a5 ^ a2&a7 ^ a3&a6 ^ a3&a8 ^ a4&a5 ^ a4&a7)&(not(a1) ^ a12 ^ a2 ^ a3 ^ a6 ^ a7 ^ a8 ^ a9 ^ a1&a10 ^ a1&a11 ^ a1&a12 ^ a1&a6 ^ a1&a7 ^ a1&a8 ^ a10&a4 ^ a10&a5 ^ a10&a8 ^ a11&a4 ^ a11&a5 ^ a11&a8 ^ a12&a2 ^ a12&a3 ^ a12&a5 ^ a12&a6 ^ a12&a7 ^ a2&a5 ^ a2&a8 ^ a2&a9 ^ a3&a5 ^ a3&a8 ^ a3&a9 ^ a4&a5 ^ a4&a6 ^ a4&a7 ^ a4&a9 ^ a6&a9 ^ a7&a9 ^ a8&a9)&(not(a10) ^ a11 ^ a12 ^ a5 ^ a8 ^ a10&a5 ^ a10&a8 ^ a11&a5 ^ a11&a8 ^ a12&a5 ^ a12&a6 ^ a12&a7 ^ a6&a9 ^ a7&a9 ^ a8&a9)&(not(a1) ^ a2 ^ a4 ^ a5 ^ a7 ^ a8 ^ a1&a6 ^ a1&a7 ^ a2&a5 ^ a2&a7 ^ a2&a8 ^ a3&a5 ^ a3&a6 ^ a3&a8 ^ a4&a6 ^ a4&a7)&(not(a10) ^ a11 ^ a12 ^ a2 ^ a4 ^ a5 ^ a7 ^ a9 ^ a1&a10 ^ a1&a12 ^ a1&a6 ^ a1&a8 ^ a10&a3 ^ a10&a5 ^ a10&a7 ^ a11&a2 ^ a11&a4 ^ a11&a6 ^ a11&a8 ^ a12&a3 ^ a12&a5 ^ a12&a7 ^ a2&a5 ^ a2&a7 ^ a2&a9 ^ a3&a6 ^ a3&a8 ^ a4&a5 ^ a4&a7 ^ a4&a9 ^ a6&a9 ^ a8&a9)))\n",
    "quantum_circuitc3 = grover_oracle.synth()\n",
    "quantum_circuitc3.draw()"
   ]
  },
  {
   "cell_type": "code",
   "execution_count": 3,
   "metadata": {
    "id": "u2Lr3SPMdbQH"
   },
   "outputs": [],
   "source": [
    "from qiskit import Aer\n",
    "from qiskit import QuantumCircuit, QuantumRegister, ClassicalRegister, transpile, assemble\n",
    "import random\n",
    "from qiskit.circuit.library.standard_gates.x import XGate, MCXGate"
   ]
  },
  {
   "cell_type": "code",
   "execution_count": 4,
   "metadata": {
    "id": "VUuvIxXsc7HB"
   },
   "outputs": [],
   "source": [
    "def diffuser(nqubits):\n",
    "    qc = QuantumCircuit(nqubits)\n",
    "    # Apply transformation |s> -> |00..0> (H-gates)\n",
    "    for qubit in range(nqubits):\n",
    "        qc.h(qubit)\n",
    "    # Apply transformation |00..0> -> |11..1> (X-gates)\n",
    "    for qubit in range(nqubits):\n",
    "        qc.x(qubit)\n",
    "    # Do multi-controlled-Z gate\n",
    "    qc.h(nqubits-1)\n",
    "    qc.mct(list(range(nqubits-1)), nqubits-1)  # multi-controlled-toffoli\n",
    "    qc.h(nqubits-1)\n",
    "    # Apply transformation |11..1> -> |00..0>\n",
    "    for qubit in range(nqubits):\n",
    "        qc.x(qubit)\n",
    "    # Apply transformation |00..0> -> |s>\n",
    "    for qubit in range(nqubits):\n",
    "        qc.h(qubit)\n",
    "    # We will return the diffuser as a gatehttp://localhost:8892/notebooks/Downloads/Multiplication_table_of_F16_Case_3%20.ipynb#\n",
    "    U_s = qc.to_gate()\n",
    "    U_s.name = \"U_s\"\n",
    "    return U_s"
   ]
  },
  {
   "cell_type": "code",
   "execution_count": 5,
   "metadata": {
    "id": "bZtQWRqMT5Fh"
   },
   "outputs": [],
   "source": [
    "def dictionary_to_value(x):\n",
    "    for i in x.keys():\n",
    "        return(i)"
   ]
  },
  {
   "cell_type": "code",
   "execution_count": 6,
   "metadata": {
    "id": "rbyi1IYdO3Ur"
   },
   "outputs": [],
   "source": [
    "def is_a_solution(x):\n",
    "    a = []\n",
    "    for item in x:\n",
    "        a.append(item)\n",
    "    A1 = Matrix([[1, 0, 0, 0],[0, 1, 0 ,0],[0, 0, 1 , 0],[0,0,0,1] ])\n",
    "    A2 = Matrix([[0, 1, 0, 0],[1, 1, 0 ,0],[0, 0, 0 , 1],[0,0,1,1] ])\n",
    "    A3 = Matrix([[0, 0, a[11], a[7]],[0, 0, a[10] ,a[6]],[1, 0, a[9] , a[5]],[0,1,a[8],a[4]] ])\n",
    "    A4 = Matrix([[0, 0, a[7], a[3]],[0, 0, a[6] ,a[2]],[0, 1, a[5] , a[1]],[1,1,a[4],a[0]] ])\n",
    "    aC41=[]  \n",
    "    A=[]\n",
    "    for i in range(0,16):\n",
    "        aC41.append('{0:04b}'.format(i))\n",
    "        M=int(aC41[i][0])*A1+int(aC41[i][1])*A2+int(aC41[i][2])*A3 +int(aC41[i][3])*A4\n",
    "        A.append(M.det())\n",
    "    A.pop(0)\n",
    "    if (all(v != 0 for v in A) == True):\n",
    "        return(x)\n",
    "    else:\n",
    "        return(0)    "
   ]
  },
  {
   "cell_type": "code",
   "execution_count": 7,
   "metadata": {
    "id": "zE3DZjhgQwTL"
   },
   "outputs": [],
   "source": [
    "def quantum_procedure3(creg,qreg):\n",
    "    qc14 = QuantumCircuit(qreg,creg)\n",
    "    # Initialize qubits in state |s>\n",
    "    qc14.x(12)\n",
    "    qc14.h(range(13))\n",
    "    qc14.barrier()\n",
    "    test_list = []\n",
    "    for j in range(63):\n",
    "        test_list.append(j)\n",
    "    # using random.choice() to\n",
    "    # get a random number\n",
    "    random_num = random.choice(test_list)\n",
    "    for j in range(random_num):\n",
    "        qc14.compose(quantum_circuitc3, inplace = True)\n",
    "        qc14.append(diffuser(12), range(12))\n",
    "        qc14.barrier()\n",
    "    qc14.barrier()\n",
    "    qc14.h(12)\n",
    "    qc14.measure(range(12), range(12))\n",
    "    aer_sim = Aer.get_backend('aer_simulator')\n",
    "    transpiled_qc14 = transpile(qc14, aer_sim)\n",
    "    qobj4 = assemble(transpiled_qc14)\n",
    "    results4 = aer_sim.run(qobj4,shots = 1).result()\n",
    "    counts4 = results4.get_counts()\n",
    "    dictionary_to_value(counts4)\n",
    "    return(dictionary_to_value(counts4),random_num)"
   ]
  },
  {
   "cell_type": "code",
   "execution_count": 8,
   "metadata": {},
   "outputs": [],
   "source": [
    "def finding_solutions(R):\n",
    "    find_solution = []\n",
    "    qreg11 = QuantumRegister(13)\n",
    "    creg11 = ClassicalRegister(12)\n",
    "    for j in range(R):\n",
    "        a = quantum_procedure3(creg11,qreg11)\n",
    "        find_solution.append(a)\n",
    "        if is_a_solution(a[0]) !=0:\n",
    "            break\n",
    "    return(find_solution)"
   ]
  },
  {
   "cell_type": "code",
   "execution_count": 9,
   "metadata": {
    "colab": {
     "base_uri": "https://localhost:8080/"
    },
    "id": "dRho3v0VTOFg",
    "outputId": "15c3ea7b-256e-41d6-92ec-7e0fbd59d6c8"
   },
   "outputs": [
    {
     "data": {
      "text/plain": [
       "[('101001011111', 40)]"
      ]
     },
     "execution_count": 9,
     "metadata": {},
     "output_type": "execute_result"
    }
   ],
   "source": [
    "finding_solutions(68)"
   ]
  },
  {
   "cell_type": "code",
   "execution_count": 11,
   "metadata": {},
   "outputs": [
    {
     "data": {
      "text/plain": [
       "'101001011111'"
      ]
     },
     "execution_count": 11,
     "metadata": {},
     "output_type": "execute_result"
    }
   ],
   "source": [
    "is_a_solution('101001011111')"
   ]
  },
  {
   "cell_type": "code",
   "execution_count": 12,
   "metadata": {
    "id": "rQ69_8Dr9bwN"
   },
   "outputs": [],
   "source": [
    "def quantum_procedure31(creg,qreg):\n",
    "    qc14 = QuantumCircuit(qreg,creg)\n",
    "    # Initialize qubits in state |s>\n",
    "    qc14.x(12)\n",
    "    qc14.h(range(13))\n",
    "    qc14.barrier()\n",
    "    test_list = []\n",
    "    for j in range(63):\n",
    "        test_list.append(j)\n",
    "  # using random.choice() to\n",
    "  # get a random number\n",
    "    random_num = random.choice(test_list)\n",
    "    for j in range(random_num):\n",
    "        qc14.compose(quantum_circuitc3, inplace = True)\n",
    "        qc14.barrier()\n",
    "        \n",
    "        control1 = MCXGate(12, None, '101001011111')\n",
    "        qc14.append(control1, [0, 1, 2, 3, 4 ,5 ,6, 7, 8, 9, 10, 11, 12])\n",
    "                \n",
    "        qc14.append(diffuser(12), range(12))\n",
    "        qc14.barrier()\n",
    "    qc14.h(12)\n",
    "    qc14.measure(range(12), range(12))\n",
    "    #print(qc14.draw(fold=-1))\n",
    "    aer_sim = Aer.get_backend('aer_simulator')\n",
    "    transpiled_qc14 = transpile(qc14, aer_sim)\n",
    "    qobj4 = assemble(transpiled_qc14)\n",
    "    results4 = aer_sim.run(qobj4,shots = 1).result()\n",
    "    counts4 = results4.get_counts()\n",
    "    dictionary_to_value(counts4)\n",
    "    return(dictionary_to_value(counts4),random_num)"
   ]
  },
  {
   "cell_type": "code",
   "execution_count": 13,
   "metadata": {
    "colab": {
     "base_uri": "https://localhost:8080/"
    },
    "id": "ELw-_6mr9bz1",
    "outputId": "77a09d7a-75cc-4131-bed0-7903dc510bdf"
   },
   "outputs": [],
   "source": [
    "def finding_solutions31(R):\n",
    "    find_solution = []\n",
    "    qreg11 = QuantumRegister(13)\n",
    "    creg11 = ClassicalRegister(12)\n",
    "    for j in range(R):\n",
    "        a = quantum_procedure31(creg11,qreg11)\n",
    "        find_solution.append(a)\n",
    "        if is_a_solution(a[0]) !=0:\n",
    "            break\n",
    "    return(find_solution)"
   ]
  },
  {
   "cell_type": "code",
   "execution_count": 14,
   "metadata": {},
   "outputs": [
    {
     "data": {
      "text/plain": [
       "[('111110111101', 44), ('101101101101', 53)]"
      ]
     },
     "execution_count": 14,
     "metadata": {},
     "output_type": "execute_result"
    }
   ],
   "source": [
    "finding_solutions31(68)"
   ]
  },
  {
   "cell_type": "code",
   "execution_count": null,
   "metadata": {},
   "outputs": [],
   "source": [
    "is_a_solution('010111111010')"
   ]
  },
  {
   "cell_type": "code",
   "execution_count": null,
   "metadata": {},
   "outputs": [],
   "source": []
  },
  {
   "cell_type": "code",
   "execution_count": 15,
   "metadata": {
    "id": "emvak-lN-Pfm"
   },
   "outputs": [],
   "source": [
    "def quantum_procedure32(creg,qreg):\n",
    "    qc14 = QuantumCircuit(qreg,creg)\n",
    "    # Initialize qubits in state |s>\n",
    "    qc14.x(12)\n",
    "    qc14.h(range(13))\n",
    "    qc14.barrier()\n",
    "    test_list = []\n",
    "    for j in range(63):\n",
    "        test_list.append(j)\n",
    "    # using random.choice() to\n",
    "    # get a random number\n",
    "    random_num = random.choice(test_list)\n",
    "    for j in range(random_num):\n",
    "        qc14.compose(quantum_circuitc3, inplace = True)\n",
    "        qc14.barrier()\n",
    "        \n",
    "        control1 = MCXGate(12, None, '101001011111')\n",
    "        qc14.append(control1, [0, 1, 2, 3, 4 ,5 ,6, 7, 8, 9, 10, 11, 12])\n",
    "        \n",
    "        control2 = MCXGate(12, None, '101101101101')\n",
    "        qc14.append(control2, [0, 1, 2, 3, 4 ,5 ,6, 7, 8, 9, 10, 11, 12])\n",
    "        \n",
    "        qc14.append(diffuser(12), range(12))\n",
    "        qc14.barrier()\n",
    "    qc14.h(12)\n",
    "    qc14.measure(range(12), range(12))\n",
    "    #print(qc14.draw(fold=-1))\n",
    "    aer_sim = Aer.get_backend('aer_simulator')\n",
    "    transpiled_qc14 = transpile(qc14, aer_sim)\n",
    "    qobj4 = assemble(transpiled_qc14)\n",
    "    results4 = aer_sim.run(qobj4,shots = 1).result()\n",
    "    counts4 = results4.get_counts()\n",
    "    dictionary_to_value(counts4)\n",
    "    return(dictionary_to_value(counts4),random_num)"
   ]
  },
  {
   "cell_type": "code",
   "execution_count": 16,
   "metadata": {},
   "outputs": [],
   "source": [
    "def finding_solutions32(R):\n",
    "    find_solution = []\n",
    "    qreg11 = QuantumRegister(13)\n",
    "    creg11 = ClassicalRegister(12)\n",
    "    for j in range(R):\n",
    "        a = quantum_procedure32(creg11,qreg11)\n",
    "        find_solution.append(a)\n",
    "        if is_a_solution(a[0]) !=0:\n",
    "            break\n",
    "    return(find_solution)"
   ]
  },
  {
   "cell_type": "code",
   "execution_count": 17,
   "metadata": {},
   "outputs": [
    {
     "data": {
      "text/plain": [
       "[('001001011011', 40),\n",
       " ('110111101011', 2),\n",
       " ('111101101101', 12),\n",
       " ('001111000011', 27),\n",
       " ('010101101011', 43),\n",
       " ('110111101011', 5),\n",
       " ('100011011100', 48),\n",
       " ('111001111100', 24),\n",
       " ('101000111101', 32),\n",
       " ('001100111000', 55),\n",
       " ('111100110111', 7),\n",
       " ('110110110110', 14)]"
      ]
     },
     "execution_count": 17,
     "metadata": {},
     "output_type": "execute_result"
    }
   ],
   "source": [
    "finding_solutions32(68)"
   ]
  },
  {
   "cell_type": "code",
   "execution_count": null,
   "metadata": {},
   "outputs": [],
   "source": [
    "is_a_solution('110110110110')"
   ]
  },
  {
   "cell_type": "code",
   "execution_count": 22,
   "metadata": {
    "id": "0nQBIa66wquD"
   },
   "outputs": [],
   "source": [
    "def quantum_procedure34(creg,qreg):\n",
    "    qc14 = QuantumCircuit(qreg,creg)\n",
    "    # Initialize qubits in state |s>\n",
    "    qc14.x(12)\n",
    "    qc14.h(range(13))\n",
    "    qc14.barrier()\n",
    "    test_list = []\n",
    "    for j in range(63):\n",
    "        test_list.append(j)\n",
    "    # using random.choice() to\n",
    "    # get a random number\n",
    "    random_num = random.choice(test_list)\n",
    "    for j in range(random_num):\n",
    "        qc14.compose(quantum_circuitc3, inplace = True)\n",
    "        qc14.barrier()\n",
    "        \n",
    "        control1 = MCXGate(12, None, '101001011111')\n",
    "        qc14.append(control1, [0, 1, 2, 3, 4 ,5 ,6, 7, 8, 9, 10, 11, 12])\n",
    "        \n",
    "        control2 = MCXGate(12, None, '101101101101')\n",
    "        qc14.append(control2, [0, 1, 2, 3, 4 ,5 ,6, 7, 8, 9, 10, 11, 12])\n",
    "        \n",
    "        control3 = MCXGate(12, None, '110110110110' )\n",
    "        qc14.append(control3, [0, 1, 2, 3, 4 ,5 ,6, 7, 8, 9, 10, 11, 12])\n",
    "        \n",
    "        \n",
    "        qc14.append(diffuser(12), range(12))\n",
    "        qc14.barrier()\n",
    "    qc14.h(12)\n",
    "    qc14.measure(range(12), range(12))\n",
    "    #print(qc14.draw(fold=-1))\n",
    "    aer_sim = Aer.get_backend('aer_simulator')\n",
    "    transpiled_qc14 = transpile(qc14, aer_sim)\n",
    "    qobj4 = assemble(transpiled_qc14)\n",
    "    results4 = aer_sim.run(qobj4,shots = 1).result()\n",
    "    counts4 = results4.get_counts()\n",
    "    dictionary_to_value(counts4)\n",
    "    return(dictionary_to_value(counts4),random_num)"
   ]
  },
  {
   "cell_type": "code",
   "execution_count": 23,
   "metadata": {},
   "outputs": [],
   "source": [
    "def finding_solutions34(R):\n",
    "    find_solution = []\n",
    "    qreg11 = QuantumRegister(13)\n",
    "    creg11 = ClassicalRegister(12)\n",
    "    for j in range(R):\n",
    "        a = quantum_procedure34(creg11,qreg11)\n",
    "        find_solution.append(a)\n",
    "        if is_a_solution(a[0]) !=0:\n",
    "            break\n",
    "    return(find_solution)"
   ]
  },
  {
   "cell_type": "code",
   "execution_count": 24,
   "metadata": {},
   "outputs": [
    {
     "data": {
      "text/plain": [
       "[('101110011011', 51),\n",
       " ('101000111101', 35),\n",
       " ('010111111011', 49),\n",
       " ('111101010110', 46),\n",
       " ('011001101010', 8),\n",
       " ('010101101011', 12),\n",
       " ('111000100011', 49),\n",
       " ('101001011011', 37),\n",
       " ('001001011011', 61),\n",
       " ('010111111010', 33)]"
      ]
     },
     "execution_count": 24,
     "metadata": {},
     "output_type": "execute_result"
    }
   ],
   "source": [
    "finding_solutions34(68)"
   ]
  },
  {
   "cell_type": "code",
   "execution_count": null,
   "metadata": {},
   "outputs": [],
   "source": [
    "is_a_solution('111010010111')"
   ]
  },
  {
   "cell_type": "code",
   "execution_count": 25,
   "metadata": {
    "id": "C5WLmSx-_j-d"
   },
   "outputs": [],
   "source": [
    "def quantum_procedure35(creg,qreg):\n",
    "    qc14 = QuantumCircuit(qreg,creg)  \n",
    "    # Initialize qubits in state |s>  \n",
    "    qc14.x(12)\n",
    "    qc14.h(range(13))\n",
    "    qc14.barrier()\n",
    "    test_list = []\n",
    "    for j in range(63):\n",
    "        test_list.append(j)  \n",
    "        # using random.choice() to\n",
    "        # get a random number\n",
    "    random_num = random.choice(test_list)\n",
    "    for j in range(random_num):\n",
    "        qc14.compose(quantum_circuitc3, inplace = True)        \n",
    "        qc14.barrier()\n",
    "        \n",
    "        control1 = MCXGate(12, None, '101001011111')\n",
    "        qc14.append(control1, [0, 1, 2, 3, 4 ,5 ,6, 7, 8, 9, 10, 11, 12])\n",
    "        \n",
    "        control2 = MCXGate(12, None, '101101101101')\n",
    "        qc14.append(control2, [0, 1, 2, 3, 4 ,5 ,6, 7, 8, 9, 10, 11, 12])\n",
    "        \n",
    "        control3 = MCXGate(12, None, '110110110110' )\n",
    "        qc14.append(control3, [0, 1, 2, 3, 4 ,5 ,6, 7, 8, 9, 10, 11, 12])\n",
    "        \n",
    "        control4 = MCXGate(12, None, '010111111010' )\n",
    "        qc14.append(control4, [0, 1, 2, 3, 4 ,5 ,6, 7, 8, 9, 10, 11, 12])\n",
    "        \n",
    "        \n",
    "        qc14.append(diffuser(12), range(12))\n",
    "        qc14.barrier()\n",
    "    qc14.h(12)\n",
    "    qc14.measure(range(12), range(12))\n",
    "    #print(qc14.draw(fold=-1))\n",
    "    aer_sim = Aer.get_backend('aer_simulator')\n",
    "    transpiled_qc14 = transpile(qc14, aer_sim)\n",
    "    qobj4 = assemble(transpiled_qc14)\n",
    "    results4 = aer_sim.run(qobj4,shots = 1).result()\n",
    "    counts4 = results4.get_counts()\n",
    "    dictionary_to_value(counts4)\n",
    "    return(dictionary_to_value(counts4),random_num)"
   ]
  },
  {
   "cell_type": "code",
   "execution_count": 26,
   "metadata": {},
   "outputs": [],
   "source": [
    "def finding_solutions35(R):\n",
    "    find_solution = []\n",
    "    qreg11 = QuantumRegister(13)\n",
    "    creg11 = ClassicalRegister(12)\n",
    "    for j in range(R):\n",
    "        a = quantum_procedure35(creg11,qreg11)\n",
    "        find_solution.append(a)\n",
    "        if is_a_solution(a[0]) !=0:\n",
    "            break\n",
    "    return(find_solution)"
   ]
  },
  {
   "cell_type": "code",
   "execution_count": 27,
   "metadata": {},
   "outputs": [
    {
     "data": {
      "text/plain": [
       "[('010101101011', 8),\n",
       " ('111110011010', 5),\n",
       " ('010010000101', 55),\n",
       " ('001110100100', 53),\n",
       " ('110111101011', 11),\n",
       " ('111101100001', 38),\n",
       " ('111111111011', 17),\n",
       " ('011111101001', 13)]"
      ]
     },
     "execution_count": 27,
     "metadata": {},
     "output_type": "execute_result"
    }
   ],
   "source": [
    "finding_solutions35(68)"
   ]
  },
  {
   "cell_type": "code",
   "execution_count": null,
   "metadata": {},
   "outputs": [],
   "source": [
    "is_a_solution('011111101001')"
   ]
  },
  {
   "cell_type": "code",
   "execution_count": 28,
   "metadata": {
    "id": "vz_K5VB9Ccvd"
   },
   "outputs": [],
   "source": [
    "def quantum_procedure36(creg,qreg):\n",
    "    qc14 = QuantumCircuit(qreg,creg)\n",
    "    # Initialize qubits in state |s>\n",
    "    qc14.x(12)\n",
    "    qc14.h(range(13))\n",
    "    qc14.barrier()\n",
    "    test_list = []\n",
    "    for j in range(63):\n",
    "        test_list.append(j)\n",
    "    # using random.choice() to\n",
    "    # get a random number\n",
    "    random_num = random.choice(test_list)\n",
    "    for j in range(random_num):\n",
    "        qc14.compose(quantum_circuitc3, inplace = True)\n",
    "        qc14.barrier()\n",
    "        \n",
    "        control1 = MCXGate(12, None, '101001011111')\n",
    "        qc14.append(control1, [0, 1, 2, 3, 4 ,5 ,6, 7, 8, 9, 10, 11, 12])\n",
    "        \n",
    "        control2 = MCXGate(12, None, '101101101101')\n",
    "        qc14.append(control2, [0, 1, 2, 3, 4 ,5 ,6, 7, 8, 9, 10, 11, 12])\n",
    "        \n",
    "        control3 = MCXGate(12, None, '110110110110' )\n",
    "        qc14.append(control3, [0, 1, 2, 3, 4 ,5 ,6, 7, 8, 9, 10, 11, 12])\n",
    "        \n",
    "        control4 = MCXGate(12, None, '010111111010' )\n",
    "        qc14.append(control4, [0, 1, 2, 3, 4 ,5 ,6, 7, 8, 9, 10, 11, 12])\n",
    "        \n",
    "        control5 = MCXGate(12, None, '011111101001')\n",
    "        qc14.append(control5, [0, 1, 2, 3, 4 ,5 ,6, 7, 8, 9, 10, 11, 12])\n",
    "        \n",
    "        \n",
    "        qc14.append(diffuser(12), range(12))\n",
    "        qc14.barrier()\n",
    "    qc14.h(12)\n",
    "    qc14.measure(range(12), range(12))\n",
    "    #print(qc14.draw(fold=-1))\n",
    "    aer_sim = Aer.get_backend('aer_simulator')\n",
    "    transpiled_qc14 = transpile(qc14, aer_sim)\n",
    "    qobj4 = assemble(transpiled_qc14)\n",
    "    results4 = aer_sim.run(qobj4,shots = 1).result()\n",
    "    counts4 = results4.get_counts()\n",
    "    dictionary_to_value(counts4)\n",
    "    return(dictionary_to_value(counts4),random_num)"
   ]
  },
  {
   "cell_type": "code",
   "execution_count": 29,
   "metadata": {},
   "outputs": [],
   "source": [
    "def finding_solutions36(R):\n",
    "    find_solution = []\n",
    "    qreg11 = QuantumRegister(13)\n",
    "    creg11 = ClassicalRegister(12)\n",
    "    for j in range(R):\n",
    "        a = quantum_procedure36(creg11,qreg11)\n",
    "        find_solution.append(a)\n",
    "        if is_a_solution(a[0]) !=0:\n",
    "            break\n",
    "    return(find_solution)"
   ]
  },
  {
   "cell_type": "code",
   "execution_count": 30,
   "metadata": {},
   "outputs": [
    {
     "data": {
      "text/plain": [
       "[('110101011111', 6), ('111111010000', 54), ('111010010111', 47)]"
      ]
     },
     "execution_count": 30,
     "metadata": {},
     "output_type": "execute_result"
    }
   ],
   "source": [
    "finding_solutions36(68)"
   ]
  },
  {
   "cell_type": "code",
   "execution_count": null,
   "metadata": {},
   "outputs": [],
   "source": [
    "is_a_solution('111010010111')"
   ]
  },
  {
   "cell_type": "code",
   "execution_count": 31,
   "metadata": {
    "id": "Fc4LlQCpEY2N"
   },
   "outputs": [],
   "source": [
    "def quantum_procedure37(creg,qreg):\n",
    "    qc14 = QuantumCircuit(qreg,creg)\n",
    "    # Initialize qubits in state |s>\n",
    "    qc14.x(12)\n",
    "    qc14.h(range(13))\n",
    "    qc14.barrier()\n",
    "    test_list = []\n",
    "    for j in range(63):\n",
    "        test_list.append(j)\n",
    "    # using random.choice() to\n",
    "    # get a random number\n",
    "    random_num = random.choice(test_list)\n",
    "    for j in range(random_num):\n",
    "        qc14.compose(quantum_circuitc3, inplace = True)\n",
    "        qc14.barrier()\n",
    "        \n",
    "        control1 = MCXGate(12, None, '101001011111')\n",
    "        qc14.append(control1, [0, 1, 2, 3, 4 ,5 ,6, 7, 8, 9, 10, 11, 12])\n",
    "        \n",
    "        control2 = MCXGate(12, None, '101101101101')\n",
    "        qc14.append(control2, [0, 1, 2, 3, 4 ,5 ,6, 7, 8, 9, 10, 11, 12])\n",
    "        \n",
    "        control3 = MCXGate(12, None, '110110110110' )\n",
    "        qc14.append(control3, [0, 1, 2, 3, 4 ,5 ,6, 7, 8, 9, 10, 11, 12])\n",
    "        \n",
    "        control4 = MCXGate(12, None, '010111111010' )\n",
    "        qc14.append(control4, [0, 1, 2, 3, 4 ,5 ,6, 7, 8, 9, 10, 11, 12])\n",
    "        \n",
    "        control5 = MCXGate(12, None, '011111101001')\n",
    "        qc14.append(control5, [0, 1, 2, 3, 4 ,5 ,6, 7, 8, 9, 10, 11, 12])\n",
    "        \n",
    "        control6 = MCXGate(12, None, '111010010111')\n",
    "        qc14.append(control6, [0, 1, 2, 3, 4 ,5 ,6, 7, 8, 9, 10, 11, 12])\n",
    "        \n",
    "        \n",
    "        \n",
    "        qc14.append(diffuser(12), range(12))\n",
    "        qc14.barrier()\n",
    "    qc14.h(12)\n",
    "    qc14.measure(range(12), range(12))\n",
    "    #print(qc14.draw(fold=-1))\n",
    "    aer_sim = Aer.get_backend('aer_simulator')\n",
    "    transpiled_qc14 = transpile(qc14, aer_sim)\n",
    "    qobj4 = assemble(transpiled_qc14)\n",
    "    results4 = aer_sim.run(qobj4,shots = 1).result()\n",
    "    counts4 = results4.get_counts()\n",
    "    dictionary_to_value(counts4)\n",
    "    return(dictionary_to_value(counts4),random_num)"
   ]
  },
  {
   "cell_type": "code",
   "execution_count": 32,
   "metadata": {},
   "outputs": [],
   "source": [
    "def finding_solutions37(R):\n",
    "    find_solution = []\n",
    "    qreg11 = QuantumRegister(13)\n",
    "    creg11 = ClassicalRegister(12)\n",
    "    for j in range(R):\n",
    "        a = quantum_procedure37(creg11,qreg11)\n",
    "        find_solution.append(a)\n",
    "        if is_a_solution(a[0]) !=0:\n",
    "            break\n",
    "    return(find_solution)"
   ]
  },
  {
   "cell_type": "code",
   "execution_count": 33,
   "metadata": {
    "id": "7lctSPAM7cS5"
   },
   "outputs": [
    {
     "data": {
      "text/plain": [
       "[('101000111101', 2),\n",
       " ('101011010101', 23),\n",
       " ('110111011001', 3),\n",
       " ('111110100101', 62),\n",
       " ('010111000111', 3),\n",
       " ('001100011001', 16),\n",
       " ('111001000000', 58),\n",
       " ('110101101011', 57),\n",
       " ('111100100000', 30),\n",
       " ('001111011110', 59),\n",
       " ('010111110010', 58)]"
      ]
     },
     "execution_count": 33,
     "metadata": {},
     "output_type": "execute_result"
    }
   ],
   "source": [
    "finding_solutions37(68)"
   ]
  },
  {
   "cell_type": "code",
   "execution_count": null,
   "metadata": {},
   "outputs": [],
   "source": [
    "is_a_solution('101001011111')"
   ]
  },
  {
   "cell_type": "code",
   "execution_count": 43,
   "metadata": {},
   "outputs": [],
   "source": [
    "def quantum_procedure38(creg,qreg):\n",
    "    qc14 = QuantumCircuit(qreg,creg)\n",
    "    # Initialize qubits in state |s>\n",
    "    qc14.x(12)\n",
    "    qc14.h(range(13))\n",
    "    qc14.barrier()\n",
    "    test_list = []\n",
    "    for j in range(63):\n",
    "        test_list.append(j)\n",
    "    # using random.choice() to\n",
    "    # get a random number\n",
    "    random_num = random.choice(test_list)\n",
    "    for j in range(random_num):\n",
    "        qc14.compose(quantum_circuitc3, inplace = True)\n",
    "        qc14.barrier()\n",
    "        \n",
    "        control1 = MCXGate(12, None, '101001011111')\n",
    "        qc14.append(control1, [0, 1, 2, 3, 4 ,5 ,6, 7, 8, 9, 10, 11, 12])\n",
    "        \n",
    "        control2 = MCXGate(12, None, '101101101101')\n",
    "        qc14.append(control2, [0, 1, 2, 3, 4 ,5 ,6, 7, 8, 9, 10, 11, 12])\n",
    "        \n",
    "        control3 = MCXGate(12, None, '110110110110' )\n",
    "        qc14.append(control3, [0, 1, 2, 3, 4 ,5 ,6, 7, 8, 9, 10, 11, 12])\n",
    "        \n",
    "        control4 = MCXGate(12, None, '010111111010' )\n",
    "        qc14.append(control4, [0, 1, 2, 3, 4 ,5 ,6, 7, 8, 9, 10, 11, 12])\n",
    "        \n",
    "        control5 = MCXGate(12, None, '011111101001')\n",
    "        qc14.append(control5, [0, 1, 2, 3, 4 ,5 ,6, 7, 8, 9, 10, 11, 12])\n",
    "        \n",
    "        control6 = MCXGate(12, None, '111010010111')\n",
    "        qc14.append(control6, [0, 1, 2, 3, 4 ,5 ,6, 7, 8, 9, 10, 11, 12])\n",
    "        \n",
    "        control7 = MCXGate(12, None, '010111110010')\n",
    "        qc14.append(control7, [0, 1, 2, 3, 4 ,5 ,6, 7, 8, 9, 10, 11, 12])\n",
    "        \n",
    "        \n",
    "        qc14.append(diffuser(12), range(12))\n",
    "        qc14.barrier()\n",
    "    qc14.h(12)\n",
    "    qc14.measure(range(12), range(12))\n",
    "    #print(qc14.draw(fold=-1))\n",
    "    aer_sim = Aer.get_backend('aer_simulator')\n",
    "    transpiled_qc14 = transpile(qc14, aer_sim)\n",
    "    qobj4 = assemble(transpiled_qc14)\n",
    "    results4 = aer_sim.run(qobj4,shots = 1).result()\n",
    "    counts4 = results4.get_counts()\n",
    "    dictionary_to_value(counts4)\n",
    "    return(dictionary_to_value(counts4),random_num)\n",
    "\n",
    "\n",
    "def finding_solutions38(R):\n",
    "    find_solution = []\n",
    "    qreg11 = QuantumRegister(13)\n",
    "    creg11 = ClassicalRegister(12)\n",
    "    for j in range(R):\n",
    "        a = quantum_procedure38(creg11,qreg11)\n",
    "        find_solution.append(a)\n",
    "        if is_a_solution(a[0]) !=0:\n",
    "            break\n",
    "    return(find_solution)"
   ]
  },
  {
   "cell_type": "code",
   "execution_count": 44,
   "metadata": {},
   "outputs": [
    {
     "data": {
      "text/plain": [
       "[('001000001011', 21),\n",
       " ('100010100110', 36),\n",
       " ('000010001001', 35),\n",
       " ('111000001111', 34),\n",
       " ('000100110001', 13),\n",
       " ('110111001000', 48),\n",
       " ('011110000000', 13),\n",
       " ('001110100111', 1),\n",
       " ('111111110110', 29),\n",
       " ('001111111010', 12),\n",
       " ('011101111001', 15),\n",
       " ('100101001010', 2),\n",
       " ('010011100001', 11),\n",
       " ('101111100110', 49),\n",
       " ('100010101110', 40),\n",
       " ('001111110000', 28),\n",
       " ('101110110011', 52),\n",
       " ('001001011011', 26),\n",
       " ('001001011011', 44),\n",
       " ('000001010001', 54),\n",
       " ('100000001000', 54),\n",
       " ('110001000100', 45),\n",
       " ('111010010101', 47),\n",
       " ('000110001110', 32),\n",
       " ('011100100101', 21),\n",
       " ('100010101101', 17),\n",
       " ('001001110100', 47),\n",
       " ('000001100011', 45),\n",
       " ('111000101001', 52),\n",
       " ('111101110101', 48),\n",
       " ('101010100101', 45),\n",
       " ('000000111110', 55),\n",
       " ('101101111101', 26),\n",
       " ('000110100000', 44),\n",
       " ('000110110110', 29),\n",
       " ('001100010111', 62),\n",
       " ('010101110111', 14),\n",
       " ('111000111001', 0),\n",
       " ('110111100001', 25),\n",
       " ('110111101011', 55),\n",
       " ('011101101001', 46),\n",
       " ('101111000001', 47),\n",
       " ('011110000011', 60),\n",
       " ('011100010101', 10),\n",
       " ('100010101110', 18),\n",
       " ('111000111001', 9),\n",
       " ('101011000100', 41),\n",
       " ('110110110001', 60),\n",
       " ('100010101000', 45),\n",
       " ('100001110000', 20),\n",
       " ('110101000011', 27),\n",
       " ('011001110000', 30),\n",
       " ('100000011111', 34),\n",
       " ('000010001000', 54),\n",
       " ('100110001111', 57),\n",
       " ('101101101111', 33),\n",
       " ('111111101010', 35),\n",
       " ('100010000110', 43),\n",
       " ('001011101110', 42),\n",
       " ('110001100111', 48),\n",
       " ('111110011010', 20),\n",
       " ('010000110000', 18),\n",
       " ('010100011100', 57),\n",
       " ('011101100101', 24),\n",
       " ('000001100111', 12),\n",
       " ('100000111111', 51),\n",
       " ('000001011111', 45),\n",
       " ('001101111010', 46)]"
      ]
     },
     "execution_count": 44,
     "metadata": {},
     "output_type": "execute_result"
    }
   ],
   "source": [
    "finding_solutions38(68)"
   ]
  },
  {
   "cell_type": "code",
   "execution_count": 45,
   "metadata": {},
   "outputs": [
    {
     "data": {
      "text/plain": [
       "[('111001010001', 11),\n",
       " ('100101000010', 18),\n",
       " ('100010111110', 33),\n",
       " ('110111111011', 25),\n",
       " ('000000011010', 38),\n",
       " ('111001001010', 57),\n",
       " ('101000010111', 31),\n",
       " ('011100111010', 44),\n",
       " ('100100110001', 23),\n",
       " ('100001101010', 16),\n",
       " ('010001001011', 11),\n",
       " ('000011010001', 8),\n",
       " ('111000001111', 23),\n",
       " ('000100111010', 12),\n",
       " ('111110011011', 18),\n",
       " ('110111101011', 25),\n",
       " ('101001011011', 53),\n",
       " ('010101101011', 35),\n",
       " ('111000001001', 56),\n",
       " ('000010110100', 56),\n",
       " ('001100011010', 42)]"
      ]
     },
     "execution_count": 45,
     "metadata": {},
     "output_type": "execute_result"
    }
   ],
   "source": [
    "finding_solutions38(21)"
   ]
  },
  {
   "cell_type": "code",
   "execution_count": null,
   "metadata": {},
   "outputs": [],
   "source": []
  }
 ],
 "metadata": {
  "colab": {
   "provenance": []
  },
  "kernelspec": {
   "display_name": "Python 3 (ipykernel)",
   "language": "python",
   "name": "python3"
  },
  "language_info": {
   "codemirror_mode": {
    "name": "ipython",
    "version": 3
   },
   "file_extension": ".py",
   "mimetype": "text/x-python",
   "name": "python",
   "nbconvert_exporter": "python",
   "pygments_lexer": "ipython3",
   "version": "3.9.7"
  }
 },
 "nbformat": 4,
 "nbformat_minor": 1
}
