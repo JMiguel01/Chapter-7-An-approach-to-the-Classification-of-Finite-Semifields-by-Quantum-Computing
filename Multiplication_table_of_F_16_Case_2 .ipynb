{
 "cells": [
  {
   "cell_type": "code",
   "execution_count": null,
   "metadata": {
    "colab": {
     "base_uri": "https://localhost:8080/"
    },
    "id": "Cv6N3gzYiiAg",
    "outputId": "fefbb628-97bb-4e0c-ee69-ca42d2ec2869"
   },
   "outputs": [],
   "source": [
    "pip install qiskit"
   ]
  },
  {
   "cell_type": "code",
   "execution_count": null,
   "metadata": {
    "colab": {
     "base_uri": "https://localhost:8080/"
    },
    "id": "l2dl5EkIikXd",
    "outputId": "6a1d79f6-39b1-4009-c721-2dd93f6c691f"
   },
   "outputs": [],
   "source": [
    "pip install tweedledum"
   ]
  },
  {
   "cell_type": "code",
   "execution_count": null,
   "metadata": {
    "colab": {
     "base_uri": "https://localhost:8080/"
    },
    "id": "qo-wUWRykGad",
    "outputId": "564ac729-a8c3-47a0-a117-f8edb4a55519"
   },
   "outputs": [],
   "source": [
    "pip install qiskit-aer"
   ]
  },
  {
   "cell_type": "code",
   "execution_count": 1,
   "metadata": {
    "colab": {
     "base_uri": "https://localhost:8080/",
     "height": 157
    },
    "id": "m7BRcGjyk305",
    "outputId": "d3016fc6-557e-41c2-c664-715f8b37d7c6"
   },
   "outputs": [
    {
     "data": {
      "text/plain": [
       "'[a10&a7 ^ a11&a6]&[a1&a6 ^ a2&a5]&[a10&a3 ^ a10&a4 ^ a10&a7 ^ a10&a8 ^ a11&a2 ^ a11&a6 ^ a12&a2 ^ a12&a6 ^ a2&a7 ^ a2&a8 ^ a3&a6 ^ a4&a6]&[~a11 ^ a5 ^ a6 ^ a8 ^ a9 ^ a10&a5 ^ a10&a7 ^ a11&a5 ^ a11&a6 ^ a11&a8 ^ a12&a5 ^ a12&a7 ^ a6&a9 ^ a7&a9 ^ a8&a9]&[~a1 ^ a2 ^ a3 ^ a4 ^ a5 ^ a1&a6 ^ a1&a7 ^ a1&a8 ^ a2&a5 ^ a3&a5 ^ a4&a5]&[~a1 ^ a10 ^ a11 ^ a3 ^ a4 ^ a6 ^ a8 ^ a9 ^ a1&a10 ^ a1&a12 ^ a1&a6 ^ a1&a8 ^ a10&a3 ^ a10&a4 ^ a10&a5 ^ a10&a7 ^ a10&a8 ^ a11&a2 ^ a11&a4 ^ a11&a6 ^ a11&a8 ^ a12&a2 ^ a12&a3 ^ a12&a5 ^ a12&a6 ^ a12&a7 ^ a2&a5 ^ a2&a7 ^ a2&a8 ^ a2&a9 ^ a3&a6 ^ a3&a8 ^ a4&a5 ^ a4&a6 ^ a4&a7 ^ a4&a9 ^ a6&a9 ^ a8&a9]&[~a12 ^ a7 ^ a9 ^ a11&a5 ^ a11&a8 ^ a12&a7 ^ a7&a9]&[~a1 ^ a3 ^ a6 ^ a8 ^ a1&a6 ^ a1&a8 ^ a2&a5 ^ a2&a7 ^ a3&a6 ^ a3&a8 ^ a4&a5 ^ a4&a7]&[~a1 ^ a10 ^ a12 ^ a2 ^ a3 ^ a7 ^ a8 ^ a9 ^ a1&a11 ^ a1&a12 ^ a1&a7 ^ a1&a8 ^ a10&a3 ^ a10&a4 ^ a10&a7 ^ a10&a8 ^ a11&a2 ^ a11&a4 ^ a11&a5 ^ a11&a6 ^ a11&a8 ^ a12&a2 ^ a12&a3 ^ a12&a5 ^ a12&a6 ^ a12&a7 ^ a2&a7 ^ a2&a8 ^ a3&a5 ^ a3&a6 ^ a3&a8 ^ a3&a9 ^ a4&a5 ^ a4&a6 ^ a4&a7 ^ a4&a9 ^ a7&a9 ^ a8&a9]&[~a10 ^ a6 ^ a8 ^ a9 ^ a10&a5 ^ a10&a8 ^ a12&a5 ^ a12&a6 ^ a6&a9 ^ a8&a9]&[~a2 ^ a3 ^ a5 ^ a7 ^ a8 ^ a1&a6 ^ a1&a7 ^ a2&a5 ^ a2&a7 ^ a2&a8 ^ a3&a5 ^ a3&a6 ^ a3&a8 ^ a4&a6 ^ a4&a7]&[~a10 ^ a2 ^ a3 ^ a5 ^ a7 ^ a9 ^ a1&a10 ^ a1&a11 ^ a1&a6 ^ a1&a7 ^ a10&a3 ^ a10&a5 ^ a10&a7 ^ a11&a2 ^ a11&a5 ^ a11&a6 ^ a2&a5 ^ a2&a7 ^ a2&a9 ^ a3&a5 ^ a3&a6 ^ a3&a9 ^ a6&a9 ^ a7&a9]'"
      ]
     },
     "execution_count": 1,
     "metadata": {},
     "output_type": "execute_result"
    }
   ],
   "source": [
    "from sympy import symbols, Matrix, pprint, collect, factor\n",
    "from sympy import *\n",
    "import itertools\n",
    "\n",
    "a = []\n",
    "name = \"a\"\n",
    "for i in range(0,13):\n",
    "    v = symbols(name+str(i))\n",
    "    a.append(v)\n",
    "\n",
    "A1 = Matrix([[1, 0, 0, 0],[0, 1, 0 ,0],[0, 0, 1 , 0],[0,0,0,1] ])\n",
    "A2 = Matrix([[0, 0, 0, 1],[1, 0, 0 ,0],[0, 1, 0 , 0],[0,0,1,1] ])\n",
    "A3 = Matrix([[0, 0, a[1], a[5]],[0, 0, a[2] ,a[6]],[1, 0, a[3] , a[7]],[0,1,a[4],a[8]]])\n",
    "A4 = Matrix([[0, 1, a[5], a[9]],[0, 0, a[6] ,a[10]],[0, 0, a[7] , a[11]],[1,1,a[8],a[12]] ])\n",
    "aC41=[]\n",
    "A=[]\n",
    "for i in range(0,16):\n",
    "    aC41.append('{0:04b}'.format(i))\n",
    "    M=int(aC41[i][0])*A1+int(aC41[i][1])*A2+int(aC41[i][2])*A3 +int(aC41[i][3])*A4\n",
    "    A.append(M.det())\n",
    "def Equations(First):\n",
    "    BB31= First\n",
    "    Pl1 =[]\n",
    "    for i in range(len(BB31)):\n",
    "        Pl1.append(dict(BB31[i].as_coefficients_dict()))\n",
    "    ##Symplify computations of coefficients module 2\n",
    "    EQ1 =[]\n",
    "    for l in range(len(Pl1)):\n",
    "        for s in Pl1[l]:\n",
    "            if (Pl1[l][s] % 2) == 0:\n",
    "                Pl1[l][s] = 0\n",
    "            else:\n",
    "                Pl1[l][s] = 1\n",
    "        EQ1.append(sum([key * val for key, val in Pl1[l].items()]))\n",
    "    ##Selecting the equations we need\n",
    "    EQ3=[]\n",
    "    for l in range(len(EQ1)):\n",
    "        if (EQ1[l] != 0) and (EQ1[l]!=1):\n",
    "            EQ3.append(EQ1[l])\n",
    "    return(EQ3)\n",
    "def Polynomial1(w):\n",
    "    h_test1=[]\n",
    "    w_test1=[]\n",
    "    w_final_test1=[]\n",
    "    for n in range(len(w)):\n",
    "        if  (w[n] == 1) or (w[n] == 0):\n",
    "            w_test1.append(w[n])\n",
    "        else:\n",
    "            h_test1.append(w[n].make_args(w[n]))\n",
    "    g_test1 =[]\n",
    "    for m in range(len(h_test1)):\n",
    "        g_test1.append(list(h_test1[m]))\n",
    "        for l in range(len(h_test1[m])):\n",
    "            if(h_test1[m][l]==1):\n",
    "                g_test1[m][1]=~(g_test1[m][1])\n",
    "                del g_test1[m][l]\n",
    "    w_final_test1 = '&'.join([str(item) for item in g_test1])\n",
    "    w_final_test1 = w_final_test1.replace(\"*\",\"&\")\n",
    "    w_final_test1 = w_final_test1.replace(\",\",\" ^\")\n",
    "    return(w_final_test1)\n",
    "Polynomial1(Equations(A))"
   ]
  },
  {
   "cell_type": "code",
   "execution_count": 2,
   "metadata": {
    "colab": {
     "base_uri": "https://localhost:8080/",
     "height": 522
    },
    "id": "ZLayqIGMi7yp",
    "outputId": "66ef7c6b-92f0-447c-f2b4-ead1c37ef1ca"
   },
   "outputs": [
    {
     "data": {
      "text/html": [
       "<pre style=\"word-wrap: normal;white-space: pre;background: #fff0;line-height: 1.1;font-family: &quot;Courier New&quot;,Courier,monospace\">           \n",
       " q_0: ──■──\n",
       "        │  \n",
       " q_1: ──o──\n",
       "        │  \n",
       " q_2: ──o──\n",
       "        │  \n",
       " q_3: ──■──\n",
       "        │  \n",
       " q_4: ──■──\n",
       "        │  \n",
       " q_5: ──■──\n",
       "        │  \n",
       " q_6: ──o──\n",
       "        │  \n",
       " q_7: ──■──\n",
       "        │  \n",
       " q_8: ──■──\n",
       "        │  \n",
       " q_9: ──■──\n",
       "        │  \n",
       "q_10: ──■──\n",
       "        │  \n",
       "q_11: ──■──\n",
       "      ┌─┴─┐\n",
       "q_12: ┤ X ├\n",
       "      └───┘</pre>"
      ],
      "text/plain": [
       "           \n",
       " q_0: ──■──\n",
       "        │  \n",
       " q_1: ──o──\n",
       "        │  \n",
       " q_2: ──o──\n",
       "        │  \n",
       " q_3: ──■──\n",
       "        │  \n",
       " q_4: ──■──\n",
       "        │  \n",
       " q_5: ──■──\n",
       "        │  \n",
       " q_6: ──o──\n",
       "        │  \n",
       " q_7: ──■──\n",
       "        │  \n",
       " q_8: ──■──\n",
       "        │  \n",
       " q_9: ──■──\n",
       "        │  \n",
       "q_10: ──■──\n",
       "        │  \n",
       "q_11: ──■──\n",
       "      ┌─┴─┐\n",
       "q_12: ┤ X ├\n",
       "      └───┘"
      ]
     },
     "execution_count": 2,
     "metadata": {},
     "output_type": "execute_result"
    }
   ],
   "source": [
    "from qiskit.circuit import classical_function,  Int1\n",
    "@classical_function\n",
    "def grover_oracle(a1: Int1, a2: Int1, a3: Int1, a4: Int1, a5: Int1, a6: Int1, a7: Int1, a8: Int1, a9:Int1, a10: Int1, a11: Int1, a12:Int1) -> Int1:\n",
    "    return ((a10&a7 ^ a11&a6)&(a1&a6 ^ a2&a5)&(a10&a3 ^ a10&a4 ^ a10&a7 ^ a10&a8 ^ a11&a2 ^ a11&a6 ^ a12&a2 ^ a12&a6 ^ a2&a7 ^ a2&a8 ^ a3&a6 ^ a4&a6)&(not(a11) ^ a5 ^ a6 ^ a8 ^ a9 ^ a10&a5 ^ a10&a7 ^ a11&a5 ^ a11&a6 ^ a11&a8 ^ a12&a5 ^ a12&a7 ^ a6&a9 ^ a7&a9 ^ a8&a9)&(not(a1) ^ a2 ^ a3 ^ a4 ^ a5 ^ a1&a6 ^ a1&a7 ^ a1&a8 ^ a2&a5 ^ a3&a5 ^ a4&a5)&(not(a1) ^ a10 ^ a11 ^ a3 ^ a4 ^ a6 ^ a8 ^ a9 ^ a1&a10 ^ a1&a12 ^ a1&a6 ^ a1&a8 ^ a10&a3 ^ a10&a4 ^ a10&a5 ^ a10&a7 ^ a10&a8 ^ a11&a2 ^ a11&a4 ^ a11&a6 ^ a11&a8 ^ a12&a2 ^ a12&a3 ^ a12&a5 ^ a12&a6 ^ a12&a7 ^ a2&a5 ^ a2&a7 ^ a2&a8 ^ a2&a9 ^ a3&a6 ^ a3&a8 ^ a4&a5 ^ a4&a6 ^ a4&a7 ^ a4&a9 ^ a6&a9 ^ a8&a9)&(not(a12) ^ a7 ^ a9 ^ a11&a5 ^ a11&a8 ^ a12&a7 ^ a7&a9)&(not(a1) ^ a3 ^ a6 ^ a8 ^ a1&a6 ^ a1&a8 ^ a2&a5 ^ a2&a7 ^ a3&a6 ^ a3&a8 ^ a4&a5 ^ a4&a7)&(not(a1 ^ a10 ^ a12 ^ a2 ^ a3 ^ a7 ^ a8 ^ a9 ^ a1&a11 ^ a1&a12 ^ a1&a7 ^ a1&a8 ^ a10&a3 ^ a10&a4 ^ a10&a7 ^ a10&a8 ^ a11&a2 ^ a11&a4 ^ a11&a5 ^ a11&a6 ^ a11&a8 ^ a12&a2 ^ a12&a3 ^ a12&a5 ^ a12&a6 ^ a12&a7 ^ a2&a7 ^ a2&a8 ^ a3&a5 ^ a3&a6 ^ a3&a8 ^ a3&a9 ^ a4&a5 ^ a4&a6 ^ a4&a7 ^ a4&a9 ^ a7&a9 ^ a8&a9)&(not(a10) ^ a6 ^ a8 ^ a9 ^ a10&a5 ^ a10&a8 ^ a12&a5 ^ a12&a6 ^ a6&a9 ^ a8&a9)&(not(a2) ^ a3 ^ a5 ^ a7 ^ a8 ^ a1&a6 ^ a1&a7 ^ a2&a5 ^ a2&a7 ^ a2&a8 ^ a3&a5 ^ a3&a6 ^ a3&a8 ^ a4&a6 ^ a4&a7)&(not(a10) ^ a2 ^ a3 ^ a5 ^ a7 ^ a9 ^ a1&a10 ^ a1&a11 ^ a1&a6 ^ a1&a7 ^ a10&a3 ^ a10&a5 ^ a10&a7 ^ a11&a2 ^ a11&a5 ^ a11&a6 ^ a2&a5 ^ a2&a7 ^ a2&a9 ^ a3&a5 ^ a3&a6 ^ a3&a9 ^ a6&a9 ^ a7&a9)))\n",
    "quantum_circuitc2 = grover_oracle.synth()\n",
    "quantum_circuitc2.draw()"
   ]
  },
  {
   "cell_type": "code",
   "execution_count": 3,
   "metadata": {
    "id": "u2Lr3SPMdbQH"
   },
   "outputs": [],
   "source": [
    "from qiskit import Aer\n",
    "from qiskit import QuantumCircuit, QuantumRegister, ClassicalRegister, transpile, assemble\n",
    "import random\n",
    "from qiskit.circuit.library.standard_gates.x import XGate, MCXGate"
   ]
  },
  {
   "cell_type": "code",
   "execution_count": 4,
   "metadata": {
    "id": "VUuvIxXsc7HB"
   },
   "outputs": [],
   "source": [
    "def diffuser(nqubits):\n",
    "    qc = QuantumCircuit(nqubits)\n",
    "    # Apply transformation |s> -> |00..0> (H-gates)\n",
    "    for qubit in range(nqubits):\n",
    "        qc.h(qubit)\n",
    "    # Apply transformation |00..0> -> |11..1> (X-gates)\n",
    "    for qubit in range(nqubits):\n",
    "        qc.x(qubit)\n",
    "    # Do multi-controlled-Z gate\n",
    "    qc.h(nqubits-1)\n",
    "    qc.mct(list(range(nqubits-1)), nqubits-1)  # multi-controlled-toffoli\n",
    "    qc.h(nqubits-1)\n",
    "    # Apply transformation |11..1> -> |00..0>\n",
    "    for qubit in range(nqubits):\n",
    "        qc.x(qubit)\n",
    "    # Apply transformation |00..0> -> |s>\n",
    "    for qubit in range(nqubits):\n",
    "        qc.h(qubit)\n",
    "    # We will return the diffuser as a gate\n",
    "    U_s = qc.to_gate()\n",
    "    U_s.name = \"U_s\"\n",
    "    return U_s"
   ]
  },
  {
   "cell_type": "code",
   "execution_count": 5,
   "metadata": {
    "id": "zE3DZjhgQwTL"
   },
   "outputs": [],
   "source": [
    "def quantum_procedure2(creg,qreg):\n",
    "    qc14 = QuantumCircuit(qreg,creg)\n",
    "    # Initialize qubits in state |s>\n",
    "    qc14.x(12)\n",
    "    qc14.h(range(13))\n",
    "    qc14.barrier()\n",
    "    test_list = []\n",
    "    for j in range(63):\n",
    "        test_list.append(j)\n",
    "    # using random.choice() to\n",
    "    # get a random number\n",
    "    random_num = random.choice(test_list)\n",
    "    for j in range(random_num):\n",
    "        qc14.compose(quantum_circuitc2, inplace = True)\n",
    "        qc14.append(diffuser(12), range(12))\n",
    "        qc14.barrier()\n",
    "    qc14.barrier()\n",
    "    qc14.h(12)\n",
    "    qc14.measure(range(12), range(12))\n",
    "    aer_sim = Aer.get_backend('aer_simulator')\n",
    "    transpiled_qc14 = transpile(qc14, aer_sim)\n",
    "    qobj4 = assemble(transpiled_qc14)\n",
    "    results4 = aer_sim.run(qobj4,shots = 1).result()\n",
    "    counts4 = results4.get_counts()\n",
    "    dictionary_to_value(counts4)\n",
    "    return(dictionary_to_value(counts4),random_num)"
   ]
  },
  {
   "cell_type": "code",
   "execution_count": 6,
   "metadata": {
    "id": "bZtQWRqMT5Fh"
   },
   "outputs": [],
   "source": [
    "def dictionary_to_value(x):\n",
    "    for i in x.keys():\n",
    "        return(i)"
   ]
  },
  {
   "cell_type": "code",
   "execution_count": 7,
   "metadata": {
    "id": "bwcaHDLx1cdm"
   },
   "outputs": [],
   "source": [
    "def is_solution1(x):\n",
    "    a = []\n",
    "    for item in x:\n",
    "        a.append(item)\n",
    "    A1 = Matrix([[1, 0, 0, 0],[0, 1, 0 ,0],[0, 0, 1 , 0],[0,0,0,1] ])\n",
    "    A2 = Matrix([[0, 0, 0, 1],[1, 0, 0 ,0],[0, 1, 0 , 0],[0,0,1,1] ])\n",
    "    A3 = Matrix([[0, 0, a[11], a[7]],[0, 0, a[10] ,a[6]],[1, 0, a[9] , a[5]],[0,1,a[8],a[4]] ])\n",
    "    A4 = Matrix([[0, 1, a[7], a[3]],[0, 0, a[6] ,a[2]],[0, 0, a[5] , a[1]],[1,1,a[4],a[0]] ])\n",
    "    aC41=[]\n",
    "    A=[]\n",
    "    for i in range(0,16):\n",
    "        aC41.append('{0:04b}'.format(i))\n",
    "        M=int(aC41[i][0])*A1+int(aC41[i][1])*A2+int(aC41[i][2])*A3 +int(aC41[i][3])*A4\n",
    "        A.append(M.det())\n",
    "    A.pop(0)\n",
    "    if (all(v != 0 for v in A) == True):\n",
    "        return(x)\n",
    "    else:\n",
    "        return(0)"
   ]
  },
  {
   "cell_type": "code",
   "execution_count": 8,
   "metadata": {},
   "outputs": [],
   "source": [
    "def finding_solutions(R):\n",
    "    find_solution = []\n",
    "    qreg11 = QuantumRegister(13)\n",
    "    creg11 = ClassicalRegister(12)\n",
    "    for j in range(R):\n",
    "        a = quantum_procedure2(creg11,qreg11)\n",
    "        find_solution.append(a)\n",
    "        if is_solution1(a[0]) !=0:\n",
    "            break\n",
    "    return(find_solution)"
   ]
  },
  {
   "cell_type": "code",
   "execution_count": 9,
   "metadata": {},
   "outputs": [
    {
     "data": {
      "text/plain": [
       "[('111110111001', 60)]"
      ]
     },
     "execution_count": 9,
     "metadata": {},
     "output_type": "execute_result"
    }
   ],
   "source": [
    "finding_solutions(44)"
   ]
  },
  {
   "cell_type": "code",
   "execution_count": 10,
   "metadata": {
    "id": "BNtH_zM5VHhy"
   },
   "outputs": [],
   "source": [
    "def oracle_one_solution(x):\n",
    "    qreg = QuantumRegister(13)\n",
    "    creg = ClassicalRegister(12)\n",
    "    qc = QuantumCircuit(qreg,creg)\n",
    "    control = MCXGate(12, None, x)\n",
    "    qc.append(control, [0, 1, 2, 3, 4 ,5 ,6, 7, 8, 9, 10, 11, 12])\n",
    "    #print(qc.draw())\n",
    "    return(qc)"
   ]
  },
  {
   "cell_type": "code",
   "execution_count": 11,
   "metadata": {
    "id": "0nQBIa66wquD"
   },
   "outputs": [],
   "source": [
    "def quantum_procedure12(creg,qreg):\n",
    "    qc14 = QuantumCircuit(qreg,creg)\n",
    "    # Initialize qubits in state |s>\n",
    "    qc14.x(12)\n",
    "    qc14.h(range(13))\n",
    "    qc14.barrier()\n",
    "    test_list = []\n",
    "    for j in range(63):\n",
    "        test_list.append(j)\n",
    "  # using random.choice() to\n",
    "  # get a random number\n",
    "    random_num = random.choice(test_list)\n",
    "    for j in range(random_num):\n",
    "        qc14.compose(quantum_circuitc2, inplace = True)\n",
    "        qc14.compose(oracle_one_solution('111110111001'), inplace = True)\n",
    "        qc14.append(diffuser(12), range(12))\n",
    "    qc14.barrier()\n",
    "    qc14.h(12)\n",
    "    qc14.measure(range(12), range(12))\n",
    "    #print(qc14.draw(fold=-1))\n",
    "    aer_sim = Aer.get_backend('aer_simulator')\n",
    "    transpiled_qc14 = transpile(qc14, aer_sim)\n",
    "    qobj4 = assemble(transpiled_qc14)\n",
    "    results4 = aer_sim.run(qobj4,shots = 1).result()\n",
    "    counts4 = results4.get_counts()\n",
    "    dictionary_to_value(counts4)\n",
    "    return(dictionary_to_value(counts4),random_num)"
   ]
  },
  {
   "cell_type": "code",
   "execution_count": 13,
   "metadata": {},
   "outputs": [],
   "source": [
    "def finding_solutions12(R):\n",
    "    find_solution = []\n",
    "    qreg11 = QuantumRegister(13)\n",
    "    creg11 = ClassicalRegister(12)\n",
    "    for j in range(R):\n",
    "        a = quantum_procedure12(creg11,qreg11)\n",
    "        find_solution.append(a)\n",
    "        if is_solution1(a[0]) !=0:\n",
    "            break\n",
    "    return(find_solution)"
   ]
  },
  {
   "cell_type": "code",
   "execution_count": 15,
   "metadata": {},
   "outputs": [
    {
     "name": "stdout",
     "output_type": "stream",
     "text": [
      "[('011101111011', 52), ('111010000100', 34), ('011010100100', 0), ('010110000111', 44), ('100000110111', 38), ('000010110011', 59), ('010010001011', 36), ('111110011110', 39), ('010100010000', 45), ('000010111111', 37), ('101011011100', 28), ('110010010110', 4), ('001101110010', 28), ('111010011101', 41), ('001111011110', 32), ('010111010000', 61), ('000011010100', 8), ('110010101111', 29), ('001000001000', 32), ('011000110000', 45), ('111010100010', 35), ('111000010101', 10), ('110011000110', 56), ('001110111100', 7), ('110000100111', 31), ('001101100011', 15), ('010011101110', 22), ('111011110000', 44), ('110011101000', 58), ('111011110011', 18), ('010111100100', 34), ('011010010010', 31), ('001000111011', 54), ('000101010001', 52), ('001001110001', 19), ('010001001001', 38), ('110110000100', 42), ('001110111110', 25), ('001111010101', 39), ('010100100100', 0), ('111110001011', 53), ('000000111101', 51), ('101010010100', 51), ('011110000010', 44), ('010011010101', 8), ('011110011011', 51), ('101110010101', 39), ('000010011110', 53), ('100001010100', 17), ('100000010000', 8), ('000001011001', 43), ('110100001101', 53), ('101011101111', 17), ('101000111011', 62), ('001101010000', 31), ('100001111011', 6), ('101010001001', 14), ('110011101001', 13), ('101111000111', 45), ('000001010101', 55), ('010011000000', 42), ('101101111111', 0), ('100011010110', 54), ('111010111000', 31), ('000111000010', 21), ('111000110111', 61), ('011011011010', 2), ('011001001111', 44), ('101010001011', 5), ('100010000110', 2), ('001101111110', 3), ('001000111101', 1), ('100001111000', 12), ('011110111111', 7), ('100110000000', 26), ('000000101010', 38), ('011101010011', 37), ('110100100010', 60), ('000010110010', 11), ('101100011011', 44), ('000111110110', 55), ('111100001010', 53), ('010010000010', 61), ('110011001010', 50), ('100111100101', 4), ('011001101110', 27), ('100000011101', 36)]\n"
     ]
    }
   ],
   "source": [
    "print(finding_solutions12(87))"
   ]
  },
  {
   "cell_type": "code",
   "execution_count": null,
   "metadata": {},
   "outputs": [],
   "source": []
  }
 ],
 "metadata": {
  "colab": {
   "provenance": []
  },
  "kernelspec": {
   "display_name": "Python 3 (ipykernel)",
   "language": "python",
   "name": "python3"
  },
  "language_info": {
   "codemirror_mode": {
    "name": "ipython",
    "version": 3
   },
   "file_extension": ".py",
   "mimetype": "text/x-python",
   "name": "python",
   "nbconvert_exporter": "python",
   "pygments_lexer": "ipython3",
   "version": "3.9.7"
  }
 },
 "nbformat": 4,
 "nbformat_minor": 1
}
