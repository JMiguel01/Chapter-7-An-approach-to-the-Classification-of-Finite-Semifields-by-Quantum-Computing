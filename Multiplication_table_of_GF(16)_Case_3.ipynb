{
  "nbformat": 4,
  "nbformat_minor": 0,
  "metadata": {
    "colab": {
      "provenance": []
    },
    "kernelspec": {
      "name": "python3",
      "display_name": "Python 3"
    },
    "language_info": {
      "name": "python"
    }
  },
  "cells": [
    {
      "cell_type": "code",
      "execution_count": null,
      "metadata": {
        "colab": {
          "base_uri": "https://localhost:8080/"
        },
        "id": "Cv6N3gzYiiAg",
        "outputId": "c5c766d8-1e2a-42ea-b759-1bca1febbaf1"
      },
      "outputs": [
        {
          "output_type": "stream",
          "name": "stdout",
          "text": [
            "Collecting qiskit\n",
            "  Downloading qiskit-0.45.1-py3-none-any.whl (9.6 kB)\n",
            "Collecting qiskit-terra==0.45.1 (from qiskit)\n",
            "  Downloading qiskit_terra-0.45.1-cp38-abi3-manylinux_2_17_x86_64.manylinux2014_x86_64.whl (6.3 MB)\n",
            "\u001b[2K     \u001b[90m━━━━━━━━━━━━━━━━━━━━━━━━━━━━━━━━━━━━━━━━\u001b[0m \u001b[32m6.3/6.3 MB\u001b[0m \u001b[31m16.7 MB/s\u001b[0m eta \u001b[36m0:00:00\u001b[0m\n",
            "\u001b[?25hCollecting rustworkx>=0.13.0 (from qiskit-terra==0.45.1->qiskit)\n",
            "  Downloading rustworkx-0.13.2-cp310-cp310-manylinux_2_17_x86_64.manylinux2014_x86_64.whl (2.0 MB)\n",
            "\u001b[2K     \u001b[90m━━━━━━━━━━━━━━━━━━━━━━━━━━━━━━━━━━━━━━━━\u001b[0m \u001b[32m2.0/2.0 MB\u001b[0m \u001b[31m37.6 MB/s\u001b[0m eta \u001b[36m0:00:00\u001b[0m\n",
            "\u001b[?25hRequirement already satisfied: numpy<2,>=1.17 in /usr/local/lib/python3.10/dist-packages (from qiskit-terra==0.45.1->qiskit) (1.23.5)\n",
            "Collecting ply>=3.10 (from qiskit-terra==0.45.1->qiskit)\n",
            "  Downloading ply-3.11-py2.py3-none-any.whl (49 kB)\n",
            "\u001b[2K     \u001b[90m━━━━━━━━━━━━━━━━━━━━━━━━━━━━━━━━━━━━━━━━\u001b[0m \u001b[32m49.6/49.6 kB\u001b[0m \u001b[31m5.4 MB/s\u001b[0m eta \u001b[36m0:00:00\u001b[0m\n",
            "\u001b[?25hRequirement already satisfied: psutil>=5 in /usr/local/lib/python3.10/dist-packages (from qiskit-terra==0.45.1->qiskit) (5.9.5)\n",
            "Requirement already satisfied: scipy>=1.5 in /usr/local/lib/python3.10/dist-packages (from qiskit-terra==0.45.1->qiskit) (1.11.4)\n",
            "Requirement already satisfied: sympy>=1.3 in /usr/local/lib/python3.10/dist-packages (from qiskit-terra==0.45.1->qiskit) (1.12)\n",
            "Collecting dill>=0.3 (from qiskit-terra==0.45.1->qiskit)\n",
            "  Downloading dill-0.3.7-py3-none-any.whl (115 kB)\n",
            "\u001b[2K     \u001b[90m━━━━━━━━━━━━━━━━━━━━━━━━━━━━━━━━━━━━━━━━\u001b[0m \u001b[32m115.3/115.3 kB\u001b[0m \u001b[31m12.7 MB/s\u001b[0m eta \u001b[36m0:00:00\u001b[0m\n",
            "\u001b[?25hRequirement already satisfied: python-dateutil>=2.8.0 in /usr/local/lib/python3.10/dist-packages (from qiskit-terra==0.45.1->qiskit) (2.8.2)\n",
            "Collecting stevedore>=3.0.0 (from qiskit-terra==0.45.1->qiskit)\n",
            "  Downloading stevedore-5.1.0-py3-none-any.whl (49 kB)\n",
            "\u001b[2K     \u001b[90m━━━━━━━━━━━━━━━━━━━━━━━━━━━━━━━━━━━━━━━━\u001b[0m \u001b[32m49.6/49.6 kB\u001b[0m \u001b[31m3.3 MB/s\u001b[0m eta \u001b[36m0:00:00\u001b[0m\n",
            "\u001b[?25hCollecting symengine!=0.10.0,>=0.9 (from qiskit-terra==0.45.1->qiskit)\n",
            "  Downloading symengine-0.11.0-cp310-cp310-manylinux_2_12_x86_64.manylinux2010_x86_64.whl (39.4 MB)\n",
            "\u001b[2K     \u001b[90m━━━━━━━━━━━━━━━━━━━━━━━━━━━━━━━━━━━━━━━━\u001b[0m \u001b[32m39.4/39.4 MB\u001b[0m \u001b[31m17.9 MB/s\u001b[0m eta \u001b[36m0:00:00\u001b[0m\n",
            "\u001b[?25hRequirement already satisfied: typing-extensions in /usr/local/lib/python3.10/dist-packages (from qiskit-terra==0.45.1->qiskit) (4.5.0)\n",
            "Requirement already satisfied: six>=1.5 in /usr/local/lib/python3.10/dist-packages (from python-dateutil>=2.8.0->qiskit-terra==0.45.1->qiskit) (1.16.0)\n",
            "Collecting pbr!=2.1.0,>=2.0.0 (from stevedore>=3.0.0->qiskit-terra==0.45.1->qiskit)\n",
            "  Downloading pbr-6.0.0-py2.py3-none-any.whl (107 kB)\n",
            "\u001b[2K     \u001b[90m━━━━━━━━━━━━━━━━━━━━━━━━━━━━━━━━━━━━━━━━\u001b[0m \u001b[32m107.5/107.5 kB\u001b[0m \u001b[31m11.8 MB/s\u001b[0m eta \u001b[36m0:00:00\u001b[0m\n",
            "\u001b[?25hRequirement already satisfied: mpmath>=0.19 in /usr/local/lib/python3.10/dist-packages (from sympy>=1.3->qiskit-terra==0.45.1->qiskit) (1.3.0)\n",
            "Installing collected packages: ply, symengine, rustworkx, pbr, dill, stevedore, qiskit-terra, qiskit\n",
            "Successfully installed dill-0.3.7 pbr-6.0.0 ply-3.11 qiskit-0.45.1 qiskit-terra-0.45.1 rustworkx-0.13.2 stevedore-5.1.0 symengine-0.11.0\n"
          ]
        }
      ],
      "source": [
        "pip install qiskit"
      ]
    },
    {
      "cell_type": "code",
      "source": [
        "pip install tweedledum"
      ],
      "metadata": {
        "colab": {
          "base_uri": "https://localhost:8080/"
        },
        "id": "l2dl5EkIikXd",
        "outputId": "a32022de-9d2b-4fcd-8c0d-9a4600644511"
      },
      "execution_count": null,
      "outputs": [
        {
          "output_type": "stream",
          "name": "stdout",
          "text": [
            "Collecting tweedledum\n",
            "  Downloading tweedledum-1.1.1-cp310-cp310-manylinux_2_12_x86_64.manylinux2010_x86_64.whl (929 kB)\n",
            "\u001b[2K     \u001b[90m━━━━━━━━━━━━━━━━━━━━━━━━━━━━━━━━━━━━━━━━\u001b[0m \u001b[32m929.7/929.7 kB\u001b[0m \u001b[31m5.9 MB/s\u001b[0m eta \u001b[36m0:00:00\u001b[0m\n",
            "\u001b[?25hInstalling collected packages: tweedledum\n",
            "Successfully installed tweedledum-1.1.1\n"
          ]
        }
      ]
    },
    {
      "cell_type": "code",
      "source": [
        "pip install qiskit-aer"
      ],
      "metadata": {
        "colab": {
          "base_uri": "https://localhost:8080/"
        },
        "id": "qo-wUWRykGad",
        "outputId": "80a87c3a-18dc-4c19-a9b5-21040542fad2"
      },
      "execution_count": null,
      "outputs": [
        {
          "output_type": "stream",
          "name": "stdout",
          "text": [
            "Collecting qiskit-aer\n",
            "  Downloading qiskit_aer-0.13.1-cp310-cp310-manylinux_2_17_x86_64.manylinux2014_x86_64.whl (12.3 MB)\n",
            "\u001b[2K     \u001b[90m━━━━━━━━━━━━━━━━━━━━━━━━━━━━━━━━━━━━━━━━\u001b[0m \u001b[32m12.3/12.3 MB\u001b[0m \u001b[31m44.1 MB/s\u001b[0m eta \u001b[36m0:00:00\u001b[0m\n",
            "\u001b[?25hRequirement already satisfied: qiskit>=0.44.0 in /usr/local/lib/python3.10/dist-packages (from qiskit-aer) (0.45.1)\n",
            "Requirement already satisfied: numpy>=1.16.3 in /usr/local/lib/python3.10/dist-packages (from qiskit-aer) (1.23.5)\n",
            "Requirement already satisfied: scipy>=1.0 in /usr/local/lib/python3.10/dist-packages (from qiskit-aer) (1.11.4)\n",
            "Requirement already satisfied: psutil>=5 in /usr/local/lib/python3.10/dist-packages (from qiskit-aer) (5.9.5)\n",
            "Requirement already satisfied: qiskit-terra==0.45.1 in /usr/local/lib/python3.10/dist-packages (from qiskit>=0.44.0->qiskit-aer) (0.45.1)\n",
            "Requirement already satisfied: rustworkx>=0.13.0 in /usr/local/lib/python3.10/dist-packages (from qiskit-terra==0.45.1->qiskit>=0.44.0->qiskit-aer) (0.13.2)\n",
            "Requirement already satisfied: ply>=3.10 in /usr/local/lib/python3.10/dist-packages (from qiskit-terra==0.45.1->qiskit>=0.44.0->qiskit-aer) (3.11)\n",
            "Requirement already satisfied: sympy>=1.3 in /usr/local/lib/python3.10/dist-packages (from qiskit-terra==0.45.1->qiskit>=0.44.0->qiskit-aer) (1.12)\n",
            "Requirement already satisfied: dill>=0.3 in /usr/local/lib/python3.10/dist-packages (from qiskit-terra==0.45.1->qiskit>=0.44.0->qiskit-aer) (0.3.7)\n",
            "Requirement already satisfied: python-dateutil>=2.8.0 in /usr/local/lib/python3.10/dist-packages (from qiskit-terra==0.45.1->qiskit>=0.44.0->qiskit-aer) (2.8.2)\n",
            "Requirement already satisfied: stevedore>=3.0.0 in /usr/local/lib/python3.10/dist-packages (from qiskit-terra==0.45.1->qiskit>=0.44.0->qiskit-aer) (5.1.0)\n",
            "Requirement already satisfied: symengine!=0.10.0,>=0.9 in /usr/local/lib/python3.10/dist-packages (from qiskit-terra==0.45.1->qiskit>=0.44.0->qiskit-aer) (0.11.0)\n",
            "Requirement already satisfied: typing-extensions in /usr/local/lib/python3.10/dist-packages (from qiskit-terra==0.45.1->qiskit>=0.44.0->qiskit-aer) (4.5.0)\n",
            "Requirement already satisfied: six>=1.5 in /usr/local/lib/python3.10/dist-packages (from python-dateutil>=2.8.0->qiskit-terra==0.45.1->qiskit>=0.44.0->qiskit-aer) (1.16.0)\n",
            "Requirement already satisfied: pbr!=2.1.0,>=2.0.0 in /usr/local/lib/python3.10/dist-packages (from stevedore>=3.0.0->qiskit-terra==0.45.1->qiskit>=0.44.0->qiskit-aer) (6.0.0)\n",
            "Requirement already satisfied: mpmath>=0.19 in /usr/local/lib/python3.10/dist-packages (from sympy>=1.3->qiskit-terra==0.45.1->qiskit>=0.44.0->qiskit-aer) (1.3.0)\n",
            "Installing collected packages: qiskit-aer\n",
            "Successfully installed qiskit-aer-0.13.1\n"
          ]
        }
      ]
    },
    {
      "cell_type": "code",
      "source": [
        "from sympy import symbols, Matrix, pprint, collect, factor\n",
        "from sympy import *\n",
        "import itertools\n",
        "\n",
        "a = []\n",
        "name = \"a\"\n",
        "for i in range(0,13):\n",
        "    v = symbols(name+str(i))\n",
        "    a.append(v)\n",
        "\n",
        "A1 = Matrix([[1, 0, 0, 0],[0, 1, 0 ,0],[0, 0, 1 , 0],[0,0,0,1] ])\n",
        "A2 = Matrix([[0, 1, 0, 0],[1, 1, 0 ,0],[0, 0, 0 , 1],[0,0,1,1] ])\n",
        "A3 = Matrix([[0, 0, a[1], a[5]],[0,0, a[2] ,a[6]],[1, 0, a[3] , a[7]],[0,1,a[4],a[8]] ])\n",
        "A4 = Matrix([[0, 0, a[5], a[9]],[0, 0, a[6] ,a[10]],[0, 1, a[7], a[11]],[1,1,a[8],a[12]] ])\n",
        "aC41=[]\n",
        "A=[]\n",
        "for i in range(0,16):\n",
        "    aC41.append('{0:04b}'.format(i))\n",
        "    M=int(aC41[i][0])*A1+int(aC41[i][1])*A2+int(aC41[i][2])*A3 +int(aC41[i][3])*A4\n",
        "    A.append(M.det())\n",
        "def Equations(First):\n",
        "    BB31= First\n",
        "    Pl1 =[]\n",
        "    for i in range(len(BB31)):\n",
        "        Pl1.append(dict(BB31[i].as_coefficients_dict()))\n",
        "    ##Symplify computations of coefficients module 2\n",
        "    EQ1 =[]\n",
        "    for l in range(len(Pl1)):\n",
        "        for s in Pl1[l]:\n",
        "            if (Pl1[l][s] % 2) == 0:\n",
        "                Pl1[l][s] = 0\n",
        "            else:\n",
        "                Pl1[l][s] = 1\n",
        "        EQ1.append(sum([key * val for key, val in Pl1[l].items()]))\n",
        "    ##Selecting the equations we need\n",
        "    EQ3=[]\n",
        "    for l in range(len(EQ1)):\n",
        "        if (EQ1[l] != 0) and (EQ1[l]!=1):\n",
        "            EQ3.append(EQ1[l])\n",
        "    return(EQ3)\n",
        "def Polynomial1(w):\n",
        "    h_test1=[]\n",
        "    w_test1=[]\n",
        "    w_final_test1=[]\n",
        "    for n in range(len(w)):\n",
        "        if  (w[n] == 1) or (w[n] == 0):\n",
        "            w_test1.append(w[n])\n",
        "        else:\n",
        "            h_test1.append(w[n].make_args(w[n]))\n",
        "    g_test1 =[]\n",
        "    for m in range(len(h_test1)):\n",
        "        g_test1.append(list(h_test1[m]))\n",
        "        for l in range(len(h_test1[m])):\n",
        "            if(h_test1[m][l]==1):\n",
        "                g_test1[m][1]=~(g_test1[m][1])\n",
        "                del g_test1[m][l]\n",
        "    w_final_test1 = '&'.join([str(item) for item in g_test1])\n",
        "    w_final_test1 = w_final_test1.replace(\"*\",\"&\")\n",
        "    w_final_test1 = w_final_test1.replace(\",\",\" ^\")\n",
        "    return(w_final_test1)\n",
        "Polynomial1(Equations(A))"
      ],
      "metadata": {
        "colab": {
          "base_uri": "https://localhost:8080/",
          "height": 140
        },
        "id": "m7BRcGjyk305",
        "outputId": "4cb1c84e-1753-40d3-dcc0-907eca2f63c6"
      },
      "execution_count": null,
      "outputs": [
        {
          "output_type": "execute_result",
          "data": {
            "text/plain": [
              "'[a10&a5 ^ a6&a9]&[a1&a6 ^ a2&a5]&[a1&a10 ^ a1&a6 ^ a10&a5 ^ a2&a5 ^ a2&a9 ^ a6&a9]&[~a11 ^ a5 ^ a6 ^ a7 ^ a8 ^ a9 ^ a10&a5 ^ a10&a7 ^ a11&a6 ^ a11&a8 ^ a12&a5 ^ a12&a7 ^ a6&a9 ^ a8&a9]&[~a2 ^ a3 ^ a4 ^ a5 ^ a6 ^ a7 ^ a1&a6 ^ a1&a7 ^ a1&a8 ^ a2&a5 ^ a2&a8 ^ a3&a5 ^ a3&a8 ^ a4&a5 ^ a4&a6 ^ a4&a7]&[~a1 ^ a10 ^ a11 ^ a3 ^ a4 ^ a5 ^ a6 ^ a8 ^ a1&a10 ^ a1&a11 ^ a1&a6 ^ a1&a7 ^ a10&a3 ^ a10&a4 ^ a10&a5 ^ a10&a7 ^ a10&a8 ^ a11&a2 ^ a11&a4 ^ a11&a5 ^ a11&a6 ^ a11&a8 ^ a12&a2 ^ a12&a3 ^ a12&a6 ^ a12&a7 ^ a2&a5 ^ a2&a7 ^ a2&a8 ^ a2&a9 ^ a3&a5 ^ a3&a6 ^ a3&a8 ^ a3&a9 ^ a4&a6 ^ a4&a7 ^ a6&a9 ^ a7&a9]&[~a10 ^ a12 ^ a6 ^ a7 ^ a9 ^ a10&a5 ^ a10&a7 ^ a10&a8 ^ a11&a5 ^ a11&a6 ^ a11&a8 ^ a12&a6 ^ a12&a7 ^ a6&a9 ^ a7&a9]&[~a1 ^ a3 ^ a6 ^ a8 ^ a1&a6 ^ a1&a8 ^ a2&a5 ^ a2&a7 ^ a3&a6 ^ a3&a8 ^ a4&a5 ^ a4&a7]&[~a1 ^ a12 ^ a2 ^ a3 ^ a6 ^ a7 ^ a8 ^ a9 ^ a1&a10 ^ a1&a11 ^ a1&a12 ^ a1&a6 ^ a1&a7 ^ a1&a8 ^ a10&a4 ^ a10&a5 ^ a10&a8 ^ a11&a4 ^ a11&a5 ^ a11&a8 ^ a12&a2 ^ a12&a3 ^ a12&a5 ^ a12&a6 ^ a12&a7 ^ a2&a5 ^ a2&a8 ^ a2&a9 ^ a3&a5 ^ a3&a8 ^ a3&a9 ^ a4&a5 ^ a4&a6 ^ a4&a7 ^ a4&a9 ^ a6&a9 ^ a7&a9 ^ a8&a9]&[~a10 ^ a11 ^ a12 ^ a5 ^ a8 ^ a10&a5 ^ a10&a8 ^ a11&a5 ^ a11&a8 ^ a12&a5 ^ a12&a6 ^ a12&a7 ^ a6&a9 ^ a7&a9 ^ a8&a9]&[~a1 ^ a2 ^ a4 ^ a5 ^ a7 ^ a8 ^ a1&a6 ^ a1&a7 ^ a2&a5 ^ a2&a7 ^ a2&a8 ^ a3&a5 ^ a3&a6 ^ a3&a8 ^ a4&a6 ^ a4&a7]&[~a10 ^ a11 ^ a12 ^ a2 ^ a4 ^ a5 ^ a7 ^ a9 ^ a1&a10 ^ a1&a12 ^ a1&a6 ^ a1&a8 ^ a10&a3 ^ a10&a5 ^ a10&a7 ^ a11&a2 ^ a11&a4 ^ a11&a6 ^ a11&a8 ^ a12&a3 ^ a12&a5 ^ a12&a7 ^ a2&a5 ^ a2&a7 ^ a2&a9 ^ a3&a6 ^ a3&a8 ^ a4&a5 ^ a4&a7 ^ a4&a9 ^ a6&a9 ^ a8&a9]'"
            ],
            "application/vnd.google.colaboratory.intrinsic+json": {
              "type": "string"
            }
          },
          "metadata": {},
          "execution_count": 5
        }
      ]
    },
    {
      "cell_type": "code",
      "source": [
        "from qiskit.circuit import classical_function,  Int1\n",
        "@classical_function\n",
        "def grover_oracle(a1: Int1, a2: Int1, a3: Int1, a4: Int1, a5: Int1, a6: Int1, a7: Int1, a8: Int1, a9:Int1, a10: Int1, a11: Int1, a12:Int1) -> Int1:\n",
        "    return ((a10&a5 ^ a6&a9)&(a1&a6 ^ a2&a5)&(a1&a10 ^ a1&a6 ^ a10&a5 ^ a2&a5 ^ a2&a9 ^ a6&a9)&(not(a11) ^ a5 ^ a6 ^ a7 ^ a8 ^ a9 ^ a10&a5 ^ a10&a7 ^ a11&a6 ^ a11&a8 ^ a12&a5 ^ a12&a7 ^ a6&a9 ^ a8&a9)&(not(a2) ^ a3 ^ a4 ^ a5 ^ a6 ^ a7 ^ a1&a6 ^ a1&a7 ^ a1&a8 ^ a2&a5 ^ a2&a8 ^ a3&a5 ^ a3&a8 ^ a4&a5 ^ a4&a6 ^ a4&a7)&(not(a1) ^ a10 ^ a11 ^ a3 ^ a4 ^ a5 ^ a6 ^ a8 ^ a1&a10 ^ a1&a11 ^ a1&a6 ^ a1&a7 ^ a10&a3 ^ a10&a4 ^ a10&a5 ^ a10&a7 ^ a10&a8 ^ a11&a2 ^ a11&a4 ^ a11&a5 ^ a11&a6 ^ a11&a8 ^ a12&a2 ^ a12&a3 ^ a12&a6 ^ a12&a7 ^ a2&a5 ^ a2&a7 ^ a2&a8 ^ a2&a9 ^ a3&a5 ^ a3&a6 ^ a3&a8 ^ a3&a9 ^ a4&a6 ^ a4&a7 ^ a6&a9 ^ a7&a9)&(not(a10 ^ a12 ^ a6 ^ a7 ^ a9 ^ a10&a5 ^ a10&a7 ^ a10&a8 ^ a11&a5 ^ a11&a6 ^ a11&a8 ^ a12&a6 ^ a12&a7 ^ a6&a9 ^ a7&a9)&(not(a1) ^ a3 ^ a6 ^ a8 ^ a1&a6 ^ a1&a8 ^ a2&a5 ^ a2&a7 ^ a3&a6 ^ a3&a8 ^ a4&a5 ^ a4&a7)&(not(a1) ^ a12 ^ a2 ^ a3 ^ a6 ^ a7 ^ a8 ^ a9 ^ a1&a10 ^ a1&a11 ^ a1&a12 ^ a1&a6 ^ a1&a7 ^ a1&a8 ^ a10&a4 ^ a10&a5 ^ a10&a8 ^ a11&a4 ^ a11&a5 ^ a11&a8 ^ a12&a2 ^ a12&a3 ^ a12&a5 ^ a12&a6 ^ a12&a7 ^ a2&a5 ^ a2&a8 ^ a2&a9 ^ a3&a5 ^ a3&a8 ^ a3&a9 ^ a4&a5 ^ a4&a6 ^ a4&a7 ^ a4&a9 ^ a6&a9 ^ a7&a9 ^ a8&a9)&(not(a10) ^ a11 ^ a12 ^ a5 ^ a8 ^ a10&a5 ^ a10&a8 ^ a11&a5 ^ a11&a8 ^ a12&a5 ^ a12&a6 ^ a12&a7 ^ a6&a9 ^ a7&a9 ^ a8&a9)&(not(a1) ^ a2 ^ a4 ^ a5 ^ a7 ^ a8 ^ a1&a6 ^ a1&a7 ^ a2&a5 ^ a2&a7 ^ a2&a8 ^ a3&a5 ^ a3&a6 ^ a3&a8 ^ a4&a6 ^ a4&a7)&(not(a10) ^ a11 ^ a12 ^ a2 ^ a4 ^ a5 ^ a7 ^ a9 ^ a1&a10 ^ a1&a12 ^ a1&a6 ^ a1&a8 ^ a10&a3 ^ a10&a5 ^ a10&a7 ^ a11&a2 ^ a11&a4 ^ a11&a6 ^ a11&a8 ^ a12&a3 ^ a12&a5 ^ a12&a7 ^ a2&a5 ^ a2&a7 ^ a2&a9 ^ a3&a6 ^ a3&a8 ^ a4&a5 ^ a4&a7 ^ a4&a9 ^ a6&a9 ^ a8&a9)))\n",
        "quantum_circuitc3 = grover_oracle.synth()\n",
        "quantum_circuitc3.draw()"
      ],
      "metadata": {
        "colab": {
          "base_uri": "https://localhost:8080/",
          "height": 938
        },
        "id": "ZLayqIGMi7yp",
        "outputId": "28f1c6d1-639d-4012-e2b7-163206362966"
      },
      "execution_count": null,
      "outputs": [
        {
          "output_type": "stream",
          "name": "stderr",
          "text": [
            "<ipython-input-6-c1c6cda66bcd>:1: DeprecationWarning: Accessing 'classical_function' from 'qiskit.circuit' is deprecated since Qiskit Terra 0.22 and will be removed in 0.23.  Import from 'qiskit.circuit.classicalfunction' instead. This will require installing 'tweedledum' as an optional dependency from Terra 0.23.\n",
            "  from qiskit.circuit import classical_function,  Int1\n",
            "<ipython-input-6-c1c6cda66bcd>:1: DeprecationWarning: Accessing 'Int1' from 'qiskit.circuit' is deprecated since Qiskit Terra 0.22 and will be removed in 0.23.  Import from 'qiskit.circuit.classicalfunction.types' instead. This will require installing 'tweedledum' as an optional dependency from Terra 0.23.\n",
            "  from qiskit.circuit import classical_function,  Int1\n"
          ]
        },
        {
          "output_type": "execute_result",
          "data": {
            "text/plain": [
              "                                                                            »\n",
              " q_0: ──■────■────■────■────■────■────■────■────o────o────o────■────o────■──»\n",
              "        │    │    │    │    │    │    │    │    │    │    │    │    │    │  »\n",
              " q_1: ──■────■────■────o────o────o────o────o────■────■────■────■────■────■──»\n",
              "        │    │    │    │    │    │    │    │    │    │    │    │    │    │  »\n",
              " q_2: ──■────o────o────■────■────o────o────o────■────■────■────o────o────■──»\n",
              "        │    │    │    │    │    │    │    │    │    │    │    │    │    │  »\n",
              " q_3: ──■────■────■────■────■────■────■────o────o────o────o────■────┼────o──»\n",
              "        │    │    │    │    │    │    │    │    │    │    │    │    │    │  »\n",
              " q_4: ──■────o────o────■────o────o────■────o────■────■────■────■────■────■──»\n",
              "        │    │    │    │    │    │    │    │    │    │    │    │    │    │  »\n",
              " q_5: ──o────■────■────■────■────■────■────■────■────■────o────o────■────o──»\n",
              "        │    │    │    │    │    │    │    │    │    │    │    │    │    │  »\n",
              " q_6: ──■────■────■────o────■────■────o────■────o────o────■────■────■────o──»\n",
              "        │    │    │    │    │    │    │    │    │    │    │    │    │    │  »\n",
              " q_7: ──o────■────┼────o────o────■────o────o────■────■────o────o────■────■──»\n",
              "        │    │    │    │    │    │    │    │    │    │    │    │    │    │  »\n",
              " q_8: ──o────■────■────o────■────■────o────■────■────■────■────o────■────o──»\n",
              "        │    │    │    │    │    │    │    │    │    │    │    │    │    │  »\n",
              " q_9: ──■────o────o────■────■────■────■────■────o────o────■────■────o────■──»\n",
              "        │    │    │    │    │    │    │    │    │    │    │    │    │    │  »\n",
              "q_10: ──o────■────■────o────┼────■────■────■────■────┼────■────o────■────■──»\n",
              "        │    │    │    │    │    │    │    │    │    │    │    │    │    │  »\n",
              "q_11: ──■────┼────o────■────■────o────■────■────┼────o────■────┼────o────■──»\n",
              "      ┌─┴─┐┌─┴─┐┌─┴─┐┌─┴─┐┌─┴─┐┌─┴─┐┌─┴─┐┌─┴─┐┌─┴─┐┌─┴─┐┌─┴─┐┌─┴─┐┌─┴─┐┌─┴─┐»\n",
              "q_12: ┤ X ├┤ X ├┤ X ├┤ X ├┤ X ├┤ X ├┤ X ├┤ X ├┤ X ├┤ X ├┤ X ├┤ X ├┤ X ├┤ X ├»\n",
              "      └───┘└───┘└───┘└───┘└───┘└───┘└───┘└───┘└───┘└───┘└───┘└───┘└───┘└───┘»\n",
              "«           \n",
              "« q_0: ──o──\n",
              "«        │  \n",
              "« q_1: ──■──\n",
              "«        │  \n",
              "« q_2: ──o──\n",
              "«        │  \n",
              "« q_3: ──■──\n",
              "«        │  \n",
              "« q_4: ──■──\n",
              "«        │  \n",
              "« q_5: ──o──\n",
              "«        │  \n",
              "« q_6: ──o──\n",
              "«        │  \n",
              "« q_7: ──■──\n",
              "«        │  \n",
              "« q_8: ──■──\n",
              "«        │  \n",
              "« q_9: ──■──\n",
              "«        │  \n",
              "«q_10: ──■──\n",
              "«        │  \n",
              "«q_11: ──■──\n",
              "«      ┌─┴─┐\n",
              "«q_12: ┤ X ├\n",
              "«      └───┘"
            ],
            "text/html": [
              "<pre style=\"word-wrap: normal;white-space: pre;background: #fff0;line-height: 1.1;font-family: &quot;Courier New&quot;,Courier,monospace\">                                                                            »\n",
              " q_0: ──■────■────■────■────■────■────■────■────o────o────o────■────o────■──»\n",
              "        │    │    │    │    │    │    │    │    │    │    │    │    │    │  »\n",
              " q_1: ──■────■────■────o────o────o────o────o────■────■────■────■────■────■──»\n",
              "        │    │    │    │    │    │    │    │    │    │    │    │    │    │  »\n",
              " q_2: ──■────o────o────■────■────o────o────o────■────■────■────o────o────■──»\n",
              "        │    │    │    │    │    │    │    │    │    │    │    │    │    │  »\n",
              " q_3: ──■────■────■────■────■────■────■────o────o────o────o────■────┼────o──»\n",
              "        │    │    │    │    │    │    │    │    │    │    │    │    │    │  »\n",
              " q_4: ──■────o────o────■────o────o────■────o────■────■────■────■────■────■──»\n",
              "        │    │    │    │    │    │    │    │    │    │    │    │    │    │  »\n",
              " q_5: ──o────■────■────■────■────■────■────■────■────■────o────o────■────o──»\n",
              "        │    │    │    │    │    │    │    │    │    │    │    │    │    │  »\n",
              " q_6: ──■────■────■────o────■────■────o────■────o────o────■────■────■────o──»\n",
              "        │    │    │    │    │    │    │    │    │    │    │    │    │    │  »\n",
              " q_7: ──o────■────┼────o────o────■────o────o────■────■────o────o────■────■──»\n",
              "        │    │    │    │    │    │    │    │    │    │    │    │    │    │  »\n",
              " q_8: ──o────■────■────o────■────■────o────■────■────■────■────o────■────o──»\n",
              "        │    │    │    │    │    │    │    │    │    │    │    │    │    │  »\n",
              " q_9: ──■────o────o────■────■────■────■────■────o────o────■────■────o────■──»\n",
              "        │    │    │    │    │    │    │    │    │    │    │    │    │    │  »\n",
              "q_10: ──o────■────■────o────┼────■────■────■────■────┼────■────o────■────■──»\n",
              "        │    │    │    │    │    │    │    │    │    │    │    │    │    │  »\n",
              "q_11: ──■────┼────o────■────■────o────■────■────┼────o────■────┼────o────■──»\n",
              "      ┌─┴─┐┌─┴─┐┌─┴─┐┌─┴─┐┌─┴─┐┌─┴─┐┌─┴─┐┌─┴─┐┌─┴─┐┌─┴─┐┌─┴─┐┌─┴─┐┌─┴─┐┌─┴─┐»\n",
              "q_12: ┤ X ├┤ X ├┤ X ├┤ X ├┤ X ├┤ X ├┤ X ├┤ X ├┤ X ├┤ X ├┤ X ├┤ X ├┤ X ├┤ X ├»\n",
              "      └───┘└───┘└───┘└───┘└───┘└───┘└───┘└───┘└───┘└───┘└───┘└───┘└───┘└───┘»\n",
              "«           \n",
              "« q_0: ──o──\n",
              "«        │  \n",
              "« q_1: ──■──\n",
              "«        │  \n",
              "« q_2: ──o──\n",
              "«        │  \n",
              "« q_3: ──■──\n",
              "«        │  \n",
              "« q_4: ──■──\n",
              "«        │  \n",
              "« q_5: ──o──\n",
              "«        │  \n",
              "« q_6: ──o──\n",
              "«        │  \n",
              "« q_7: ──■──\n",
              "«        │  \n",
              "« q_8: ──■──\n",
              "«        │  \n",
              "« q_9: ──■──\n",
              "«        │  \n",
              "«q_10: ──■──\n",
              "«        │  \n",
              "«q_11: ──■──\n",
              "«      ┌─┴─┐\n",
              "«q_12: ┤ X ├\n",
              "«      └───┘</pre>"
            ]
          },
          "metadata": {},
          "execution_count": 6
        }
      ]
    },
    {
      "cell_type": "code",
      "source": [
        "from qiskit import Aer\n",
        "from qiskit import QuantumCircuit, QuantumRegister, ClassicalRegister, transpile, assemble\n",
        "import random\n",
        "from qiskit.circuit.library.standard_gates.x import XGate, MCXGate"
      ],
      "metadata": {
        "id": "u2Lr3SPMdbQH"
      },
      "execution_count": null,
      "outputs": []
    },
    {
      "cell_type": "code",
      "source": [
        "def diffuser(nqubits):\n",
        "    qc = QuantumCircuit(nqubits)\n",
        "    # Apply transformation |s> -> |00..0> (H-gates)\n",
        "    for qubit in range(nqubits):\n",
        "        qc.h(qubit)\n",
        "    # Apply transformation |00..0> -> |11..1> (X-gates)\n",
        "    for qubit in range(nqubits):\n",
        "        qc.x(qubit)\n",
        "    # Do multi-controlled-Z gate\n",
        "    qc.h(nqubits-1)\n",
        "    qc.mct(list(range(nqubits-1)), nqubits-1)  # multi-controlled-toffoli\n",
        "    qc.h(nqubits-1)\n",
        "    # Apply transformation |11..1> -> |00..0>\n",
        "    for qubit in range(nqubits):\n",
        "        qc.x(qubit)\n",
        "    # Apply transformation |00..0> -> |s>\n",
        "    for qubit in range(nqubits):\n",
        "        qc.h(qubit)\n",
        "    # We will return the diffuser as a gate\n",
        "    U_s = qc.to_gate()\n",
        "    U_s.name = \"U_s\"\n",
        "    return U_s"
      ],
      "metadata": {
        "id": "VUuvIxXsc7HB"
      },
      "execution_count": null,
      "outputs": []
    },
    {
      "cell_type": "code",
      "source": [
        "def quantum_procedure(creg,qreg):\n",
        "  qc14 = QuantumCircuit(qreg,creg)\n",
        "  # Initialize qubits in state |s>\n",
        "  qc14.x(12)\n",
        "  qc14.h(range(13))\n",
        "  qc14.barrier()\n",
        "  test_list = []\n",
        "  for j in range(63):\n",
        "      test_list.append(j)\n",
        "  # using random.choice() to\n",
        "  # get a random number\n",
        "  random_num = random.choice(test_list)\n",
        "\n",
        "  for j in range(random_num):\n",
        "      qc14.compose(quantum_circuitc3, inplace = True)\n",
        "      qc14.append(diffuser(12), range(12))\n",
        "  qc14.barrier()\n",
        "  qc14.h(12)\n",
        "  qc14.measure(range(12), range(12))\n",
        "  #print(qc14.draw(fold=-1))\n",
        "  aer_sim = Aer.get_backend('aer_simulator')\n",
        "  transpiled_qc14 = transpile(qc14, aer_sim)\n",
        "  qobj4 = assemble(transpiled_qc14)\n",
        "  results4 = aer_sim.run(qobj4,shots = 1).result()\n",
        "  counts4 = results4.get_counts()\n",
        "  dictionary_to_value(counts4)\n",
        "  return(dictionary_to_value(counts4),random_num)"
      ],
      "metadata": {
        "id": "zE3DZjhgQwTL"
      },
      "execution_count": null,
      "outputs": []
    },
    {
      "cell_type": "code",
      "source": [
        "def oracle_one_solution(x):\n",
        "  qreg = QuantumRegister(13)\n",
        "  creg = ClassicalRegister(12)\n",
        "  qc = QuantumCircuit(qreg11,creg11)\n",
        "  control = MCXGate(12, None, x)\n",
        "  qc.append(control, [0, 1, 2, 3, 4 ,5 ,6, 7, 8, 9, 10, 11, 12])\n",
        "  #print(qc.draw())\n",
        "  return(qc)"
      ],
      "metadata": {
        "id": "BNtH_zM5VHhy"
      },
      "execution_count": null,
      "outputs": []
    },
    {
      "cell_type": "code",
      "source": [
        "def dictionary_to_value(x):\n",
        "  for i in x.keys():\n",
        "    return(i)"
      ],
      "metadata": {
        "id": "bZtQWRqMT5Fh"
      },
      "execution_count": null,
      "outputs": []
    },
    {
      "cell_type": "code",
      "source": [
        "qreg11 = QuantumRegister(13)\n",
        "creg11 = ClassicalRegister(12)\n",
        "quantum_procedure(creg11,qreg11)"
      ],
      "metadata": {
        "colab": {
          "base_uri": "https://localhost:8080/"
        },
        "id": "dRho3v0VTOFg",
        "outputId": "15c3ea7b-256e-41d6-92ec-7e0fbd59d6c8"
      },
      "execution_count": null,
      "outputs": [
        {
          "output_type": "stream",
          "name": "stderr",
          "text": [
            "<ipython-input-8-0630d986ce59>:11: DeprecationWarning: The method ``qiskit.circuit.quantumcircuit.QuantumCircuit.mct()`` is deprecated as of qiskit 0.45.0. It will be removed no earlier than 3 months after the release date. Use QuantumCircuit.mcx as direct replacement.\n",
            "  qc.mct(list(range(nqubits-1)), nqubits-1)  # multi-controlled-toffoli\n",
            "<ipython-input-9-166b48d48fb0>:24: DeprecationWarning: Using a qobj for run() is deprecated as of qiskit-aer 0.9.0 and will be removed no sooner than 3 months from that release date. Transpiled circuits should now be passed directly using `backend.run(circuits, **run_options).\n",
            "  results4 = aer_sim.run(qobj4,shots = 1).result()\n"
          ]
        },
        {
          "output_type": "execute_result",
          "data": {
            "text/plain": [
              "('111010010111', 55)"
            ]
          },
          "metadata": {},
          "execution_count": 12
        }
      ]
    },
    {
      "cell_type": "code",
      "source": [
        "def is_a_solution(x,y):\n",
        "  a = []\n",
        "  for item in x:\n",
        "    a.append(item)\n",
        "  A1 = Matrix([[1, 0, 0, 0],[0, 1, 0 ,0],[0, 0, 1 , 0],[0,0,0,1] ])\n",
        "  A2 = Matrix([[0, 1, 0, 0],[1, 1, 0 ,0],[0, 0, 0 , 1],[0,0,1,1] ])\n",
        "  A3 = Matrix([[0, 0, a[11], a[7]],[0, 0, a[10] ,a[6]],[1, 0, a[9] , a[5]],[0,1,a[8],a[4]] ])\n",
        "  A4 = Matrix([[0, 0, a[7], a[3]],[0, 0, a[6] ,a[2]],[0, 1, a[5] , a[1]],[1,1,a[4],a[0]] ])\n",
        "  aC41=[]\n",
        "  A=[]\n",
        "  for i in range(0,16):\n",
        "      aC41.append('{0:04b}'.format(i))\n",
        "      M=int(aC41[i][0])*A1+int(aC41[i][1])*A2+int(aC41[i][2])*A3 +int(aC41[i][3])*A4\n",
        "      A.append(M.det())\n",
        "  return(all(v == 0 for v in A),x,y)"
      ],
      "metadata": {
        "id": "rbyi1IYdO3Ur"
      },
      "execution_count": 1,
      "outputs": []
    },
    {
      "cell_type": "code",
      "source": [
        "is_solution1('101000111101')"
      ],
      "metadata": {
        "colab": {
          "base_uri": "https://localhost:8080/"
        },
        "id": "3IZ6OTsivVOM",
        "outputId": "9cd712fb-afbd-4ba5-af35-da55db69d669"
      },
      "execution_count": null,
      "outputs": [
        {
          "output_type": "stream",
          "name": "stdout",
          "text": [
            "0\n"
          ]
        }
      ]
    },
    {
      "cell_type": "code",
      "source": [
        "#Is not a Solution"
      ],
      "metadata": {
        "id": "-UxG-LPcxsol"
      },
      "execution_count": null,
      "outputs": []
    },
    {
      "cell_type": "code",
      "source": [
        "quantum_procedure(creg11,qreg11)"
      ],
      "metadata": {
        "colab": {
          "base_uri": "https://localhost:8080/"
        },
        "id": "AbSo79u3xum7",
        "outputId": "34979046-e225-4c86-9e36-420fae345039"
      },
      "execution_count": null,
      "outputs": [
        {
          "output_type": "stream",
          "name": "stderr",
          "text": [
            "<ipython-input-10-0630d986ce59>:11: DeprecationWarning: The method ``qiskit.circuit.quantumcircuit.QuantumCircuit.mct()`` is deprecated as of qiskit 0.45.0. It will be removed no earlier than 3 months after the release date. Use QuantumCircuit.mcx as direct replacement.\n",
            "  qc.mct(list(range(nqubits-1)), nqubits-1)  # multi-controlled-toffoli\n",
            "<ipython-input-11-166b48d48fb0>:24: DeprecationWarning: Using a qobj for run() is deprecated as of qiskit-aer 0.9.0 and will be removed no sooner than 3 months from that release date. Transpiled circuits should now be passed directly using `backend.run(circuits, **run_options).\n",
            "  results4 = aer_sim.run(qobj4,shots = 1).result()\n"
          ]
        },
        {
          "output_type": "execute_result",
          "data": {
            "text/plain": [
              "('010100010111', 47)"
            ]
          },
          "metadata": {},
          "execution_count": 18
        }
      ]
    },
    {
      "cell_type": "code",
      "source": [
        "is_solution1('010100010111')"
      ],
      "metadata": {
        "colab": {
          "base_uri": "https://localhost:8080/"
        },
        "id": "WoB8Z7agvkDL",
        "outputId": "65e34071-49bd-425a-b87c-47b933b3da58"
      },
      "execution_count": null,
      "outputs": [
        {
          "output_type": "stream",
          "name": "stdout",
          "text": [
            "0\n"
          ]
        }
      ]
    },
    {
      "cell_type": "code",
      "source": [
        "#Is Not a Solution"
      ],
      "metadata": {
        "id": "PePY1SRy7p-y"
      },
      "execution_count": null,
      "outputs": []
    },
    {
      "cell_type": "code",
      "source": [
        "quantum_procedure(creg11,qreg11)"
      ],
      "metadata": {
        "colab": {
          "base_uri": "https://localhost:8080/"
        },
        "id": "hoT_xxVE7pQE",
        "outputId": "2828e2e3-d4e7-4036-a158-62bb44b0bf8d"
      },
      "execution_count": null,
      "outputs": [
        {
          "output_type": "stream",
          "name": "stderr",
          "text": [
            "<ipython-input-10-0630d986ce59>:11: DeprecationWarning: The method ``qiskit.circuit.quantumcircuit.QuantumCircuit.mct()`` is deprecated as of qiskit 0.45.0. It will be removed no earlier than 3 months after the release date. Use QuantumCircuit.mcx as direct replacement.\n",
            "  qc.mct(list(range(nqubits-1)), nqubits-1)  # multi-controlled-toffoli\n",
            "<ipython-input-11-166b48d48fb0>:24: DeprecationWarning: Using a qobj for run() is deprecated as of qiskit-aer 0.9.0 and will be removed no sooner than 3 months from that release date. Transpiled circuits should now be passed directly using `backend.run(circuits, **run_options).\n",
            "  results4 = aer_sim.run(qobj4,shots = 1).result()\n"
          ]
        },
        {
          "output_type": "execute_result",
          "data": {
            "text/plain": [
              "('011110110000', 45)"
            ]
          },
          "metadata": {},
          "execution_count": 21
        }
      ]
    },
    {
      "cell_type": "code",
      "source": [
        "is_solution1('011110110000')"
      ],
      "metadata": {
        "colab": {
          "base_uri": "https://localhost:8080/"
        },
        "id": "ONp0Pov47pSz",
        "outputId": "910ff75f-20fc-4b9d-9380-1e6c76bfcc5c"
      },
      "execution_count": null,
      "outputs": [
        {
          "output_type": "stream",
          "name": "stdout",
          "text": [
            "0\n"
          ]
        }
      ]
    },
    {
      "cell_type": "code",
      "source": [
        "quantum_procedure(creg11,qreg11)"
      ],
      "metadata": {
        "colab": {
          "base_uri": "https://localhost:8080/"
        },
        "id": "CMfp4Tgj7pVi",
        "outputId": "e4cbd645-7cd3-4f23-b9b9-fd620bac124c"
      },
      "execution_count": null,
      "outputs": [
        {
          "output_type": "stream",
          "name": "stderr",
          "text": [
            "<ipython-input-10-0630d986ce59>:11: DeprecationWarning: The method ``qiskit.circuit.quantumcircuit.QuantumCircuit.mct()`` is deprecated as of qiskit 0.45.0. It will be removed no earlier than 3 months after the release date. Use QuantumCircuit.mcx as direct replacement.\n",
            "  qc.mct(list(range(nqubits-1)), nqubits-1)  # multi-controlled-toffoli\n",
            "<ipython-input-11-166b48d48fb0>:24: DeprecationWarning: Using a qobj for run() is deprecated as of qiskit-aer 0.9.0 and will be removed no sooner than 3 months from that release date. Transpiled circuits should now be passed directly using `backend.run(circuits, **run_options).\n",
            "  results4 = aer_sim.run(qobj4,shots = 1).result()\n"
          ]
        },
        {
          "output_type": "execute_result",
          "data": {
            "text/plain": [
              "('101101101101', 51)"
            ]
          },
          "metadata": {},
          "execution_count": 23
        }
      ]
    },
    {
      "cell_type": "code",
      "source": [
        "is_solution1('101101101101')"
      ],
      "metadata": {
        "colab": {
          "base_uri": "https://localhost:8080/"
        },
        "id": "_kf2tM4Q7x38",
        "outputId": "05dd30d1-224f-49bd-e53b-6c9b52e9677b"
      },
      "execution_count": null,
      "outputs": [
        {
          "output_type": "stream",
          "name": "stdout",
          "text": [
            "0\n"
          ]
        }
      ]
    },
    {
      "cell_type": "code",
      "source": [
        "quantum_procedure(creg11,qreg11)"
      ],
      "metadata": {
        "colab": {
          "base_uri": "https://localhost:8080/"
        },
        "id": "s2xB5pWc7x6l",
        "outputId": "d414c550-79eb-4961-a943-9fb1da58fb54"
      },
      "execution_count": null,
      "outputs": [
        {
          "output_type": "stream",
          "name": "stderr",
          "text": [
            "<ipython-input-10-0630d986ce59>:11: DeprecationWarning: The method ``qiskit.circuit.quantumcircuit.QuantumCircuit.mct()`` is deprecated as of qiskit 0.45.0. It will be removed no earlier than 3 months after the release date. Use QuantumCircuit.mcx as direct replacement.\n",
            "  qc.mct(list(range(nqubits-1)), nqubits-1)  # multi-controlled-toffoli\n",
            "<ipython-input-11-166b48d48fb0>:24: DeprecationWarning: Using a qobj for run() is deprecated as of qiskit-aer 0.9.0 and will be removed no sooner than 3 months from that release date. Transpiled circuits should now be passed directly using `backend.run(circuits, **run_options).\n",
            "  results4 = aer_sim.run(qobj4,shots = 1).result()\n"
          ]
        },
        {
          "output_type": "execute_result",
          "data": {
            "text/plain": [
              "('010111110010', 38)"
            ]
          },
          "metadata": {},
          "execution_count": 25
        }
      ]
    },
    {
      "cell_type": "code",
      "source": [
        "is_solution1('010111110010')"
      ],
      "metadata": {
        "colab": {
          "base_uri": "https://localhost:8080/"
        },
        "id": "WgmdValt7x9i",
        "outputId": "42e0e3db-3c22-4346-e450-6a66d3b9daea"
      },
      "execution_count": null,
      "outputs": [
        {
          "output_type": "stream",
          "name": "stdout",
          "text": [
            "0\n"
          ]
        }
      ]
    },
    {
      "cell_type": "code",
      "source": [
        "quantum_procedure(creg11,qreg11)"
      ],
      "metadata": {
        "colab": {
          "base_uri": "https://localhost:8080/"
        },
        "id": "Xy_4S_q77yAZ",
        "outputId": "08aa6b2c-e10c-4e75-86ee-6419cfb70c33"
      },
      "execution_count": null,
      "outputs": [
        {
          "output_type": "stream",
          "name": "stderr",
          "text": [
            "<ipython-input-10-0630d986ce59>:11: DeprecationWarning: The method ``qiskit.circuit.quantumcircuit.QuantumCircuit.mct()`` is deprecated as of qiskit 0.45.0. It will be removed no earlier than 3 months after the release date. Use QuantumCircuit.mcx as direct replacement.\n",
            "  qc.mct(list(range(nqubits-1)), nqubits-1)  # multi-controlled-toffoli\n",
            "<ipython-input-11-166b48d48fb0>:24: DeprecationWarning: Using a qobj for run() is deprecated as of qiskit-aer 0.9.0 and will be removed no sooner than 3 months from that release date. Transpiled circuits should now be passed directly using `backend.run(circuits, **run_options).\n",
            "  results4 = aer_sim.run(qobj4,shots = 1).result()\n"
          ]
        },
        {
          "output_type": "execute_result",
          "data": {
            "text/plain": [
              "('101001011111', 36)"
            ]
          },
          "metadata": {},
          "execution_count": 27
        }
      ]
    },
    {
      "cell_type": "code",
      "source": [
        "is_solution1('101001011111')"
      ],
      "metadata": {
        "colab": {
          "base_uri": "https://localhost:8080/"
        },
        "id": "WSp2NE3X7yDC",
        "outputId": "e31f9e80-20e3-4884-976b-9cfea222c279"
      },
      "execution_count": null,
      "outputs": [
        {
          "output_type": "stream",
          "name": "stdout",
          "text": [
            "101001011111\n"
          ]
        }
      ]
    },
    {
      "cell_type": "code",
      "source": [
        "def quantum_procedure1(creg,qreg):\n",
        "  qc14 = QuantumCircuit(qreg,creg)\n",
        "  # Initialize qubits in state |s>\n",
        "  qc14.x(12)\n",
        "  qc14.h(range(13))\n",
        "  qc14.barrier()\n",
        "  test_list = []\n",
        "  for j in range(63):\n",
        "      test_list.append(j)\n",
        "  # using random.choice() to\n",
        "  # get a random number\n",
        "  random_num = random.choice(test_list)\n",
        "\n",
        "  for j in range(random_num):\n",
        "      qc14.compose(quantum_circuitc3, inplace = True)\n",
        "      qc14.compose(oracle_one_solution('101001011111'), inplace = True)\n",
        "      qc14.append(diffuser(12), range(12))\n",
        "  qc14.barrier()\n",
        "  qc14.h(12)\n",
        "  qc14.measure(range(12), range(12))\n",
        "  #print(qc14.draw(fold=-1))\n",
        "  aer_sim = Aer.get_backend('aer_simulator')\n",
        "  transpiled_qc14 = transpile(qc14, aer_sim)\n",
        "  qobj4 = assemble(transpiled_qc14)\n",
        "  results4 = aer_sim.run(qobj4,shots = 1).result()\n",
        "  counts4 = results4.get_counts()\n",
        "  dictionary_to_value(counts4)\n",
        "  return(dictionary_to_value(counts4),random_num)"
      ],
      "metadata": {
        "id": "rQ69_8Dr9bwN"
      },
      "execution_count": null,
      "outputs": []
    },
    {
      "cell_type": "code",
      "source": [
        "quantum_procedure1(creg11,qreg11)"
      ],
      "metadata": {
        "colab": {
          "base_uri": "https://localhost:8080/"
        },
        "id": "ELw-_6mr9bz1",
        "outputId": "77a09d7a-75cc-4131-bed0-7903dc510bdf"
      },
      "execution_count": null,
      "outputs": [
        {
          "output_type": "stream",
          "name": "stderr",
          "text": [
            "<ipython-input-10-0630d986ce59>:11: DeprecationWarning: The method ``qiskit.circuit.quantumcircuit.QuantumCircuit.mct()`` is deprecated as of qiskit 0.45.0. It will be removed no earlier than 3 months after the release date. Use QuantumCircuit.mcx as direct replacement.\n",
            "  qc.mct(list(range(nqubits-1)), nqubits-1)  # multi-controlled-toffoli\n",
            "<ipython-input-56-297d865ce417>:25: DeprecationWarning: Using a qobj for run() is deprecated as of qiskit-aer 0.9.0 and will be removed no sooner than 3 months from that release date. Transpiled circuits should now be passed directly using `backend.run(circuits, **run_options).\n",
            "  results4 = aer_sim.run(qobj4,shots = 1).result()\n"
          ]
        },
        {
          "output_type": "execute_result",
          "data": {
            "text/plain": [
              "('001001011011', 32)"
            ]
          },
          "metadata": {},
          "execution_count": 57
        }
      ]
    },
    {
      "cell_type": "code",
      "source": [
        "is_solution1('001001011011')"
      ],
      "metadata": {
        "colab": {
          "base_uri": "https://localhost:8080/"
        },
        "id": "CmeaXDpT7yY7",
        "outputId": "b8af0ffa-e714-4219-fd4e-0b9721342f09"
      },
      "execution_count": null,
      "outputs": [
        {
          "output_type": "stream",
          "name": "stdout",
          "text": [
            "0\n"
          ]
        }
      ]
    },
    {
      "cell_type": "code",
      "source": [
        "quantum_procedure1(creg11,qreg11)"
      ],
      "metadata": {
        "colab": {
          "base_uri": "https://localhost:8080/"
        },
        "id": "_fPpWqBP7ybf",
        "outputId": "086dc08c-981d-4f52-f120-ff93ba546029"
      },
      "execution_count": null,
      "outputs": [
        {
          "output_type": "stream",
          "name": "stderr",
          "text": [
            "<ipython-input-10-0630d986ce59>:11: DeprecationWarning: The method ``qiskit.circuit.quantumcircuit.QuantumCircuit.mct()`` is deprecated as of qiskit 0.45.0. It will be removed no earlier than 3 months after the release date. Use QuantumCircuit.mcx as direct replacement.\n",
            "  qc.mct(list(range(nqubits-1)), nqubits-1)  # multi-controlled-toffoli\n",
            "<ipython-input-56-297d865ce417>:25: DeprecationWarning: Using a qobj for run() is deprecated as of qiskit-aer 0.9.0 and will be removed no sooner than 3 months from that release date. Transpiled circuits should now be passed directly using `backend.run(circuits, **run_options).\n",
            "  results4 = aer_sim.run(qobj4,shots = 1).result()\n"
          ]
        },
        {
          "output_type": "execute_result",
          "data": {
            "text/plain": [
              "('111110011010', 61)"
            ]
          },
          "metadata": {},
          "execution_count": 59
        }
      ]
    },
    {
      "cell_type": "code",
      "source": [
        "is_solution1('111110011010')"
      ],
      "metadata": {
        "colab": {
          "base_uri": "https://localhost:8080/"
        },
        "id": "Je0ie-Ex7pXI",
        "outputId": "e3bc7b2d-6baa-4be6-b219-1262b8f1c88e"
      },
      "execution_count": null,
      "outputs": [
        {
          "output_type": "stream",
          "name": "stdout",
          "text": [
            "0\n"
          ]
        }
      ]
    },
    {
      "cell_type": "code",
      "source": [
        "quantum_procedure1(creg11,qreg11)"
      ],
      "metadata": {
        "colab": {
          "base_uri": "https://localhost:8080/"
        },
        "id": "Abtx_0d_8Lq7",
        "outputId": "94b80917-71db-4ee2-cdae-0f7687f95363"
      },
      "execution_count": null,
      "outputs": [
        {
          "output_type": "stream",
          "name": "stderr",
          "text": [
            "<ipython-input-10-0630d986ce59>:11: DeprecationWarning: The method ``qiskit.circuit.quantumcircuit.QuantumCircuit.mct()`` is deprecated as of qiskit 0.45.0. It will be removed no earlier than 3 months after the release date. Use QuantumCircuit.mcx as direct replacement.\n",
            "  qc.mct(list(range(nqubits-1)), nqubits-1)  # multi-controlled-toffoli\n",
            "<ipython-input-56-297d865ce417>:25: DeprecationWarning: Using a qobj for run() is deprecated as of qiskit-aer 0.9.0 and will be removed no sooner than 3 months from that release date. Transpiled circuits should now be passed directly using `backend.run(circuits, **run_options).\n",
            "  results4 = aer_sim.run(qobj4,shots = 1).result()\n"
          ]
        },
        {
          "output_type": "execute_result",
          "data": {
            "text/plain": [
              "('101001011011', 58)"
            ]
          },
          "metadata": {},
          "execution_count": 61
        }
      ]
    },
    {
      "cell_type": "code",
      "source": [
        "is_solution1('101001011011')"
      ],
      "metadata": {
        "colab": {
          "base_uri": "https://localhost:8080/"
        },
        "id": "qu0mQV2V8Ltz",
        "outputId": "50b18ca3-4f3f-4678-d1b0-3e8f6dc38846"
      },
      "execution_count": null,
      "outputs": [
        {
          "output_type": "stream",
          "name": "stdout",
          "text": [
            "0\n"
          ]
        }
      ]
    },
    {
      "cell_type": "code",
      "source": [
        "quantum_procedure1(creg11,qreg11)"
      ],
      "metadata": {
        "colab": {
          "base_uri": "https://localhost:8080/"
        },
        "id": "3JjrlWNx8Lw5",
        "outputId": "1c4349de-0478-4785-be31-94dfc2ed65cc"
      },
      "execution_count": null,
      "outputs": [
        {
          "output_type": "stream",
          "name": "stderr",
          "text": [
            "<ipython-input-10-0630d986ce59>:11: DeprecationWarning: The method ``qiskit.circuit.quantumcircuit.QuantumCircuit.mct()`` is deprecated as of qiskit 0.45.0. It will be removed no earlier than 3 months after the release date. Use QuantumCircuit.mcx as direct replacement.\n",
            "  qc.mct(list(range(nqubits-1)), nqubits-1)  # multi-controlled-toffoli\n",
            "<ipython-input-56-297d865ce417>:25: DeprecationWarning: Using a qobj for run() is deprecated as of qiskit-aer 0.9.0 and will be removed no sooner than 3 months from that release date. Transpiled circuits should now be passed directly using `backend.run(circuits, **run_options).\n",
            "  results4 = aer_sim.run(qobj4,shots = 1).result()\n"
          ]
        },
        {
          "output_type": "execute_result",
          "data": {
            "text/plain": [
              "('101110111011', 44)"
            ]
          },
          "metadata": {},
          "execution_count": 63
        }
      ]
    },
    {
      "cell_type": "code",
      "source": [
        "is_solution1('101110111011')"
      ],
      "metadata": {
        "colab": {
          "base_uri": "https://localhost:8080/"
        },
        "id": "RF6O8knz8Lzi",
        "outputId": "a58dc42b-f9c8-4c3b-9e65-1e140ffebc0f"
      },
      "execution_count": null,
      "outputs": [
        {
          "output_type": "stream",
          "name": "stdout",
          "text": [
            "0\n"
          ]
        }
      ]
    },
    {
      "cell_type": "code",
      "source": [
        "quantum_procedure1(creg11,qreg11)"
      ],
      "metadata": {
        "colab": {
          "base_uri": "https://localhost:8080/"
        },
        "id": "19GB89Qh8L2L",
        "outputId": "cdcb7948-2ce4-4bc9-ee16-35325b366914"
      },
      "execution_count": null,
      "outputs": [
        {
          "output_type": "stream",
          "name": "stderr",
          "text": [
            "<ipython-input-10-0630d986ce59>:11: DeprecationWarning: The method ``qiskit.circuit.quantumcircuit.QuantumCircuit.mct()`` is deprecated as of qiskit 0.45.0. It will be removed no earlier than 3 months after the release date. Use QuantumCircuit.mcx as direct replacement.\n",
            "  qc.mct(list(range(nqubits-1)), nqubits-1)  # multi-controlled-toffoli\n",
            "<ipython-input-56-297d865ce417>:25: DeprecationWarning: Using a qobj for run() is deprecated as of qiskit-aer 0.9.0 and will be removed no sooner than 3 months from that release date. Transpiled circuits should now be passed directly using `backend.run(circuits, **run_options).\n",
            "  results4 = aer_sim.run(qobj4,shots = 1).result()\n"
          ]
        },
        {
          "output_type": "execute_result",
          "data": {
            "text/plain": [
              "('000101011110', 3)"
            ]
          },
          "metadata": {},
          "execution_count": 65
        }
      ]
    },
    {
      "cell_type": "code",
      "source": [
        "is_solution1('000101011110')"
      ],
      "metadata": {
        "colab": {
          "base_uri": "https://localhost:8080/"
        },
        "id": "_Xki8Gfv8L40",
        "outputId": "d92e2164-4b75-4b09-a082-a1fa59cd121c"
      },
      "execution_count": null,
      "outputs": [
        {
          "output_type": "stream",
          "name": "stdout",
          "text": [
            "0\n"
          ]
        }
      ]
    },
    {
      "cell_type": "code",
      "source": [
        "quantum_procedure1(creg11,qreg11)"
      ],
      "metadata": {
        "colab": {
          "base_uri": "https://localhost:8080/"
        },
        "id": "bF0DaDm78L7n",
        "outputId": "f5348e51-e205-4cb6-ae12-c1dd0d13257c"
      },
      "execution_count": null,
      "outputs": [
        {
          "output_type": "stream",
          "name": "stderr",
          "text": [
            "<ipython-input-10-0630d986ce59>:11: DeprecationWarning: The method ``qiskit.circuit.quantumcircuit.QuantumCircuit.mct()`` is deprecated as of qiskit 0.45.0. It will be removed no earlier than 3 months after the release date. Use QuantumCircuit.mcx as direct replacement.\n",
            "  qc.mct(list(range(nqubits-1)), nqubits-1)  # multi-controlled-toffoli\n",
            "<ipython-input-56-297d865ce417>:25: DeprecationWarning: Using a qobj for run() is deprecated as of qiskit-aer 0.9.0 and will be removed no sooner than 3 months from that release date. Transpiled circuits should now be passed directly using `backend.run(circuits, **run_options).\n",
            "  results4 = aer_sim.run(qobj4,shots = 1).result()\n"
          ]
        },
        {
          "output_type": "execute_result",
          "data": {
            "text/plain": [
              "('111000111001', 40)"
            ]
          },
          "metadata": {},
          "execution_count": 67
        }
      ]
    },
    {
      "cell_type": "code",
      "source": [
        "is_solution1('111000111001')"
      ],
      "metadata": {
        "colab": {
          "base_uri": "https://localhost:8080/"
        },
        "id": "yRTF_aHX8L-P",
        "outputId": "04b20627-cc4a-442f-f668-2cb850f7a8bc"
      },
      "execution_count": null,
      "outputs": [
        {
          "output_type": "stream",
          "name": "stdout",
          "text": [
            "0\n"
          ]
        }
      ]
    },
    {
      "cell_type": "code",
      "source": [
        "quantum_procedure(creg11,qreg11)"
      ],
      "metadata": {
        "colab": {
          "base_uri": "https://localhost:8080/"
        },
        "id": "oJjme2ZU8MBG",
        "outputId": "1bda1088-c428-4364-a0b0-43955539562e"
      },
      "execution_count": null,
      "outputs": [
        {
          "output_type": "stream",
          "name": "stderr",
          "text": [
            "<ipython-input-10-0630d986ce59>:11: DeprecationWarning: The method ``qiskit.circuit.quantumcircuit.QuantumCircuit.mct()`` is deprecated as of qiskit 0.45.0. It will be removed no earlier than 3 months after the release date. Use QuantumCircuit.mcx as direct replacement.\n",
            "  qc.mct(list(range(nqubits-1)), nqubits-1)  # multi-controlled-toffoli\n",
            "<ipython-input-11-166b48d48fb0>:24: DeprecationWarning: Using a qobj for run() is deprecated as of qiskit-aer 0.9.0 and will be removed no sooner than 3 months from that release date. Transpiled circuits should now be passed directly using `backend.run(circuits, **run_options).\n",
            "  results4 = aer_sim.run(qobj4,shots = 1).result()\n"
          ]
        },
        {
          "output_type": "execute_result",
          "data": {
            "text/plain": [
              "('100000001111', 24)"
            ]
          },
          "metadata": {},
          "execution_count": 69
        }
      ]
    },
    {
      "cell_type": "code",
      "source": [
        "is_solution1('100000001111')"
      ],
      "metadata": {
        "colab": {
          "base_uri": "https://localhost:8080/"
        },
        "id": "6It5j3v98MDk",
        "outputId": "d47e1e40-5c57-45e8-a479-e79a42131057"
      },
      "execution_count": null,
      "outputs": [
        {
          "output_type": "stream",
          "name": "stdout",
          "text": [
            "0\n"
          ]
        }
      ]
    },
    {
      "cell_type": "code",
      "source": [
        "quantum_procedure1(creg11,qreg11)"
      ],
      "metadata": {
        "colab": {
          "base_uri": "https://localhost:8080/"
        },
        "id": "j2gzeAVb8j8U",
        "outputId": "12354093-f4ba-4a39-efdf-f110adcf07ac"
      },
      "execution_count": null,
      "outputs": [
        {
          "output_type": "stream",
          "name": "stderr",
          "text": [
            "<ipython-input-10-0630d986ce59>:11: DeprecationWarning: The method ``qiskit.circuit.quantumcircuit.QuantumCircuit.mct()`` is deprecated as of qiskit 0.45.0. It will be removed no earlier than 3 months after the release date. Use QuantumCircuit.mcx as direct replacement.\n",
            "  qc.mct(list(range(nqubits-1)), nqubits-1)  # multi-controlled-toffoli\n",
            "<ipython-input-56-297d865ce417>:25: DeprecationWarning: Using a qobj for run() is deprecated as of qiskit-aer 0.9.0 and will be removed no sooner than 3 months from that release date. Transpiled circuits should now be passed directly using `backend.run(circuits, **run_options).\n",
            "  results4 = aer_sim.run(qobj4,shots = 1).result()\n"
          ]
        },
        {
          "output_type": "execute_result",
          "data": {
            "text/plain": [
              "('011111101001', 5)"
            ]
          },
          "metadata": {},
          "execution_count": 71
        }
      ]
    },
    {
      "cell_type": "code",
      "source": [
        "is_solution1('011111101001')"
      ],
      "metadata": {
        "colab": {
          "base_uri": "https://localhost:8080/"
        },
        "id": "NGTA8v5G8j-4",
        "outputId": "f8989587-08cd-4574-95a4-e188efa75500"
      },
      "execution_count": null,
      "outputs": [
        {
          "output_type": "stream",
          "name": "stdout",
          "text": [
            "011111101001\n"
          ]
        }
      ]
    },
    {
      "cell_type": "code",
      "source": [
        "def quantum_procedure2(creg,qreg):\n",
        "  qc14 = QuantumCircuit(qreg,creg)\n",
        "  # Initialize qubits in state |s>\n",
        "  qc14.x(12)\n",
        "  qc14.h(range(13))\n",
        "  qc14.barrier()\n",
        "  test_list = []\n",
        "  for j in range(63):\n",
        "      test_list.append(j)\n",
        "  # using random.choice() to\n",
        "  # get a random number\n",
        "  random_num = random.choice(test_list)\n",
        "\n",
        "  for j in range(random_num):\n",
        "      qc14.compose(quantum_circuitc3, inplace = True)\n",
        "      qc14.compose(oracle_one_solution('101001011111'), inplace = True)\n",
        "      qc14.compose(oracle_one_solution('011111101001'), inplace = True)\n",
        "      qc14.append(diffuser(12), range(12))\n",
        "  qc14.barrier()\n",
        "  qc14.h(12)\n",
        "  qc14.measure(range(12), range(12))\n",
        "  #print(qc14.draw(fold=-1))\n",
        "  aer_sim = Aer.get_backend('aer_simulator')\n",
        "  transpiled_qc14 = transpile(qc14, aer_sim)\n",
        "  qobj4 = assemble(transpiled_qc14)\n",
        "  results4 = aer_sim.run(qobj4,shots = 1).result()\n",
        "  counts4 = results4.get_counts()\n",
        "  dictionary_to_value(counts4)\n",
        "  return(dictionary_to_value(counts4),random_num)"
      ],
      "metadata": {
        "id": "emvak-lN-Pfm"
      },
      "execution_count": null,
      "outputs": []
    },
    {
      "cell_type": "code",
      "source": [
        "quantum_procedure2(creg11,qreg11)"
      ],
      "metadata": {
        "colab": {
          "base_uri": "https://localhost:8080/"
        },
        "id": "lAx89iWq8kBh",
        "outputId": "1e6437f7-0dfb-4bfd-da68-4c83cb39e23e"
      },
      "execution_count": null,
      "outputs": [
        {
          "output_type": "stream",
          "name": "stderr",
          "text": [
            "<ipython-input-10-0630d986ce59>:11: DeprecationWarning: The method ``qiskit.circuit.quantumcircuit.QuantumCircuit.mct()`` is deprecated as of qiskit 0.45.0. It will be removed no earlier than 3 months after the release date. Use QuantumCircuit.mcx as direct replacement.\n",
            "  qc.mct(list(range(nqubits-1)), nqubits-1)  # multi-controlled-toffoli\n",
            "<ipython-input-73-ff899cf74822>:26: DeprecationWarning: Using a qobj for run() is deprecated as of qiskit-aer 0.9.0 and will be removed no sooner than 3 months from that release date. Transpiled circuits should now be passed directly using `backend.run(circuits, **run_options).\n",
            "  results4 = aer_sim.run(qobj4,shots = 1).result()\n"
          ]
        },
        {
          "output_type": "execute_result",
          "data": {
            "text/plain": [
              "('110011011000', 25)"
            ]
          },
          "metadata": {},
          "execution_count": 74
        }
      ]
    },
    {
      "cell_type": "code",
      "source": [
        "is_solution1('110011011000')"
      ],
      "metadata": {
        "colab": {
          "base_uri": "https://localhost:8080/"
        },
        "id": "UWZ2-28N8kEZ",
        "outputId": "1c30fbdb-839f-4327-b9e1-0ddf8e4e5c5a"
      },
      "execution_count": null,
      "outputs": [
        {
          "output_type": "stream",
          "name": "stdout",
          "text": [
            "0\n"
          ]
        }
      ]
    },
    {
      "cell_type": "code",
      "source": [
        "quantum_procedure2(creg11,qreg11)"
      ],
      "metadata": {
        "colab": {
          "base_uri": "https://localhost:8080/"
        },
        "id": "Ej8hk7GV8kHT",
        "outputId": "d7552bc7-48e6-4e47-ebbf-f13845e47475"
      },
      "execution_count": null,
      "outputs": [
        {
          "output_type": "stream",
          "name": "stderr",
          "text": [
            "<ipython-input-10-0630d986ce59>:11: DeprecationWarning: The method ``qiskit.circuit.quantumcircuit.QuantumCircuit.mct()`` is deprecated as of qiskit 0.45.0. It will be removed no earlier than 3 months after the release date. Use QuantumCircuit.mcx as direct replacement.\n",
            "  qc.mct(list(range(nqubits-1)), nqubits-1)  # multi-controlled-toffoli\n",
            "<ipython-input-73-ff899cf74822>:26: DeprecationWarning: Using a qobj for run() is deprecated as of qiskit-aer 0.9.0 and will be removed no sooner than 3 months from that release date. Transpiled circuits should now be passed directly using `backend.run(circuits, **run_options).\n",
            "  results4 = aer_sim.run(qobj4,shots = 1).result()\n"
          ]
        },
        {
          "output_type": "execute_result",
          "data": {
            "text/plain": [
              "('101001011011', 59)"
            ]
          },
          "metadata": {},
          "execution_count": 76
        }
      ]
    },
    {
      "cell_type": "code",
      "source": [
        "is_solution1('101001011011')"
      ],
      "metadata": {
        "colab": {
          "base_uri": "https://localhost:8080/"
        },
        "id": "Ppj5HiHd8kJu",
        "outputId": "983d4284-f50c-453f-adb8-8d6e1340ca83"
      },
      "execution_count": null,
      "outputs": [
        {
          "output_type": "stream",
          "name": "stdout",
          "text": [
            "0\n"
          ]
        }
      ]
    },
    {
      "cell_type": "code",
      "source": [
        "quantum_procedure2(creg11,qreg11)"
      ],
      "metadata": {
        "colab": {
          "base_uri": "https://localhost:8080/"
        },
        "id": "SAM1rJS-8kMM",
        "outputId": "67a3cf1d-a09c-4dd2-b8f9-eaeebf865445"
      },
      "execution_count": null,
      "outputs": [
        {
          "output_type": "stream",
          "name": "stderr",
          "text": [
            "<ipython-input-10-0630d986ce59>:11: DeprecationWarning: The method ``qiskit.circuit.quantumcircuit.QuantumCircuit.mct()`` is deprecated as of qiskit 0.45.0. It will be removed no earlier than 3 months after the release date. Use QuantumCircuit.mcx as direct replacement.\n",
            "  qc.mct(list(range(nqubits-1)), nqubits-1)  # multi-controlled-toffoli\n",
            "<ipython-input-73-ff899cf74822>:26: DeprecationWarning: Using a qobj for run() is deprecated as of qiskit-aer 0.9.0 and will be removed no sooner than 3 months from that release date. Transpiled circuits should now be passed directly using `backend.run(circuits, **run_options).\n",
            "  results4 = aer_sim.run(qobj4,shots = 1).result()\n"
          ]
        },
        {
          "output_type": "execute_result",
          "data": {
            "text/plain": [
              "('111110011010', 49)"
            ]
          },
          "metadata": {},
          "execution_count": 78
        }
      ]
    },
    {
      "cell_type": "code",
      "source": [
        "is_solution1('111110011010')"
      ],
      "metadata": {
        "colab": {
          "base_uri": "https://localhost:8080/"
        },
        "id": "RLfgJWtm8kOu",
        "outputId": "aa075dec-ee34-473e-8b81-98a4241d6770"
      },
      "execution_count": null,
      "outputs": [
        {
          "output_type": "stream",
          "name": "stdout",
          "text": [
            "0\n"
          ]
        }
      ]
    },
    {
      "cell_type": "code",
      "source": [
        "quantum_procedure2(creg11,qreg11)"
      ],
      "metadata": {
        "colab": {
          "base_uri": "https://localhost:8080/"
        },
        "id": "1KCYnTzw8kRk",
        "outputId": "494547a5-5f83-4df6-ff26-5ed4ebdeeddb"
      },
      "execution_count": null,
      "outputs": [
        {
          "output_type": "stream",
          "name": "stderr",
          "text": [
            "<ipython-input-10-0630d986ce59>:11: DeprecationWarning: The method ``qiskit.circuit.quantumcircuit.QuantumCircuit.mct()`` is deprecated as of qiskit 0.45.0. It will be removed no earlier than 3 months after the release date. Use QuantumCircuit.mcx as direct replacement.\n",
            "  qc.mct(list(range(nqubits-1)), nqubits-1)  # multi-controlled-toffoli\n",
            "<ipython-input-73-ff899cf74822>:26: DeprecationWarning: Using a qobj for run() is deprecated as of qiskit-aer 0.9.0 and will be removed no sooner than 3 months from that release date. Transpiled circuits should now be passed directly using `backend.run(circuits, **run_options).\n",
            "  results4 = aer_sim.run(qobj4,shots = 1).result()\n"
          ]
        },
        {
          "output_type": "execute_result",
          "data": {
            "text/plain": [
              "('110110110110', 8)"
            ]
          },
          "metadata": {},
          "execution_count": 80
        }
      ]
    },
    {
      "cell_type": "code",
      "source": [
        "is_solution1('110110110110')"
      ],
      "metadata": {
        "colab": {
          "base_uri": "https://localhost:8080/"
        },
        "id": "4CaaIGuL8kT7",
        "outputId": "1ac0e24a-6d78-4200-9340-ddbd67392c88"
      },
      "execution_count": null,
      "outputs": [
        {
          "output_type": "stream",
          "name": "stdout",
          "text": [
            "110110110110\n"
          ]
        }
      ]
    },
    {
      "cell_type": "code",
      "source": [
        "# Is a Solution"
      ],
      "metadata": {
        "id": "yhUIcs5Nx5vC"
      },
      "execution_count": null,
      "outputs": []
    },
    {
      "cell_type": "code",
      "source": [
        "def quantum_procedure3(creg,qreg):\n",
        "  qc14 = QuantumCircuit(qreg,creg)\n",
        "  # Initialize qubits in state |s>\n",
        "  qc14.x(12)\n",
        "  qc14.h(range(13))\n",
        "  qc14.barrier()\n",
        "  test_list = []\n",
        "  for j in range(63):\n",
        "      test_list.append(j)\n",
        "  # using random.choice() to\n",
        "  # get a random number\n",
        "  random_num = random.choice(test_list)\n",
        "\n",
        "  for j in range(random_num):\n",
        "      qc14.compose(quantum_circuitc3, inplace = True)\n",
        "      qc14.compose(oracle_one_solution('101001011111'), inplace = True)\n",
        "      qc14.compose(oracle_one_solution('011111101001'), inplace = True)\n",
        "      qc14.compose(oracle_one_solution('110110110110'), inplace = True)\n",
        "      qc14.append(diffuser(12), range(12))\n",
        "  qc14.barrier()\n",
        "  qc14.h(12)\n",
        "  qc14.measure(range(12), range(12))\n",
        "  #print(qc14.draw(fold=-1))\n",
        "  aer_sim = Aer.get_backend('aer_simulator')\n",
        "  transpiled_qc14 = transpile(qc14, aer_sim)\n",
        "  qobj4 = assemble(transpiled_qc14)\n",
        "  results4 = aer_sim.run(qobj4,shots = 1).result()\n",
        "  counts4 = results4.get_counts()\n",
        "  dictionary_to_value(counts4)\n",
        "  return(dictionary_to_value(counts4),random_num)"
      ],
      "metadata": {
        "id": "0nQBIa66wquD"
      },
      "execution_count": null,
      "outputs": []
    },
    {
      "cell_type": "code",
      "source": [
        "quantum_procedure3(creg11,qreg11)"
      ],
      "metadata": {
        "colab": {
          "base_uri": "https://localhost:8080/"
        },
        "id": "b74vQ5Y0_AKu",
        "outputId": "89c19a4b-d7b1-4dad-caa7-684374fa14dc"
      },
      "execution_count": null,
      "outputs": [
        {
          "output_type": "stream",
          "name": "stderr",
          "text": [
            "<ipython-input-10-0630d986ce59>:11: DeprecationWarning: The method ``qiskit.circuit.quantumcircuit.QuantumCircuit.mct()`` is deprecated as of qiskit 0.45.0. It will be removed no earlier than 3 months after the release date. Use QuantumCircuit.mcx as direct replacement.\n",
            "  qc.mct(list(range(nqubits-1)), nqubits-1)  # multi-controlled-toffoli\n",
            "<ipython-input-82-d1c4be91132e>:27: DeprecationWarning: Using a qobj for run() is deprecated as of qiskit-aer 0.9.0 and will be removed no sooner than 3 months from that release date. Transpiled circuits should now be passed directly using `backend.run(circuits, **run_options).\n",
            "  results4 = aer_sim.run(qobj4,shots = 1).result()\n"
          ]
        },
        {
          "output_type": "execute_result",
          "data": {
            "text/plain": [
              "('001100110110', 22)"
            ]
          },
          "metadata": {},
          "execution_count": 83
        }
      ]
    },
    {
      "cell_type": "code",
      "source": [
        "is_solution1('001100110110')"
      ],
      "metadata": {
        "colab": {
          "base_uri": "https://localhost:8080/"
        },
        "id": "tR_4mIJE_ANf",
        "outputId": "516635c9-d391-48da-d371-45f94ed3e0fe"
      },
      "execution_count": null,
      "outputs": [
        {
          "output_type": "stream",
          "name": "stdout",
          "text": [
            "0\n"
          ]
        }
      ]
    },
    {
      "cell_type": "code",
      "source": [
        "quantum_procedure3(creg11,qreg11)"
      ],
      "metadata": {
        "colab": {
          "base_uri": "https://localhost:8080/"
        },
        "id": "Co6MMk2N_AQL",
        "outputId": "9e5daab6-3b2e-46c9-959f-da527aae00ae"
      },
      "execution_count": null,
      "outputs": [
        {
          "output_type": "stream",
          "name": "stderr",
          "text": [
            "<ipython-input-10-0630d986ce59>:11: DeprecationWarning: The method ``qiskit.circuit.quantumcircuit.QuantumCircuit.mct()`` is deprecated as of qiskit 0.45.0. It will be removed no earlier than 3 months after the release date. Use QuantumCircuit.mcx as direct replacement.\n",
            "  qc.mct(list(range(nqubits-1)), nqubits-1)  # multi-controlled-toffoli\n",
            "<ipython-input-82-d1c4be91132e>:27: DeprecationWarning: Using a qobj for run() is deprecated as of qiskit-aer 0.9.0 and will be removed no sooner than 3 months from that release date. Transpiled circuits should now be passed directly using `backend.run(circuits, **run_options).\n",
            "  results4 = aer_sim.run(qobj4,shots = 1).result()\n"
          ]
        },
        {
          "output_type": "execute_result",
          "data": {
            "text/plain": [
              "('001110011010', 57)"
            ]
          },
          "metadata": {},
          "execution_count": 85
        }
      ]
    },
    {
      "cell_type": "code",
      "source": [
        "is_solution1('001110011010')"
      ],
      "metadata": {
        "colab": {
          "base_uri": "https://localhost:8080/"
        },
        "id": "fimsN201_AS5",
        "outputId": "b856c83d-f3bc-4604-cec8-8a140a5a2b5c"
      },
      "execution_count": null,
      "outputs": [
        {
          "output_type": "stream",
          "name": "stdout",
          "text": [
            "0\n"
          ]
        }
      ]
    },
    {
      "cell_type": "code",
      "source": [
        "quantum_procedure3(creg11,qreg11)"
      ],
      "metadata": {
        "colab": {
          "base_uri": "https://localhost:8080/"
        },
        "id": "zoJrNWYW_AVS",
        "outputId": "dd4d704f-5c1a-4dd8-d327-03d81016068c"
      },
      "execution_count": null,
      "outputs": [
        {
          "output_type": "stream",
          "name": "stderr",
          "text": [
            "<ipython-input-10-0630d986ce59>:11: DeprecationWarning: The method ``qiskit.circuit.quantumcircuit.QuantumCircuit.mct()`` is deprecated as of qiskit 0.45.0. It will be removed no earlier than 3 months after the release date. Use QuantumCircuit.mcx as direct replacement.\n",
            "  qc.mct(list(range(nqubits-1)), nqubits-1)  # multi-controlled-toffoli\n",
            "<ipython-input-82-d1c4be91132e>:27: DeprecationWarning: Using a qobj for run() is deprecated as of qiskit-aer 0.9.0 and will be removed no sooner than 3 months from that release date. Transpiled circuits should now be passed directly using `backend.run(circuits, **run_options).\n",
            "  results4 = aer_sim.run(qobj4,shots = 1).result()\n"
          ]
        },
        {
          "output_type": "execute_result",
          "data": {
            "text/plain": [
              "('101101101101', 62)"
            ]
          },
          "metadata": {},
          "execution_count": 87
        }
      ]
    },
    {
      "cell_type": "code",
      "source": [
        "is_solution1('101101101101')"
      ],
      "metadata": {
        "colab": {
          "base_uri": "https://localhost:8080/"
        },
        "id": "nGNVzedA_AXn",
        "outputId": "fb9409d7-5e4f-4470-efd6-ad6a6a4fbc3d"
      },
      "execution_count": null,
      "outputs": [
        {
          "output_type": "stream",
          "name": "stdout",
          "text": [
            "0\n"
          ]
        }
      ]
    },
    {
      "cell_type": "code",
      "source": [
        "quantum_procedure3(creg11,qreg11)"
      ],
      "metadata": {
        "colab": {
          "base_uri": "https://localhost:8080/"
        },
        "id": "3jlb05l5_V4v",
        "outputId": "b6622366-a439-469c-f66e-bc14a3dd3b29"
      },
      "execution_count": null,
      "outputs": [
        {
          "output_type": "stream",
          "name": "stderr",
          "text": [
            "<ipython-input-10-0630d986ce59>:11: DeprecationWarning: The method ``qiskit.circuit.quantumcircuit.QuantumCircuit.mct()`` is deprecated as of qiskit 0.45.0. It will be removed no earlier than 3 months after the release date. Use QuantumCircuit.mcx as direct replacement.\n",
            "  qc.mct(list(range(nqubits-1)), nqubits-1)  # multi-controlled-toffoli\n",
            "<ipython-input-82-d1c4be91132e>:27: DeprecationWarning: Using a qobj for run() is deprecated as of qiskit-aer 0.9.0 and will be removed no sooner than 3 months from that release date. Transpiled circuits should now be passed directly using `backend.run(circuits, **run_options).\n",
            "  results4 = aer_sim.run(qobj4,shots = 1).result()\n"
          ]
        },
        {
          "output_type": "execute_result",
          "data": {
            "text/plain": [
              "('111110011010', 10)"
            ]
          },
          "metadata": {},
          "execution_count": 89
        }
      ]
    },
    {
      "cell_type": "code",
      "source": [
        "is_solution1('111110011010')"
      ],
      "metadata": {
        "colab": {
          "base_uri": "https://localhost:8080/"
        },
        "id": "37tNtPR1_V7v",
        "outputId": "d51926a6-05a3-40c9-9f4b-363797704eaf"
      },
      "execution_count": null,
      "outputs": [
        {
          "output_type": "stream",
          "name": "stdout",
          "text": [
            "0\n"
          ]
        }
      ]
    },
    {
      "cell_type": "code",
      "source": [
        "quantum_procedure3(creg11,qreg11)"
      ],
      "metadata": {
        "colab": {
          "base_uri": "https://localhost:8080/"
        },
        "id": "PSnCjs4U_V-e",
        "outputId": "1ad41621-43ee-482d-f01d-903f976e7818"
      },
      "execution_count": null,
      "outputs": [
        {
          "output_type": "stream",
          "name": "stderr",
          "text": [
            "<ipython-input-10-0630d986ce59>:11: DeprecationWarning: The method ``qiskit.circuit.quantumcircuit.QuantumCircuit.mct()`` is deprecated as of qiskit 0.45.0. It will be removed no earlier than 3 months after the release date. Use QuantumCircuit.mcx as direct replacement.\n",
            "  qc.mct(list(range(nqubits-1)), nqubits-1)  # multi-controlled-toffoli\n",
            "<ipython-input-82-d1c4be91132e>:27: DeprecationWarning: Using a qobj for run() is deprecated as of qiskit-aer 0.9.0 and will be removed no sooner than 3 months from that release date. Transpiled circuits should now be passed directly using `backend.run(circuits, **run_options).\n",
            "  results4 = aer_sim.run(qobj4,shots = 1).result()\n"
          ]
        },
        {
          "output_type": "execute_result",
          "data": {
            "text/plain": [
              "('101000111101', 39)"
            ]
          },
          "metadata": {},
          "execution_count": 91
        }
      ]
    },
    {
      "cell_type": "code",
      "source": [
        "is_solution1('101000111101')"
      ],
      "metadata": {
        "colab": {
          "base_uri": "https://localhost:8080/"
        },
        "id": "iRNReV3c_WBP",
        "outputId": "80dedc52-6648-4444-de00-7c4f6d354de3"
      },
      "execution_count": null,
      "outputs": [
        {
          "output_type": "stream",
          "name": "stdout",
          "text": [
            "0\n"
          ]
        }
      ]
    },
    {
      "cell_type": "code",
      "source": [
        "quantum_procedure3(creg11,qreg11)"
      ],
      "metadata": {
        "colab": {
          "base_uri": "https://localhost:8080/"
        },
        "id": "fOu5qykB_WD_",
        "outputId": "7c1faa01-edca-471f-dd88-372a23902fef"
      },
      "execution_count": null,
      "outputs": [
        {
          "output_type": "stream",
          "name": "stderr",
          "text": [
            "<ipython-input-10-0630d986ce59>:11: DeprecationWarning: The method ``qiskit.circuit.quantumcircuit.QuantumCircuit.mct()`` is deprecated as of qiskit 0.45.0. It will be removed no earlier than 3 months after the release date. Use QuantumCircuit.mcx as direct replacement.\n",
            "  qc.mct(list(range(nqubits-1)), nqubits-1)  # multi-controlled-toffoli\n",
            "<ipython-input-82-d1c4be91132e>:27: DeprecationWarning: Using a qobj for run() is deprecated as of qiskit-aer 0.9.0 and will be removed no sooner than 3 months from that release date. Transpiled circuits should now be passed directly using `backend.run(circuits, **run_options).\n",
            "  results4 = aer_sim.run(qobj4,shots = 1).result()\n"
          ]
        },
        {
          "output_type": "execute_result",
          "data": {
            "text/plain": [
              "('000010110010', 47)"
            ]
          },
          "metadata": {},
          "execution_count": 93
        }
      ]
    },
    {
      "cell_type": "code",
      "source": [
        "is_solution1('000010110010')"
      ],
      "metadata": {
        "colab": {
          "base_uri": "https://localhost:8080/"
        },
        "id": "FD5Ul9JJ_juf",
        "outputId": "0480c970-4f2b-4f92-ac4a-c1dde9b20020"
      },
      "execution_count": null,
      "outputs": [
        {
          "output_type": "stream",
          "name": "stdout",
          "text": [
            "0\n"
          ]
        }
      ]
    },
    {
      "cell_type": "code",
      "source": [
        "quantum_procedure3(creg11,qreg11)"
      ],
      "metadata": {
        "colab": {
          "base_uri": "https://localhost:8080/"
        },
        "id": "rJPtKAGC_jxX",
        "outputId": "6e3abdc4-66ec-4012-e689-47971522bdcc"
      },
      "execution_count": null,
      "outputs": [
        {
          "output_type": "stream",
          "name": "stderr",
          "text": [
            "<ipython-input-10-0630d986ce59>:11: DeprecationWarning: The method ``qiskit.circuit.quantumcircuit.QuantumCircuit.mct()`` is deprecated as of qiskit 0.45.0. It will be removed no earlier than 3 months after the release date. Use QuantumCircuit.mcx as direct replacement.\n",
            "  qc.mct(list(range(nqubits-1)), nqubits-1)  # multi-controlled-toffoli\n",
            "<ipython-input-82-d1c4be91132e>:27: DeprecationWarning: Using a qobj for run() is deprecated as of qiskit-aer 0.9.0 and will be removed no sooner than 3 months from that release date. Transpiled circuits should now be passed directly using `backend.run(circuits, **run_options).\n",
            "  results4 = aer_sim.run(qobj4,shots = 1).result()\n"
          ]
        },
        {
          "output_type": "execute_result",
          "data": {
            "text/plain": [
              "('111101101101', 12)"
            ]
          },
          "metadata": {},
          "execution_count": 98
        }
      ]
    },
    {
      "cell_type": "code",
      "source": [
        "is_solution1('100100010101')"
      ],
      "metadata": {
        "colab": {
          "base_uri": "https://localhost:8080/"
        },
        "id": "OPUyx0_Z_j0M",
        "outputId": "7a7715f0-cb85-415b-d9da-208458d1849c"
      },
      "execution_count": null,
      "outputs": [
        {
          "output_type": "stream",
          "name": "stdout",
          "text": [
            "0\n"
          ]
        }
      ]
    },
    {
      "cell_type": "code",
      "source": [
        "quantum_procedure3(creg11,qreg11)"
      ],
      "metadata": {
        "colab": {
          "base_uri": "https://localhost:8080/"
        },
        "id": "lu_xZcpkApCh",
        "outputId": "1172f6ff-db9f-4b26-f348-bf399d6f4111"
      },
      "execution_count": null,
      "outputs": [
        {
          "output_type": "stream",
          "name": "stderr",
          "text": [
            "<ipython-input-10-0630d986ce59>:11: DeprecationWarning: The method ``qiskit.circuit.quantumcircuit.QuantumCircuit.mct()`` is deprecated as of qiskit 0.45.0. It will be removed no earlier than 3 months after the release date. Use QuantumCircuit.mcx as direct replacement.\n",
            "  qc.mct(list(range(nqubits-1)), nqubits-1)  # multi-controlled-toffoli\n",
            "<ipython-input-82-d1c4be91132e>:27: DeprecationWarning: Using a qobj for run() is deprecated as of qiskit-aer 0.9.0 and will be removed no sooner than 3 months from that release date. Transpiled circuits should now be passed directly using `backend.run(circuits, **run_options).\n",
            "  results4 = aer_sim.run(qobj4,shots = 1).result()\n"
          ]
        },
        {
          "output_type": "execute_result",
          "data": {
            "text/plain": [
              "('111110011010', 13)"
            ]
          },
          "metadata": {},
          "execution_count": 116
        }
      ]
    },
    {
      "cell_type": "code",
      "source": [
        "is_solution1('111110011010')"
      ],
      "metadata": {
        "colab": {
          "base_uri": "https://localhost:8080/",
          "height": 176
        },
        "id": "Ra-DqGCEAsfB",
        "outputId": "79b0089d-434f-4c80-df26-40cae468c31f"
      },
      "execution_count": null,
      "outputs": [
        {
          "output_type": "error",
          "ename": "NameError",
          "evalue": "ignored",
          "traceback": [
            "\u001b[0;31m---------------------------------------------------------------------------\u001b[0m",
            "\u001b[0;31mNameError\u001b[0m                                 Traceback (most recent call last)",
            "\u001b[0;32m<ipython-input-1-cd6947fdc0f1>\u001b[0m in \u001b[0;36m<cell line: 1>\u001b[0;34m()\u001b[0m\n\u001b[0;32m----> 1\u001b[0;31m \u001b[0mis_solution1\u001b[0m\u001b[0;34m(\u001b[0m\u001b[0;34m'111110011010'\u001b[0m\u001b[0;34m)\u001b[0m\u001b[0;34m\u001b[0m\u001b[0;34m\u001b[0m\u001b[0m\n\u001b[0m",
            "\u001b[0;31mNameError\u001b[0m: name 'is_solution1' is not defined"
          ]
        }
      ]
    },
    {
      "cell_type": "code",
      "source": [
        "quantum_procedure3(creg11,qreg11)"
      ],
      "metadata": {
        "colab": {
          "base_uri": "https://localhost:8080/"
        },
        "id": "h4p9RCX3_j29",
        "outputId": "59e347f8-2993-4015-84a2-52346abdb5c7"
      },
      "execution_count": null,
      "outputs": [
        {
          "output_type": "stream",
          "name": "stderr",
          "text": [
            "<ipython-input-10-0630d986ce59>:11: DeprecationWarning: The method ``qiskit.circuit.quantumcircuit.QuantumCircuit.mct()`` is deprecated as of qiskit 0.45.0. It will be removed no earlier than 3 months after the release date. Use QuantumCircuit.mcx as direct replacement.\n",
            "  qc.mct(list(range(nqubits-1)), nqubits-1)  # multi-controlled-toffoli\n",
            "<ipython-input-82-d1c4be91132e>:27: DeprecationWarning: Using a qobj for run() is deprecated as of qiskit-aer 0.9.0 and will be removed no sooner than 3 months from that release date. Transpiled circuits should now be passed directly using `backend.run(circuits, **run_options).\n",
            "  results4 = aer_sim.run(qobj4,shots = 1).result()\n"
          ]
        },
        {
          "output_type": "execute_result",
          "data": {
            "text/plain": [
              "('111010010111', 38)"
            ]
          },
          "metadata": {},
          "execution_count": 115
        }
      ]
    },
    {
      "cell_type": "code",
      "source": [
        "is_solution1('111010010111')"
      ],
      "metadata": {
        "colab": {
          "base_uri": "https://localhost:8080/"
        },
        "id": "9PTZYVqu_j5j",
        "outputId": "49ac903a-ad35-4c51-dc76-a50ac42a0d33"
      },
      "execution_count": null,
      "outputs": [
        {
          "output_type": "stream",
          "name": "stdout",
          "text": [
            "111010010111\n"
          ]
        }
      ]
    },
    {
      "cell_type": "code",
      "source": [
        "def quantum_procedure4(creg,qreg):\n",
        "  qc14 = QuantumCircuit(qreg,creg)\n",
        "  # Initialize qubits in state |s>\n",
        "  qc14.x(12)\n",
        "  qc14.h(range(13))\n",
        "  qc14.barrier()\n",
        "  test_list = []\n",
        "  for j in range(63):\n",
        "      test_list.append(j)\n",
        "  # using random.choice() to\n",
        "  # get a random number\n",
        "  random_num = random.choice(test_list)\n",
        "\n",
        "  for j in range(random_num):\n",
        "      qc14.compose(quantum_circuitc3, inplace = True)\n",
        "      qc14.compose(oracle_one_solution('101001011111'), inplace = True)\n",
        "      qc14.compose(oracle_one_solution('011111101001'), inplace = True)\n",
        "      qc14.compose(oracle_one_solution('110110110110'), inplace = True)\n",
        "      qc14.compose(oracle_one_solution('111010010111'), inplace = True)\n",
        "      qc14.append(diffuser(12), range(12))\n",
        "  qc14.barrier()\n",
        "  qc14.h(12)\n",
        "  qc14.measure(range(12), range(12))\n",
        "  #print(qc14.draw(fold=-1))\n",
        "  aer_sim = Aer.get_backend('aer_simulator')\n",
        "  transpiled_qc14 = transpile(qc14, aer_sim)\n",
        "  qobj4 = assemble(transpiled_qc14)\n",
        "  results4 = aer_sim.run(qobj4,shots = 1).result()\n",
        "  counts4 = results4.get_counts()\n",
        "  dictionary_to_value(counts4)\n",
        "  return(dictionary_to_value(counts4),random_num)"
      ],
      "metadata": {
        "id": "C5WLmSx-_j-d"
      },
      "execution_count": null,
      "outputs": []
    },
    {
      "cell_type": "code",
      "source": [
        "quantum_procedure4(creg11,qreg11)"
      ],
      "metadata": {
        "colab": {
          "base_uri": "https://localhost:8080/"
        },
        "id": "NjeVBMkPBTbK",
        "outputId": "95c9b11e-8ab0-46c9-c9a1-266c394ae027"
      },
      "execution_count": null,
      "outputs": [
        {
          "output_type": "stream",
          "name": "stderr",
          "text": [
            "<ipython-input-10-0630d986ce59>:11: DeprecationWarning: The method ``qiskit.circuit.quantumcircuit.QuantumCircuit.mct()`` is deprecated as of qiskit 0.45.0. It will be removed no earlier than 3 months after the release date. Use QuantumCircuit.mcx as direct replacement.\n",
            "  qc.mct(list(range(nqubits-1)), nqubits-1)  # multi-controlled-toffoli\n",
            "<ipython-input-119-6c383bba428b>:28: DeprecationWarning: Using a qobj for run() is deprecated as of qiskit-aer 0.9.0 and will be removed no sooner than 3 months from that release date. Transpiled circuits should now be passed directly using `backend.run(circuits, **run_options).\n",
            "  results4 = aer_sim.run(qobj4,shots = 1).result()\n"
          ]
        },
        {
          "output_type": "execute_result",
          "data": {
            "text/plain": [
              "('101110010001', 33)"
            ]
          },
          "metadata": {},
          "execution_count": 120
        }
      ]
    },
    {
      "cell_type": "code",
      "source": [
        "is_solution1('101110010001')"
      ],
      "metadata": {
        "colab": {
          "base_uri": "https://localhost:8080/"
        },
        "id": "Q08gptgiBW0R",
        "outputId": "02a165d9-8ade-4da3-b18f-b96cdab9510e"
      },
      "execution_count": null,
      "outputs": [
        {
          "output_type": "stream",
          "name": "stdout",
          "text": [
            "0\n"
          ]
        }
      ]
    },
    {
      "cell_type": "code",
      "source": [
        "quantum_procedure4(creg11,qreg11)"
      ],
      "metadata": {
        "colab": {
          "base_uri": "https://localhost:8080/"
        },
        "id": "6vsGVlsYBW9C",
        "outputId": "6b00d1ca-f75a-4cef-ee8d-ae3c2278accc"
      },
      "execution_count": null,
      "outputs": [
        {
          "output_type": "stream",
          "name": "stderr",
          "text": [
            "<ipython-input-10-0630d986ce59>:11: DeprecationWarning: The method ``qiskit.circuit.quantumcircuit.QuantumCircuit.mct()`` is deprecated as of qiskit 0.45.0. It will be removed no earlier than 3 months after the release date. Use QuantumCircuit.mcx as direct replacement.\n",
            "  qc.mct(list(range(nqubits-1)), nqubits-1)  # multi-controlled-toffoli\n",
            "<ipython-input-119-6c383bba428b>:28: DeprecationWarning: Using a qobj for run() is deprecated as of qiskit-aer 0.9.0 and will be removed no sooner than 3 months from that release date. Transpiled circuits should now be passed directly using `backend.run(circuits, **run_options).\n",
            "  results4 = aer_sim.run(qobj4,shots = 1).result()\n"
          ]
        },
        {
          "output_type": "execute_result",
          "data": {
            "text/plain": [
              "('001001011011', 38)"
            ]
          },
          "metadata": {},
          "execution_count": 122
        }
      ]
    },
    {
      "cell_type": "code",
      "source": [
        "is_solution1('001001011011')"
      ],
      "metadata": {
        "colab": {
          "base_uri": "https://localhost:8080/"
        },
        "id": "TyBAkz9JBqVR",
        "outputId": "56a5657a-febf-42c6-bc29-dc11ca4a898c"
      },
      "execution_count": null,
      "outputs": [
        {
          "output_type": "stream",
          "name": "stdout",
          "text": [
            "0\n"
          ]
        }
      ]
    },
    {
      "cell_type": "code",
      "source": [
        "quantum_procedure4(creg11,qreg11)"
      ],
      "metadata": {
        "colab": {
          "base_uri": "https://localhost:8080/"
        },
        "id": "nDZmzlS3Bwyq",
        "outputId": "8da36289-a973-4c9d-db5e-84e9356d03b2"
      },
      "execution_count": null,
      "outputs": [
        {
          "output_type": "stream",
          "name": "stderr",
          "text": [
            "<ipython-input-10-0630d986ce59>:11: DeprecationWarning: The method ``qiskit.circuit.quantumcircuit.QuantumCircuit.mct()`` is deprecated as of qiskit 0.45.0. It will be removed no earlier than 3 months after the release date. Use QuantumCircuit.mcx as direct replacement.\n",
            "  qc.mct(list(range(nqubits-1)), nqubits-1)  # multi-controlled-toffoli\n",
            "<ipython-input-119-6c383bba428b>:28: DeprecationWarning: Using a qobj for run() is deprecated as of qiskit-aer 0.9.0 and will be removed no sooner than 3 months from that release date. Transpiled circuits should now be passed directly using `backend.run(circuits, **run_options).\n",
            "  results4 = aer_sim.run(qobj4,shots = 1).result()\n"
          ]
        },
        {
          "output_type": "execute_result",
          "data": {
            "text/plain": [
              "('101001011011', 3)"
            ]
          },
          "metadata": {},
          "execution_count": 124
        }
      ]
    },
    {
      "cell_type": "code",
      "source": [
        "is_solution1('101001011011')"
      ],
      "metadata": {
        "colab": {
          "base_uri": "https://localhost:8080/"
        },
        "id": "ML3rVlAVBw2a",
        "outputId": "0c942dcb-4dd1-477d-f977-917f62f442b9"
      },
      "execution_count": null,
      "outputs": [
        {
          "output_type": "stream",
          "name": "stdout",
          "text": [
            "0\n"
          ]
        }
      ]
    },
    {
      "cell_type": "code",
      "source": [
        "quantum_procedure4(creg11,qreg11)"
      ],
      "metadata": {
        "colab": {
          "base_uri": "https://localhost:8080/"
        },
        "id": "sCuBrdYfB-2B",
        "outputId": "262e5491-50a5-455f-9a03-258ad39fc1db"
      },
      "execution_count": null,
      "outputs": [
        {
          "output_type": "stream",
          "name": "stderr",
          "text": [
            "<ipython-input-10-0630d986ce59>:11: DeprecationWarning: The method ``qiskit.circuit.quantumcircuit.QuantumCircuit.mct()`` is deprecated as of qiskit 0.45.0. It will be removed no earlier than 3 months after the release date. Use QuantumCircuit.mcx as direct replacement.\n",
            "  qc.mct(list(range(nqubits-1)), nqubits-1)  # multi-controlled-toffoli\n",
            "<ipython-input-119-6c383bba428b>:28: DeprecationWarning: Using a qobj for run() is deprecated as of qiskit-aer 0.9.0 and will be removed no sooner than 3 months from that release date. Transpiled circuits should now be passed directly using `backend.run(circuits, **run_options).\n",
            "  results4 = aer_sim.run(qobj4,shots = 1).result()\n"
          ]
        },
        {
          "output_type": "execute_result",
          "data": {
            "text/plain": [
              "('100001110100', 23)"
            ]
          },
          "metadata": {},
          "execution_count": 126
        }
      ]
    },
    {
      "cell_type": "code",
      "source": [
        "quantum_procedure4(creg11,qreg11)"
      ],
      "metadata": {
        "colab": {
          "base_uri": "https://localhost:8080/"
        },
        "id": "DPI15E6wCDAq",
        "outputId": "b711cadd-282e-4a34-c900-1fdfb2c1c305"
      },
      "execution_count": null,
      "outputs": [
        {
          "output_type": "stream",
          "name": "stderr",
          "text": [
            "<ipython-input-10-0630d986ce59>:11: DeprecationWarning: The method ``qiskit.circuit.quantumcircuit.QuantumCircuit.mct()`` is deprecated as of qiskit 0.45.0. It will be removed no earlier than 3 months after the release date. Use QuantumCircuit.mcx as direct replacement.\n",
            "  qc.mct(list(range(nqubits-1)), nqubits-1)  # multi-controlled-toffoli\n",
            "<ipython-input-119-6c383bba428b>:28: DeprecationWarning: Using a qobj for run() is deprecated as of qiskit-aer 0.9.0 and will be removed no sooner than 3 months from that release date. Transpiled circuits should now be passed directly using `backend.run(circuits, **run_options).\n",
            "  results4 = aer_sim.run(qobj4,shots = 1).result()\n"
          ]
        },
        {
          "output_type": "execute_result",
          "data": {
            "text/plain": [
              "('101001011011', 48)"
            ]
          },
          "metadata": {},
          "execution_count": 127
        }
      ]
    },
    {
      "cell_type": "code",
      "source": [
        "quantum_procedure4(creg11,qreg11)"
      ],
      "metadata": {
        "colab": {
          "base_uri": "https://localhost:8080/"
        },
        "id": "ZZnGHAbwCDKB",
        "outputId": "29d7047d-a030-41d4-ff7e-429e7684e2a2"
      },
      "execution_count": null,
      "outputs": [
        {
          "output_type": "stream",
          "name": "stderr",
          "text": [
            "<ipython-input-10-0630d986ce59>:11: DeprecationWarning: The method ``qiskit.circuit.quantumcircuit.QuantumCircuit.mct()`` is deprecated as of qiskit 0.45.0. It will be removed no earlier than 3 months after the release date. Use QuantumCircuit.mcx as direct replacement.\n",
            "  qc.mct(list(range(nqubits-1)), nqubits-1)  # multi-controlled-toffoli\n",
            "<ipython-input-119-6c383bba428b>:28: DeprecationWarning: Using a qobj for run() is deprecated as of qiskit-aer 0.9.0 and will be removed no sooner than 3 months from that release date. Transpiled circuits should now be passed directly using `backend.run(circuits, **run_options).\n",
            "  results4 = aer_sim.run(qobj4,shots = 1).result()\n"
          ]
        },
        {
          "output_type": "execute_result",
          "data": {
            "text/plain": [
              "('101001011011', 22)"
            ]
          },
          "metadata": {},
          "execution_count": 128
        }
      ]
    },
    {
      "cell_type": "code",
      "source": [
        "quantum_procedure4(creg11,qreg11)"
      ],
      "metadata": {
        "colab": {
          "base_uri": "https://localhost:8080/"
        },
        "id": "xKn2jsmWCLFC",
        "outputId": "53116cfb-0d9e-4de3-d3ec-8ed22ce88bd5"
      },
      "execution_count": null,
      "outputs": [
        {
          "output_type": "stream",
          "name": "stderr",
          "text": [
            "<ipython-input-10-0630d986ce59>:11: DeprecationWarning: The method ``qiskit.circuit.quantumcircuit.QuantumCircuit.mct()`` is deprecated as of qiskit 0.45.0. It will be removed no earlier than 3 months after the release date. Use QuantumCircuit.mcx as direct replacement.\n",
            "  qc.mct(list(range(nqubits-1)), nqubits-1)  # multi-controlled-toffoli\n",
            "<ipython-input-119-6c383bba428b>:28: DeprecationWarning: Using a qobj for run() is deprecated as of qiskit-aer 0.9.0 and will be removed no sooner than 3 months from that release date. Transpiled circuits should now be passed directly using `backend.run(circuits, **run_options).\n",
            "  results4 = aer_sim.run(qobj4,shots = 1).result()\n"
          ]
        },
        {
          "output_type": "execute_result",
          "data": {
            "text/plain": [
              "('000110011000', 34)"
            ]
          },
          "metadata": {},
          "execution_count": 129
        }
      ]
    },
    {
      "cell_type": "code",
      "source": [
        "quantum_procedure4(creg11,qreg11)"
      ],
      "metadata": {
        "colab": {
          "base_uri": "https://localhost:8080/"
        },
        "id": "D8n-n-EBCNhK",
        "outputId": "5a3626b7-1452-42f2-9ad3-cb8c6fb0463d"
      },
      "execution_count": null,
      "outputs": [
        {
          "output_type": "stream",
          "name": "stderr",
          "text": [
            "<ipython-input-10-0630d986ce59>:11: DeprecationWarning: The method ``qiskit.circuit.quantumcircuit.QuantumCircuit.mct()`` is deprecated as of qiskit 0.45.0. It will be removed no earlier than 3 months after the release date. Use QuantumCircuit.mcx as direct replacement.\n",
            "  qc.mct(list(range(nqubits-1)), nqubits-1)  # multi-controlled-toffoli\n",
            "<ipython-input-119-6c383bba428b>:28: DeprecationWarning: Using a qobj for run() is deprecated as of qiskit-aer 0.9.0 and will be removed no sooner than 3 months from that release date. Transpiled circuits should now be passed directly using `backend.run(circuits, **run_options).\n",
            "  results4 = aer_sim.run(qobj4,shots = 1).result()\n"
          ]
        },
        {
          "output_type": "execute_result",
          "data": {
            "text/plain": [
              "('010100100101', 3)"
            ]
          },
          "metadata": {},
          "execution_count": 130
        }
      ]
    },
    {
      "cell_type": "code",
      "source": [
        "quantum_procedure4(creg11,qreg11)"
      ],
      "metadata": {
        "colab": {
          "base_uri": "https://localhost:8080/"
        },
        "id": "vf6n3QX4CQkb",
        "outputId": "3445b131-bd36-4cf1-83c1-35fbf1eeb897"
      },
      "execution_count": null,
      "outputs": [
        {
          "output_type": "stream",
          "name": "stderr",
          "text": [
            "<ipython-input-10-0630d986ce59>:11: DeprecationWarning: The method ``qiskit.circuit.quantumcircuit.QuantumCircuit.mct()`` is deprecated as of qiskit 0.45.0. It will be removed no earlier than 3 months after the release date. Use QuantumCircuit.mcx as direct replacement.\n",
            "  qc.mct(list(range(nqubits-1)), nqubits-1)  # multi-controlled-toffoli\n",
            "<ipython-input-119-6c383bba428b>:28: DeprecationWarning: Using a qobj for run() is deprecated as of qiskit-aer 0.9.0 and will be removed no sooner than 3 months from that release date. Transpiled circuits should now be passed directly using `backend.run(circuits, **run_options).\n",
            "  results4 = aer_sim.run(qobj4,shots = 1).result()\n"
          ]
        },
        {
          "output_type": "execute_result",
          "data": {
            "text/plain": [
              "('111000111001', 58)"
            ]
          },
          "metadata": {},
          "execution_count": 131
        }
      ]
    },
    {
      "cell_type": "code",
      "source": [
        "quantum_procedure4(creg11,qreg11)"
      ],
      "metadata": {
        "colab": {
          "base_uri": "https://localhost:8080/"
        },
        "id": "LeSKgLU6CQqT",
        "outputId": "86417e92-f0d2-4da8-f3cf-1e4cf0e41dfd"
      },
      "execution_count": null,
      "outputs": [
        {
          "output_type": "stream",
          "name": "stderr",
          "text": [
            "<ipython-input-10-0630d986ce59>:11: DeprecationWarning: The method ``qiskit.circuit.quantumcircuit.QuantumCircuit.mct()`` is deprecated as of qiskit 0.45.0. It will be removed no earlier than 3 months after the release date. Use QuantumCircuit.mcx as direct replacement.\n",
            "  qc.mct(list(range(nqubits-1)), nqubits-1)  # multi-controlled-toffoli\n",
            "<ipython-input-119-6c383bba428b>:28: DeprecationWarning: Using a qobj for run() is deprecated as of qiskit-aer 0.9.0 and will be removed no sooner than 3 months from that release date. Transpiled circuits should now be passed directly using `backend.run(circuits, **run_options).\n",
            "  results4 = aer_sim.run(qobj4,shots = 1).result()\n"
          ]
        },
        {
          "output_type": "execute_result",
          "data": {
            "text/plain": [
              "('010111111010', 11)"
            ]
          },
          "metadata": {},
          "execution_count": 132
        }
      ]
    },
    {
      "cell_type": "code",
      "source": [
        "is_solution1('010111111010')"
      ],
      "metadata": {
        "colab": {
          "base_uri": "https://localhost:8080/"
        },
        "id": "Lf6wXvJTCQ1T",
        "outputId": "03b654ef-dbd7-4bd6-e882-5f6eb26411ce"
      },
      "execution_count": null,
      "outputs": [
        {
          "output_type": "stream",
          "name": "stdout",
          "text": [
            "010111111010\n"
          ]
        }
      ]
    },
    {
      "cell_type": "code",
      "source": [
        "def quantum_procedure5(creg,qreg):\n",
        "  qc14 = QuantumCircuit(qreg,creg)\n",
        "  # Initialize qubits in state |s>\n",
        "  qc14.x(12)\n",
        "  qc14.h(range(13))\n",
        "  qc14.barrier()\n",
        "  test_list = []\n",
        "  for j in range(63):\n",
        "      test_list.append(j)\n",
        "  # using random.choice() to\n",
        "  # get a random number\n",
        "  random_num = random.choice(test_list)\n",
        "\n",
        "  for j in range(random_num):\n",
        "      qc14.compose(quantum_circuitc3, inplace = True)\n",
        "      qc14.compose(oracle_one_solution('101001011111'), inplace = True)\n",
        "      qc14.compose(oracle_one_solution('011111101001'), inplace = True)\n",
        "      qc14.compose(oracle_one_solution('110110110110'), inplace = True)\n",
        "      qc14.compose(oracle_one_solution('111010010111'), inplace = True)\n",
        "      qc14.compose(oracle_one_solution('010111111010'), inplace = True)\n",
        "      qc14.append(diffuser(12), range(12))\n",
        "  qc14.barrier()\n",
        "  qc14.h(12)\n",
        "  qc14.measure(range(12), range(12))\n",
        "  #print(qc14.draw(fold=-1))\n",
        "  aer_sim = Aer.get_backend('aer_simulator')\n",
        "  transpiled_qc14 = transpile(qc14, aer_sim)\n",
        "  qobj4 = assemble(transpiled_qc14)\n",
        "  results4 = aer_sim.run(qobj4,shots = 1).result()\n",
        "  counts4 = results4.get_counts()\n",
        "  dictionary_to_value(counts4)\n",
        "  return(dictionary_to_value(counts4),random_num)"
      ],
      "metadata": {
        "id": "vz_K5VB9Ccvd"
      },
      "execution_count": null,
      "outputs": []
    },
    {
      "cell_type": "code",
      "source": [
        "quantum_procedure5(creg11,qreg11)"
      ],
      "metadata": {
        "colab": {
          "base_uri": "https://localhost:8080/"
        },
        "id": "fPtI1rNcClBa",
        "outputId": "b94f15ae-9390-444f-89c4-e70930e02fe9"
      },
      "execution_count": null,
      "outputs": [
        {
          "output_type": "stream",
          "name": "stderr",
          "text": [
            "<ipython-input-10-0630d986ce59>:11: DeprecationWarning: The method ``qiskit.circuit.quantumcircuit.QuantumCircuit.mct()`` is deprecated as of qiskit 0.45.0. It will be removed no earlier than 3 months after the release date. Use QuantumCircuit.mcx as direct replacement.\n",
            "  qc.mct(list(range(nqubits-1)), nqubits-1)  # multi-controlled-toffoli\n",
            "<ipython-input-136-8a6381ed827d>:29: DeprecationWarning: Using a qobj for run() is deprecated as of qiskit-aer 0.9.0 and will be removed no sooner than 3 months from that release date. Transpiled circuits should now be passed directly using `backend.run(circuits, **run_options).\n",
            "  results4 = aer_sim.run(qobj4,shots = 1).result()\n"
          ]
        },
        {
          "output_type": "execute_result",
          "data": {
            "text/plain": [
              "('111011101101', 60)"
            ]
          },
          "metadata": {},
          "execution_count": 137
        }
      ]
    },
    {
      "cell_type": "code",
      "source": [
        "is_solution1('111011101101')"
      ],
      "metadata": {
        "colab": {
          "base_uri": "https://localhost:8080/"
        },
        "id": "Ae_rDCJ8ClD1",
        "outputId": "0abce625-fbd2-47e7-d48e-0c490b5f8214"
      },
      "execution_count": null,
      "outputs": [
        {
          "output_type": "stream",
          "name": "stdout",
          "text": [
            "0\n"
          ]
        }
      ]
    },
    {
      "cell_type": "code",
      "source": [
        "quantum_procedure5(creg11,qreg11)"
      ],
      "metadata": {
        "colab": {
          "base_uri": "https://localhost:8080/"
        },
        "id": "22oVaqsnCwFT",
        "outputId": "8198bf24-154b-45d7-eeb6-354a6903a876"
      },
      "execution_count": null,
      "outputs": [
        {
          "output_type": "stream",
          "name": "stderr",
          "text": [
            "<ipython-input-10-0630d986ce59>:11: DeprecationWarning: The method ``qiskit.circuit.quantumcircuit.QuantumCircuit.mct()`` is deprecated as of qiskit 0.45.0. It will be removed no earlier than 3 months after the release date. Use QuantumCircuit.mcx as direct replacement.\n",
            "  qc.mct(list(range(nqubits-1)), nqubits-1)  # multi-controlled-toffoli\n",
            "<ipython-input-136-8a6381ed827d>:29: DeprecationWarning: Using a qobj for run() is deprecated as of qiskit-aer 0.9.0 and will be removed no sooner than 3 months from that release date. Transpiled circuits should now be passed directly using `backend.run(circuits, **run_options).\n",
            "  results4 = aer_sim.run(qobj4,shots = 1).result()\n"
          ]
        },
        {
          "output_type": "execute_result",
          "data": {
            "text/plain": [
              "('110000001110', 53)"
            ]
          },
          "metadata": {},
          "execution_count": 139
        }
      ]
    },
    {
      "cell_type": "code",
      "source": [
        "quantum_procedure5(creg11,qreg11)"
      ],
      "metadata": {
        "colab": {
          "base_uri": "https://localhost:8080/"
        },
        "id": "YHOmZA27C6XM",
        "outputId": "ff1f90d4-b0d5-4eda-fb19-9da254e176e6"
      },
      "execution_count": null,
      "outputs": [
        {
          "output_type": "stream",
          "name": "stderr",
          "text": [
            "<ipython-input-10-0630d986ce59>:11: DeprecationWarning: The method ``qiskit.circuit.quantumcircuit.QuantumCircuit.mct()`` is deprecated as of qiskit 0.45.0. It will be removed no earlier than 3 months after the release date. Use QuantumCircuit.mcx as direct replacement.\n",
            "  qc.mct(list(range(nqubits-1)), nqubits-1)  # multi-controlled-toffoli\n",
            "<ipython-input-136-8a6381ed827d>:29: DeprecationWarning: Using a qobj for run() is deprecated as of qiskit-aer 0.9.0 and will be removed no sooner than 3 months from that release date. Transpiled circuits should now be passed directly using `backend.run(circuits, **run_options).\n",
            "  results4 = aer_sim.run(qobj4,shots = 1).result()\n"
          ]
        },
        {
          "output_type": "execute_result",
          "data": {
            "text/plain": [
              "('101101101101', 6)"
            ]
          },
          "metadata": {},
          "execution_count": 140
        }
      ]
    },
    {
      "cell_type": "code",
      "source": [
        "quantum_procedure5(creg11,qreg11)"
      ],
      "metadata": {
        "colab": {
          "base_uri": "https://localhost:8080/"
        },
        "id": "A_5__crZC6j3",
        "outputId": "7e8fbebd-d12b-47c9-8750-54735529c583"
      },
      "execution_count": null,
      "outputs": [
        {
          "output_type": "stream",
          "name": "stderr",
          "text": [
            "<ipython-input-10-0630d986ce59>:11: DeprecationWarning: The method ``qiskit.circuit.quantumcircuit.QuantumCircuit.mct()`` is deprecated as of qiskit 0.45.0. It will be removed no earlier than 3 months after the release date. Use QuantumCircuit.mcx as direct replacement.\n",
            "  qc.mct(list(range(nqubits-1)), nqubits-1)  # multi-controlled-toffoli\n",
            "<ipython-input-136-8a6381ed827d>:29: DeprecationWarning: Using a qobj for run() is deprecated as of qiskit-aer 0.9.0 and will be removed no sooner than 3 months from that release date. Transpiled circuits should now be passed directly using `backend.run(circuits, **run_options).\n",
            "  results4 = aer_sim.run(qobj4,shots = 1).result()\n"
          ]
        },
        {
          "output_type": "execute_result",
          "data": {
            "text/plain": [
              "('010111011101', 21)"
            ]
          },
          "metadata": {},
          "execution_count": 141
        }
      ]
    },
    {
      "cell_type": "code",
      "source": [
        "quantum_procedure5(creg11,qreg11)"
      ],
      "metadata": {
        "colab": {
          "base_uri": "https://localhost:8080/"
        },
        "id": "lyc7EpJ1C6-5",
        "outputId": "0b5a718a-38ff-4ff0-ebd5-f9e34aac6cb2"
      },
      "execution_count": null,
      "outputs": [
        {
          "output_type": "stream",
          "name": "stderr",
          "text": [
            "<ipython-input-10-0630d986ce59>:11: DeprecationWarning: The method ``qiskit.circuit.quantumcircuit.QuantumCircuit.mct()`` is deprecated as of qiskit 0.45.0. It will be removed no earlier than 3 months after the release date. Use QuantumCircuit.mcx as direct replacement.\n",
            "  qc.mct(list(range(nqubits-1)), nqubits-1)  # multi-controlled-toffoli\n",
            "<ipython-input-136-8a6381ed827d>:29: DeprecationWarning: Using a qobj for run() is deprecated as of qiskit-aer 0.9.0 and will be removed no sooner than 3 months from that release date. Transpiled circuits should now be passed directly using `backend.run(circuits, **run_options).\n",
            "  results4 = aer_sim.run(qobj4,shots = 1).result()\n"
          ]
        },
        {
          "output_type": "execute_result",
          "data": {
            "text/plain": [
              "('101010110010', 59)"
            ]
          },
          "metadata": {},
          "execution_count": 142
        }
      ]
    },
    {
      "cell_type": "code",
      "source": [
        "quantum_procedure5(creg11,qreg11)"
      ],
      "metadata": {
        "colab": {
          "base_uri": "https://localhost:8080/"
        },
        "id": "NkHs6QuOC_Nz",
        "outputId": "d3d77a2a-0598-4934-b661-d67a8229f3a1"
      },
      "execution_count": null,
      "outputs": [
        {
          "output_type": "stream",
          "name": "stderr",
          "text": [
            "<ipython-input-10-0630d986ce59>:11: DeprecationWarning: The method ``qiskit.circuit.quantumcircuit.QuantumCircuit.mct()`` is deprecated as of qiskit 0.45.0. It will be removed no earlier than 3 months after the release date. Use QuantumCircuit.mcx as direct replacement.\n",
            "  qc.mct(list(range(nqubits-1)), nqubits-1)  # multi-controlled-toffoli\n",
            "<ipython-input-136-8a6381ed827d>:29: DeprecationWarning: Using a qobj for run() is deprecated as of qiskit-aer 0.9.0 and will be removed no sooner than 3 months from that release date. Transpiled circuits should now be passed directly using `backend.run(circuits, **run_options).\n",
            "  results4 = aer_sim.run(qobj4,shots = 1).result()\n"
          ]
        },
        {
          "output_type": "execute_result",
          "data": {
            "text/plain": [
              "('111110011010', 14)"
            ]
          },
          "metadata": {},
          "execution_count": 144
        }
      ]
    },
    {
      "cell_type": "code",
      "source": [
        "quantum_procedure5(creg11,qreg11)"
      ],
      "metadata": {
        "colab": {
          "base_uri": "https://localhost:8080/"
        },
        "id": "-dN9ymqqC_TF",
        "outputId": "252d042a-fe1b-4405-866a-4a0946e0ebba"
      },
      "execution_count": null,
      "outputs": [
        {
          "output_type": "stream",
          "name": "stderr",
          "text": [
            "<ipython-input-10-0630d986ce59>:11: DeprecationWarning: The method ``qiskit.circuit.quantumcircuit.QuantumCircuit.mct()`` is deprecated as of qiskit 0.45.0. It will be removed no earlier than 3 months after the release date. Use QuantumCircuit.mcx as direct replacement.\n",
            "  qc.mct(list(range(nqubits-1)), nqubits-1)  # multi-controlled-toffoli\n",
            "<ipython-input-136-8a6381ed827d>:29: DeprecationWarning: Using a qobj for run() is deprecated as of qiskit-aer 0.9.0 and will be removed no sooner than 3 months from that release date. Transpiled circuits should now be passed directly using `backend.run(circuits, **run_options).\n",
            "  results4 = aer_sim.run(qobj4,shots = 1).result()\n"
          ]
        },
        {
          "output_type": "execute_result",
          "data": {
            "text/plain": [
              "('000110011110', 28)"
            ]
          },
          "metadata": {},
          "execution_count": 143
        }
      ]
    },
    {
      "cell_type": "code",
      "source": [
        "quantum_procedure5(creg11,qreg11)"
      ],
      "metadata": {
        "colab": {
          "base_uri": "https://localhost:8080/"
        },
        "id": "wR1abZD2DB7E",
        "outputId": "4e93536b-7971-492b-e9d0-a33901799c53"
      },
      "execution_count": null,
      "outputs": [
        {
          "output_type": "stream",
          "name": "stderr",
          "text": [
            "<ipython-input-10-0630d986ce59>:11: DeprecationWarning: The method ``qiskit.circuit.quantumcircuit.QuantumCircuit.mct()`` is deprecated as of qiskit 0.45.0. It will be removed no earlier than 3 months after the release date. Use QuantumCircuit.mcx as direct replacement.\n",
            "  qc.mct(list(range(nqubits-1)), nqubits-1)  # multi-controlled-toffoli\n",
            "<ipython-input-136-8a6381ed827d>:29: DeprecationWarning: Using a qobj for run() is deprecated as of qiskit-aer 0.9.0 and will be removed no sooner than 3 months from that release date. Transpiled circuits should now be passed directly using `backend.run(circuits, **run_options).\n",
            "  results4 = aer_sim.run(qobj4,shots = 1).result()\n"
          ]
        },
        {
          "output_type": "execute_result",
          "data": {
            "text/plain": [
              "('100101101101', 56)"
            ]
          },
          "metadata": {},
          "execution_count": 145
        }
      ]
    },
    {
      "cell_type": "code",
      "source": [
        "quantum_procedure5(creg11,qreg11)"
      ],
      "metadata": {
        "colab": {
          "base_uri": "https://localhost:8080/"
        },
        "id": "471zrLIPDDzb",
        "outputId": "d6baf801-4977-40db-9396-8efc30d61292"
      },
      "execution_count": null,
      "outputs": [
        {
          "output_type": "stream",
          "name": "stderr",
          "text": [
            "<ipython-input-10-0630d986ce59>:11: DeprecationWarning: The method ``qiskit.circuit.quantumcircuit.QuantumCircuit.mct()`` is deprecated as of qiskit 0.45.0. It will be removed no earlier than 3 months after the release date. Use QuantumCircuit.mcx as direct replacement.\n",
            "  qc.mct(list(range(nqubits-1)), nqubits-1)  # multi-controlled-toffoli\n",
            "<ipython-input-136-8a6381ed827d>:29: DeprecationWarning: Using a qobj for run() is deprecated as of qiskit-aer 0.9.0 and will be removed no sooner than 3 months from that release date. Transpiled circuits should now be passed directly using `backend.run(circuits, **run_options).\n",
            "  results4 = aer_sim.run(qobj4,shots = 1).result()\n"
          ]
        },
        {
          "output_type": "execute_result",
          "data": {
            "text/plain": [
              "('010001110001', 49)"
            ]
          },
          "metadata": {},
          "execution_count": 146
        }
      ]
    },
    {
      "cell_type": "code",
      "source": [
        "quantum_procedure5(creg11,qreg11)"
      ],
      "metadata": {
        "colab": {
          "base_uri": "https://localhost:8080/"
        },
        "id": "lVG4Ha4lDFuz",
        "outputId": "2832af45-748d-4cfc-bd8d-4e26bd81a1b5"
      },
      "execution_count": null,
      "outputs": [
        {
          "output_type": "stream",
          "name": "stderr",
          "text": [
            "<ipython-input-10-0630d986ce59>:11: DeprecationWarning: The method ``qiskit.circuit.quantumcircuit.QuantumCircuit.mct()`` is deprecated as of qiskit 0.45.0. It will be removed no earlier than 3 months after the release date. Use QuantumCircuit.mcx as direct replacement.\n",
            "  qc.mct(list(range(nqubits-1)), nqubits-1)  # multi-controlled-toffoli\n",
            "<ipython-input-136-8a6381ed827d>:29: DeprecationWarning: Using a qobj for run() is deprecated as of qiskit-aer 0.9.0 and will be removed no sooner than 3 months from that release date. Transpiled circuits should now be passed directly using `backend.run(circuits, **run_options).\n",
            "  results4 = aer_sim.run(qobj4,shots = 1).result()\n"
          ]
        },
        {
          "output_type": "execute_result",
          "data": {
            "text/plain": [
              "('010111110010', 45)"
            ]
          },
          "metadata": {},
          "execution_count": 147
        }
      ]
    },
    {
      "cell_type": "code",
      "source": [
        "quantum_procedure5(creg11,qreg11)"
      ],
      "metadata": {
        "colab": {
          "base_uri": "https://localhost:8080/"
        },
        "id": "BXxTdNlcDHpb",
        "outputId": "fae1fddd-380b-46bf-8cb6-8439a2bf4f4d"
      },
      "execution_count": null,
      "outputs": [
        {
          "output_type": "stream",
          "name": "stderr",
          "text": [
            "<ipython-input-10-0630d986ce59>:11: DeprecationWarning: The method ``qiskit.circuit.quantumcircuit.QuantumCircuit.mct()`` is deprecated as of qiskit 0.45.0. It will be removed no earlier than 3 months after the release date. Use QuantumCircuit.mcx as direct replacement.\n",
            "  qc.mct(list(range(nqubits-1)), nqubits-1)  # multi-controlled-toffoli\n",
            "<ipython-input-136-8a6381ed827d>:29: DeprecationWarning: Using a qobj for run() is deprecated as of qiskit-aer 0.9.0 and will be removed no sooner than 3 months from that release date. Transpiled circuits should now be passed directly using `backend.run(circuits, **run_options).\n",
            "  results4 = aer_sim.run(qobj4,shots = 1).result()\n"
          ]
        },
        {
          "output_type": "execute_result",
          "data": {
            "text/plain": [
              "('100101100111', 56)"
            ]
          },
          "metadata": {},
          "execution_count": 148
        }
      ]
    },
    {
      "cell_type": "code",
      "source": [
        "quantum_procedure5(creg11,qreg11)"
      ],
      "metadata": {
        "colab": {
          "base_uri": "https://localhost:8080/"
        },
        "id": "F7-pedqGDJZ0",
        "outputId": "def7cdca-b06f-4e8b-da1c-c6a472c9aca4"
      },
      "execution_count": null,
      "outputs": [
        {
          "output_type": "stream",
          "name": "stderr",
          "text": [
            "<ipython-input-10-0630d986ce59>:11: DeprecationWarning: The method ``qiskit.circuit.quantumcircuit.QuantumCircuit.mct()`` is deprecated as of qiskit 0.45.0. It will be removed no earlier than 3 months after the release date. Use QuantumCircuit.mcx as direct replacement.\n",
            "  qc.mct(list(range(nqubits-1)), nqubits-1)  # multi-controlled-toffoli\n",
            "<ipython-input-136-8a6381ed827d>:29: DeprecationWarning: Using a qobj for run() is deprecated as of qiskit-aer 0.9.0 and will be removed no sooner than 3 months from that release date. Transpiled circuits should now be passed directly using `backend.run(circuits, **run_options).\n",
            "  results4 = aer_sim.run(qobj4,shots = 1).result()\n"
          ]
        },
        {
          "output_type": "execute_result",
          "data": {
            "text/plain": [
              "('011111001101', 7)"
            ]
          },
          "metadata": {},
          "execution_count": 149
        }
      ]
    },
    {
      "cell_type": "code",
      "source": [
        "quantum_procedure5(creg11,qreg11)"
      ],
      "metadata": {
        "colab": {
          "base_uri": "https://localhost:8080/"
        },
        "id": "hwqwzWnTDJcs",
        "outputId": "a2720f42-bbe9-4db8-8908-d3ce3de9de53"
      },
      "execution_count": null,
      "outputs": [
        {
          "output_type": "stream",
          "name": "stderr",
          "text": [
            "<ipython-input-10-0630d986ce59>:11: DeprecationWarning: The method ``qiskit.circuit.quantumcircuit.QuantumCircuit.mct()`` is deprecated as of qiskit 0.45.0. It will be removed no earlier than 3 months after the release date. Use QuantumCircuit.mcx as direct replacement.\n",
            "  qc.mct(list(range(nqubits-1)), nqubits-1)  # multi-controlled-toffoli\n",
            "<ipython-input-136-8a6381ed827d>:29: DeprecationWarning: Using a qobj for run() is deprecated as of qiskit-aer 0.9.0 and will be removed no sooner than 3 months from that release date. Transpiled circuits should now be passed directly using `backend.run(circuits, **run_options).\n",
            "  results4 = aer_sim.run(qobj4,shots = 1).result()\n"
          ]
        },
        {
          "output_type": "execute_result",
          "data": {
            "text/plain": [
              "('111110011010', 32)"
            ]
          },
          "metadata": {},
          "execution_count": 150
        }
      ]
    },
    {
      "cell_type": "code",
      "source": [
        "quantum_procedure5(creg11,qreg11)"
      ],
      "metadata": {
        "colab": {
          "base_uri": "https://localhost:8080/"
        },
        "id": "KJ2pgJnMDJf9",
        "outputId": "e74221d5-77f1-4a80-dda7-a4daa70ccde3"
      },
      "execution_count": null,
      "outputs": [
        {
          "output_type": "stream",
          "name": "stderr",
          "text": [
            "<ipython-input-10-0630d986ce59>:11: DeprecationWarning: The method ``qiskit.circuit.quantumcircuit.QuantumCircuit.mct()`` is deprecated as of qiskit 0.45.0. It will be removed no earlier than 3 months after the release date. Use QuantumCircuit.mcx as direct replacement.\n",
            "  qc.mct(list(range(nqubits-1)), nqubits-1)  # multi-controlled-toffoli\n",
            "<ipython-input-136-8a6381ed827d>:29: DeprecationWarning: Using a qobj for run() is deprecated as of qiskit-aer 0.9.0 and will be removed no sooner than 3 months from that release date. Transpiled circuits should now be passed directly using `backend.run(circuits, **run_options).\n",
            "  results4 = aer_sim.run(qobj4,shots = 1).result()\n"
          ]
        },
        {
          "output_type": "execute_result",
          "data": {
            "text/plain": [
              "('101001100001', 58)"
            ]
          },
          "metadata": {},
          "execution_count": 151
        }
      ]
    },
    {
      "cell_type": "code",
      "source": [
        "quantum_procedure5(creg11,qreg11)"
      ],
      "metadata": {
        "colab": {
          "base_uri": "https://localhost:8080/"
        },
        "id": "ZmEoZpduDJin",
        "outputId": "77da0cee-a0bd-4094-ee58-265ad4adaf24"
      },
      "execution_count": null,
      "outputs": [
        {
          "output_type": "stream",
          "name": "stderr",
          "text": [
            "<ipython-input-10-0630d986ce59>:11: DeprecationWarning: The method ``qiskit.circuit.quantumcircuit.QuantumCircuit.mct()`` is deprecated as of qiskit 0.45.0. It will be removed no earlier than 3 months after the release date. Use QuantumCircuit.mcx as direct replacement.\n",
            "  qc.mct(list(range(nqubits-1)), nqubits-1)  # multi-controlled-toffoli\n",
            "<ipython-input-136-8a6381ed827d>:29: DeprecationWarning: Using a qobj for run() is deprecated as of qiskit-aer 0.9.0 and will be removed no sooner than 3 months from that release date. Transpiled circuits should now be passed directly using `backend.run(circuits, **run_options).\n",
            "  results4 = aer_sim.run(qobj4,shots = 1).result()\n"
          ]
        },
        {
          "output_type": "execute_result",
          "data": {
            "text/plain": [
              "('000000111110', 58)"
            ]
          },
          "metadata": {},
          "execution_count": 153
        }
      ]
    },
    {
      "cell_type": "code",
      "source": [
        "quantum_procedure5(creg11,qreg11)"
      ],
      "metadata": {
        "colab": {
          "base_uri": "https://localhost:8080/"
        },
        "id": "zGC1GSVvDJwM",
        "outputId": "22eab338-ac24-4165-a9de-58472a686d22"
      },
      "execution_count": null,
      "outputs": [
        {
          "output_type": "stream",
          "name": "stderr",
          "text": [
            "<ipython-input-10-0630d986ce59>:11: DeprecationWarning: The method ``qiskit.circuit.quantumcircuit.QuantumCircuit.mct()`` is deprecated as of qiskit 0.45.0. It will be removed no earlier than 3 months after the release date. Use QuantumCircuit.mcx as direct replacement.\n",
            "  qc.mct(list(range(nqubits-1)), nqubits-1)  # multi-controlled-toffoli\n",
            "<ipython-input-136-8a6381ed827d>:29: DeprecationWarning: Using a qobj for run() is deprecated as of qiskit-aer 0.9.0 and will be removed no sooner than 3 months from that release date. Transpiled circuits should now be passed directly using `backend.run(circuits, **run_options).\n",
            "  results4 = aer_sim.run(qobj4,shots = 1).result()\n"
          ]
        },
        {
          "output_type": "execute_result",
          "data": {
            "text/plain": [
              "('010101101011', 62)"
            ]
          },
          "metadata": {},
          "execution_count": 154
        }
      ]
    },
    {
      "cell_type": "code",
      "source": [
        "quantum_procedure5(creg11,qreg11)"
      ],
      "metadata": {
        "colab": {
          "base_uri": "https://localhost:8080/"
        },
        "id": "WoX419TFDJzs",
        "outputId": "d7354440-24a1-407b-de0d-818687810c5c"
      },
      "execution_count": null,
      "outputs": [
        {
          "output_type": "stream",
          "name": "stderr",
          "text": [
            "<ipython-input-10-0630d986ce59>:11: DeprecationWarning: The method ``qiskit.circuit.quantumcircuit.QuantumCircuit.mct()`` is deprecated as of qiskit 0.45.0. It will be removed no earlier than 3 months after the release date. Use QuantumCircuit.mcx as direct replacement.\n",
            "  qc.mct(list(range(nqubits-1)), nqubits-1)  # multi-controlled-toffoli\n",
            "<ipython-input-136-8a6381ed827d>:29: DeprecationWarning: Using a qobj for run() is deprecated as of qiskit-aer 0.9.0 and will be removed no sooner than 3 months from that release date. Transpiled circuits should now be passed directly using `backend.run(circuits, **run_options).\n",
            "  results4 = aer_sim.run(qobj4,shots = 1).result()\n"
          ]
        },
        {
          "output_type": "execute_result",
          "data": {
            "text/plain": [
              "('001001011011', 45)"
            ]
          },
          "metadata": {},
          "execution_count": 163
        }
      ]
    },
    {
      "cell_type": "code",
      "source": [
        "quantum_procedure5(creg11,qreg11)\n"
      ],
      "metadata": {
        "colab": {
          "base_uri": "https://localhost:8080/"
        },
        "id": "788eg8CZDmIV",
        "outputId": "fbaab478-95aa-4a55-967c-9abe34da0c0e"
      },
      "execution_count": null,
      "outputs": [
        {
          "output_type": "stream",
          "name": "stderr",
          "text": [
            "<ipython-input-10-0630d986ce59>:11: DeprecationWarning: The method ``qiskit.circuit.quantumcircuit.QuantumCircuit.mct()`` is deprecated as of qiskit 0.45.0. It will be removed no earlier than 3 months after the release date. Use QuantumCircuit.mcx as direct replacement.\n",
            "  qc.mct(list(range(nqubits-1)), nqubits-1)  # multi-controlled-toffoli\n",
            "<ipython-input-136-8a6381ed827d>:29: DeprecationWarning: Using a qobj for run() is deprecated as of qiskit-aer 0.9.0 and will be removed no sooner than 3 months from that release date. Transpiled circuits should now be passed directly using `backend.run(circuits, **run_options).\n",
            "  results4 = aer_sim.run(qobj4,shots = 1).result()\n"
          ]
        },
        {
          "output_type": "execute_result",
          "data": {
            "text/plain": [
              "('001001011011', 19)"
            ]
          },
          "metadata": {},
          "execution_count": 164
        }
      ]
    },
    {
      "cell_type": "code",
      "source": [
        "quantum_procedure5(creg11,qreg11)"
      ],
      "metadata": {
        "colab": {
          "base_uri": "https://localhost:8080/"
        },
        "id": "WrZDjS3-DmXW",
        "outputId": "ff5bdc07-8730-4769-cb84-29a588c39173"
      },
      "execution_count": null,
      "outputs": [
        {
          "output_type": "stream",
          "name": "stderr",
          "text": [
            "<ipython-input-10-0630d986ce59>:11: DeprecationWarning: The method ``qiskit.circuit.quantumcircuit.QuantumCircuit.mct()`` is deprecated as of qiskit 0.45.0. It will be removed no earlier than 3 months after the release date. Use QuantumCircuit.mcx as direct replacement.\n",
            "  qc.mct(list(range(nqubits-1)), nqubits-1)  # multi-controlled-toffoli\n",
            "<ipython-input-136-8a6381ed827d>:29: DeprecationWarning: Using a qobj for run() is deprecated as of qiskit-aer 0.9.0 and will be removed no sooner than 3 months from that release date. Transpiled circuits should now be passed directly using `backend.run(circuits, **run_options).\n",
            "  results4 = aer_sim.run(qobj4,shots = 1).result()\n"
          ]
        },
        {
          "output_type": "execute_result",
          "data": {
            "text/plain": [
              "('110011010100', 34)"
            ]
          },
          "metadata": {},
          "execution_count": 165
        }
      ]
    },
    {
      "cell_type": "code",
      "source": [
        "quantum_procedure5(creg11,qreg11)"
      ],
      "metadata": {
        "colab": {
          "base_uri": "https://localhost:8080/"
        },
        "id": "3y5xoKXcDmZ1",
        "outputId": "c7ea0d71-3bd3-4e96-dcf8-d1d0fba4586e"
      },
      "execution_count": null,
      "outputs": [
        {
          "output_type": "stream",
          "name": "stderr",
          "text": [
            "<ipython-input-10-0630d986ce59>:11: DeprecationWarning: The method ``qiskit.circuit.quantumcircuit.QuantumCircuit.mct()`` is deprecated as of qiskit 0.45.0. It will be removed no earlier than 3 months after the release date. Use QuantumCircuit.mcx as direct replacement.\n",
            "  qc.mct(list(range(nqubits-1)), nqubits-1)  # multi-controlled-toffoli\n",
            "<ipython-input-136-8a6381ed827d>:29: DeprecationWarning: Using a qobj for run() is deprecated as of qiskit-aer 0.9.0 and will be removed no sooner than 3 months from that release date. Transpiled circuits should now be passed directly using `backend.run(circuits, **run_options).\n",
            "  results4 = aer_sim.run(qobj4,shots = 1).result()\n"
          ]
        },
        {
          "output_type": "execute_result",
          "data": {
            "text/plain": [
              "('110001110111', 31)"
            ]
          },
          "metadata": {},
          "execution_count": 166
        }
      ]
    },
    {
      "cell_type": "code",
      "source": [
        "quantum_procedure5(creg11,qreg11)"
      ],
      "metadata": {
        "colab": {
          "base_uri": "https://localhost:8080/"
        },
        "id": "rmV4vksaDrXf",
        "outputId": "0a44dbf9-f437-4734-f94b-673e517bfbbf"
      },
      "execution_count": null,
      "outputs": [
        {
          "output_type": "stream",
          "name": "stderr",
          "text": [
            "<ipython-input-10-0630d986ce59>:11: DeprecationWarning: The method ``qiskit.circuit.quantumcircuit.QuantumCircuit.mct()`` is deprecated as of qiskit 0.45.0. It will be removed no earlier than 3 months after the release date. Use QuantumCircuit.mcx as direct replacement.\n",
            "  qc.mct(list(range(nqubits-1)), nqubits-1)  # multi-controlled-toffoli\n",
            "<ipython-input-136-8a6381ed827d>:29: DeprecationWarning: Using a qobj for run() is deprecated as of qiskit-aer 0.9.0 and will be removed no sooner than 3 months from that release date. Transpiled circuits should now be passed directly using `backend.run(circuits, **run_options).\n",
            "  results4 = aer_sim.run(qobj4,shots = 1).result()\n"
          ]
        },
        {
          "output_type": "execute_result",
          "data": {
            "text/plain": [
              "('110011100011', 61)"
            ]
          },
          "metadata": {},
          "execution_count": 167
        }
      ]
    },
    {
      "cell_type": "code",
      "source": [
        "quantum_procedure5(creg11,qreg11)"
      ],
      "metadata": {
        "colab": {
          "base_uri": "https://localhost:8080/"
        },
        "id": "0YIefafJD3R9",
        "outputId": "3c296122-0683-4fcd-846b-f9fab31bb32a"
      },
      "execution_count": null,
      "outputs": [
        {
          "output_type": "stream",
          "name": "stderr",
          "text": [
            "<ipython-input-10-0630d986ce59>:11: DeprecationWarning: The method ``qiskit.circuit.quantumcircuit.QuantumCircuit.mct()`` is deprecated as of qiskit 0.45.0. It will be removed no earlier than 3 months after the release date. Use QuantumCircuit.mcx as direct replacement.\n",
            "  qc.mct(list(range(nqubits-1)), nqubits-1)  # multi-controlled-toffoli\n",
            "<ipython-input-136-8a6381ed827d>:29: DeprecationWarning: Using a qobj for run() is deprecated as of qiskit-aer 0.9.0 and will be removed no sooner than 3 months from that release date. Transpiled circuits should now be passed directly using `backend.run(circuits, **run_options).\n",
            "  results4 = aer_sim.run(qobj4,shots = 1).result()\n"
          ]
        },
        {
          "output_type": "execute_result",
          "data": {
            "text/plain": [
              "('101111100110', 25)"
            ]
          },
          "metadata": {},
          "execution_count": 168
        }
      ]
    },
    {
      "cell_type": "code",
      "source": [
        "quantum_procedure5(creg11,qreg11)"
      ],
      "metadata": {
        "colab": {
          "base_uri": "https://localhost:8080/"
        },
        "id": "4N1qpUypD5JU",
        "outputId": "18d7525d-646c-4f33-a00b-9abd2f74b103"
      },
      "execution_count": null,
      "outputs": [
        {
          "output_type": "stream",
          "name": "stderr",
          "text": [
            "<ipython-input-10-0630d986ce59>:11: DeprecationWarning: The method ``qiskit.circuit.quantumcircuit.QuantumCircuit.mct()`` is deprecated as of qiskit 0.45.0. It will be removed no earlier than 3 months after the release date. Use QuantumCircuit.mcx as direct replacement.\n",
            "  qc.mct(list(range(nqubits-1)), nqubits-1)  # multi-controlled-toffoli\n",
            "<ipython-input-136-8a6381ed827d>:29: DeprecationWarning: Using a qobj for run() is deprecated as of qiskit-aer 0.9.0 and will be removed no sooner than 3 months from that release date. Transpiled circuits should now be passed directly using `backend.run(circuits, **run_options).\n",
            "  results4 = aer_sim.run(qobj4,shots = 1).result()\n"
          ]
        },
        {
          "output_type": "execute_result",
          "data": {
            "text/plain": [
              "('001111011100', 46)"
            ]
          },
          "metadata": {},
          "execution_count": 169
        }
      ]
    },
    {
      "cell_type": "code",
      "source": [
        "quantum_procedure5(creg11,qreg11)"
      ],
      "metadata": {
        "colab": {
          "base_uri": "https://localhost:8080/"
        },
        "id": "TxkUZLr6D7xV",
        "outputId": "27a40bb8-26c6-4f96-ce11-ac11ee94e2af"
      },
      "execution_count": null,
      "outputs": [
        {
          "output_type": "stream",
          "name": "stderr",
          "text": [
            "<ipython-input-10-0630d986ce59>:11: DeprecationWarning: The method ``qiskit.circuit.quantumcircuit.QuantumCircuit.mct()`` is deprecated as of qiskit 0.45.0. It will be removed no earlier than 3 months after the release date. Use QuantumCircuit.mcx as direct replacement.\n",
            "  qc.mct(list(range(nqubits-1)), nqubits-1)  # multi-controlled-toffoli\n",
            "<ipython-input-136-8a6381ed827d>:29: DeprecationWarning: Using a qobj for run() is deprecated as of qiskit-aer 0.9.0 and will be removed no sooner than 3 months from that release date. Transpiled circuits should now be passed directly using `backend.run(circuits, **run_options).\n",
            "  results4 = aer_sim.run(qobj4,shots = 1).result()\n"
          ]
        },
        {
          "output_type": "execute_result",
          "data": {
            "text/plain": [
              "('011001011111', 30)"
            ]
          },
          "metadata": {},
          "execution_count": 181
        }
      ]
    },
    {
      "cell_type": "code",
      "source": [
        "quantum_procedure5(creg11,qreg11)"
      ],
      "metadata": {
        "colab": {
          "base_uri": "https://localhost:8080/"
        },
        "id": "_UMLo40CEIoV",
        "outputId": "795bdb7f-ce30-4452-fc0c-6a4626060130"
      },
      "execution_count": null,
      "outputs": [
        {
          "output_type": "stream",
          "name": "stderr",
          "text": [
            "<ipython-input-10-0630d986ce59>:11: DeprecationWarning: The method ``qiskit.circuit.quantumcircuit.QuantumCircuit.mct()`` is deprecated as of qiskit 0.45.0. It will be removed no earlier than 3 months after the release date. Use QuantumCircuit.mcx as direct replacement.\n",
            "  qc.mct(list(range(nqubits-1)), nqubits-1)  # multi-controlled-toffoli\n",
            "<ipython-input-136-8a6381ed827d>:29: DeprecationWarning: Using a qobj for run() is deprecated as of qiskit-aer 0.9.0 and will be removed no sooner than 3 months from that release date. Transpiled circuits should now be passed directly using `backend.run(circuits, **run_options).\n",
            "  results4 = aer_sim.run(qobj4,shots = 1).result()\n"
          ]
        },
        {
          "output_type": "execute_result",
          "data": {
            "text/plain": [
              "('011011001110', 61)"
            ]
          },
          "metadata": {},
          "execution_count": 182
        }
      ]
    },
    {
      "cell_type": "code",
      "source": [
        "quantum_procedure5(creg11,qreg11)"
      ],
      "metadata": {
        "colab": {
          "base_uri": "https://localhost:8080/"
        },
        "id": "0-bjM7wCEMVc",
        "outputId": "e9f910ba-0ed4-41d0-f0d4-8327d8010fad"
      },
      "execution_count": null,
      "outputs": [
        {
          "output_type": "stream",
          "name": "stderr",
          "text": [
            "<ipython-input-10-0630d986ce59>:11: DeprecationWarning: The method ``qiskit.circuit.quantumcircuit.QuantumCircuit.mct()`` is deprecated as of qiskit 0.45.0. It will be removed no earlier than 3 months after the release date. Use QuantumCircuit.mcx as direct replacement.\n",
            "  qc.mct(list(range(nqubits-1)), nqubits-1)  # multi-controlled-toffoli\n",
            "<ipython-input-136-8a6381ed827d>:29: DeprecationWarning: Using a qobj for run() is deprecated as of qiskit-aer 0.9.0 and will be removed no sooner than 3 months from that release date. Transpiled circuits should now be passed directly using `backend.run(circuits, **run_options).\n",
            "  results4 = aer_sim.run(qobj4,shots = 1).result()\n"
          ]
        },
        {
          "output_type": "execute_result",
          "data": {
            "text/plain": [
              "('001001011110', 57)"
            ]
          },
          "metadata": {},
          "execution_count": 183
        }
      ]
    },
    {
      "cell_type": "code",
      "source": [
        "quantum_procedure5(creg11,qreg11)"
      ],
      "metadata": {
        "colab": {
          "base_uri": "https://localhost:8080/"
        },
        "id": "ZqeJOkE5EP4e",
        "outputId": "1460eace-53af-4c1f-a985-99f302d9d144"
      },
      "execution_count": null,
      "outputs": [
        {
          "output_type": "stream",
          "name": "stderr",
          "text": [
            "<ipython-input-10-0630d986ce59>:11: DeprecationWarning: The method ``qiskit.circuit.quantumcircuit.QuantumCircuit.mct()`` is deprecated as of qiskit 0.45.0. It will be removed no earlier than 3 months after the release date. Use QuantumCircuit.mcx as direct replacement.\n",
            "  qc.mct(list(range(nqubits-1)), nqubits-1)  # multi-controlled-toffoli\n",
            "<ipython-input-136-8a6381ed827d>:29: DeprecationWarning: Using a qobj for run() is deprecated as of qiskit-aer 0.9.0 and will be removed no sooner than 3 months from that release date. Transpiled circuits should now be passed directly using `backend.run(circuits, **run_options).\n",
            "  results4 = aer_sim.run(qobj4,shots = 1).result()\n"
          ]
        },
        {
          "output_type": "execute_result",
          "data": {
            "text/plain": [
              "('001001111100', 23)"
            ]
          },
          "metadata": {},
          "execution_count": 189
        }
      ]
    },
    {
      "cell_type": "code",
      "source": [
        "quantum_procedure5(creg11,qreg11)"
      ],
      "metadata": {
        "colab": {
          "base_uri": "https://localhost:8080/"
        },
        "id": "m4YAh-FoEXGG",
        "outputId": "c79cfd56-08c5-4a44-8c80-57455ea57230"
      },
      "execution_count": null,
      "outputs": [
        {
          "output_type": "stream",
          "name": "stderr",
          "text": [
            "<ipython-input-10-0630d986ce59>:11: DeprecationWarning: The method ``qiskit.circuit.quantumcircuit.QuantumCircuit.mct()`` is deprecated as of qiskit 0.45.0. It will be removed no earlier than 3 months after the release date. Use QuantumCircuit.mcx as direct replacement.\n",
            "  qc.mct(list(range(nqubits-1)), nqubits-1)  # multi-controlled-toffoli\n",
            "<ipython-input-136-8a6381ed827d>:29: DeprecationWarning: Using a qobj for run() is deprecated as of qiskit-aer 0.9.0 and will be removed no sooner than 3 months from that release date. Transpiled circuits should now be passed directly using `backend.run(circuits, **run_options).\n",
            "  results4 = aer_sim.run(qobj4,shots = 1).result()\n"
          ]
        },
        {
          "output_type": "execute_result",
          "data": {
            "text/plain": [
              "('010111110010', 44)"
            ]
          },
          "metadata": {},
          "execution_count": 190
        }
      ]
    },
    {
      "cell_type": "code",
      "source": [
        "quantum_procedure5(creg11,qreg11)"
      ],
      "metadata": {
        "colab": {
          "base_uri": "https://localhost:8080/"
        },
        "id": "_MUVKLFIEZR9",
        "outputId": "35b517d9-e5fe-4512-f8fe-0e9514f33625"
      },
      "execution_count": null,
      "outputs": [
        {
          "output_type": "stream",
          "name": "stderr",
          "text": [
            "<ipython-input-10-0630d986ce59>:11: DeprecationWarning: The method ``qiskit.circuit.quantumcircuit.QuantumCircuit.mct()`` is deprecated as of qiskit 0.45.0. It will be removed no earlier than 3 months after the release date. Use QuantumCircuit.mcx as direct replacement.\n",
            "  qc.mct(list(range(nqubits-1)), nqubits-1)  # multi-controlled-toffoli\n",
            "<ipython-input-136-8a6381ed827d>:29: DeprecationWarning: Using a qobj for run() is deprecated as of qiskit-aer 0.9.0 and will be removed no sooner than 3 months from that release date. Transpiled circuits should now be passed directly using `backend.run(circuits, **run_options).\n",
            "  results4 = aer_sim.run(qobj4,shots = 1).result()\n"
          ]
        },
        {
          "output_type": "execute_result",
          "data": {
            "text/plain": [
              "('011010111100', 7)"
            ]
          },
          "metadata": {},
          "execution_count": 192
        }
      ]
    },
    {
      "cell_type": "code",
      "source": [
        "quantum_procedure5(creg11,qreg11)"
      ],
      "metadata": {
        "colab": {
          "base_uri": "https://localhost:8080/"
        },
        "id": "gQIFgwOBEZXM",
        "outputId": "661519e9-723e-4f64-95ee-837569bca58d"
      },
      "execution_count": null,
      "outputs": [
        {
          "output_type": "stream",
          "name": "stderr",
          "text": [
            "<ipython-input-10-0630d986ce59>:11: DeprecationWarning: The method ``qiskit.circuit.quantumcircuit.QuantumCircuit.mct()`` is deprecated as of qiskit 0.45.0. It will be removed no earlier than 3 months after the release date. Use QuantumCircuit.mcx as direct replacement.\n",
            "  qc.mct(list(range(nqubits-1)), nqubits-1)  # multi-controlled-toffoli\n",
            "<ipython-input-136-8a6381ed827d>:29: DeprecationWarning: Using a qobj for run() is deprecated as of qiskit-aer 0.9.0 and will be removed no sooner than 3 months from that release date. Transpiled circuits should now be passed directly using `backend.run(circuits, **run_options).\n",
            "  results4 = aer_sim.run(qobj4,shots = 1).result()\n"
          ]
        },
        {
          "output_type": "execute_result",
          "data": {
            "text/plain": [
              "('111100001110', 24)"
            ]
          },
          "metadata": {},
          "execution_count": 208
        }
      ]
    },
    {
      "cell_type": "code",
      "source": [
        "quantum_procedure5(creg11,qreg11)"
      ],
      "metadata": {
        "colab": {
          "base_uri": "https://localhost:8080/"
        },
        "id": "TB662B8xE7_-",
        "outputId": "f82f7e4c-e689-4b7e-d7eb-301772df4ea2"
      },
      "execution_count": null,
      "outputs": [
        {
          "output_type": "stream",
          "name": "stderr",
          "text": [
            "<ipython-input-10-0630d986ce59>:11: DeprecationWarning: The method ``qiskit.circuit.quantumcircuit.QuantumCircuit.mct()`` is deprecated as of qiskit 0.45.0. It will be removed no earlier than 3 months after the release date. Use QuantumCircuit.mcx as direct replacement.\n",
            "  qc.mct(list(range(nqubits-1)), nqubits-1)  # multi-controlled-toffoli\n",
            "<ipython-input-136-8a6381ed827d>:29: DeprecationWarning: Using a qobj for run() is deprecated as of qiskit-aer 0.9.0 and will be removed no sooner than 3 months from that release date. Transpiled circuits should now be passed directly using `backend.run(circuits, **run_options).\n",
            "  results4 = aer_sim.run(qobj4,shots = 1).result()\n"
          ]
        },
        {
          "output_type": "execute_result",
          "data": {
            "text/plain": [
              "('010111110010', 9)"
            ]
          },
          "metadata": {},
          "execution_count": 209
        }
      ]
    },
    {
      "cell_type": "code",
      "source": [
        "quantum_procedure5(creg11,qreg11)[0]"
      ],
      "metadata": {
        "colab": {
          "base_uri": "https://localhost:8080/",
          "height": 124
        },
        "id": "sVcljLxPWuU7",
        "outputId": "e857b9b0-ac44-43c1-bfa6-ecc11869077f"
      },
      "execution_count": null,
      "outputs": [
        {
          "output_type": "stream",
          "name": "stderr",
          "text": [
            "<ipython-input-218-0630d986ce59>:11: DeprecationWarning: The method ``qiskit.circuit.quantumcircuit.QuantumCircuit.mct()`` is deprecated as of qiskit 0.45.0. It will be removed no earlier than 3 months after the release date. Use QuantumCircuit.mcx as direct replacement.\n",
            "  qc.mct(list(range(nqubits-1)), nqubits-1)  # multi-controlled-toffoli\n",
            "<ipython-input-223-8a6381ed827d>:29: DeprecationWarning: Using a qobj for run() is deprecated as of qiskit-aer 0.9.0 and will be removed no sooner than 3 months from that release date. Transpiled circuits should now be passed directly using `backend.run(circuits, **run_options).\n",
            "  results4 = aer_sim.run(qobj4,shots = 1).result()\n"
          ]
        },
        {
          "output_type": "execute_result",
          "data": {
            "text/plain": [
              "'110100111110'"
            ],
            "application/vnd.google.colaboratory.intrinsic+json": {
              "type": "string"
            }
          },
          "metadata": {},
          "execution_count": 227
        }
      ]
    },
    {
      "cell_type": "code",
      "source": [
        "sf1 = []\n",
        "for i in range(20):\n",
        "  sf1.append(quantum_procedure5(creg11,qreg11))\n",
        "print(sf1)"
      ],
      "metadata": {
        "colab": {
          "base_uri": "https://localhost:8080/"
        },
        "id": "IwvWMZ_jOoan",
        "outputId": "fcad7baa-7b1c-4612-b6e9-7285f31c65b1"
      },
      "execution_count": null,
      "outputs": [
        {
          "output_type": "stream",
          "name": "stderr",
          "text": [
            "<ipython-input-8-0630d986ce59>:11: DeprecationWarning: The method ``qiskit.circuit.quantumcircuit.QuantumCircuit.mct()`` is deprecated as of qiskit 0.45.0. It will be removed no earlier than 3 months after the release date. Use QuantumCircuit.mcx as direct replacement.\n",
            "  qc.mct(list(range(nqubits-1)), nqubits-1)  # multi-controlled-toffoli\n",
            "<ipython-input-13-8a6381ed827d>:29: DeprecationWarning: Using a qobj for run() is deprecated as of qiskit-aer 0.9.0 and will be removed no sooner than 3 months from that release date. Transpiled circuits should now be passed directly using `backend.run(circuits, **run_options).\n",
            "  results4 = aer_sim.run(qobj4,shots = 1).result()\n"
          ]
        },
        {
          "output_type": "stream",
          "name": "stdout",
          "text": [
            "[('000100101100', 3), ('100111111111', 6), ('000010111101', 1), ('000110110110', 41), ('111010111000', 7), ('111101010110', 46), ('000110101110', 37), ('101101101101', 11), ('100001111100', 51), ('110101101010', 23), ('111101101101', 6), ('111000111001', 43), ('001001011011', 41), ('101101101101', 17), ('111110011010', 46), ('010111110010', 16), ('110111011100', 50), ('110111101011', 49), ('001000000110', 53), ('000110000100', 3)]\n"
          ]
        }
      ]
    },
    {
      "cell_type": "code",
      "source": [
        "quantum_procedure5(creg11,qreg11)"
      ],
      "metadata": {
        "id": "5yqAovew60Bx"
      },
      "execution_count": null,
      "outputs": []
    },
    {
      "cell_type": "code",
      "source": [
        "sf = []\n",
        "for i in range(400):\n",
        "  sf.append(quantum_procedure5(creg11,qreg11))\n",
        "  if quantum_procedure5(creg11,qreg11)[0] == '011011011011':\n",
        "    print(i)\n",
        "\n"
      ],
      "metadata": {
        "colab": {
          "base_uri": "https://localhost:8080/"
        },
        "id": "3eNxV_ihE8Cm",
        "outputId": "bab600d2-857a-4740-a6fd-506308df2325"
      },
      "execution_count": null,
      "outputs": [
        {
          "output_type": "stream",
          "name": "stderr",
          "text": [
            "<ipython-input-218-0630d986ce59>:11: DeprecationWarning: The method ``qiskit.circuit.quantumcircuit.QuantumCircuit.mct()`` is deprecated as of qiskit 0.45.0. It will be removed no earlier than 3 months after the release date. Use QuantumCircuit.mcx as direct replacement.\n",
            "  qc.mct(list(range(nqubits-1)), nqubits-1)  # multi-controlled-toffoli\n",
            "<ipython-input-223-8a6381ed827d>:29: DeprecationWarning: Using a qobj for run() is deprecated as of qiskit-aer 0.9.0 and will be removed no sooner than 3 months from that release date. Transpiled circuits should now be passed directly using `backend.run(circuits, **run_options).\n",
            "  results4 = aer_sim.run(qobj4,shots = 1).result()\n"
          ]
        }
      ]
    },
    {
      "cell_type": "code",
      "source": [
        "a = ['011011011011' ]"
      ],
      "metadata": {
        "id": "RwnjO3wrBqX0"
      },
      "execution_count": null,
      "outputs": []
    },
    {
      "cell_type": "code",
      "source": [
        "def quantum_procedure6(creg,qreg):\n",
        "  qc14 = QuantumCircuit(qreg,creg)\n",
        "  # Initialize qubits in state |s>\n",
        "  qc14.x(12)\n",
        "  qc14.h(range(13))\n",
        "  qc14.barrier()\n",
        "  test_list = []\n",
        "  for j in range(63):\n",
        "      test_list.append(j)\n",
        "  # using random.choice() to\n",
        "  # get a random number\n",
        "  random_num = random.choice(test_list)\n",
        "\n",
        "  for j in range(63):\n",
        "      qc14.compose(quantum_circuitc3, inplace = True)\n",
        "      qc14.compose(oracle_one_solution('101001011111'), inplace = True)\n",
        "      qc14.compose(oracle_one_solution('011111101001'), inplace = True)\n",
        "      qc14.compose(oracle_one_solution('110110110110'), inplace = True)\n",
        "      qc14.compose(oracle_one_solution('111010010111'), inplace = True)\n",
        "      qc14.compose(oracle_one_solution('010111111010'), inplace = True)\n",
        "      qc14.append(diffuser(12), range(12))\n",
        "  qc14.barrier()\n",
        "  qc14.h(12)\n",
        "  qc14.measure(range(12), range(12))\n",
        "  #print(qc14.draw(fold=-1))\n",
        "  aer_sim = Aer.get_backend('aer_simulator')\n",
        "  transpiled_qc14 = transpile(qc14, aer_sim)\n",
        "  qobj4 = assemble(transpiled_qc14)\n",
        "  results4 = aer_sim.run(qobj4,shots = 1).result()\n",
        "  counts4 = results4.get_counts()\n",
        "  dictionary_to_value(counts4)\n",
        "  return(dictionary_to_value(counts4),random_num)"
      ],
      "metadata": {
        "id": "Fc4LlQCpEY2N"
      },
      "execution_count": null,
      "outputs": []
    },
    {
      "cell_type": "code",
      "source": [
        "sf2 = []\n",
        "for i in range(20):\n",
        "  sf2.append(quantum_procedure6(creg11,qreg11))\n",
        "print(sf2)"
      ],
      "metadata": {
        "id": "GN2NGNUpBqcZ",
        "colab": {
          "base_uri": "https://localhost:8080/"
        },
        "outputId": "9255b44f-324c-4278-b941-d09ae6300d02"
      },
      "execution_count": null,
      "outputs": [
        {
          "output_type": "stream",
          "name": "stderr",
          "text": [
            "<ipython-input-8-0630d986ce59>:11: DeprecationWarning: The method ``qiskit.circuit.quantumcircuit.QuantumCircuit.mct()`` is deprecated as of qiskit 0.45.0. It will be removed no earlier than 3 months after the release date. Use QuantumCircuit.mcx as direct replacement.\n",
            "  qc.mct(list(range(nqubits-1)), nqubits-1)  # multi-controlled-toffoli\n",
            "<ipython-input-18-8285884e4b8c>:29: DeprecationWarning: Using a qobj for run() is deprecated as of qiskit-aer 0.9.0 and will be removed no sooner than 3 months from that release date. Transpiled circuits should now be passed directly using `backend.run(circuits, **run_options).\n",
            "  results4 = aer_sim.run(qobj4,shots = 1).result()\n"
          ]
        },
        {
          "output_type": "stream",
          "name": "stdout",
          "text": [
            "[('000101101100', 21), ('111010111011', 53), ('011111101100', 58), ('010111110010', 1), ('100001101100', 48), ('111101010110', 0), ('111101100001', 24), ('010101101011', 17), ('101001011011', 38), ('101000111101', 24), ('110111101011', 13), ('101001011011', 62), ('100000100001', 36), ('011010000011', 43), ('111101101101', 54), ('101001011011', 4), ('111110011010', 58), ('101101110101', 31), ('110111101011', 37), ('111101100001', 48)]\n"
          ]
        }
      ]
    },
    {
      "cell_type": "code",
      "source": [
        "quantum_procedure5(creg11,qreg11)"
      ],
      "metadata": {
        "id": "gylHaKyMBqel",
        "colab": {
          "base_uri": "https://localhost:8080/"
        },
        "outputId": "7041ced6-c601-40e1-e5b5-8d966dd279c1"
      },
      "execution_count": null,
      "outputs": [
        {
          "output_type": "stream",
          "name": "stderr",
          "text": [
            "<ipython-input-6-0630d986ce59>:11: DeprecationWarning: The method ``qiskit.circuit.quantumcircuit.QuantumCircuit.mct()`` is deprecated as of qiskit 0.45.0. It will be removed no earlier than 3 months after the release date. Use QuantumCircuit.mcx as direct replacement.\n",
            "  qc.mct(list(range(nqubits-1)), nqubits-1)  # multi-controlled-toffoli\n",
            "<ipython-input-10-8a6381ed827d>:29: DeprecationWarning: Using a qobj for run() is deprecated as of qiskit-aer 0.9.0 and will be removed no sooner than 3 months from that release date. Transpiled circuits should now be passed directly using `backend.run(circuits, **run_options).\n",
            "  results4 = aer_sim.run(qobj4,shots = 1).result()\n"
          ]
        },
        {
          "output_type": "execute_result",
          "data": {
            "text/plain": [
              "('101000111101', 50)"
            ]
          },
          "metadata": {},
          "execution_count": 11
        }
      ]
    },
    {
      "cell_type": "code",
      "source": [],
      "metadata": {
        "id": "10R6M6vMBTgp"
      },
      "execution_count": null,
      "outputs": []
    },
    {
      "cell_type": "code",
      "source": [],
      "metadata": {
        "id": "bbSAVStK_kBC"
      },
      "execution_count": null,
      "outputs": []
    },
    {
      "cell_type": "code",
      "source": [
        "solutions1 = []\n",
        "for i in range(57):\n",
        "  solutions1.append(quantum_procedure1(creg11,qreg11))\n",
        "print(solutions1)"
      ],
      "metadata": {
        "colab": {
          "base_uri": "https://localhost:8080/"
        },
        "id": "b2cP2jdpwz6z",
        "outputId": "a7e1205f-4c08-4929-f315-b9f3124e5c26"
      },
      "execution_count": null,
      "outputs": [
        {
          "output_type": "stream",
          "name": "stderr",
          "text": [
            "<ipython-input-28-0630d986ce59>:11: DeprecationWarning: The method ``qiskit.circuit.quantumcircuit.QuantumCircuit.mct()`` is deprecated as of qiskit 0.45.0. It will be removed no earlier than 3 months after the release date. Use QuantumCircuit.mcx as direct replacement.\n",
            "  qc.mct(list(range(nqubits-1)), nqubits-1)  # multi-controlled-toffoli\n",
            "<ipython-input-36-7b7f3f08fafd>:25: DeprecationWarning: Using a qobj for run() is deprecated as of qiskit-aer 0.9.0 and will be removed no sooner than 3 months from that release date. Transpiled circuits should now be passed directly using `backend.run(circuits, **run_options).\n",
            "  results4 = aer_sim.run(qobj4,shots = 1).result()\n"
          ]
        },
        {
          "output_type": "stream",
          "name": "stdout",
          "text": [
            "[('101110001010', 33), ('010011111001', 46), ('100101111110', 9), ('111111101011', 9), ('001110110001', 3), ('110100010110', 51), ('001100111111', 10), ('001000111111', 52), ('100001000101', 1), ('101110011100', 1), ('001001000110', 6), ('010010101010', 35), ('101110010001', 12), ('001100101110', 13), ('111101001010', 25), ('101110010001', 15), ('100000011000', 61), ('000001101011', 59), ('101001110110', 16), ('000001110001', 48), ('010101101000', 13), ('000101010101', 18), ('110111100011', 21), ('011111110010', 49), ('110100111101', 22), ('111101100111', 41), ('101110000100', 37), ('100110100011', 39), ('000110110010', 15), ('001111011100', 18), ('101010101010', 35), ('001011110101', 20), ('011100111100', 3), ('000011101001', 1), ('000001101010', 26), ('001010110101', 46), ('101001101011', 49), ('110111110111', 11), ('000000011000', 41), ('010011011100', 26), ('000110000010', 40), ('001011100100', 55), ('110111110110', 35), ('001100111010', 39), ('000110111100', 29), ('110010111110', 0), ('000111000001', 23), ('010110110110', 57), ('010001100011', 32), ('010110111001', 11), ('001011010010', 32), ('100111011110', 3), ('100100011101', 12), ('101101001011', 30), ('101110010001', 47), ('000001101010', 31), ('110111000111', 22)]\n"
          ]
        }
      ]
    },
    {
      "cell_type": "code",
      "source": [
        "no_solutions1 = []\n",
        "for i in range(57):\n",
        "  no_solutions1.append(is_solution1(solutions1[i][0]))\n",
        "print(no_solutions1)\n"
      ],
      "metadata": {
        "colab": {
          "base_uri": "https://localhost:8080/"
        },
        "id": "3WHX-5IHxW-p",
        "outputId": "28d2b47d-c93b-4b91-c828-f29cdec08e0d"
      },
      "execution_count": null,
      "outputs": [
        {
          "output_type": "stream",
          "name": "stdout",
          "text": [
            "0\n",
            "0\n",
            "0\n",
            "0\n",
            "0\n",
            "0\n",
            "0\n",
            "0\n",
            "0\n",
            "0\n",
            "0\n",
            "0\n",
            "0\n",
            "0\n",
            "0\n",
            "0\n",
            "0\n",
            "0\n",
            "0\n",
            "0\n",
            "0\n",
            "0\n",
            "0\n",
            "0\n",
            "0\n",
            "0\n",
            "0\n",
            "0\n",
            "0\n",
            "0\n",
            "0\n",
            "0\n",
            "0\n",
            "0\n",
            "0\n",
            "0\n",
            "0\n",
            "0\n",
            "0\n",
            "0\n",
            "0\n",
            "0\n",
            "0\n",
            "0\n",
            "0\n",
            "0\n",
            "0\n",
            "0\n",
            "0\n",
            "0\n",
            "0\n",
            "0\n",
            "0\n",
            "0\n",
            "0\n",
            "0\n",
            "0\n",
            "[None, None, None, None, None, None, None, None, None, None, None, None, None, None, None, None, None, None, None, None, None, None, None, None, None, None, None, None, None, None, None, None, None, None, None, None, None, None, None, None, None, None, None, None, None, None, None, None, None, None, None, None, None, None, None, None, None]\n"
          ]
        }
      ]
    },
    {
      "cell_type": "code",
      "source": [
        "def is_solution1(x):\n",
        "  #a = [ '010111111010','011011011011', '100101111110', '10110110110', '111010010111','111110100101' ]\n",
        "  a = ['010111111010','110110110110', '011111101001', '011011011011', '111010010111', '101001011111']\n",
        "  if x in a:\n",
        "    print(x)\n",
        "  else:\n",
        "    print(0)\n",
        "\n",
        "\n"
      ],
      "metadata": {
        "id": "iHblyS-sqrsv"
      },
      "execution_count": null,
      "outputs": []
    },
    {
      "cell_type": "code",
      "source": [],
      "metadata": {
        "id": "7lctSPAM7cS5"
      },
      "execution_count": null,
      "outputs": []
    }
  ]
}