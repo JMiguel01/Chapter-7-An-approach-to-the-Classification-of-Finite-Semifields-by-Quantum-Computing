{
 "cells": [
  {
   "cell_type": "code",
   "execution_count": null,
   "metadata": {
    "colab": {
     "base_uri": "https://localhost:8080/"
    },
    "id": "Cv6N3gzYiiAg",
    "outputId": "5b329a42-d5c4-4d63-ad95-489312e06617"
   },
   "outputs": [],
   "source": [
    "pip install qiskit"
   ]
  },
  {
   "cell_type": "code",
   "execution_count": null,
   "metadata": {
    "colab": {
     "base_uri": "https://localhost:8080/"
    },
    "id": "l2dl5EkIikXd",
    "outputId": "73606bbd-7a58-4d6c-c048-264c73715f9c"
   },
   "outputs": [],
   "source": [
    "pip install tweedledum"
   ]
  },
  {
   "cell_type": "code",
   "execution_count": null,
   "metadata": {
    "colab": {
     "base_uri": "https://localhost:8080/"
    },
    "id": "qo-wUWRykGad",
    "outputId": "2d578854-452e-46b0-a42b-61e19d2e24f0"
   },
   "outputs": [],
   "source": [
    "pip install qiskit-aer"
   ]
  },
  {
   "cell_type": "code",
   "execution_count": 1,
   "metadata": {},
   "outputs": [
    {
     "data": {
      "text/plain": [
       "'[a10&a8 ^ a11&a7]&[a1&a6 ^ a3&a4]&[a1&a11 ^ a1&a12 ^ a1&a5 ^ a1&a6 ^ a10&a2 ^ a10&a3 ^ a10&a8 ^ a10&a9 ^ a11&a7 ^ a12&a7 ^ a2&a4 ^ a3&a4 ^ a4&a8 ^ a4&a9 ^ a5&a7 ^ a6&a7]&[~a10 ^ a12 ^ a8 ^ a10&a8 ^ a11&a7 ^ a11&a9 ^ a12&a8]&[~a1 ^ a2 ^ a6 ^ a1&a6 ^ a2&a6 ^ a3&a4 ^ a3&a5]&[~a1 ^ a10 ^ a12 ^ a2 ^ a4 ^ a6 ^ a7 ^ a8 ^ a1&a11 ^ a1&a12 ^ a1&a5 ^ a1&a6 ^ a10&a2 ^ a10&a3 ^ a10&a8 ^ a10&a9 ^ a11&a3 ^ a11&a7 ^ a11&a9 ^ a12&a2 ^ a12&a7 ^ a12&a8 ^ a2&a4 ^ a2&a6 ^ a3&a4 ^ a3&a5 ^ a4&a8 ^ a4&a9 ^ a5&a7 ^ a5&a9 ^ a6&a7 ^ a6&a8]'"
      ]
     },
     "execution_count": 1,
     "metadata": {},
     "output_type": "execute_result"
    }
   ],
   "source": [
    "from sympy import symbols, Matrix, pprint, collect, factor\n",
    "from sympy import *\n",
    "import itertools\n",
    "a = []\n",
    "name = \"a\"\n",
    "for i in range(0,13):\n",
    "    v = symbols(name+str(i))\n",
    "    a.append(v)\n",
    "A1 = Matrix([[1, 0, 0],[0, 1, 0],[0, 0, 1]])\n",
    "A2 = Matrix([[0, a[1], a[4]],[1, a[2], a[5]],[0, a[3], a[6]]])\n",
    "A3 = Matrix([[0,a[7], a[10]],[0, a[8] ,a[11]],[1, a[9] , a[12]]])\n",
    "aC41=[]\n",
    "A=[]\n",
    "for i in range(0,8):\n",
    "    aC41.append('{0:03b}'.format(i))\n",
    "    M=int(aC41[i][0])*A1+int(aC41[i][1])*A2+int(aC41[i][2])*A3\n",
    "    A.append(M.det())\n",
    "def Equations(First):\n",
    "    BB31= First\n",
    "    Pl1 =[]\n",
    "    for i in range(len(BB31)):\n",
    "        Pl1.append(dict(BB31[i].as_coefficients_dict()))\n",
    "    ##Symplify computations of coefficients module 2\n",
    "    EQ1 =[]\n",
    "    for l in range(len(Pl1)):\n",
    "        for s in Pl1[l]:\n",
    "            if (Pl1[l][s] % 2) == 0:\n",
    "                Pl1[l][s] = 0\n",
    "            else:\n",
    "                Pl1[l][s] = 1\n",
    "        EQ1.append(sum([key * val for key, val in Pl1[l].items()]))\n",
    "    ##Selecting the equations we need\n",
    "    EQ3=[]\n",
    "    for l in range(len(EQ1)):\n",
    "        if (EQ1[l] != 0) and (EQ1[l]!=1):\n",
    "            EQ3.append(EQ1[l])\n",
    "    return(EQ3)\n",
    "def Polynomial1(w):\n",
    "    h_test1=[]\n",
    "    w_test1=[]\n",
    "    w_final_test1=[]\n",
    "    for n in range(len(w)):\n",
    "        if  (w[n] == 1) or (w[n] == 0):\n",
    "            w_test1.append(w[n])\n",
    "        else:\n",
    "            h_test1.append(w[n].make_args(w[n]))\n",
    "    g_test1 =[]\n",
    "    for m in range(len(h_test1)):\n",
    "        g_test1.append(list(h_test1[m]))\n",
    "        for l in range(len(h_test1[m])):\n",
    "            if(h_test1[m][l]==1):\n",
    "                g_test1[m][1]=~(g_test1[m][1])\n",
    "                del g_test1[m][l]\n",
    "    w_final_test1 = '&'.join([str(item) for item in g_test1])\n",
    "    w_final_test1 = w_final_test1.replace(\"*\",\"&\")\n",
    "    w_final_test1 = w_final_test1.replace(\",\",\" ^\")\n",
    "    return(w_final_test1)\n",
    "Polynomial1(Equations(A))"
   ]
  },
  {
   "cell_type": "code",
   "execution_count": 2,
   "metadata": {
    "colab": {
     "base_uri": "https://localhost:8080/",
     "height": 522
    },
    "id": "ZLayqIGMi7yp",
    "outputId": "420c3335-f6ab-4268-a885-45872f4ea5f3"
   },
   "outputs": [
    {
     "data": {
      "text/html": [
       "<pre style=\"word-wrap: normal;white-space: pre;background: #fff0;line-height: 1.1;font-family: &quot;Courier New&quot;,Courier,monospace\">                                                                       \n",
       " q_0: ──o────■────o────o────o────■────■────■────■────■────■────■────■──\n",
       "        │    │    │    │    │    │    │    │    │    │    │    │    │  \n",
       " q_1: ──o────o────o────■────■────o────o────o────o────o────o────■────■──\n",
       "        │    │    │    │    │    │    │    │    │    │    │    │    │  \n",
       " q_2: ──■────■────■────■────■────■────■────■────■────■────■────■────■──\n",
       "        │    │    │    │    │    │    │    │    │    │    │    │    │  \n",
       " q_3: ──■────■────■────■────■────■────■────■────■────■────┼────o────■──\n",
       "        │    │    │    │    │    │    │    │    │    │    │    │    │  \n",
       " q_4: ──o────■────■────o────o────■────■────■────┼────■────■────■────■──\n",
       "        │    │    │    │    │    │    │    │    │    │    │    │    │  \n",
       " q_5: ──■────■────o────o────■────■────■────┼────o────■────■────■────o──\n",
       "        │    │    │    │    │    │    │    │    │    │    │    │    │  \n",
       " q_6: ──■────o────■────■────■────o────┼────■────■────o────o────o────■──\n",
       "        │    │    │    │    │    │    │    │    │    │    │    │    │  \n",
       " q_7: ──o────■────■────o────o────┼────o────o────o────■────■────■────■──\n",
       "        │    │    │    │    │    │    │    │    │    │    │    │    │  \n",
       " q_8: ──■────■────o────o────■────o────o────o────o────┼────■────■────o──\n",
       "        │    │    │    │    │    │    │    │    │    │    │    │    │  \n",
       " q_9: ──■────┼────o────■────o────o────o────o────o────o────■────■────o──\n",
       "        │    │    │    │    │    │    │    │    │    │    │    │    │  \n",
       "q_10: ──■────■────■────■────■────■────■────■────■────■────■────■────■──\n",
       "        │    │    │    │    │    │    │    │    │    │    │    │    │  \n",
       "q_11: ──■────■────■────o────o────■────■────■────■────■────■────o────o──\n",
       "      ┌─┴─┐┌─┴─┐┌─┴─┐┌─┴─┐┌─┴─┐┌─┴─┐┌─┴─┐┌─┴─┐┌─┴─┐┌─┴─┐┌─┴─┐┌─┴─┐┌─┴─┐\n",
       "q_12: ┤ X ├┤ X ├┤ X ├┤ X ├┤ X ├┤ X ├┤ X ├┤ X ├┤ X ├┤ X ├┤ X ├┤ X ├┤ X ├\n",
       "      └───┘└───┘└───┘└───┘└───┘└───┘└───┘└───┘└───┘└───┘└───┘└───┘└───┘</pre>"
      ],
      "text/plain": [
       "                                                                       \n",
       " q_0: ──o────■────o────o────o────■────■────■────■────■────■────■────■──\n",
       "        │    │    │    │    │    │    │    │    │    │    │    │    │  \n",
       " q_1: ──o────o────o────■────■────o────o────o────o────o────o────■────■──\n",
       "        │    │    │    │    │    │    │    │    │    │    │    │    │  \n",
       " q_2: ──■────■────■────■────■────■────■────■────■────■────■────■────■──\n",
       "        │    │    │    │    │    │    │    │    │    │    │    │    │  \n",
       " q_3: ──■────■────■────■────■────■────■────■────■────■────┼────o────■──\n",
       "        │    │    │    │    │    │    │    │    │    │    │    │    │  \n",
       " q_4: ──o────■────■────o────o────■────■────■────┼────■────■────■────■──\n",
       "        │    │    │    │    │    │    │    │    │    │    │    │    │  \n",
       " q_5: ──■────■────o────o────■────■────■────┼────o────■────■────■────o──\n",
       "        │    │    │    │    │    │    │    │    │    │    │    │    │  \n",
       " q_6: ──■────o────■────■────■────o────┼────■────■────o────o────o────■──\n",
       "        │    │    │    │    │    │    │    │    │    │    │    │    │  \n",
       " q_7: ──o────■────■────o────o────┼────o────o────o────■────■────■────■──\n",
       "        │    │    │    │    │    │    │    │    │    │    │    │    │  \n",
       " q_8: ──■────■────o────o────■────o────o────o────o────┼────■────■────o──\n",
       "        │    │    │    │    │    │    │    │    │    │    │    │    │  \n",
       " q_9: ──■────┼────o────■────o────o────o────o────o────o────■────■────o──\n",
       "        │    │    │    │    │    │    │    │    │    │    │    │    │  \n",
       "q_10: ──■────■────■────■────■────■────■────■────■────■────■────■────■──\n",
       "        │    │    │    │    │    │    │    │    │    │    │    │    │  \n",
       "q_11: ──■────■────■────o────o────■────■────■────■────■────■────o────o──\n",
       "      ┌─┴─┐┌─┴─┐┌─┴─┐┌─┴─┐┌─┴─┐┌─┴─┐┌─┴─┐┌─┴─┐┌─┴─┐┌─┴─┐┌─┴─┐┌─┴─┐┌─┴─┐\n",
       "q_12: ┤ X ├┤ X ├┤ X ├┤ X ├┤ X ├┤ X ├┤ X ├┤ X ├┤ X ├┤ X ├┤ X ├┤ X ├┤ X ├\n",
       "      └───┘└───┘└───┘└───┘└───┘└───┘└───┘└───┘└───┘└───┘└───┘└───┘└───┘"
      ]
     },
     "execution_count": 2,
     "metadata": {},
     "output_type": "execute_result"
    }
   ],
   "source": [
    "from qiskit.circuit import classical_function,  Int1\n",
    "@classical_function\n",
    "def grover_oracle(a1: Int1, a2: Int1, a3: Int1, a4: Int1, a5: Int1, a6: Int1, a7: Int1, a8: Int1, a9:Int1, a10: Int1, a11: Int1, a12:Int1) -> Int1:\n",
    "    return ((a10&a8 ^ a11&a7)&(a1&a6 ^ a3&a4)&(a1&a11 ^ a1&a12 ^ a1&a5 ^ a1&a6 ^ a10&a2 ^ a10&a3 ^ a10&a8 ^ a10&a9 ^ a11&a7 ^ a12&a7 ^ a2&a4 ^ a3&a4 ^ a4&a8 ^ a4&a9 ^ a5&a7 ^ a6&a7)&((not a10) ^ a12 ^ a8 ^ a10&a8 ^ a11&a7 ^ a11&a9 ^ a12&a8)&((not a1) ^ a2 ^ a6 ^ a1&a6 ^ a2&a6 ^ a3&a4 ^ a3&a5)&((not a1) ^ a10 ^ a12 ^ a2 ^ a4 ^ a6 ^ a7 ^ a8 ^ a1&a11 ^ a1&a12 ^ a1&a5 ^ a1&a6 ^ a10&a2 ^ a10&a3 ^ a10&a8 ^ a10&a9 ^ a11&a3 ^ a11&a7 ^ a11&a9 ^ a12&a2 ^ a12&a7 ^ a12&a8 ^ a2&a4 ^ a2&a6 ^ a3&a4 ^ a3&a5 ^ a4&a8 ^ a4&a9 ^ a5&a7 ^ a5&a9 ^ a6&a7 ^ a6&a8))\n",
    "quantum_circuitnc = grover_oracle.synth()\n",
    "quantum_circuitnc.draw()"
   ]
  },
  {
   "cell_type": "code",
   "execution_count": 3,
   "metadata": {
    "id": "u2Lr3SPMdbQH"
   },
   "outputs": [],
   "source": [
    "from qiskit import Aer\n",
    "from qiskit import QuantumCircuit, QuantumRegister, ClassicalRegister, transpile, assemble\n",
    "import random\n",
    "from qiskit.circuit.library.standard_gates.x import XGate, MCXGate"
   ]
  },
  {
   "cell_type": "code",
   "execution_count": 4,
   "metadata": {
    "id": "VUuvIxXsc7HB"
   },
   "outputs": [],
   "source": [
    "def diffuser(nqubits):\n",
    "    qc = QuantumCircuit(nqubits)\n",
    "    # Apply transformation |s> -> |00..0> (H-gates)\n",
    "    for qubit in range(nqubits):\n",
    "        qc.h(qubit)\n",
    "    # Apply transformation |00..0> -> |11..1> (X-gates)\n",
    "    for qubit in range(nqubits):\n",
    "        qc.x(qubit)\n",
    "    # Do multi-controlled-Z gate\n",
    "    qc.h(nqubits-1)\n",
    "    qc.mct(list(range(nqubits-1)), nqubits-1)  # multi-controlled-toffoli\n",
    "    qc.h(nqubits-1)\n",
    "    # Apply transformation |11..1> -> |00..0>\n",
    "    for qubit in range(nqubits):\n",
    "        qc.x(qubit)\n",
    "    # Apply transformation |00..0> -> |s>\n",
    "    for qubit in range(nqubits):\n",
    "        qc.h(qubit)\n",
    "    # We will return the diffuser as a gate\n",
    "    U_s = qc.to_gate()\n",
    "    U_s.name = \"U_s\"\n",
    "    return U_s"
   ]
  },
  {
   "cell_type": "code",
   "execution_count": 5,
   "metadata": {},
   "outputs": [],
   "source": [
    "def is_a_solution(x):\n",
    "    a = []\n",
    "    for item in x:\n",
    "        a.append(item)\n",
    "    A1 = Matrix([[1, 0, 0],[0, 1, 0],[0, 0, 1]])\n",
    "    A2 = Matrix([[0, a[11], a[8]],[1, a[10], a[7]],[0, a[9], a[6]]])\n",
    "    A3 = Matrix([[0,a[5], a[2]],[0, a[4] ,a[1]],[1, a[3] , a[0]]])\n",
    "    #pprint(A1)   print('\\n')    pprint(A2)    print('\\n')    pprint(A3)     print('\\n')\n",
    "    aC41=[]  \n",
    "    A=[]\n",
    "    for i in range(0,8):\n",
    "        aC41.append('{0:03b}'.format(i))\n",
    "        M=int(aC41[i][0])*A1+int(aC41[i][1])*A2+int(aC41[i][2])*A3\n",
    "        #pprint(M)        print('\\n')\n",
    "        A.append(M.det())\n",
    "    A.pop(0)\n",
    "    if (all(v != 0 for v in A) == True):\n",
    "        return(x)\n",
    "    else:\n",
    "        return(0)    "
   ]
  },
  {
   "cell_type": "code",
   "execution_count": 6,
   "metadata": {
    "id": "zE3DZjhgQwTL"
   },
   "outputs": [],
   "source": [
    "def quantum_procedure(creg,qreg):\n",
    "    qc14 = QuantumCircuit(qreg,creg)\n",
    "    # Initialize qubits in state |s>\n",
    "    qc14.x(12)  \n",
    "    qc14.h(range(13))\n",
    "    qc14.barrier()\n",
    "    test_list = []\n",
    "    for j in range(63):\n",
    "        test_list.append(j)\n",
    "    # using random.choice() to\n",
    "    # get a random number\n",
    "    random_num = random.choice(test_list)\n",
    "    for j in range(random_num):\n",
    "        qc14.compose(quantum_circuitnc, inplace = True)\n",
    "        qc14.append(diffuser(12), range(12))\n",
    "        qc14.barrier()\n",
    "    qc14.h(12)\n",
    "    qc14.measure(range(12), range(12))\n",
    "    #print(qc14.draw(fold=-1))\n",
    "    aer_sim = Aer.get_backend('aer_simulator')\n",
    "    transpiled_qc14 = transpile(qc14, aer_sim)\n",
    "    qobj4 = assemble(transpiled_qc14)\n",
    "    results4 = aer_sim.run(qobj4,shots = 1).result()\n",
    "    counts4 = results4.get_counts()\n",
    "    dictionary_to_value(counts4)\n",
    "    return(dictionary_to_value(counts4),random_num)"
   ]
  },
  {
   "cell_type": "code",
   "execution_count": 7,
   "metadata": {
    "id": "bZtQWRqMT5Fh"
   },
   "outputs": [],
   "source": [
    "def dictionary_to_value(x):\n",
    "    for i in x.keys():\n",
    "        return(i)"
   ]
  },
  {
   "cell_type": "code",
   "execution_count": 8,
   "metadata": {},
   "outputs": [],
   "source": [
    "def finding_solutions(R):\n",
    "    find_solution = []\n",
    "    qreg11 = QuantumRegister(13)\n",
    "    creg11 = ClassicalRegister(12)\n",
    "    for j in range(R):\n",
    "        a = quantum_procedure(creg11,qreg11)\n",
    "        find_solution.append(a)\n",
    "        if is_a_solution(a[0]) !=0:\n",
    "            break\n",
    "    return(find_solution)"
   ]
  },
  {
   "cell_type": "code",
   "execution_count": 9,
   "metadata": {},
   "outputs": [
    {
     "data": {
      "text/plain": [
       "[('000111110001', 4), ('111101101100', 47)]"
      ]
     },
     "execution_count": 9,
     "metadata": {},
     "output_type": "execute_result"
    }
   ],
   "source": [
    "finding_solutions(68)"
   ]
  },
  {
   "cell_type": "code",
   "execution_count": null,
   "metadata": {},
   "outputs": [],
   "source": [
    "is_a_solution('111101101100')"
   ]
  },
  {
   "cell_type": "code",
   "execution_count": 10,
   "metadata": {
    "id": "1m5KWRKpUdSo"
   },
   "outputs": [],
   "source": [
    "def quantum_procedure1(creg,qreg):\n",
    "    qc14 = QuantumCircuit(qreg,creg) \n",
    "    # Initialize qubits in state |s>\n",
    "    qc14.x(12)\n",
    "    qc14.h(range(13))\n",
    "    qc14.barrier()\n",
    "    test_list = []\n",
    "    for j in range(63):\n",
    "        test_list.append(j)\n",
    "    # using random.choice() to\n",
    "    # get a random number\n",
    "    random_num = random.choice(test_list)\n",
    "    for j in range(random_num):\n",
    "        qc14.compose(quantum_circuitnc, inplace = True)\n",
    "        qc14.barrier()\n",
    "        control1 = MCXGate(12, None, '111101101100')\n",
    "        qc14.append(control1, [0, 1, 2, 3, 4 ,5 ,6, 7, 8, 9, 10, 11, 12])\n",
    "        qc14.append(diffuser(12), range(12))\n",
    "        qc14.barrier()\n",
    "    qc14.h(12)\n",
    "    qc14.measure(range(12), range(12))\n",
    "    #print(qc14.draw(fold=-1))\n",
    "    aer_sim = Aer.get_backend('aer_simulator')\n",
    "    transpiled_qc14 = transpile(qc14, aer_sim)\n",
    "    qobj4 = assemble(transpiled_qc14)\n",
    "    results4 = aer_sim.run(qobj4,shots = 1).result()\n",
    "    counts4 = results4.get_counts()\n",
    "    dictionary_to_value(counts4)\n",
    "    return(dictionary_to_value(counts4),random_num)"
   ]
  },
  {
   "cell_type": "code",
   "execution_count": 11,
   "metadata": {},
   "outputs": [],
   "source": [
    "def finding_solutions1(R):\n",
    "    find_solution = []\n",
    "    qreg11 = QuantumRegister(13)\n",
    "    creg11 = ClassicalRegister(12)\n",
    "    for j in range(R):\n",
    "        a = quantum_procedure1(creg11,qreg11)\n",
    "        find_solution.append(a)\n",
    "        if is_a_solution(a[0]) !=0:\n",
    "            break\n",
    "    return(find_solution)"
   ]
  },
  {
   "cell_type": "code",
   "execution_count": 12,
   "metadata": {},
   "outputs": [
    {
     "data": {
      "text/plain": [
       "[('110001001101', 60)]"
      ]
     },
     "execution_count": 12,
     "metadata": {},
     "output_type": "execute_result"
    }
   ],
   "source": [
    "finding_solutions1(66)"
   ]
  },
  {
   "cell_type": "code",
   "execution_count": null,
   "metadata": {},
   "outputs": [],
   "source": [
    "is_a_solution('110001001101')"
   ]
  },
  {
   "cell_type": "code",
   "execution_count": 13,
   "metadata": {
    "id": "Z9r1EQL0WhmJ"
   },
   "outputs": [],
   "source": [
    "def quantum_procedure2(creg,qreg):\n",
    "    qc14 = QuantumCircuit(qreg,creg)\n",
    "    # Initialize qubits in state |s>\n",
    "    qc14.x(12)\n",
    "    qc14.h(range(13))\n",
    "    qc14.barrier()\n",
    "    test_list = []\n",
    "    for j in range(63):\n",
    "        test_list.append(j)\n",
    "    # using random.choice() to\n",
    "    # get a random number\n",
    "    random_num = random.choice(test_list)\n",
    "    for j in range(random_num):\n",
    "        qc14.compose(quantum_circuitnc, inplace = True)\n",
    "        qc14.barrier()\n",
    "        \n",
    "        control1 = MCXGate(12, None, '111101101100')\n",
    "        qc14.append(control1, [0, 1, 2, 3, 4 ,5 ,6, 7, 8, 9, 10, 11, 12])\n",
    "        control2 = MCXGate(12, None, '110001001101')\n",
    "        qc14.append(control2, [0, 1, 2, 3, 4 ,5 ,6, 7, 8, 9, 10, 11, 12])\n",
    "        \n",
    "        qc14.append(diffuser(12), range(12))\n",
    "        qc14.append(diffuser(12), range(12))\n",
    "        qc14.barrier()\n",
    "    qc14.h(12)\n",
    "    qc14.measure(range(12), range(12))\n",
    "    #print(qc14.draw(fold=-1))\n",
    "    aer_sim = Aer.get_backend('aer_simulator')\n",
    "    transpiled_qc14 = transpile(qc14, aer_sim)\n",
    "    qobj4 = assemble(transpiled_qc14)\n",
    "    results4 = aer_sim.run(qobj4,shots = 1).result()\n",
    "    counts4 = results4.get_counts()\n",
    "    dictionary_to_value(counts4)\n",
    "    return(dictionary_to_value(counts4),random_num)\n",
    "\n",
    "def finding_solutions2(R):\n",
    "    find_solution = []\n",
    "    qreg11 = QuantumRegister(13)\n",
    "    creg11 = ClassicalRegister(12)\n",
    "    for j in range(R):\n",
    "        a = quantum_procedure2(creg11,qreg11)\n",
    "        find_solution.append(a)\n",
    "        if is_a_solution(a[0]) !=0:\n",
    "            break\n",
    "    return(find_solution)"
   ]
  },
  {
   "cell_type": "code",
   "execution_count": 14,
   "metadata": {},
   "outputs": [
    {
     "data": {
      "text/plain": [
       "[('010100011100', 31),\n",
       " ('000010101111', 10),\n",
       " ('111011001100', 45),\n",
       " ('111011010111', 54),\n",
       " ('110000011000', 24),\n",
       " ('110110100011', 9),\n",
       " ('010101110100', 5),\n",
       " ('100110001001', 40),\n",
       " ('101101001011', 16),\n",
       " ('101010011001', 20),\n",
       " ('110010011101', 25),\n",
       " ('011100100011', 7),\n",
       " ('010100011111', 20),\n",
       " ('100001010001', 61),\n",
       " ('110011000011', 58),\n",
       " ('001000011000', 51),\n",
       " ('001101010110', 5),\n",
       " ('011001001000', 21),\n",
       " ('010000011000', 30),\n",
       " ('001000001111', 0),\n",
       " ('111000110001', 39),\n",
       " ('100011101111', 0),\n",
       " ('000100111000', 4),\n",
       " ('111100010111', 1),\n",
       " ('100011111110', 8),\n",
       " ('100001100101', 23),\n",
       " ('011011101010', 6),\n",
       " ('110110010111', 1),\n",
       " ('101110101011', 6)]"
      ]
     },
     "execution_count": 14,
     "metadata": {},
     "output_type": "execute_result"
    }
   ],
   "source": [
    "finding_solutions2(65)"
   ]
  },
  {
   "cell_type": "code",
   "execution_count": null,
   "metadata": {},
   "outputs": [],
   "source": [
    "is_a_solution('101110101011')"
   ]
  },
  {
   "cell_type": "code",
   "execution_count": 15,
   "metadata": {
    "id": "jurGzwU3Xfys"
   },
   "outputs": [],
   "source": [
    "def quantum_procedure3(creg,qreg):\n",
    "    qc14 = QuantumCircuit(qreg,creg)\n",
    "    # Initialize qubits in state |s>\n",
    "    qc14.x(12)\n",
    "    qc14.h(range(13))\n",
    "    qc14.barrier()\n",
    "    test_list = []\n",
    "    for j in range(63):\n",
    "        test_list.append(j)\n",
    "    # using random.choice() to\n",
    "    # get a random number\n",
    "    random_num = random.choice(test_list)\n",
    "    for j in range(random_num):\n",
    "        qc14.compose(quantum_circuitnc, inplace = True)\n",
    "        qc14.barrier()\n",
    "        \n",
    "                \n",
    "        control1 = MCXGate(12, None, '111101101100')        \n",
    "        qc14.append(control1, [0, 1, 2, 3, 4 ,5 ,6, 7, 8, 9, 10, 11, 12])\n",
    "        \n",
    "        control2 = MCXGate(12, None, '110001001101')\n",
    "        qc14.append(control2, [0, 1, 2, 3, 4 ,5 ,6, 7, 8, 9, 10, 11, 12])\n",
    "        \n",
    "        control3 = MCXGate(12, None, '101110101011')        \n",
    "        qc14.append(control3, [0, 1, 2, 3, 4 ,5 ,6, 7, 8, 9, 10, 11, 12])\n",
    "        \n",
    "        \n",
    "        qc14.append(diffuser(12), range(12))\n",
    "        qc14.barrier()\n",
    "    qc14.h(12)\n",
    "    qc14.measure(range(12), range(12))\n",
    "    #print(qc14.draw())\n",
    "    aer_sim = Aer.get_backend('aer_simulator')\n",
    "    transpiled_qc14 = transpile(qc14, aer_sim)\n",
    "    qobj4 = assemble(transpiled_qc14)\n",
    "    results4 = aer_sim.run(qobj4,shots = 1).result()\n",
    "    counts4 = results4.get_counts()\n",
    "    dictionary_to_value(counts4)\n",
    "    return(dictionary_to_value(counts4),random_num)\n",
    "\n",
    "def finding_solutions3(R):\n",
    "    find_solution = []\n",
    "    qreg11 = QuantumRegister(13)\n",
    "    creg11 = ClassicalRegister(12)\n",
    "    for j in range(R):\n",
    "        a = quantum_procedure3(creg11,qreg11)\n",
    "        find_solution.append(a)\n",
    "        if is_a_solution(a[0]) !=0:\n",
    "            break\n",
    "    return(find_solution)"
   ]
  },
  {
   "cell_type": "code",
   "execution_count": null,
   "metadata": {},
   "outputs": [],
   "source": []
  },
  {
   "cell_type": "code",
   "execution_count": 16,
   "metadata": {},
   "outputs": [
    {
     "data": {
      "text/plain": [
       "[('011000011110', 61), ('010011011111', 51)]"
      ]
     },
     "execution_count": 16,
     "metadata": {},
     "output_type": "execute_result"
    }
   ],
   "source": [
    "finding_solutions3(36)"
   ]
  },
  {
   "cell_type": "code",
   "execution_count": 17,
   "metadata": {
    "id": "-rqMKrOwX2AO"
   },
   "outputs": [],
   "source": [
    "def quantum_procedure4(creg,qreg):\n",
    "    qc14 = QuantumCircuit(qreg,creg)\n",
    "    # Initialize qubits in state |s>\n",
    "    qc14.x(12)\n",
    "    qc14.h(range(13))\n",
    "    qc14.barrier()\n",
    "    test_list = []\n",
    "    for j in range(63):\n",
    "        test_list.append(j)\n",
    "    # using random.choice() to\n",
    "    # get a random number\n",
    "    random_num = random.choice(test_list)\n",
    "    for j in range(random_num):\n",
    "        qc14.compose(quantum_circuitnc, inplace = True)\n",
    "        qc14.barrier()\n",
    "        \n",
    "        \n",
    "        control1 = MCXGate(12, None, '111101101100')        \n",
    "        qc14.append(control1, [0, 1, 2, 3, 4 ,5 ,6, 7, 8, 9, 10, 11, 12])\n",
    "        \n",
    "        control2 = MCXGate(12, None, '110001001101')\n",
    "        qc14.append(control2, [0, 1, 2, 3, 4 ,5 ,6, 7, 8, 9, 10, 11, 12])\n",
    "        \n",
    "        control3 = MCXGate(12, None, '101110101011')        \n",
    "        qc14.append(control3, [0, 1, 2, 3, 4 ,5 ,6, 7, 8, 9, 10, 11, 12])\n",
    "        \n",
    "        control4 = MCXGate(12, None, '010011011111')\n",
    "        qc14.append(control4, [0, 1, 2, 3, 4 ,5 ,6, 7, 8, 9, 10, 11, 12])\n",
    "        \n",
    "        \n",
    "        qc14.append(diffuser(12), range(12))\n",
    "        qc14.barrier()\n",
    "    qc14.h(12)\n",
    "    qc14.measure(range(12), range(12))\n",
    "    #print(qc14.draw(fold=-1))\n",
    "    aer_sim = Aer.get_backend('aer_simulator')\n",
    "    transpiled_qc14 = transpile(qc14, aer_sim)\n",
    "    qobj4 = assemble(transpiled_qc14)\n",
    "    results4 = aer_sim.run(qobj4,shots = 1).result()\n",
    "    counts4 = results4.get_counts()\n",
    "    dictionary_to_value(counts4)\n",
    "    return(dictionary_to_value(counts4),random_num)\n",
    "\n",
    "def finding_solutions4(R):\n",
    "    find_solution = []\n",
    "    qreg11 = QuantumRegister(13)\n",
    "    creg11 = ClassicalRegister(12)\n",
    "    for j in range(R):\n",
    "        a = quantum_procedure4(creg11,qreg11)\n",
    "        find_solution.append(a)\n",
    "        if is_a_solution(a[0]) !=0:\n",
    "            break\n",
    "    return(find_solution)"
   ]
  },
  {
   "cell_type": "code",
   "execution_count": 18,
   "metadata": {},
   "outputs": [
    {
     "data": {
      "text/plain": [
       "[('110011011100', 48)]"
      ]
     },
     "execution_count": 18,
     "metadata": {},
     "output_type": "execute_result"
    }
   ],
   "source": [
    "finding_solutions4(34)"
   ]
  },
  {
   "cell_type": "code",
   "execution_count": null,
   "metadata": {},
   "outputs": [],
   "source": []
  },
  {
   "cell_type": "code",
   "execution_count": 19,
   "metadata": {
    "id": "5l7I9WB2Yffx"
   },
   "outputs": [],
   "source": [
    "def quantum_procedure5(creg,qreg):\n",
    "    qc14 = QuantumCircuit(qreg,creg)\n",
    "    # Initialize qubits in state |s>\n",
    "    qc14.x(12)\n",
    "    qc14.h(range(13))\n",
    "    qc14.barrier()\n",
    "    test_list = []\n",
    "    for j in range(63):\n",
    "        test_list.append(j)\n",
    "    # using random.choice() to\n",
    "    # get a random number\n",
    "    random_num = random.choice(test_list)\n",
    "    for j in range(random_num):\n",
    "        qc14.compose(quantum_circuitnc, inplace = True)\n",
    "        qc14.barrier()\n",
    "        \n",
    "        \n",
    "        control1 = MCXGate(12, None, '111101101100')        \n",
    "        qc14.append(control1, [0, 1, 2, 3, 4 ,5 ,6, 7, 8, 9, 10, 11, 12])\n",
    "        \n",
    "        control2 = MCXGate(12, None, '110001001101')\n",
    "        qc14.append(control2, [0, 1, 2, 3, 4 ,5 ,6, 7, 8, 9, 10, 11, 12])\n",
    "        \n",
    "        control3 = MCXGate(12, None, '101110101011')        \n",
    "        qc14.append(control3, [0, 1, 2, 3, 4 ,5 ,6, 7, 8, 9, 10, 11, 12])\n",
    "        \n",
    "        control4 = MCXGate(12, None, '010011011111')\n",
    "        qc14.append(control4, [0, 1, 2, 3, 4 ,5 ,6, 7, 8, 9, 10, 11, 12])\n",
    "                \n",
    "        \n",
    "        control5 = MCXGate(12, None, '110011011100')\n",
    "        qc14.append(control5, [0, 1, 2, 3, 4 ,5 ,6, 7, 8, 9, 10, 11, 12])\n",
    "        \n",
    "        \n",
    "        qc14.append(diffuser(12), range(12))\n",
    "        qc14.barrier()\n",
    "    qc14.h(12)\n",
    "    qc14.measure(range(12), range(12))\n",
    "    #print(qc14.draw(fold=-1))\n",
    "    aer_sim = Aer.get_backend('aer_simulator')\n",
    "    transpiled_qc14 = transpile(qc14, aer_sim)\n",
    "    qobj4 = assemble(transpiled_qc14)\n",
    "    results4 = aer_sim.run(qobj4,shots = 1).result()\n",
    "    counts4 = results4.get_counts()\n",
    "    dictionary_to_value(counts4)\n",
    "    return(dictionary_to_value(counts4),random_num)\n",
    "\n",
    "def finding_solutions5(R):\n",
    "    find_solution = []\n",
    "    qreg11 = QuantumRegister(13)\n",
    "    creg11 = ClassicalRegister(12)\n",
    "    for j in range(R):\n",
    "        a = quantum_procedure5(creg11,qreg11)\n",
    "        find_solution.append(a)\n",
    "        if is_a_solution(a[0]) !=0:\n",
    "            break\n",
    "    return(find_solution)"
   ]
  },
  {
   "cell_type": "code",
   "execution_count": 20,
   "metadata": {},
   "outputs": [
    {
     "data": {
      "text/plain": [
       "[('010101101110', 27)]"
      ]
     },
     "execution_count": 20,
     "metadata": {},
     "output_type": "execute_result"
    }
   ],
   "source": [
    "finding_solutions5(33)"
   ]
  },
  {
   "cell_type": "code",
   "execution_count": null,
   "metadata": {},
   "outputs": [],
   "source": []
  },
  {
   "cell_type": "code",
   "execution_count": 21,
   "metadata": {
    "id": "6jHIPoKbX2cl"
   },
   "outputs": [],
   "source": [
    "def quantum_procedure6(creg,qreg):\n",
    "    qc14 = QuantumCircuit(qreg,creg)\n",
    "    # Initialize qubits in state |s>\n",
    "    qc14.x(12)\n",
    "    qc14.h(range(13))\n",
    "    qc14.barrier()\n",
    "    test_list = []\n",
    "    for j in range(63):\n",
    "        test_list.append(j)\n",
    "    # using random.choice() to\n",
    "    # get a random number\n",
    "    random_num = random.choice(test_list)\n",
    "    for j in range(random_num):        \n",
    "        qc14.compose(quantum_circuitnc, inplace = True)\n",
    "        qc14.barrier()\n",
    "        \n",
    "        control1 = MCXGate(12, None, '111101101100')        \n",
    "        qc14.append(control1, [0, 1, 2, 3, 4 ,5 ,6, 7, 8, 9, 10, 11, 12])\n",
    "        \n",
    "        control2 = MCXGate(12, None, '110001001101')\n",
    "        qc14.append(control2, [0, 1, 2, 3, 4 ,5 ,6, 7, 8, 9, 10, 11, 12])\n",
    "        \n",
    "        control3 = MCXGate(12, None, '101110101011')        \n",
    "        qc14.append(control3, [0, 1, 2, 3, 4 ,5 ,6, 7, 8, 9, 10, 11, 12])\n",
    "        \n",
    "        control4 = MCXGate(12, None, '010011011111')\n",
    "        qc14.append(control4, [0, 1, 2, 3, 4 ,5 ,6, 7, 8, 9, 10, 11, 12])\n",
    "                \n",
    "        \n",
    "        control5 = MCXGate(12, None, '110011011100')\n",
    "        qc14.append(control5, [0, 1, 2, 3, 4 ,5 ,6, 7, 8, 9, 10, 11, 12])\n",
    "        \n",
    "        control6 = MCXGate(12, None, '010101101110')\n",
    "        qc14.append(control6, [0, 1, 2, 3, 4 ,5 ,6, 7, 8, 9, 10, 11, 12])\n",
    "        \n",
    "        qc14.append(diffuser(12), range(12))\n",
    "        qc14.barrier()\n",
    "    qc14.h(12)\n",
    "    qc14.measure(range(12), range(12))\n",
    "    aer_sim = Aer.get_backend('aer_simulator')\n",
    "    transpiled_qc14 = transpile(qc14, aer_sim)\n",
    "    qobj4 = assemble(transpiled_qc14)\n",
    "    results4 = aer_sim.run(qobj4,shots = 1).result()\n",
    "    counts4 = results4.get_counts()\n",
    "    dictionary_to_value(counts4)\n",
    "    return(dictionary_to_value(counts4),random_num)\n",
    "\n",
    "def finding_solutions6(R):\n",
    "    find_solution = []\n",
    "    qreg11 = QuantumRegister(13)\n",
    "    creg11 = ClassicalRegister(12)\n",
    "    for j in range(R):\n",
    "        a = quantum_procedure6(creg11,qreg11)\n",
    "        find_solution.append(a)\n",
    "        if is_a_solution(a[0]) !=0:\n",
    "            break\n",
    "    return(find_solution)"
   ]
  },
  {
   "cell_type": "code",
   "execution_count": 22,
   "metadata": {},
   "outputs": [
    {
     "data": {
      "text/plain": [
       "[('011110110111', 60)]"
      ]
     },
     "execution_count": 22,
     "metadata": {},
     "output_type": "execute_result"
    }
   ],
   "source": [
    "finding_solutions6(32)"
   ]
  },
  {
   "cell_type": "code",
   "execution_count": null,
   "metadata": {},
   "outputs": [],
   "source": []
  },
  {
   "cell_type": "code",
   "execution_count": 23,
   "metadata": {
    "id": "tKfAhkH1TOeM"
   },
   "outputs": [],
   "source": [
    "def quantum_procedure7(creg,qreg):\n",
    "    qc14 = QuantumCircuit(qreg,creg)\n",
    "    # Initialize qubits in state |s>\n",
    "    qc14.x(12)\n",
    "    qc14.h(range(13))\n",
    "    qc14.barrier()\n",
    "    test_list = []\n",
    "    for j in range(63):\n",
    "        test_list.append(j)\n",
    "    # using random.choice() to\n",
    "    # get a random number\n",
    "    random_num = random.choice(test_list)\n",
    "    for j in range(random_num):\n",
    "        qc14.compose(quantum_circuitnc, inplace = True)\n",
    "        qc14.barrier()\n",
    "        control1 = MCXGate(12, None, '111101101100')        \n",
    "        qc14.append(control1, [0, 1, 2, 3, 4 ,5 ,6, 7, 8, 9, 10, 11, 12])\n",
    "        \n",
    "        control2 = MCXGate(12, None, '110001001101')\n",
    "        qc14.append(control2, [0, 1, 2, 3, 4 ,5 ,6, 7, 8, 9, 10, 11, 12])\n",
    "        \n",
    "        control3 = MCXGate(12, None, '101110101011')        \n",
    "        qc14.append(control3, [0, 1, 2, 3, 4 ,5 ,6, 7, 8, 9, 10, 11, 12])\n",
    "        \n",
    "        control4 = MCXGate(12, None, '010011011111')\n",
    "        qc14.append(control4, [0, 1, 2, 3, 4 ,5 ,6, 7, 8, 9, 10, 11, 12])\n",
    "                \n",
    "        \n",
    "        control5 = MCXGate(12, None, '110011011100')\n",
    "        qc14.append(control5, [0, 1, 2, 3, 4 ,5 ,6, 7, 8, 9, 10, 11, 12])\n",
    "        \n",
    "        control6 = MCXGate(12, None, '010101101110')\n",
    "        qc14.append(control6, [0, 1, 2, 3, 4 ,5 ,6, 7, 8, 9, 10, 11, 12])\n",
    "        \n",
    "        \n",
    "        control7 = MCXGate(12, None, '011110110111')\n",
    "        qc14.append(control7, [0, 1, 2, 3, 4 ,5 ,6, 7, 8, 9, 10, 11, 12])\n",
    "        \n",
    "        qc14.append(diffuser(12), range(12))\n",
    "        qc14.barrier()\n",
    "    qc14.h(12)\n",
    "    qc14.measure(range(12), range(12))\n",
    "    #print(qc14.draw(fold=-1))\n",
    "    aer_sim = Aer.get_backend('aer_simulator')\n",
    "    transpiled_qc14 = transpile(qc14, aer_sim)\n",
    "    qobj4 = assemble(transpiled_qc14)\n",
    "    results4 = aer_sim.run(qobj4,shots = 1).result()\n",
    "    counts4 = results4.get_counts()\n",
    "    dictionary_to_value(counts4)\n",
    "    return(dictionary_to_value(counts4),random_num)\n",
    "\n",
    "def finding_solutions7(R):\n",
    "    find_solution = []\n",
    "    qreg11 = QuantumRegister(13)\n",
    "    creg11 = ClassicalRegister(12)\n",
    "    for j in range(R):\n",
    "        a = quantum_procedure7(creg11,qreg11)\n",
    "        find_solution.append(a)\n",
    "        if is_a_solution(a[0]) !=0:\n",
    "            break\n",
    "    return(find_solution)"
   ]
  },
  {
   "cell_type": "code",
   "execution_count": 25,
   "metadata": {},
   "outputs": [
    {
     "data": {
      "text/plain": [
       "[('111010010000', 6), ('011001001110', 26)]"
      ]
     },
     "execution_count": 25,
     "metadata": {},
     "output_type": "execute_result"
    }
   ],
   "source": [
    "finding_solutions7(31)"
   ]
  },
  {
   "cell_type": "code",
   "execution_count": null,
   "metadata": {},
   "outputs": [],
   "source": []
  },
  {
   "cell_type": "code",
   "execution_count": 26,
   "metadata": {
    "id": "8YGxew7va8Hg"
   },
   "outputs": [],
   "source": [
    "def quantum_procedure8(creg,qreg):\n",
    "    qc14 = QuantumCircuit(qreg,creg)\n",
    "    # Initialize qubits in state |s>\n",
    "    qc14.x(12)\n",
    "    qc14.h(range(13))\n",
    "    qc14.barrier()\n",
    "    test_list = []\n",
    "    for j in range(63):\n",
    "        test_list.append(j)\n",
    "    # using random.choice() to\n",
    "    # get a random number\n",
    "    random_num = random.choice(test_list)\n",
    "    for j in range(random_num):\n",
    "        qc14.compose(quantum_circuitnc, inplace = True)\n",
    "        qc14.barrier()\n",
    "        \n",
    "        control1 = MCXGate(12, None, '111101101100')        \n",
    "        qc14.append(control1, [0, 1, 2, 3, 4 ,5 ,6, 7, 8, 9, 10, 11, 12])\n",
    "        \n",
    "        control2 = MCXGate(12, None, '110001001101')\n",
    "        qc14.append(control2, [0, 1, 2, 3, 4 ,5 ,6, 7, 8, 9, 10, 11, 12])\n",
    "        \n",
    "        control3 = MCXGate(12, None, '101110101011')        \n",
    "        qc14.append(control3, [0, 1, 2, 3, 4 ,5 ,6, 7, 8, 9, 10, 11, 12])\n",
    "        \n",
    "        control4 = MCXGate(12, None, '010011011111')\n",
    "        qc14.append(control4, [0, 1, 2, 3, 4 ,5 ,6, 7, 8, 9, 10, 11, 12])\n",
    "                \n",
    "        \n",
    "        control5 = MCXGate(12, None, '110011011100')\n",
    "        qc14.append(control5, [0, 1, 2, 3, 4 ,5 ,6, 7, 8, 9, 10, 11, 12])\n",
    "        \n",
    "        control6 = MCXGate(12, None, '010101101110')\n",
    "        qc14.append(control6, [0, 1, 2, 3, 4 ,5 ,6, 7, 8, 9, 10, 11, 12])\n",
    "        \n",
    "        \n",
    "        control7 = MCXGate(12, None, '011110110111')\n",
    "        qc14.append(control7, [0, 1, 2, 3, 4 ,5 ,6, 7, 8, 9, 10, 11, 12])\n",
    "        \n",
    "        control8 = MCXGate(12, None, '011001001110',)\n",
    "        qc14.append(control8, [0, 1, 2, 3, 4 ,5 ,6, 7, 8, 9, 10, 11, 12])\n",
    "        \n",
    "        \n",
    "        qc14.append(diffuser(12), range(12))\n",
    "        qc14.barrier()\n",
    "    qc14.h(12)\n",
    "    qc14.measure(range(12), range(12))\n",
    "    #print(qc14.draw(fold=-1))\n",
    "    aer_sim = Aer.get_backend('aer_simulator')\n",
    "    transpiled_qc14 = transpile(qc14, aer_sim)\n",
    "    qobj4 = assemble(transpiled_qc14)\n",
    "    results4 = aer_sim.run(qobj4,shots = 1).result()\n",
    "    counts4 = results4.get_counts()\n",
    "    dictionary_to_value(counts4)\n",
    "    return(dictionary_to_value(counts4),random_num)\n",
    "\n",
    "def finding_solutions8(R):\n",
    "    find_solution = []\n",
    "    qreg15 = QuantumRegister(13)\n",
    "    creg15 = ClassicalRegister(12)\n",
    "    for j in range(R):\n",
    "        a = quantum_procedure8(creg15,qreg15)\n",
    "        find_solution.append(a)\n",
    "        if is_a_solution(a[0]) !=0:\n",
    "            break\n",
    "    return(find_solution)"
   ]
  },
  {
   "cell_type": "code",
   "execution_count": 27,
   "metadata": {},
   "outputs": [
    {
     "data": {
      "text/plain": [
       "[('111110110101', 29)]"
      ]
     },
     "execution_count": 27,
     "metadata": {},
     "output_type": "execute_result"
    }
   ],
   "source": [
    "finding_solutions8(28)"
   ]
  },
  {
   "cell_type": "code",
   "execution_count": null,
   "metadata": {},
   "outputs": [],
   "source": []
  },
  {
   "cell_type": "code",
   "execution_count": null,
   "metadata": {},
   "outputs": [],
   "source": []
  },
  {
   "cell_type": "code",
   "execution_count": 28,
   "metadata": {},
   "outputs": [],
   "source": [
    "def quantum_procedure9(creg,qreg):\n",
    "    qc14 = QuantumCircuit(qreg,creg)\n",
    "    # Initialize qubits in state |s>\n",
    "    qc14.x(12)\n",
    "    qc14.h(range(13))\n",
    "    qc14.barrier()\n",
    "    test_list = []\n",
    "    for j in range(63):\n",
    "        test_list.append(j)\n",
    "    # using random.choice() to\n",
    "    # get a random number\n",
    "    random_num = random.choice(test_list)\n",
    "    for j in range(random_num):\n",
    "        qc14.compose(quantum_circuitnc, inplace = True)\n",
    "        qc14.barrier()  \n",
    "        \n",
    "        control1 = MCXGate(12, None, '111101101100')        \n",
    "        qc14.append(control1, [0, 1, 2, 3, 4 ,5 ,6, 7, 8, 9, 10, 11, 12])\n",
    "        \n",
    "        control2 = MCXGate(12, None, '110001001101')\n",
    "        qc14.append(control2, [0, 1, 2, 3, 4 ,5 ,6, 7, 8, 9, 10, 11, 12])\n",
    "        \n",
    "        control3 = MCXGate(12, None, '101110101011')        \n",
    "        qc14.append(control3, [0, 1, 2, 3, 4 ,5 ,6, 7, 8, 9, 10, 11, 12])\n",
    "        \n",
    "        control4 = MCXGate(12, None, '010011011111')\n",
    "        qc14.append(control4, [0, 1, 2, 3, 4 ,5 ,6, 7, 8, 9, 10, 11, 12])\n",
    "                \n",
    "        \n",
    "        control5 = MCXGate(12, None, '110011011100')\n",
    "        qc14.append(control5, [0, 1, 2, 3, 4 ,5 ,6, 7, 8, 9, 10, 11, 12])\n",
    "        \n",
    "        control6 = MCXGate(12, None, '010101101110')\n",
    "        qc14.append(control6, [0, 1, 2, 3, 4 ,5 ,6, 7, 8, 9, 10, 11, 12])\n",
    "        \n",
    "        \n",
    "        control7 = MCXGate(12, None, '011110110111')\n",
    "        qc14.append(control7, [0, 1, 2, 3, 4 ,5 ,6, 7, 8, 9, 10, 11, 12])\n",
    "        \n",
    "        control8 = MCXGate(12, None, '011001001110',)\n",
    "        qc14.append(control8, [0, 1, 2, 3, 4 ,5 ,6, 7, 8, 9, 10, 11, 12])\n",
    "    \n",
    "        control9 = MCXGate(12, None, '111110110101')\n",
    "        qc14.append(control9, [0, 1, 2, 3, 4 ,5 ,6, 7, 8, 9, 10, 11, 12])\n",
    "        \n",
    "\n",
    "        \n",
    "        qc14.append(diffuser(12), range(12))\n",
    "        qc14.barrier()\n",
    "\n",
    "          \n",
    "    \n",
    "    qc14.h(12)\n",
    "    qc14.measure(range(12), range(12))\n",
    "    #print(qc14.draw(fold=-1))\n",
    "    aer_sim = Aer.get_backend('aer_simulator')\n",
    "    transpiled_qc14 = transpile(qc14, aer_sim)\n",
    "    qobj4 = assemble(transpiled_qc14)\n",
    "    results4 = aer_sim.run(qobj4,shots = 1).result()\n",
    "    counts4 = results4.get_counts()\n",
    "    dictionary_to_value(counts4)\n",
    "    return(dictionary_to_value(counts4),random_num)\n",
    "\n",
    "def finding_solutions9(R):\n",
    "    find_solution1 = []\n",
    "    qreg16 = QuantumRegister(13)\n",
    "    creg16 = ClassicalRegister(12)\n",
    "    for j in range(R):\n",
    "        a = quantum_procedure9(creg16,qreg16)\n",
    "        find_solution1.append(a)\n",
    "        if is_a_solution(a[0]) !=0:\n",
    "            break\n",
    "    return(find_solution1)"
   ]
  },
  {
   "cell_type": "code",
   "execution_count": 29,
   "metadata": {},
   "outputs": [
    {
     "data": {
      "text/plain": [
       "[('000100000001', 51),\n",
       " ('010100011100', 10),\n",
       " ('110010010011', 9),\n",
       " ('010111101010', 42),\n",
       " ('111100100110', 32),\n",
       " ('110000000010', 24),\n",
       " ('011100100000', 48),\n",
       " ('011100000000', 14),\n",
       " ('000001000011', 16),\n",
       " ('000000000001', 14),\n",
       " ('100000111000', 61),\n",
       " ('000100011010', 7),\n",
       " ('101001010010', 1),\n",
       " ('110101011001', 8),\n",
       " ('011111101001', 32),\n",
       " ('100000100000', 13),\n",
       " ('011100000000', 17),\n",
       " ('010000110111', 57),\n",
       " ('101001001101', 18),\n",
       " ('101110001001', 12),\n",
       " ('001011101000', 30),\n",
       " ('110111110110', 42),\n",
       " ('101000110111', 15),\n",
       " ('010110011110', 15),\n",
       " ('101010110000', 40),\n",
       " ('010011011000', 54),\n",
       " ('100001101101', 39)]"
      ]
     },
     "execution_count": 29,
     "metadata": {},
     "output_type": "execute_result"
    }
   ],
   "source": [
    "finding_solutions9(27)"
   ]
  },
  {
   "cell_type": "code",
   "execution_count": 36,
   "metadata": {},
   "outputs": [
    {
     "data": {
      "text/plain": [
       "0"
      ]
     },
     "execution_count": 36,
     "metadata": {},
     "output_type": "execute_result"
    }
   ],
   "source": [
    "is_a_solution('100001101101')"
   ]
  },
  {
   "cell_type": "code",
   "execution_count": 30,
   "metadata": {},
   "outputs": [
    {
     "data": {
      "text/plain": [
       "[('010111000011', 37),\n",
       " ('101001010101', 56),\n",
       " ('111011111000', 38),\n",
       " ('111011000001', 27),\n",
       " ('011100001110', 26),\n",
       " ('110110101011', 32),\n",
       " ('110011111010', 34),\n",
       " ('010000101101', 52),\n",
       " ('111100100000', 34),\n",
       " ('101011010111', 57),\n",
       " ('010101010100', 16),\n",
       " ('101110000000', 34),\n",
       " ('101000111000', 18),\n",
       " ('101011010110', 1),\n",
       " ('011001001101', 27),\n",
       " ('010001111000', 40),\n",
       " ('111011110000', 4),\n",
       " ('111111011000', 9),\n",
       " ('001011011101', 56),\n",
       " ('110010101001', 58),\n",
       " ('001001000100', 33),\n",
       " ('011100111011', 3),\n",
       " ('010110011010', 47),\n",
       " ('111111101111', 37),\n",
       " ('011111011000', 54),\n",
       " ('011111001111', 33),\n",
       " ('110111110001', 47)]"
      ]
     },
     "execution_count": 30,
     "metadata": {},
     "output_type": "execute_result"
    }
   ],
   "source": [
    "finding_solutions9(27)"
   ]
  },
  {
   "cell_type": "code",
   "execution_count": 9,
   "metadata": {},
   "outputs": [
    {
     "data": {
      "text/plain": [
       "0"
      ]
     },
     "execution_count": 9,
     "metadata": {},
     "output_type": "execute_result"
    }
   ],
   "source": [
    "is_a_solution('110111110001')"
   ]
  },
  {
   "cell_type": "code",
   "execution_count": 37,
   "metadata": {},
   "outputs": [
    {
     "data": {
      "text/plain": [
       "[('110011011001', 27),\n",
       " ('000011001010', 59),\n",
       " ('011110010000', 25),\n",
       " ('011011011011', 23),\n",
       " ('000101100010', 49),\n",
       " ('011001101101', 0),\n",
       " ('000111000110', 3),\n",
       " ('010010111111', 51),\n",
       " ('100011010100', 17),\n",
       " ('101010111111', 15),\n",
       " ('111110001010', 1),\n",
       " ('110101100001', 46),\n",
       " ('000011010011', 26),\n",
       " ('000010101111', 5),\n",
       " ('011000000001', 0),\n",
       " ('000110001110', 29),\n",
       " ('011000010011', 3),\n",
       " ('110101000010', 28),\n",
       " ('001011100010', 7),\n",
       " ('011111101100', 51),\n",
       " ('001001111101', 26),\n",
       " ('111101110000', 39),\n",
       " ('011010101000', 2),\n",
       " ('010000101111', 50),\n",
       " ('101110000110', 9),\n",
       " ('000010111011', 38),\n",
       " ('010101000101', 20)]"
      ]
     },
     "execution_count": 37,
     "metadata": {},
     "output_type": "execute_result"
    }
   ],
   "source": [
    "finding_solutions9(27)"
   ]
  },
  {
   "cell_type": "code",
   "execution_count": 10,
   "metadata": {},
   "outputs": [
    {
     "data": {
      "text/plain": [
       "0"
      ]
     },
     "execution_count": 10,
     "metadata": {},
     "output_type": "execute_result"
    }
   ],
   "source": [
    "is_a_solution('010101000101')"
   ]
  },
  {
   "cell_type": "code",
   "execution_count": 39,
   "metadata": {},
   "outputs": [
    {
     "data": {
      "text/plain": [
       "[('100001000110', 12),\n",
       " ('000100110110', 61),\n",
       " ('010010111011', 0),\n",
       " ('110100000011', 23),\n",
       " ('110111001111', 56),\n",
       " ('011100011110', 26),\n",
       " ('010100101110', 36),\n",
       " ('011001010011', 37),\n",
       " ('011101011000', 8),\n",
       " ('111100000101', 16),\n",
       " ('001110110100', 1),\n",
       " ('010001101001', 5),\n",
       " ('101101100100', 57),\n",
       " ('000101110000', 61)]"
      ]
     },
     "execution_count": 39,
     "metadata": {},
     "output_type": "execute_result"
    }
   ],
   "source": [
    "finding_solutions9(14)"
   ]
  },
  {
   "cell_type": "code",
   "execution_count": 11,
   "metadata": {},
   "outputs": [
    {
     "data": {
      "text/plain": [
       "0"
      ]
     },
     "execution_count": 11,
     "metadata": {},
     "output_type": "execute_result"
    }
   ],
   "source": [
    "is_a_solution('000101110000')"
   ]
  },
  {
   "cell_type": "code",
   "execution_count": 40,
   "metadata": {},
   "outputs": [
    {
     "data": {
      "text/plain": [
       "[('001000110001', 32), ('111111101001', 15)]"
      ]
     },
     "execution_count": 40,
     "metadata": {},
     "output_type": "execute_result"
    }
   ],
   "source": [
    "finding_solutions9(2)"
   ]
  },
  {
   "cell_type": "code",
   "execution_count": 42,
   "metadata": {},
   "outputs": [
    {
     "data": {
      "text/plain": [
       "0"
      ]
     },
     "execution_count": 42,
     "metadata": {},
     "output_type": "execute_result"
    }
   ],
   "source": [
    "is_a_solution('111111101001')"
   ]
  },
  {
   "cell_type": "code",
   "execution_count": null,
   "metadata": {},
   "outputs": [],
   "source": []
  }
 ],
 "metadata": {
  "colab": {
   "provenance": []
  },
  "kernelspec": {
   "display_name": "Python 3 (ipykernel)",
   "language": "python",
   "name": "python3"
  },
  "language_info": {
   "codemirror_mode": {
    "name": "ipython",
    "version": 3
   },
   "file_extension": ".py",
   "mimetype": "text/x-python",
   "name": "python",
   "nbconvert_exporter": "python",
   "pygments_lexer": "ipython3",
   "version": "3.9.7"
  }
 },
 "nbformat": 4,
 "nbformat_minor": 1
}
