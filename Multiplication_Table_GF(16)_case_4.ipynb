{
  "nbformat": 4,
  "nbformat_minor": 0,
  "metadata": {
    "colab": {
      "provenance": []
    },
    "kernelspec": {
      "name": "python3",
      "display_name": "Python 3"
    },
    "language_info": {
      "name": "python"
    }
  },
  "cells": [
    {
      "cell_type": "code",
      "source": [
        "pip install qiskit"
      ],
      "metadata": {
        "colab": {
          "base_uri": "https://localhost:8080/"
        },
        "id": "kaPI0F4IOOsB",
        "outputId": "2a3b8169-d70a-458b-9f59-05963b03fc2e"
      },
      "execution_count": null,
      "outputs": [
        {
          "output_type": "stream",
          "name": "stdout",
          "text": [
            "Collecting qiskit\n",
            "  Downloading qiskit-0.45.1-py3-none-any.whl (9.6 kB)\n",
            "Collecting qiskit-terra==0.45.1 (from qiskit)\n",
            "  Downloading qiskit_terra-0.45.1-cp38-abi3-manylinux_2_17_x86_64.manylinux2014_x86_64.whl (6.3 MB)\n",
            "\u001b[2K     \u001b[90m━━━━━━━━━━━━━━━━━━━━━━━━━━━━━━━━━━━━━━━━\u001b[0m \u001b[32m6.3/6.3 MB\u001b[0m \u001b[31m22.5 MB/s\u001b[0m eta \u001b[36m0:00:00\u001b[0m\n",
            "\u001b[?25hCollecting rustworkx>=0.13.0 (from qiskit-terra==0.45.1->qiskit)\n",
            "  Downloading rustworkx-0.13.2-cp310-cp310-manylinux_2_17_x86_64.manylinux2014_x86_64.whl (2.0 MB)\n",
            "\u001b[2K     \u001b[90m━━━━━━━━━━━━━━━━━━━━━━━━━━━━━━━━━━━━━━━━\u001b[0m \u001b[32m2.0/2.0 MB\u001b[0m \u001b[31m52.9 MB/s\u001b[0m eta \u001b[36m0:00:00\u001b[0m\n",
            "\u001b[?25hRequirement already satisfied: numpy<2,>=1.17 in /usr/local/lib/python3.10/dist-packages (from qiskit-terra==0.45.1->qiskit) (1.23.5)\n",
            "Collecting ply>=3.10 (from qiskit-terra==0.45.1->qiskit)\n",
            "  Downloading ply-3.11-py2.py3-none-any.whl (49 kB)\n",
            "\u001b[2K     \u001b[90m━━━━━━━━━━━━━━━━━━━━━━━━━━━━━━━━━━━━━━━━\u001b[0m \u001b[32m49.6/49.6 kB\u001b[0m \u001b[31m6.5 MB/s\u001b[0m eta \u001b[36m0:00:00\u001b[0m\n",
            "\u001b[?25hRequirement already satisfied: psutil>=5 in /usr/local/lib/python3.10/dist-packages (from qiskit-terra==0.45.1->qiskit) (5.9.5)\n",
            "Requirement already satisfied: scipy>=1.5 in /usr/local/lib/python3.10/dist-packages (from qiskit-terra==0.45.1->qiskit) (1.11.4)\n",
            "Requirement already satisfied: sympy>=1.3 in /usr/local/lib/python3.10/dist-packages (from qiskit-terra==0.45.1->qiskit) (1.12)\n",
            "Collecting dill>=0.3 (from qiskit-terra==0.45.1->qiskit)\n",
            "  Downloading dill-0.3.7-py3-none-any.whl (115 kB)\n",
            "\u001b[2K     \u001b[90m━━━━━━━━━━━━━━━━━━━━━━━━━━━━━━━━━━━━━━━━\u001b[0m \u001b[32m115.3/115.3 kB\u001b[0m \u001b[31m13.0 MB/s\u001b[0m eta \u001b[36m0:00:00\u001b[0m\n",
            "\u001b[?25hRequirement already satisfied: python-dateutil>=2.8.0 in /usr/local/lib/python3.10/dist-packages (from qiskit-terra==0.45.1->qiskit) (2.8.2)\n",
            "Collecting stevedore>=3.0.0 (from qiskit-terra==0.45.1->qiskit)\n",
            "  Downloading stevedore-5.1.0-py3-none-any.whl (49 kB)\n",
            "\u001b[2K     \u001b[90m━━━━━━━━━━━━━━━━━━━━━━━━━━━━━━━━━━━━━━━━\u001b[0m \u001b[32m49.6/49.6 kB\u001b[0m \u001b[31m5.2 MB/s\u001b[0m eta \u001b[36m0:00:00\u001b[0m\n",
            "\u001b[?25hCollecting symengine!=0.10.0,>=0.9 (from qiskit-terra==0.45.1->qiskit)\n",
            "  Downloading symengine-0.11.0-cp310-cp310-manylinux_2_12_x86_64.manylinux2010_x86_64.whl (39.4 MB)\n",
            "\u001b[2K     \u001b[90m━━━━━━━━━━━━━━━━━━━━━━━━━━━━━━━━━━━━━━━━\u001b[0m \u001b[32m39.4/39.4 MB\u001b[0m \u001b[31m15.2 MB/s\u001b[0m eta \u001b[36m0:00:00\u001b[0m\n",
            "\u001b[?25hRequirement already satisfied: typing-extensions in /usr/local/lib/python3.10/dist-packages (from qiskit-terra==0.45.1->qiskit) (4.5.0)\n",
            "Requirement already satisfied: six>=1.5 in /usr/local/lib/python3.10/dist-packages (from python-dateutil>=2.8.0->qiskit-terra==0.45.1->qiskit) (1.16.0)\n",
            "Collecting pbr!=2.1.0,>=2.0.0 (from stevedore>=3.0.0->qiskit-terra==0.45.1->qiskit)\n",
            "  Downloading pbr-6.0.0-py2.py3-none-any.whl (107 kB)\n",
            "\u001b[2K     \u001b[90m━━━━━━━━━━━━━━━━━━━━━━━━━━━━━━━━━━━━━━━━\u001b[0m \u001b[32m107.5/107.5 kB\u001b[0m \u001b[31m13.7 MB/s\u001b[0m eta \u001b[36m0:00:00\u001b[0m\n",
            "\u001b[?25hRequirement already satisfied: mpmath>=0.19 in /usr/local/lib/python3.10/dist-packages (from sympy>=1.3->qiskit-terra==0.45.1->qiskit) (1.3.0)\n",
            "Installing collected packages: ply, symengine, rustworkx, pbr, dill, stevedore, qiskit-terra, qiskit\n",
            "Successfully installed dill-0.3.7 pbr-6.0.0 ply-3.11 qiskit-0.45.1 qiskit-terra-0.45.1 rustworkx-0.13.2 stevedore-5.1.0 symengine-0.11.0\n"
          ]
        }
      ]
    },
    {
      "cell_type": "code",
      "source": [
        "pip install qiskit-aer"
      ],
      "metadata": {
        "colab": {
          "base_uri": "https://localhost:8080/"
        },
        "id": "1CVDzemIOSWE",
        "outputId": "8ff40b4e-e9c3-4b24-8b24-5b2f17f29c8c"
      },
      "execution_count": null,
      "outputs": [
        {
          "output_type": "stream",
          "name": "stdout",
          "text": [
            "Collecting qiskit-aer\n",
            "  Downloading qiskit_aer-0.13.1-cp310-cp310-manylinux_2_17_x86_64.manylinux2014_x86_64.whl (12.3 MB)\n",
            "\u001b[2K     \u001b[90m━━━━━━━━━━━━━━━━━━━━━━━━━━━━━━━━━━━━━━━━\u001b[0m \u001b[32m12.3/12.3 MB\u001b[0m \u001b[31m27.9 MB/s\u001b[0m eta \u001b[36m0:00:00\u001b[0m\n",
            "\u001b[?25hRequirement already satisfied: qiskit>=0.44.0 in /usr/local/lib/python3.10/dist-packages (from qiskit-aer) (0.45.1)\n",
            "Requirement already satisfied: numpy>=1.16.3 in /usr/local/lib/python3.10/dist-packages (from qiskit-aer) (1.23.5)\n",
            "Requirement already satisfied: scipy>=1.0 in /usr/local/lib/python3.10/dist-packages (from qiskit-aer) (1.11.4)\n",
            "Requirement already satisfied: psutil>=5 in /usr/local/lib/python3.10/dist-packages (from qiskit-aer) (5.9.5)\n",
            "Requirement already satisfied: qiskit-terra==0.45.1 in /usr/local/lib/python3.10/dist-packages (from qiskit>=0.44.0->qiskit-aer) (0.45.1)\n",
            "Requirement already satisfied: rustworkx>=0.13.0 in /usr/local/lib/python3.10/dist-packages (from qiskit-terra==0.45.1->qiskit>=0.44.0->qiskit-aer) (0.13.2)\n",
            "Requirement already satisfied: ply>=3.10 in /usr/local/lib/python3.10/dist-packages (from qiskit-terra==0.45.1->qiskit>=0.44.0->qiskit-aer) (3.11)\n",
            "Requirement already satisfied: sympy>=1.3 in /usr/local/lib/python3.10/dist-packages (from qiskit-terra==0.45.1->qiskit>=0.44.0->qiskit-aer) (1.12)\n",
            "Requirement already satisfied: dill>=0.3 in /usr/local/lib/python3.10/dist-packages (from qiskit-terra==0.45.1->qiskit>=0.44.0->qiskit-aer) (0.3.7)\n",
            "Requirement already satisfied: python-dateutil>=2.8.0 in /usr/local/lib/python3.10/dist-packages (from qiskit-terra==0.45.1->qiskit>=0.44.0->qiskit-aer) (2.8.2)\n",
            "Requirement already satisfied: stevedore>=3.0.0 in /usr/local/lib/python3.10/dist-packages (from qiskit-terra==0.45.1->qiskit>=0.44.0->qiskit-aer) (5.1.0)\n",
            "Requirement already satisfied: symengine!=0.10.0,>=0.9 in /usr/local/lib/python3.10/dist-packages (from qiskit-terra==0.45.1->qiskit>=0.44.0->qiskit-aer) (0.11.0)\n",
            "Requirement already satisfied: typing-extensions in /usr/local/lib/python3.10/dist-packages (from qiskit-terra==0.45.1->qiskit>=0.44.0->qiskit-aer) (4.5.0)\n",
            "Requirement already satisfied: six>=1.5 in /usr/local/lib/python3.10/dist-packages (from python-dateutil>=2.8.0->qiskit-terra==0.45.1->qiskit>=0.44.0->qiskit-aer) (1.16.0)\n",
            "Requirement already satisfied: pbr!=2.1.0,>=2.0.0 in /usr/local/lib/python3.10/dist-packages (from stevedore>=3.0.0->qiskit-terra==0.45.1->qiskit>=0.44.0->qiskit-aer) (6.0.0)\n",
            "Requirement already satisfied: mpmath>=0.19 in /usr/local/lib/python3.10/dist-packages (from sympy>=1.3->qiskit-terra==0.45.1->qiskit>=0.44.0->qiskit-aer) (1.3.0)\n",
            "Installing collected packages: qiskit-aer\n",
            "Successfully installed qiskit-aer-0.13.1\n"
          ]
        }
      ]
    },
    {
      "cell_type": "code",
      "source": [
        "pip install tweedledum"
      ],
      "metadata": {
        "colab": {
          "base_uri": "https://localhost:8080/"
        },
        "id": "JUPSBQDNOSfX",
        "outputId": "c0471727-b699-4a23-b611-7db98ad6c9b9"
      },
      "execution_count": null,
      "outputs": [
        {
          "output_type": "stream",
          "name": "stdout",
          "text": [
            "Collecting tweedledum\n",
            "  Downloading tweedledum-1.1.1-cp310-cp310-manylinux_2_12_x86_64.manylinux2010_x86_64.whl (929 kB)\n",
            "\u001b[?25l     \u001b[90m━━━━━━━━━━━━━━━━━━━━━━━━━━━━━━━━━━━━━━━━\u001b[0m \u001b[32m0.0/929.7 kB\u001b[0m \u001b[31m?\u001b[0m eta \u001b[36m-:--:--\u001b[0m\r\u001b[2K     \u001b[91m━━━━\u001b[0m\u001b[91m╸\u001b[0m\u001b[90m━━━━━━━━━━━━━━━━━━━━━━━━━━━━━━━━━━━\u001b[0m \u001b[32m112.6/929.7 kB\u001b[0m \u001b[31m3.2 MB/s\u001b[0m eta \u001b[36m0:00:01\u001b[0m\r\u001b[2K     \u001b[91m━━━━━━━━━━━━━━━━━━\u001b[0m\u001b[91m╸\u001b[0m\u001b[90m━━━━━━━━━━━━━━━━━━━━━\u001b[0m \u001b[32m430.1/929.7 kB\u001b[0m \u001b[31m6.1 MB/s\u001b[0m eta \u001b[36m0:00:01\u001b[0m\r\u001b[2K     \u001b[91m━━━━━━━━━━━━━━━━━━━━━━━━━━━━━━━━━━━━━━━\u001b[0m\u001b[91m╸\u001b[0m \u001b[32m921.6/929.7 kB\u001b[0m \u001b[31m9.1 MB/s\u001b[0m eta \u001b[36m0:00:01\u001b[0m\r\u001b[2K     \u001b[90m━━━━━━━━━━━━━━━━━━━━━━━━━━━━━━━━━━━━━━━━\u001b[0m \u001b[32m929.7/929.7 kB\u001b[0m \u001b[31m8.2 MB/s\u001b[0m eta \u001b[36m0:00:00\u001b[0m\n",
            "\u001b[?25hInstalling collected packages: tweedledum\n",
            "Successfully installed tweedledum-1.1.1\n"
          ]
        }
      ]
    },
    {
      "cell_type": "code",
      "source": [
        "from sympy import symbols, Matrix, pprint, collect, factor\n",
        "from sympy import *\n",
        "import itertools\n",
        "\n",
        "a = []\n",
        "name = \"a\"\n",
        "for i in range(0,13):\n",
        "    v = symbols(name+str(i))\n",
        "    a.append(v)\n",
        "\n",
        "A1 = Matrix([[1, 0, 0, 0],[0, 1, 0 ,0],[0, 0, 1 , 0],[0,0,0,1] ])\n",
        "A2 = Matrix([[0, 0, 0, 1],[1, 0, 0 ,0],[0, 1, 0 , 1],[0,0,1,0] ])\n",
        "A3 = Matrix([[0, 0, a[1], a[5]],[0, 0, a[2] ,a[6]],[1, 0, a[3] , a[7]],[0,1,a[4],a[8]] ])\n",
        "A4 = Matrix([[0, 1, a[5], a[9]],[0, 0, a[6] ,a[10]],[0, 1, a[7] , a[11]],[1,0,a[8],a[12]] ])\n",
        "aC41=[]\n",
        "A=[]\n",
        "for i in range(0,16):\n",
        "    aC41.append('{0:04b}'.format(i))\n",
        "    M=int(aC41[i][0])*A1+int(aC41[i][1])*A2+int(aC41[i][2])*A3 +int(aC41[i][3])*A4\n",
        "    A.append(M.det())\n",
        "def Equations(First):\n",
        "    BB31= First\n",
        "    Pl1 =[]\n",
        "    for i in range(len(BB31)):\n",
        "        Pl1.append(dict(BB31[i].as_coefficients_dict()))\n",
        "    ##Symplify computations of coefficients module 2\n",
        "    EQ1 =[]\n",
        "    for l in range(len(Pl1)):\n",
        "        for s in Pl1[l]:\n",
        "            if (Pl1[l][s] % 2) == 0:\n",
        "                Pl1[l][s] = 0\n",
        "            else:\n",
        "                Pl1[l][s] = 1\n",
        "        EQ1.append(sum([key * val for key, val in Pl1[l].items()]))\n",
        "    ##Selecting the equations we need\n",
        "    EQ3=[]\n",
        "    for l in range(len(EQ1)):\n",
        "        if (EQ1[l] != 0) and (EQ1[l]!=1):\n",
        "            EQ3.append(EQ1[l])\n",
        "    return(EQ3)\n",
        "def Polynomial1(w):\n",
        "    h_test1=[]\n",
        "    w_test1=[]\n",
        "    w_final_test1=[]\n",
        "    for n in range(len(w)):\n",
        "        if  (w[n] == 1) or (w[n] == 0):\n",
        "            w_test1.append(w[n])\n",
        "        else:\n",
        "            h_test1.append(w[n].make_args(w[n]))\n",
        "    g_test1 =[]\n",
        "    for m in range(len(h_test1)):\n",
        "        g_test1.append(list(h_test1[m]))\n",
        "        for l in range(len(h_test1[m])):\n",
        "            if(h_test1[m][l]==1):\n",
        "                g_test1[m][1]=~(g_test1[m][1])\n",
        "                del g_test1[m][l]\n",
        "    w_final_test1 = '&'.join([str(item) for item in g_test1])\n",
        "    w_final_test1 = w_final_test1.replace(\"*\",\"&\")\n",
        "    w_final_test1 = w_final_test1.replace(\",\",\" ^\")\n",
        "    return(w_final_test1)\n",
        "Polynomial1(Equations(A))"
      ],
      "metadata": {
        "colab": {
          "base_uri": "https://localhost:8080/",
          "height": 175
        },
        "id": "LlyvA76qpLfI",
        "outputId": "f21a3c27-ece5-4305-8b73-fff3273eb4f9"
      },
      "execution_count": null,
      "outputs": [
        {
          "output_type": "execute_result",
          "data": {
            "text/plain": [
              "'[a10&a5 ^ a10&a7 ^ a11&a6 ^ a6&a9]&[a1&a6 ^ a2&a5]&[a10&a3 ^ a10&a4 ^ a10&a7 ^ a10&a8 ^ a11&a2 ^ a11&a6 ^ a12&a2 ^ a12&a6 ^ a2&a7 ^ a2&a8 ^ a3&a6 ^ a4&a6]&[~a11 ^ a6 ^ a8 ^ a10&a7 ^ a11&a6 ^ a11&a8 ^ a12&a7]&[~a1 ^ a2 ^ a3 ^ a4 ^ a5 ^ a1&a6 ^ a1&a7 ^ a1&a8 ^ a2&a5 ^ a3&a5 ^ a4&a5]&[~a1 ^ a10 ^ a11 ^ a3 ^ a4 ^ a5 ^ a6 ^ a8 ^ a1&a10 ^ a1&a11 ^ a1&a6 ^ a1&a7 ^ a10&a3 ^ a10&a4 ^ a10&a5 ^ a10&a7 ^ a10&a8 ^ a11&a2 ^ a11&a4 ^ a11&a5 ^ a11&a6 ^ a11&a8 ^ a12&a2 ^ a12&a3 ^ a12&a6 ^ a12&a7 ^ a2&a5 ^ a2&a7 ^ a2&a8 ^ a2&a9 ^ a3&a5 ^ a3&a6 ^ a3&a8 ^ a3&a9 ^ a4&a6 ^ a4&a7 ^ a6&a9 ^ a7&a9]&[~a10 ^ a12 ^ a6 ^ a7 ^ a9 ^ a10&a5 ^ a10&a7 ^ a10&a8 ^ a11&a5 ^ a11&a6 ^ a11&a8 ^ a12&a6 ^ a12&a7 ^ a6&a9 ^ a7&a9]&[~a1 ^ a3 ^ a6 ^ a8 ^ a1&a6 ^ a1&a8 ^ a2&a5 ^ a2&a7 ^ a3&a6 ^ a3&a8 ^ a4&a5 ^ a4&a7]&[~a1 ^ a12 ^ a3 ^ a7 ^ a8 ^ a9 ^ a1&a11 ^ a1&a12 ^ a1&a7 ^ a1&a8 ^ a11&a4 ^ a11&a5 ^ a11&a8 ^ a12&a3 ^ a12&a5 ^ a12&a7 ^ a3&a5 ^ a3&a8 ^ a3&a9 ^ a4&a5 ^ a4&a7 ^ a4&a9 ^ a7&a9 ^ a8&a9]&[~a10 ^ a5 ^ a6 ^ a7 ^ a9 ^ a10&a7 ^ a11&a5 ^ a11&a6 ^ a7&a9]&[~a1 ^ a2 ^ a4 ^ a5 ^ a7 ^ a8 ^ a1&a6 ^ a1&a7 ^ a2&a5 ^ a2&a7 ^ a2&a8 ^ a3&a5 ^ a3&a6 ^ a3&a8 ^ a4&a6 ^ a4&a7]&[~a1 ^ a10 ^ a4 ^ a6 ^ a8 ^ a9 ^ a1&a10 ^ a1&a12 ^ a1&a6 ^ a1&a8 ^ a10&a4 ^ a10&a5 ^ a10&a8 ^ a12&a2 ^ a12&a5 ^ a12&a6 ^ a2&a5 ^ a2&a8 ^ a2&a9 ^ a4&a5 ^ a4&a6 ^ a4&a9 ^ a6&a9 ^ a8&a9]'"
            ],
            "application/vnd.google.colaboratory.intrinsic+json": {
              "type": "string"
            }
          },
          "metadata": {},
          "execution_count": 4
        }
      ]
    },
    {
      "cell_type": "code",
      "source": [
        "sc4x4 = Polynomial1(Equations(A))\n",
        "print(sc4x4.count(\"&\"))\n",
        "print(sc4x4.count(\"^\"))\n",
        "print(sc4x4.count(\"~\"))"
      ],
      "metadata": {
        "colab": {
          "base_uri": "https://localhost:8080/"
        },
        "id": "S2ziYs25pLpc",
        "outputId": "03680c39-fec8-4beb-9d6d-7afb304206f3"
      },
      "execution_count": null,
      "outputs": [
        {
          "output_type": "stream",
          "name": "stdout",
          "text": [
            "137\n",
            "162\n",
            "9\n"
          ]
        }
      ]
    },
    {
      "cell_type": "code",
      "source": [],
      "metadata": {
        "id": "fzqEyLMYpLtA"
      },
      "execution_count": null,
      "outputs": []
    },
    {
      "cell_type": "code",
      "source": [
        "from qiskit.circuit import classical_function,  Int1\n",
        "@classical_function\n",
        "def grover_oracle(a4: Int1, a5: Int1, a6: Int1, a7: Int1, a8: Int1, a9: Int1, a10: Int1, a11: Int1, a12:Int1, a13: Int1, a14: Int1, a15:Int1) -> Int1:\n",
        "    return (a10&a13 ^ a12&a9 ^ a13&a8 ^ a14&a9)&(a4&a9 ^ a5&a8)&(a10&a13 ^ a10&a5 ^ a11&a13 ^ a11&a5 ^ a13&a6 ^ a13&a7 ^ a14&a5 ^ a14&a9 ^ a15&a5 ^ a15&a9 ^ a6&a9 ^ a7&a9)&(a10&a13 ^ a10&a15 ^ a11&a14 ^ a11 ^ a14&a9 ^ a14  ^ (not a9))&(a10&a4 ^ a11&a4 ^ a4&a9 ^ a4 ^ a5&a8 ^ a5 ^ a6&a8 ^ a6 ^ a7&a8 ^ a7 ^ (not a8))&(a10&a12 ^ a10&a13 ^ a10&a15 ^ a10&a4 ^ a10&a5 ^ a10&a7 ^ a11&a13 ^ a11&a14  ^ a11&a5 ^ a11&a6 ^ a11 ^ a12&a5 ^ a12&a6 ^ a12&a9 ^ a13&a4 ^ a13&a6 ^ a13&a7 ^ a13&a8 ^ a13 ^ a14&a4 ^ a14&a5 ^ a14&a7 ^ a14&a8 ^ a14&a9 ^ a14 ^ a15&a5 ^ a15&a6  ^ a15&a9 ^ a4&a9 ^ a4 ^ a5&a8 ^ a6&a8 ^ a6&a9 ^ a6 ^ a7&a9 ^ a7 ^ a8 ^ (not a9)&(a10&a12 ^ a10&a13 ^ a10&a15 ^ a10 ^ a11&a13 ^ a11&a14 ^ a12&a9 ^ a12 ^ a13&a8 ^ a13 ^ a14&a8 ^ a14&a9 ^ a15&a9 ^ a15 ^ (not a9) )&(a10&a5 ^ a10&a7 ^ a11&a4 ^ a11&a6 ^ a11 ^ a4&a9 ^ a4 ^ a5&a8 ^ a6&a9 ^ a6 ^ a7&a8 ^ (not a9))&(a10&a12 ^ a10&a15 ^ a10&a4 ^ a10&a7 ^ a10 ^ a11&a12 ^ a11&a14 ^ a11&a4 ^ a11&a6 ^ a11 ^ a12&a6 ^ a12&a7 ^ a12 ^ a14&a4 ^ a14&a7 ^ a14&a8 ^ a15&a4 ^ a15&a6 ^ a15&a8 ^ a15 ^ a4 ^ a6&a8 ^ (not a6) ^a7&a8)&(a10&a12 ^ a10&a13 ^ a10 ^ a12 ^ a13 ^ a14&a8 ^ a14&a9 ^ a8 ^ (not a9) )&(a10&a4 ^ a10&a5 ^ a10&a7 ^ a10 ^ a11&a5 ^ a11&a6 ^ a11 ^ a4&a9 ^ a4 ^ a5&a8 ^ a5 ^ a6&a8 ^ a6&a9 ^ a7&a9 ^ a7 ^ (not a8))&(a11&a12 ^ a11&a13 ^ a11&a4 ^ a11&a5 ^ a11 ^ a12&a5 ^ a12&a7 ^ a12&a9 ^ a12 ^ a13&a4 ^ a13&a7 ^ a13&a8 ^ a13 ^ a15&a4 ^ a15&a5 ^ a15&a8 ^ a15&a9 ^ a4&a9 ^ a4 ^ a5&a8 ^ a7&a8 ^ a7&a9 ^ a7 ^ (not a9)))\n",
        "quantum_circuitc4 = grover_oracle.synth()\n",
        "quantum_circuitc4.draw()"
      ],
      "metadata": {
        "colab": {
          "base_uri": "https://localhost:8080/",
          "height": 1000
        },
        "id": "2xQw-KX2NvWx",
        "outputId": "ab0420a2-eb8a-4ae0-f97c-07f05c0abe07"
      },
      "execution_count": null,
      "outputs": [
        {
          "output_type": "stream",
          "name": "stderr",
          "text": [
            "<ipython-input-20-e1b5d020ca72>:1: DeprecationWarning: Accessing 'classical_function' from 'qiskit.circuit' is deprecated since Qiskit Terra 0.22 and will be removed in 0.23.  Import from 'qiskit.circuit.classicalfunction' instead. This will require installing 'tweedledum' as an optional dependency from Terra 0.23.\n",
            "  from qiskit.circuit import classical_function,  Int1\n",
            "<ipython-input-20-e1b5d020ca72>:1: DeprecationWarning: Accessing 'Int1' from 'qiskit.circuit' is deprecated since Qiskit Terra 0.22 and will be removed in 0.23.  Import from 'qiskit.circuit.classicalfunction.types' instead. This will require installing 'tweedledum' as an optional dependency from Terra 0.23.\n",
            "  from qiskit.circuit import classical_function,  Int1\n"
          ]
        },
        {
          "output_type": "execute_result",
          "data": {
            "text/plain": [
              "                                                                            »\n",
              " q_0: ──■────■────■────■────■────■────■────o────■────■────■────■────o────■──»\n",
              "        │    │    │    │    │    │    │    │    │    │    │    │    │    │  »\n",
              " q_1: ──■────■────■────■────■────■────■────o────o────o────o────■────o────■──»\n",
              "        │    │    │    │    │    │    │    │    │    │    │    │    │    │  »\n",
              " q_2: ──■────■────■────■────■────o────o────■────■────■────■────o────■────■──»\n",
              "        │    │    │    │    │    │    │    │    │    │    │    │    │    │  »\n",
              " q_3: ──■────■────■────■────o────■────o────o────■────■────■────o────■────■──»\n",
              "        │    │    │    │    │    │    │    │    │    │    │    │    │    │  »\n",
              " q_4: ──o────o────o────o────o────■────o────■────■────■────o────■────o────o──»\n",
              "        │    │    │    │    │    │    │    │    │    │    │    │    │    │  »\n",
              " q_5: ──o────o────o────┼────■────o────■────o────■────┼────■────o────■────■──»\n",
              "        │    │    │    │    │    │    │    │    │    │    │    │    │    │  »\n",
              " q_6: ──■────■────■────■────■────o────■────■────┼────■────■────o────o────┼──»\n",
              "        │    │    │    │    │    │    │    │    │    │    │    │    │    │  »\n",
              " q_7: ──┼────┼────┼────┼────■────o────o────o────■────o────■────o────┼────■──»\n",
              "        │    │    │    │    │    │    │    │    │    │    │    │    │    │  »\n",
              " q_8: ──o────o────┼────■────■────■────o────■────o────o────o────o────o────■──»\n",
              "        │    │    │    │    │    │    │    │    │    │    │    │    │    │  »\n",
              " q_9: ──■────┼────o────o────o────■────o────■────■────■────■────■────■────o──»\n",
              "        │    │    │    │    │    │    │    │    │    │    │    │    │    │  »\n",
              "q_10: ──■────o────o────o────o────o────■────o────o────o────o────o────o────o──»\n",
              "        │    │    │    │    │    │    │    │    │    │    │    │    │    │  »\n",
              "q_11: ──o────■────■────■────o────o────■────o────o────o────┼────■────o────■──»\n",
              "      ┌─┴─┐┌─┴─┐┌─┴─┐┌─┴─┐┌─┴─┐┌─┴─┐┌─┴─┐┌─┴─┐┌─┴─┐┌─┴─┐┌─┴─┐┌─┴─┐┌─┴─┐┌─┴─┐»\n",
              "q_12: ┤ X ├┤ X ├┤ X ├┤ X ├┤ X ├┤ X ├┤ X ├┤ X ├┤ X ├┤ X ├┤ X ├┤ X ├┤ X ├┤ X ├»\n",
              "      └───┘└───┘└───┘└───┘└───┘└───┘└───┘└───┘└───┘└───┘└───┘└───┘└───┘└───┘»\n",
              "«                                                                            »\n",
              "« q_0: ──o────o────■────■────■────■────■────o────o────o────■────o────o────■──»\n",
              "«        │    │    │    │    │    │    │    │    │    │    │    │    │    │  »\n",
              "« q_1: ──o────o────o────o────■────o────o────o────o────o────o────o────o────o──»\n",
              "«        │    │    │    │    │    │    │    │    │    │    │    │    │    │  »\n",
              "« q_2: ──■────■────■────■────■────■────■────■────■────■────■────■────■────■──»\n",
              "«        │    │    │    │    │    │    │    │    │    │    │    │    │    │  »\n",
              "« q_3: ──o────o────o────■────o────┼────┼────■────┼────┼────┼────■────┼────┼──»\n",
              "«        │    │    │    │    │    │    │    │    │    │    │    │    │    │  »\n",
              "« q_4: ──o────o────o────o────■────■────■────■────o────o────o────o────o────o──»\n",
              "«        │    │    │    │    │    │    │    │    │    │    │    │    │    │  »\n",
              "« q_5: ──■────■────┼────┼────o────┼────┼────o────o────■────┼────o────o────┼──»\n",
              "«        │    │    │    │    │    │    │    │    │    │    │    │    │    │  »\n",
              "« q_6: ──┼────┼────o────o────o────■────o────■────o────┼────o────o────o────o──»\n",
              "«        │    │    │    │    │    │    │    │    │    │    │    │    │    │  »\n",
              "« q_7: ──┼────┼────┼────■────o────o────o────o────┼────■────■────o────┼────■──»\n",
              "«        │    │    │    │    │    │    │    │    │    │    │    │    │    │  »\n",
              "« q_8: ──o────o────o────o────┼────■────o────┼────o────o────o────o────o────o──»\n",
              "«        │    │    │    │    │    │    │    │    │    │    │    │    │    │  »\n",
              "« q_9: ──┼────■────o────o────■────■────■────■────■────■────■────o────■────■──»\n",
              "«        │    │    │    │    │    │    │    │    │    │    │    │    │    │  »\n",
              "«q_10: ──■────┼────■────■────o────o────o────o────■────o────┼────■────┼────■──»\n",
              "«        │    │    │    │    │    │    │    │    │    │    │    │    │    │  »\n",
              "«q_11: ──■────o────■────■────o────o────o────o────┼────o────o────■────o────┼──»\n",
              "«      ┌─┴─┐┌─┴─┐┌─┴─┐┌─┴─┐┌─┴─┐┌─┴─┐┌─┴─┐┌─┴─┐┌─┴─┐┌─┴─┐┌─┴─┐┌─┴─┐┌─┴─┐┌─┴─┐»\n",
              "«q_12: ┤ X ├┤ X ├┤ X ├┤ X ├┤ X ├┤ X ├┤ X ├┤ X ├┤ X ├┤ X ├┤ X ├┤ X ├┤ X ├┤ X ├»\n",
              "«      └───┘└───┘└───┘└───┘└───┘└───┘└───┘└───┘└───┘└───┘└───┘└───┘└───┘└───┘»\n",
              "«                                                                            »\n",
              "« q_0: ──■────■────■─────────o────■───────────────────o──────────────────────»\n",
              "«        │    │    │         │    │                   │                      »\n",
              "« q_1: ──o────o────■─────────o────o────o────o────o────o────o────o────o────o──»\n",
              "«        │    │    │         │    │    │    │    │    │    │    │    │    │  »\n",
              "« q_2: ──o────■────■────■────■────■────■────■────■────■────■────■────■────■──»\n",
              "«        │    │    │    │    │    │    │    │    │    │    │    │    │    │  »\n",
              "« q_3: ──■────┼────■────■────o────┼────┼────┼────┼────┼────┼────■────┼────■──»\n",
              "«        │    │    │    │    │    │    │    │    │    │    │    │    │    │  »\n",
              "« q_4: ──■────┼────o────o────o────o────o────o────o────o────o────o────■────o──»\n",
              "«        │    │    │    │    │    │    │    │    │    │    │    │    │    │  »\n",
              "« q_5: ──■────┼────o────o────■────┼────┼────o────o────o────o────o────o────o──»\n",
              "«        │    │    │    │    │    │    │    │    │    │    │    │    │    │  »\n",
              "« q_6: ──o────o────■────■────┼────o────┼────■────■────o────■────■────┼────■──»\n",
              "«        │    │    │    │    │    │    │    │    │    │    │    │    │    │  »\n",
              "« q_7: ──■────┼────┼────┼────┼────■────o────o────o────■────o────┼────■────■──»\n",
              "«        │    │    │    │    │    │    │    │    │    │    │    │    │    │  »\n",
              "« q_8: ──┼────o────o────o────o────o────o────o────o────o────o────o────o────o──»\n",
              "«        │    │    │    │    │    │    │    │    │    │    │    │    │    │  »\n",
              "« q_9: ──■────■────■────■────■────┼────■────■────■────o────┼────■────■────o──»\n",
              "«        │    │    │    │    │    │    │    │    │    │    │    │    │    │  »\n",
              "«q_10: ──o────o────┼────■────■────■────o────┼────■────■────■────┼────o────■──»\n",
              "«        │    │    │    │    │    │    │    │    │    │    │    │    │    │  »\n",
              "«q_11: ──o────o────■────┼────┼────■────o────o────┼────■────■────o────o────■──»\n",
              "«      ┌─┴─┐┌─┴─┐┌─┴─┐┌─┴─┐┌─┴─┐┌─┴─┐┌─┴─┐┌─┴─┐┌─┴─┐┌─┴─┐┌─┴─┐┌─┴─┐┌─┴─┐┌─┴─┐»\n",
              "«q_12: ┤ X ├┤ X ├┤ X ├┤ X ├┤ X ├┤ X ├┤ X ├┤ X ├┤ X ├┤ X ├┤ X ├┤ X ├┤ X ├┤ X ├»\n",
              "«      └───┘└───┘└───┘└───┘└───┘└───┘└───┘└───┘└───┘└───┘└───┘└───┘└───┘└───┘»\n",
              "«                                                                       \n",
              "« q_0: ──o─────────o────o──────────────■────o────■────o─────────────────\n",
              "«        │         │    │              │    │    │    │                 \n",
              "« q_1: ──o────o────o────o────o────o────■────o────o────■────o────o────o──\n",
              "«        │    │    │    │    │    │    │    │    │    │    │    │    │  \n",
              "« q_2: ──■────■────■────■────■────■────■────■────o────■────■────■────■──\n",
              "«        │    │    │    │    │    │    │    │    │    │    │    │    │  \n",
              "« q_3: ──■────■────o────┼────■────■────■────┼────■────■────o────o────o──\n",
              "«        │    │    │    │    │    │    │    │    │    │    │    │    │  \n",
              "« q_4: ──■────┼────o────┼────o────■────■────o────■────o────■────o────■──\n",
              "«        │    │    │    │    │    │    │    │    │    │    │    │    │  \n",
              "« q_5: ──■────┼────■────o────o────o────o────o────■────o────o────┼────o──\n",
              "«        │    │    │    │    │    │    │    │    │    │    │    │    │  \n",
              "« q_6: ──■────■────┼────o────■────■────o────o────o────■────■────┼────■──\n",
              "«        │    │    │    │    │    │    │    │    │    │    │    │    │  \n",
              "« q_7: ──┼────┼────■────■────┼────o────o────┼────■────┼────■────o────┼──\n",
              "«        │    │    │    │    │    │    │    │    │    │    │    │    │  \n",
              "« q_8: ──o────o────o────o────o────■────┼────o────■────o────┼────o────■──\n",
              "«        │    │    │    │    │    │    │    │    │    │    │    │    │  \n",
              "« q_9: ──■────■────o────■────┼────■────■────┼────┼────■────■────o────■──\n",
              "«        │    │    │    │    │    │    │    │    │    │    │    │    │  \n",
              "«q_10: ──o────o────■────o────■────o────o────■────o────■────o────■────o──\n",
              "«        │    │    │    │    │    │    │    │    │    │    │    │    │  \n",
              "«q_11: ──o────o────■────o────■────o────■────■────o────┼────o────■────o──\n",
              "«      ┌─┴─┐┌─┴─┐┌─┴─┐┌─┴─┐┌─┴─┐┌─┴─┐┌─┴─┐┌─┴─┐┌─┴─┐┌─┴─┐┌─┴─┐┌─┴─┐┌─┴─┐\n",
              "«q_12: ┤ X ├┤ X ├┤ X ├┤ X ├┤ X ├┤ X ├┤ X ├┤ X ├┤ X ├┤ X ├┤ X ├┤ X ├┤ X ├\n",
              "«      └───┘└───┘└───┘└───┘└───┘└───┘└───┘└───┘└───┘└───┘└───┘└───┘└───┘"
            ],
            "text/html": [
              "<pre style=\"word-wrap: normal;white-space: pre;background: #fff0;line-height: 1.1;font-family: &quot;Courier New&quot;,Courier,monospace\">                                                                            »\n",
              " q_0: ──■────■────■────■────■────■────■────o────■────■────■────■────o────■──»\n",
              "        │    │    │    │    │    │    │    │    │    │    │    │    │    │  »\n",
              " q_1: ──■────■────■────■────■────■────■────o────o────o────o────■────o────■──»\n",
              "        │    │    │    │    │    │    │    │    │    │    │    │    │    │  »\n",
              " q_2: ──■────■────■────■────■────o────o────■────■────■────■────o────■────■──»\n",
              "        │    │    │    │    │    │    │    │    │    │    │    │    │    │  »\n",
              " q_3: ──■────■────■────■────o────■────o────o────■────■────■────o────■────■──»\n",
              "        │    │    │    │    │    │    │    │    │    │    │    │    │    │  »\n",
              " q_4: ──o────o────o────o────o────■────o────■────■────■────o────■────o────o──»\n",
              "        │    │    │    │    │    │    │    │    │    │    │    │    │    │  »\n",
              " q_5: ──o────o────o────┼────■────o────■────o────■────┼────■────o────■────■──»\n",
              "        │    │    │    │    │    │    │    │    │    │    │    │    │    │  »\n",
              " q_6: ──■────■────■────■────■────o────■────■────┼────■────■────o────o────┼──»\n",
              "        │    │    │    │    │    │    │    │    │    │    │    │    │    │  »\n",
              " q_7: ──┼────┼────┼────┼────■────o────o────o────■────o────■────o────┼────■──»\n",
              "        │    │    │    │    │    │    │    │    │    │    │    │    │    │  »\n",
              " q_8: ──o────o────┼────■────■────■────o────■────o────o────o────o────o────■──»\n",
              "        │    │    │    │    │    │    │    │    │    │    │    │    │    │  »\n",
              " q_9: ──■────┼────o────o────o────■────o────■────■────■────■────■────■────o──»\n",
              "        │    │    │    │    │    │    │    │    │    │    │    │    │    │  »\n",
              "q_10: ──■────o────o────o────o────o────■────o────o────o────o────o────o────o──»\n",
              "        │    │    │    │    │    │    │    │    │    │    │    │    │    │  »\n",
              "q_11: ──o────■────■────■────o────o────■────o────o────o────┼────■────o────■──»\n",
              "      ┌─┴─┐┌─┴─┐┌─┴─┐┌─┴─┐┌─┴─┐┌─┴─┐┌─┴─┐┌─┴─┐┌─┴─┐┌─┴─┐┌─┴─┐┌─┴─┐┌─┴─┐┌─┴─┐»\n",
              "q_12: ┤ X ├┤ X ├┤ X ├┤ X ├┤ X ├┤ X ├┤ X ├┤ X ├┤ X ├┤ X ├┤ X ├┤ X ├┤ X ├┤ X ├»\n",
              "      └───┘└───┘└───┘└───┘└───┘└───┘└───┘└───┘└───┘└───┘└───┘└───┘└───┘└───┘»\n",
              "«                                                                            »\n",
              "« q_0: ──o────o────■────■────■────■────■────o────o────o────■────o────o────■──»\n",
              "«        │    │    │    │    │    │    │    │    │    │    │    │    │    │  »\n",
              "« q_1: ──o────o────o────o────■────o────o────o────o────o────o────o────o────o──»\n",
              "«        │    │    │    │    │    │    │    │    │    │    │    │    │    │  »\n",
              "« q_2: ──■────■────■────■────■────■────■────■────■────■────■────■────■────■──»\n",
              "«        │    │    │    │    │    │    │    │    │    │    │    │    │    │  »\n",
              "« q_3: ──o────o────o────■────o────┼────┼────■────┼────┼────┼────■────┼────┼──»\n",
              "«        │    │    │    │    │    │    │    │    │    │    │    │    │    │  »\n",
              "« q_4: ──o────o────o────o────■────■────■────■────o────o────o────o────o────o──»\n",
              "«        │    │    │    │    │    │    │    │    │    │    │    │    │    │  »\n",
              "« q_5: ──■────■────┼────┼────o────┼────┼────o────o────■────┼────o────o────┼──»\n",
              "«        │    │    │    │    │    │    │    │    │    │    │    │    │    │  »\n",
              "« q_6: ──┼────┼────o────o────o────■────o────■────o────┼────o────o────o────o──»\n",
              "«        │    │    │    │    │    │    │    │    │    │    │    │    │    │  »\n",
              "« q_7: ──┼────┼────┼────■────o────o────o────o────┼────■────■────o────┼────■──»\n",
              "«        │    │    │    │    │    │    │    │    │    │    │    │    │    │  »\n",
              "« q_8: ──o────o────o────o────┼────■────o────┼────o────o────o────o────o────o──»\n",
              "«        │    │    │    │    │    │    │    │    │    │    │    │    │    │  »\n",
              "« q_9: ──┼────■────o────o────■────■────■────■────■────■────■────o────■────■──»\n",
              "«        │    │    │    │    │    │    │    │    │    │    │    │    │    │  »\n",
              "«q_10: ──■────┼────■────■────o────o────o────o────■────o────┼────■────┼────■──»\n",
              "«        │    │    │    │    │    │    │    │    │    │    │    │    │    │  »\n",
              "«q_11: ──■────o────■────■────o────o────o────o────┼────o────o────■────o────┼──»\n",
              "«      ┌─┴─┐┌─┴─┐┌─┴─┐┌─┴─┐┌─┴─┐┌─┴─┐┌─┴─┐┌─┴─┐┌─┴─┐┌─┴─┐┌─┴─┐┌─┴─┐┌─┴─┐┌─┴─┐»\n",
              "«q_12: ┤ X ├┤ X ├┤ X ├┤ X ├┤ X ├┤ X ├┤ X ├┤ X ├┤ X ├┤ X ├┤ X ├┤ X ├┤ X ├┤ X ├»\n",
              "«      └───┘└───┘└───┘└───┘└───┘└───┘└───┘└───┘└───┘└───┘└───┘└───┘└───┘└───┘»\n",
              "«                                                                            »\n",
              "« q_0: ──■────■────■─────────o────■───────────────────o──────────────────────»\n",
              "«        │    │    │         │    │                   │                      »\n",
              "« q_1: ──o────o────■─────────o────o────o────o────o────o────o────o────o────o──»\n",
              "«        │    │    │         │    │    │    │    │    │    │    │    │    │  »\n",
              "« q_2: ──o────■────■────■────■────■────■────■────■────■────■────■────■────■──»\n",
              "«        │    │    │    │    │    │    │    │    │    │    │    │    │    │  »\n",
              "« q_3: ──■────┼────■────■────o────┼────┼────┼────┼────┼────┼────■────┼────■──»\n",
              "«        │    │    │    │    │    │    │    │    │    │    │    │    │    │  »\n",
              "« q_4: ──■────┼────o────o────o────o────o────o────o────o────o────o────■────o──»\n",
              "«        │    │    │    │    │    │    │    │    │    │    │    │    │    │  »\n",
              "« q_5: ──■────┼────o────o────■────┼────┼────o────o────o────o────o────o────o──»\n",
              "«        │    │    │    │    │    │    │    │    │    │    │    │    │    │  »\n",
              "« q_6: ──o────o────■────■────┼────o────┼────■────■────o────■────■────┼────■──»\n",
              "«        │    │    │    │    │    │    │    │    │    │    │    │    │    │  »\n",
              "« q_7: ──■────┼────┼────┼────┼────■────o────o────o────■────o────┼────■────■──»\n",
              "«        │    │    │    │    │    │    │    │    │    │    │    │    │    │  »\n",
              "« q_8: ──┼────o────o────o────o────o────o────o────o────o────o────o────o────o──»\n",
              "«        │    │    │    │    │    │    │    │    │    │    │    │    │    │  »\n",
              "« q_9: ──■────■────■────■────■────┼────■────■────■────o────┼────■────■────o──»\n",
              "«        │    │    │    │    │    │    │    │    │    │    │    │    │    │  »\n",
              "«q_10: ──o────o────┼────■────■────■────o────┼────■────■────■────┼────o────■──»\n",
              "«        │    │    │    │    │    │    │    │    │    │    │    │    │    │  »\n",
              "«q_11: ──o────o────■────┼────┼────■────o────o────┼────■────■────o────o────■──»\n",
              "«      ┌─┴─┐┌─┴─┐┌─┴─┐┌─┴─┐┌─┴─┐┌─┴─┐┌─┴─┐┌─┴─┐┌─┴─┐┌─┴─┐┌─┴─┐┌─┴─┐┌─┴─┐┌─┴─┐»\n",
              "«q_12: ┤ X ├┤ X ├┤ X ├┤ X ├┤ X ├┤ X ├┤ X ├┤ X ├┤ X ├┤ X ├┤ X ├┤ X ├┤ X ├┤ X ├»\n",
              "«      └───┘└───┘└───┘└───┘└───┘└───┘└───┘└───┘└───┘└───┘└───┘└───┘└───┘└───┘»\n",
              "«                                                                       \n",
              "« q_0: ──o─────────o────o──────────────■────o────■────o─────────────────\n",
              "«        │         │    │              │    │    │    │                 \n",
              "« q_1: ──o────o────o────o────o────o────■────o────o────■────o────o────o──\n",
              "«        │    │    │    │    │    │    │    │    │    │    │    │    │  \n",
              "« q_2: ──■────■────■────■────■────■────■────■────o────■────■────■────■──\n",
              "«        │    │    │    │    │    │    │    │    │    │    │    │    │  \n",
              "« q_3: ──■────■────o────┼────■────■────■────┼────■────■────o────o────o──\n",
              "«        │    │    │    │    │    │    │    │    │    │    │    │    │  \n",
              "« q_4: ──■────┼────o────┼────o────■────■────o────■────o────■────o────■──\n",
              "«        │    │    │    │    │    │    │    │    │    │    │    │    │  \n",
              "« q_5: ──■────┼────■────o────o────o────o────o────■────o────o────┼────o──\n",
              "«        │    │    │    │    │    │    │    │    │    │    │    │    │  \n",
              "« q_6: ──■────■────┼────o────■────■────o────o────o────■────■────┼────■──\n",
              "«        │    │    │    │    │    │    │    │    │    │    │    │    │  \n",
              "« q_7: ──┼────┼────■────■────┼────o────o────┼────■────┼────■────o────┼──\n",
              "«        │    │    │    │    │    │    │    │    │    │    │    │    │  \n",
              "« q_8: ──o────o────o────o────o────■────┼────o────■────o────┼────o────■──\n",
              "«        │    │    │    │    │    │    │    │    │    │    │    │    │  \n",
              "« q_9: ──■────■────o────■────┼────■────■────┼────┼────■────■────o────■──\n",
              "«        │    │    │    │    │    │    │    │    │    │    │    │    │  \n",
              "«q_10: ──o────o────■────o────■────o────o────■────o────■────o────■────o──\n",
              "«        │    │    │    │    │    │    │    │    │    │    │    │    │  \n",
              "«q_11: ──o────o────■────o────■────o────■────■────o────┼────o────■────o──\n",
              "«      ┌─┴─┐┌─┴─┐┌─┴─┐┌─┴─┐┌─┴─┐┌─┴─┐┌─┴─┐┌─┴─┐┌─┴─┐┌─┴─┐┌─┴─┐┌─┴─┐┌─┴─┐\n",
              "«q_12: ┤ X ├┤ X ├┤ X ├┤ X ├┤ X ├┤ X ├┤ X ├┤ X ├┤ X ├┤ X ├┤ X ├┤ X ├┤ X ├\n",
              "«      └───┘└───┘└───┘└───┘└───┘└───┘└───┘└───┘└───┘└───┘└───┘└───┘└───┘</pre>"
            ]
          },
          "metadata": {},
          "execution_count": 20
        }
      ]
    },
    {
      "cell_type": "code",
      "source": [
        "from qiskit import Aer\n",
        "from qiskit import QuantumCircuit, QuantumRegister, ClassicalRegister, transpile, assemble\n",
        "import random\n",
        "from qiskit.circuit.library.standard_gates.x import XGate, MCXGate"
      ],
      "metadata": {
        "id": "Yy8pxiAWDOgi"
      },
      "execution_count": null,
      "outputs": []
    },
    {
      "cell_type": "code",
      "source": [
        "def diffuser(nqubits):\n",
        "    qc = QuantumCircuit(nqubits)\n",
        "    # Apply transformation |s> -> |00..0> (H-gates)\n",
        "    for qubit in range(nqubits):\n",
        "        qc.h(qubit)\n",
        "    # Apply transformation |00..0> -> |11..1> (X-gates)\n",
        "    for qubit in range(nqubits):\n",
        "        qc.x(qubit)\n",
        "    # Do multi-controlled-Z gate\n",
        "    qc.h(nqubits-1)\n",
        "    qc.mct(list(range(nqubits-1)), nqubits-1)  # multi-controlled-toffoli\n",
        "    qc.h(nqubits-1)\n",
        "    # Apply transformation |11..1> -> |00..0>\n",
        "    for qubit in range(nqubits):\n",
        "        qc.x(qubit)\n",
        "    # Apply transformation |00..0> -> |s>\n",
        "    for qubit in range(nqubits):\n",
        "        qc.h(qubit)\n",
        "    # We will return the diffuser as a gate\n",
        "    U_s = qc.to_gate()\n",
        "    U_s.name = \"U_s\"\n",
        "    return U_s"
      ],
      "metadata": {
        "id": "Sz4PrIpGDOnK"
      },
      "execution_count": null,
      "outputs": []
    },
    {
      "cell_type": "code",
      "source": [
        "def quantum_procedure(creg,qreg):\n",
        "  qc14 = QuantumCircuit(qreg,creg)\n",
        "  # Initialize qubits in state |s>\n",
        "  qc14.x(12)\n",
        "  qc14.h(range(13))\n",
        "  qc14.barrier()\n",
        "  test_list = []\n",
        "  for j in range(63):\n",
        "      test_list.append(j)\n",
        "  # using random.choice() to\n",
        "  # get a random number\n",
        "  random_num = random.choice(test_list)\n",
        "\n",
        "  for j in range(random_num):\n",
        "      qc14.compose(quantum_circuitc4, inplace = True)\n",
        "      qc14.append(diffuser(12), range(12))\n",
        "  qc14.barrier()\n",
        "  qc14.h(12)\n",
        "  qc14.measure(range(12), range(12))\n",
        "  #print(qc14.draw(fold=-1))\n",
        "  aer_sim = Aer.get_backend('aer_simulator')\n",
        "  transpiled_qc14 = transpile(qc14, aer_sim)\n",
        "  qobj4 = assemble(transpiled_qc14)\n",
        "  results4 = aer_sim.run(qobj4,shots = 1).result()\n",
        "  counts4 = results4.get_counts()\n",
        "  dictionary_to_value(counts4)\n",
        "  return(dictionary_to_value(counts4),random_num)"
      ],
      "metadata": {
        "id": "-4n00MKPDOq6"
      },
      "execution_count": null,
      "outputs": []
    },
    {
      "cell_type": "code",
      "source": [
        "def oracle_one_solution(x):\n",
        "  qreg = QuantumRegister(13)\n",
        "  creg = ClassicalRegister(12)\n",
        "  qc = QuantumCircuit(qreg11,creg11)\n",
        "  control = MCXGate(12, None, x)\n",
        "  qc.append(control, [0, 1, 2, 3, 4 ,5 ,6, 7, 8, 9, 10, 11, 12])\n",
        "  #print(qc.draw())\n",
        "  return(qc)"
      ],
      "metadata": {
        "id": "I6zAecCpDOtx"
      },
      "execution_count": null,
      "outputs": []
    },
    {
      "cell_type": "code",
      "source": [
        "def dictionary_to_value(x):\n",
        "  for i in x.keys():\n",
        "    return(i)"
      ],
      "metadata": {
        "id": "X0GxNFXGDx-z"
      },
      "execution_count": null,
      "outputs": []
    },
    {
      "cell_type": "code",
      "source": [
        "qreg11 = QuantumRegister(13)\n",
        "creg11 = ClassicalRegister(12)\n",
        "quantum_procedure(creg11,qreg11)"
      ],
      "metadata": {
        "colab": {
          "base_uri": "https://localhost:8080/"
        },
        "id": "c9-pAbArDyBq",
        "outputId": "07d2edcd-8d56-461b-d931-040387127fb4"
      },
      "execution_count": null,
      "outputs": [
        {
          "output_type": "stream",
          "name": "stderr",
          "text": [
            "<ipython-input-10-0630d986ce59>:11: DeprecationWarning: The method ``qiskit.circuit.quantumcircuit.QuantumCircuit.mct()`` is deprecated as of qiskit 0.45.0. It will be removed no earlier than 3 months after the release date. Use QuantumCircuit.mcx as direct replacement.\n",
            "  qc.mct(list(range(nqubits-1)), nqubits-1)  # multi-controlled-toffoli\n",
            "<ipython-input-21-ff4baa89d700>:24: DeprecationWarning: Using a qobj for run() is deprecated as of qiskit-aer 0.9.0 and will be removed no sooner than 3 months from that release date. Transpiled circuits should now be passed directly using `backend.run(circuits, **run_options).\n",
            "  results4 = aer_sim.run(qobj4,shots = 1).result()\n"
          ]
        },
        {
          "output_type": "execute_result",
          "data": {
            "text/plain": [
              "('000111100111', 4)"
            ]
          },
          "metadata": {},
          "execution_count": 24
        }
      ]
    },
    {
      "cell_type": "code",
      "source": [
        "def is_a_solution(x,y):\n",
        "  a = []\n",
        "  for item in x:\n",
        "    a.append(item)\n",
        "  A1 = Matrix([[1, 0, 0, 0],[0, 1, 0 ,0],[0, 0, 1 , 0],[0,0,0,1] ])\n",
        "  A2 = Matrix([[0, 0, 0, 1],[1, 0, 0 ,0],[0, 1, 0 , 1],[0,0,1,0] ])\n",
        "  A3 = Matrix([[0, 0, a[11], a[7]],[0, 0, a[10] ,a[6]],[1, 0, a[9] , a[5]],[0,1,a[8],a[4]] ])\n",
        "  A4 = Matrix([[0, 1, a[7], a[3]],[0, 0, a[6] ,a[2]],[0, 1, a[5] , a[1]],[1,0,a[4],a[0]] ])\n",
        "  aC41=[]\n",
        "  A=[]\n",
        "  for i in range(0,16):\n",
        "      aC41.append('{0:04b}'.format(i))\n",
        "      M=int(aC41[i][0])*A1+int(aC41[i][1])*A2+int(aC41[i][2])*A3 +int(aC41[i][3])*A4\n",
        "      A.append(M.det())\n",
        "  return(all(v == 0 for v in A),x,y)"
      ],
      "metadata": {
        "id": "8na0xZuUDyEa"
      },
      "execution_count": null,
      "outputs": []
    },
    {
      "cell_type": "code",
      "source": [
        "is_a_solution(quantum_procedure(creg11,qreg11)[0], quantum_procedure(creg11,qreg11)[1])"
      ],
      "metadata": {
        "colab": {
          "base_uri": "https://localhost:8080/"
        },
        "id": "nTsMHpHhDyMD",
        "outputId": "26c2beba-a4de-4083-9b6d-8975e4ee6e2a"
      },
      "execution_count": null,
      "outputs": [
        {
          "output_type": "stream",
          "name": "stderr",
          "text": [
            "<ipython-input-10-0630d986ce59>:11: DeprecationWarning: The method ``qiskit.circuit.quantumcircuit.QuantumCircuit.mct()`` is deprecated as of qiskit 0.45.0. It will be removed no earlier than 3 months after the release date. Use QuantumCircuit.mcx as direct replacement.\n",
            "  qc.mct(list(range(nqubits-1)), nqubits-1)  # multi-controlled-toffoli\n",
            "<ipython-input-21-ff4baa89d700>:24: DeprecationWarning: Using a qobj for run() is deprecated as of qiskit-aer 0.9.0 and will be removed no sooner than 3 months from that release date. Transpiled circuits should now be passed directly using `backend.run(circuits, **run_options).\n",
            "  results4 = aer_sim.run(qobj4,shots = 1).result()\n"
          ]
        },
        {
          "output_type": "execute_result",
          "data": {
            "text/plain": [
              "(False, '011001001100', 61)"
            ]
          },
          "metadata": {},
          "execution_count": 43
        }
      ]
    },
    {
      "cell_type": "code",
      "source": [
        "possible_solutions = []\n",
        "for i in range(88):\n",
        "  possible_solutions.append(i)\n",
        "  possible_solutions.append(is_a_solution(quantum_procedure(creg11,qreg11)[0],quantum_procedure(creg11,qreg11)[1]))"
      ],
      "metadata": {
        "colab": {
          "base_uri": "https://localhost:8080/"
        },
        "id": "eVldUdu-DyOb",
        "outputId": "43efc4b2-eff0-43f1-ffb9-97d7509db76a"
      },
      "execution_count": null,
      "outputs": [
        {
          "output_type": "stream",
          "name": "stderr",
          "text": [
            "<ipython-input-10-0630d986ce59>:11: DeprecationWarning: The method ``qiskit.circuit.quantumcircuit.QuantumCircuit.mct()`` is deprecated as of qiskit 0.45.0. It will be removed no earlier than 3 months after the release date. Use QuantumCircuit.mcx as direct replacement.\n",
            "  qc.mct(list(range(nqubits-1)), nqubits-1)  # multi-controlled-toffoli\n",
            "<ipython-input-21-ff4baa89d700>:24: DeprecationWarning: Using a qobj for run() is deprecated as of qiskit-aer 0.9.0 and will be removed no sooner than 3 months from that release date. Transpiled circuits should now be passed directly using `backend.run(circuits, **run_options).\n",
            "  results4 = aer_sim.run(qobj4,shots = 1).result()\n"
          ]
        }
      ]
    },
    {
      "cell_type": "code",
      "source": [
        "possible_solutions"
      ],
      "metadata": {
        "colab": {
          "base_uri": "https://localhost:8080/"
        },
        "id": "4Ll26XdqOaRY",
        "outputId": "bfdbbf75-f72e-4d7c-89c3-160d98b2600f"
      },
      "execution_count": null,
      "outputs": [
        {
          "output_type": "execute_result",
          "data": {
            "text/plain": [
              "[0,\n",
              " (False, '010111000001', 36),\n",
              " 1,\n",
              " (False, '001100011011', 54),\n",
              " 2,\n",
              " (False, '101000011111', 43),\n",
              " 3,\n",
              " (False, '101000010011', 44),\n",
              " 4,\n",
              " (False, '100100011110', 24),\n",
              " 5,\n",
              " (False, '111100111000', 14),\n",
              " 6,\n",
              " (False, '100001001110', 21),\n",
              " 7,\n",
              " (False, '001011011111', 39),\n",
              " 8,\n",
              " (False, '000111100111', 39),\n",
              " 9,\n",
              " (False, '001101111101', 5),\n",
              " 10,\n",
              " (False, '000100011011', 15),\n",
              " 11,\n",
              " (False, '010011101001', 30),\n",
              " 12,\n",
              " (False, '111000001000', 61),\n",
              " 13,\n",
              " (False, '101100011110', 24),\n",
              " 14,\n",
              " (False, '000111100111', 45),\n",
              " 15,\n",
              " (False, '001010111001', 42),\n",
              " 16,\n",
              " (False, '110001100101', 15),\n",
              " 17,\n",
              " (False, '110100000000', 62),\n",
              " 18,\n",
              " (False, '110111110010', 21),\n",
              " 19,\n",
              " (False, '110001100011', 50),\n",
              " 20,\n",
              " (False, '010010010110', 35),\n",
              " 21,\n",
              " (False, '111001101110', 31),\n",
              " 22,\n",
              " (False, '110000100111', 48),\n",
              " 23,\n",
              " (False, '011010100100', 10),\n",
              " 24,\n",
              " (False, '101000011111', 44),\n",
              " 25,\n",
              " (False, '001010111001', 50),\n",
              " 26,\n",
              " (False, '000000011101', 40),\n",
              " 27,\n",
              " (False, '001100011011', 12),\n",
              " 28,\n",
              " (False, '001111000110', 1),\n",
              " 29,\n",
              " (False, '100110101111', 29),\n",
              " 30,\n",
              " (False, '101000010011', 29),\n",
              " 31,\n",
              " (False, '000110111010', 22),\n",
              " 32,\n",
              " (False, '101101111110', 52),\n",
              " 33,\n",
              " (False, '110001100101', 39),\n",
              " 34,\n",
              " (False, '000101101010', 0),\n",
              " 35,\n",
              " (False, '100110101111', 19),\n",
              " 36,\n",
              " (False, '010011001010', 5),\n",
              " 37,\n",
              " (False, '110111000111', 45),\n",
              " 38,\n",
              " (False, '010000101010', 2),\n",
              " 39,\n",
              " (False, '111111001010', 44),\n",
              " 40,\n",
              " (False, '110110110101', 54),\n",
              " 41,\n",
              " (False, '110111101100', 45),\n",
              " 42,\n",
              " (False, '000111100111', 27),\n",
              " 43,\n",
              " (False, '011010111000', 53),\n",
              " 44,\n",
              " (False, '101100011111', 1),\n",
              " 45,\n",
              " (False, '101011101101', 23),\n",
              " 46,\n",
              " (False, '100110101111', 45),\n",
              " 47,\n",
              " (False, '101110110001', 29),\n",
              " 48,\n",
              " (False, '100101101111', 46),\n",
              " 49,\n",
              " (False, '011100110101', 6),\n",
              " 50,\n",
              " (False, '100110101111', 17),\n",
              " 51,\n",
              " (False, '111000001101', 23),\n",
              " 52,\n",
              " (False, '010110100111', 12),\n",
              " 53,\n",
              " (False, '101111110001', 27),\n",
              " 54,\n",
              " (False, '011111101010', 62),\n",
              " 55,\n",
              " (False, '000001011100', 15),\n",
              " 56,\n",
              " (False, '011011010101', 6),\n",
              " 57,\n",
              " (False, '111010111011', 18),\n",
              " 58,\n",
              " (False, '101011100001', 27),\n",
              " 59,\n",
              " (False, '111010010000', 60),\n",
              " 60,\n",
              " (False, '101000111011', 10),\n",
              " 61,\n",
              " (False, '101000010011', 10),\n",
              " 62,\n",
              " (False, '101110010111', 56),\n",
              " 63,\n",
              " (False, '001101110101', 41),\n",
              " 64,\n",
              " (False, '100110101111', 50),\n",
              " 65,\n",
              " (False, '001010110101', 57),\n",
              " 66,\n",
              " (False, '101100011111', 62),\n",
              " 67,\n",
              " (False, '001001100101', 8),\n",
              " 68,\n",
              " (False, '101111001101', 47),\n",
              " 69,\n",
              " (False, '111100101100', 52),\n",
              " 70,\n",
              " (False, '000100011111', 15),\n",
              " 71,\n",
              " (False, '101000010011', 31),\n",
              " 72,\n",
              " (False, '001011100110', 2),\n",
              " 73,\n",
              " (False, '100101010011', 46),\n",
              " 74,\n",
              " (False, '101101010111', 53),\n",
              " 75,\n",
              " (False, '100101001110', 2),\n",
              " 76,\n",
              " (False, '000111100111', 58),\n",
              " 77,\n",
              " (False, '000111100111', 29),\n",
              " 78,\n",
              " (False, '100010101010', 57),\n",
              " 79,\n",
              " (False, '001010110101', 51),\n",
              " 80,\n",
              " (False, '110010110100', 2),\n",
              " 81,\n",
              " (False, '100110011001', 20),\n",
              " 82,\n",
              " (False, '101000011111', 62),\n",
              " 83,\n",
              " (False, '001010111001', 23),\n",
              " 84,\n",
              " (False, '101000001101', 17),\n",
              " 85,\n",
              " (False, '110001100011', 49),\n",
              " 86,\n",
              " (False, '001010110101', 37),\n",
              " 87,\n",
              " (False, '001100010111', 6)]"
            ]
          },
          "metadata": {},
          "execution_count": 54
        }
      ]
    },
    {
      "cell_type": "code",
      "source": [
        "all(v[0] == False for v in possible_solutions)"
      ],
      "metadata": {
        "colab": {
          "base_uri": "https://localhost:8080/"
        },
        "id": "70ThPeSPIays",
        "outputId": "2876e931-4498-41fb-c36c-bafb9e4adedc"
      },
      "execution_count": null,
      "outputs": [
        {
          "output_type": "execute_result",
          "data": {
            "text/plain": [
              "True"
            ]
          },
          "metadata": {},
          "execution_count": 46
        }
      ]
    },
    {
      "cell_type": "code",
      "source": [
        "print(type(possible_solutions[0]))"
      ],
      "metadata": {
        "colab": {
          "base_uri": "https://localhost:8080/"
        },
        "id": "gV_1B958NDW5",
        "outputId": "86c96b1e-6409-4870-9aae-c5d39665d856"
      },
      "execution_count": null,
      "outputs": [
        {
          "output_type": "stream",
          "name": "stdout",
          "text": [
            "<class 'tuple'>\n"
          ]
        }
      ]
    },
    {
      "cell_type": "code",
      "source": [],
      "metadata": {
        "id": "kOt38EoJOEor"
      },
      "execution_count": null,
      "outputs": []
    }
  ]
}